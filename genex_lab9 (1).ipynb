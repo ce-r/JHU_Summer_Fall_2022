{
  "nbformat": 4,
  "nbformat_minor": 0,
  "metadata": {
    "colab": {
      "provenance": []
    },
    "kernelspec": {
      "name": "ir",
      "display_name": "R"
    },
    "language_info": {
      "name": "R"
    }
  },
  "cells": [
    {
      "cell_type": "code",
      "source": [
        "R.version.string"
      ],
      "metadata": {
        "colab": {
          "base_uri": "https://localhost:8080/",
          "height": 34
        },
        "id": "R3zpHcOXWMYA",
        "outputId": "14351ae0-c1b4-40bc-a23c-7468fbf0171b"
      },
      "execution_count": null,
      "outputs": [
        {
          "output_type": "display_data",
          "data": {
            "text/html": [
              "'R version 4.2.2 Patched (2022-11-10 r83330)'"
            ],
            "text/markdown": "'R version 4.2.2 Patched (2022-11-10 r83330)'",
            "text/latex": "'R version 4.2.2 Patched (2022-11-10 r83330)'",
            "text/plain": [
              "[1] \"R version 4.2.2 Patched (2022-11-10 r83330)\""
            ]
          },
          "metadata": {}
        }
      ]
    },
    {
      "cell_type": "code",
      "source": [
        "install.packages('reshape2')\n",
        "install.packages('pwr')\n",
        "install.packages('gdata')"
      ],
      "metadata": {
        "id": "2hGPkwZsTI5S",
        "colab": {
          "base_uri": "https://localhost:8080/"
        },
        "outputId": "db0b3dea-445d-4984-c276-2e9544e478b0"
      },
      "execution_count": null,
      "outputs": [
        {
          "output_type": "stream",
          "name": "stderr",
          "text": [
            "Installing package into ‘/usr/local/lib/R/site-library’\n",
            "(as ‘lib’ is unspecified)\n",
            "\n",
            "also installing the dependencies ‘plyr’, ‘Rcpp’\n",
            "\n",
            "\n",
            "Installing package into ‘/usr/local/lib/R/site-library’\n",
            "(as ‘lib’ is unspecified)\n",
            "\n",
            "Installing package into ‘/usr/local/lib/R/site-library’\n",
            "(as ‘lib’ is unspecified)\n",
            "\n",
            "also installing the dependency ‘gtools’\n",
            "\n",
            "\n"
          ]
        }
      ]
    },
    {
      "cell_type": "code",
      "source": [
        "if(!require(\"BiocManager\", quietly = TRUE))\n",
        "    install.packages(\"BiocManager\")\n",
        "BiocManager::install(\"ssize\")\n",
        "BiocManager::install(\"marray\")"
      ],
      "metadata": {
        "id": "fGO04WKCTkD9",
        "colab": {
          "base_uri": "https://localhost:8080/"
        },
        "outputId": "bdb0c634-3436-410b-dbda-2f65b340ed77"
      },
      "execution_count": null,
      "outputs": [
        {
          "output_type": "stream",
          "name": "stderr",
          "text": [
            "Installing package into ‘/usr/local/lib/R/site-library’\n",
            "(as ‘lib’ is unspecified)\n",
            "\n",
            "'getOption(\"repos\")' replaces Bioconductor standard repositories, see\n",
            "'?repositories' for details\n",
            "\n",
            "replacement repositories:\n",
            "    CRAN: https://cran.rstudio.com\n",
            "\n",
            "\n",
            "Bioconductor version 3.16 (BiocManager 1.30.19), R 4.2.2 Patched (2022-11-10\n",
            "  r83330)\n",
            "\n",
            "Installing package(s) 'BiocVersion', 'ssize'\n",
            "\n",
            "also installing the dependency ‘xtable’\n",
            "\n",
            "\n",
            "Old packages: 'bit', 'data.table', 'devtools', 'knitr', 'pkgload', 'sass',\n",
            "  'tidyverse', 'vctrs', 'xfun', 'boot', 'foreign'\n",
            "\n",
            "'getOption(\"repos\")' replaces Bioconductor standard repositories, see\n",
            "'?repositories' for details\n",
            "\n",
            "replacement repositories:\n",
            "    CRAN: https://cran.rstudio.com\n",
            "\n",
            "\n",
            "Bioconductor version 3.16 (BiocManager 1.30.19), R 4.2.2 Patched (2022-11-10\n",
            "  r83330)\n",
            "\n",
            "Installing package(s) 'marray'\n",
            "\n",
            "also installing the dependency ‘limma’\n",
            "\n",
            "\n",
            "Old packages: 'bit', 'data.table', 'devtools', 'knitr', 'pkgload', 'sass',\n",
            "  'tidyverse', 'vctrs', 'xfun', 'boot', 'foreign'\n",
            "\n"
          ]
        }
      ]
    },
    {
      "cell_type": "code",
      "execution_count": null,
      "metadata": {
        "id": "kXmNYy_eQZjK"
      },
      "outputs": [],
      "source": [
        "library(ggplot2)\n",
        "library(tidyr)\n",
        "library(dplyr)\n",
        "library(reshape2)\n",
        "library(pwr)\n",
        "library(ssize)\n",
        "library(gdata)\n",
        "library(marray)"
      ]
    },
    {
      "cell_type": "code",
      "source": [
        "BiocManager::install(\"Biobase\")\n",
        "BiocManager::install(\"GEOquery\")"
      ],
      "metadata": {
        "id": "PqadWM-ITBVs"
      },
      "execution_count": null,
      "outputs": []
    },
    {
      "cell_type": "code",
      "source": [
        "library(Biobase)\n",
        "library(GEOquery)"
      ],
      "metadata": {
        "colab": {
          "base_uri": "https://localhost:8080/"
        },
        "id": "aMBw2XH5TIvS",
        "outputId": "a1521576-486b-4b19-cbce-00ebf00471c7"
      },
      "execution_count": null,
      "outputs": [
        {
          "output_type": "stream",
          "name": "stderr",
          "text": [
            "Setting options('download.file.method.GEOquery'='auto')\n",
            "\n",
            "Setting options('GEOquery.inmemory.gpl'=FALSE)\n",
            "\n"
          ]
        }
      ]
    },
    {
      "cell_type": "code",
      "source": [
        "# #Or, open an existing GDS file (even if its compressed):\n",
        "# gds858 <- getGEO(filename='GDS858.soft.gz')\n",
        "#Download GDS file, put it in the current directory, and load it:\n",
        "# gds4877 <- getGEO('GPL4134', destdir=\".\")"
      ],
      "metadata": {
        "id": "8_QxLLgTTLVB"
      },
      "execution_count": null,
      "outputs": []
    },
    {
      "cell_type": "code",
      "source": [
        "gds4877 <- getGEO('GDS4877', destdir=\".\")"
      ],
      "metadata": {
        "colab": {
          "base_uri": "https://localhost:8080/"
        },
        "id": "E_53KQhvU00b",
        "outputId": "22c1d3e8-15b2-4bd3-f296-7d228ca71427"
      },
      "execution_count": null,
      "outputs": [
        {
          "output_type": "stream",
          "name": "stderr",
          "text": [
            "Using locally cached version of GDS4877 found here:\n",
            "./GDS4877.soft.gz \n",
            "\n"
          ]
        }
      ]
    },
    {
      "cell_type": "code",
      "source": [
        "gds4877@header"
      ],
      "metadata": {
        "colab": {
          "base_uri": "https://localhost:8080/",
          "height": 878
        },
        "id": "qQu0f3fUT4dp",
        "outputId": "fd51af54-0abe-46d3-8b3d-fd70a151d058"
      },
      "execution_count": null,
      "outputs": [
        {
          "output_type": "display_data",
          "data": {
            "text/html": [
              "<dl>\n",
              "\t<dt>$channel_count</dt>\n",
              "\t\t<dd>'1'</dd>\n",
              "\t<dt>$dataset_id</dt>\n",
              "\t\t<dd><style>\n",
              ".list-inline {list-style: none; margin:0; padding: 0}\n",
              ".list-inline>li {display: inline-block}\n",
              ".list-inline>li:not(:last-child)::after {content: \"\\00b7\"; padding: 0 .5ex}\n",
              "</style>\n",
              "<ol class=list-inline><li>'GDS4877'</li><li>'GDS4877'</li></ol>\n",
              "</dd>\n",
              "\t<dt>$description</dt>\n",
              "\t\t<dd><style>\n",
              ".list-inline {list-style: none; margin:0; padding: 0}\n",
              ".list-inline>li {display: inline-block}\n",
              ".list-inline>li:not(:last-child)::after {content: \"\\00b7\"; padding: 0 .5ex}\n",
              "</style>\n",
              "<ol class=list-inline><li>'Analysis of TOV112D ovarian cancer cells following treatment with NSC319726, a member of the thiosemicarbzone family of metal ion chelators. NSC319726 inhibits the growth of mutant p53 cells. Results provide insight into the mechanism of action of NSC319726.'</li><li>'control'</li><li>'NSC319726'</li></ol>\n",
              "</dd>\n",
              "\t<dt>$email</dt>\n",
              "\t\t<dd>'geo@ncbi.nlm.nih.gov'</dd>\n",
              "\t<dt>$feature_count</dt>\n",
              "\t\t<dd>'54675'</dd>\n",
              "\t<dt>$institute</dt>\n",
              "\t\t<dd>'NCBI NLM NIH'</dd>\n",
              "\t<dt>$name</dt>\n",
              "\t\t<dd>'Gene Expression Omnibus (GEO)'</dd>\n",
              "\t<dt>$order</dt>\n",
              "\t\t<dd>'none'</dd>\n",
              "\t<dt>$platform</dt>\n",
              "\t\t<dd>'GPL570'</dd>\n",
              "\t<dt>$platform_organism</dt>\n",
              "\t\t<dd>'Homo sapiens'</dd>\n",
              "\t<dt>$platform_technology_type</dt>\n",
              "\t\t<dd>'in situ oligonucleotide'</dd>\n",
              "\t<dt>$pubmed_id</dt>\n",
              "\t\t<dd>'22624712'</dd>\n",
              "\t<dt>$ref</dt>\n",
              "\t\t<dd>'Nucleic Acids Res. 2005 Jan 1;33 Database Issue:D562-6'</dd>\n",
              "\t<dt>$reference_series</dt>\n",
              "\t\t<dd>'GSE35972'</dd>\n",
              "\t<dt>$sample_count</dt>\n",
              "\t\t<dd>'6'</dd>\n",
              "\t<dt>$sample_id</dt>\n",
              "\t\t<dd><style>\n",
              ".list-inline {list-style: none; margin:0; padding: 0}\n",
              ".list-inline>li {display: inline-block}\n",
              ".list-inline>li:not(:last-child)::after {content: \"\\00b7\"; padding: 0 .5ex}\n",
              "</style>\n",
              "<ol class=list-inline><li>'GSM878200,GSM878201,GSM878202'</li><li>'GSM878203,GSM878204,GSM878205'</li></ol>\n",
              "</dd>\n",
              "\t<dt>$sample_organism</dt>\n",
              "\t\t<dd>'Homo sapiens'</dd>\n",
              "\t<dt>$sample_type</dt>\n",
              "\t\t<dd>'RNA'</dd>\n",
              "\t<dt>$title</dt>\n",
              "\t\t<dd>'Ovarian cancer cell line response to the anticancer drug NSC319726'</dd>\n",
              "\t<dt>$type</dt>\n",
              "\t\t<dd><style>\n",
              ".list-inline {list-style: none; margin:0; padding: 0}\n",
              ".list-inline>li {display: inline-block}\n",
              ".list-inline>li:not(:last-child)::after {content: \"\\00b7\"; padding: 0 .5ex}\n",
              "</style>\n",
              "<ol class=list-inline><li>'Expression profiling by array'</li><li>'agent'</li><li>'agent'</li></ol>\n",
              "</dd>\n",
              "\t<dt>$update_date</dt>\n",
              "\t\t<dd>'Apr 29 2014'</dd>\n",
              "\t<dt>$value_type</dt>\n",
              "\t\t<dd>'transformed count'</dd>\n",
              "\t<dt>$web_link</dt>\n",
              "\t\t<dd>'http://www.ncbi.nlm.nih.gov/geo'</dd>\n",
              "</dl>\n"
            ],
            "text/markdown": "$channel_count\n:   '1'\n$dataset_id\n:   1. 'GDS4877'\n2. 'GDS4877'\n\n\n\n$description\n:   1. 'Analysis of TOV112D ovarian cancer cells following treatment with NSC319726, a member of the thiosemicarbzone family of metal ion chelators. NSC319726 inhibits the growth of mutant p53 cells. Results provide insight into the mechanism of action of NSC319726.'\n2. 'control'\n3. 'NSC319726'\n\n\n\n$email\n:   'geo@ncbi.nlm.nih.gov'\n$feature_count\n:   '54675'\n$institute\n:   'NCBI NLM NIH'\n$name\n:   'Gene Expression Omnibus (GEO)'\n$order\n:   'none'\n$platform\n:   'GPL570'\n$platform_organism\n:   'Homo sapiens'\n$platform_technology_type\n:   'in situ oligonucleotide'\n$pubmed_id\n:   '22624712'\n$ref\n:   'Nucleic Acids Res. 2005 Jan 1;33 Database Issue:D562-6'\n$reference_series\n:   'GSE35972'\n$sample_count\n:   '6'\n$sample_id\n:   1. 'GSM878200,GSM878201,GSM878202'\n2. 'GSM878203,GSM878204,GSM878205'\n\n\n\n$sample_organism\n:   'Homo sapiens'\n$sample_type\n:   'RNA'\n$title\n:   'Ovarian cancer cell line response to the anticancer drug NSC319726'\n$type\n:   1. 'Expression profiling by array'\n2. 'agent'\n3. 'agent'\n\n\n\n$update_date\n:   'Apr 29 2014'\n$value_type\n:   'transformed count'\n$web_link\n:   'http://www.ncbi.nlm.nih.gov/geo'\n\n\n",
            "text/latex": "\\begin{description}\n\\item[\\$channel\\_count] '1'\n\\item[\\$dataset\\_id] \\begin{enumerate*}\n\\item 'GDS4877'\n\\item 'GDS4877'\n\\end{enumerate*}\n\n\\item[\\$description] \\begin{enumerate*}\n\\item 'Analysis of TOV112D ovarian cancer cells following treatment with NSC319726, a member of the thiosemicarbzone family of metal ion chelators. NSC319726 inhibits the growth of mutant p53 cells. Results provide insight into the mechanism of action of NSC319726.'\n\\item 'control'\n\\item 'NSC319726'\n\\end{enumerate*}\n\n\\item[\\$email] 'geo@ncbi.nlm.nih.gov'\n\\item[\\$feature\\_count] '54675'\n\\item[\\$institute] 'NCBI NLM NIH'\n\\item[\\$name] 'Gene Expression Omnibus (GEO)'\n\\item[\\$order] 'none'\n\\item[\\$platform] 'GPL570'\n\\item[\\$platform\\_organism] 'Homo sapiens'\n\\item[\\$platform\\_technology\\_type] 'in situ oligonucleotide'\n\\item[\\$pubmed\\_id] '22624712'\n\\item[\\$ref] 'Nucleic Acids Res. 2005 Jan 1;33 Database Issue:D562-6'\n\\item[\\$reference\\_series] 'GSE35972'\n\\item[\\$sample\\_count] '6'\n\\item[\\$sample\\_id] \\begin{enumerate*}\n\\item 'GSM878200,GSM878201,GSM878202'\n\\item 'GSM878203,GSM878204,GSM878205'\n\\end{enumerate*}\n\n\\item[\\$sample\\_organism] 'Homo sapiens'\n\\item[\\$sample\\_type] 'RNA'\n\\item[\\$title] 'Ovarian cancer cell line response to the anticancer drug NSC319726'\n\\item[\\$type] \\begin{enumerate*}\n\\item 'Expression profiling by array'\n\\item 'agent'\n\\item 'agent'\n\\end{enumerate*}\n\n\\item[\\$update\\_date] 'Apr 29 2014'\n\\item[\\$value\\_type] 'transformed count'\n\\item[\\$web\\_link] 'http://www.ncbi.nlm.nih.gov/geo'\n\\end{description}\n",
            "text/plain": [
              "$channel_count\n",
              "[1] \"1\"\n",
              "\n",
              "$dataset_id\n",
              "[1] \"GDS4877\" \"GDS4877\"\n",
              "\n",
              "$description\n",
              "[1] \"Analysis of TOV112D ovarian cancer cells following treatment with NSC319726, a member of the thiosemicarbzone family of metal ion chelators. NSC319726 inhibits the growth of mutant p53 cells. Results provide insight into the mechanism of action of NSC319726.\"\n",
              "[2] \"control\"                                                                                                                                                                                                                                                           \n",
              "[3] \"NSC319726\"                                                                                                                                                                                                                                                         \n",
              "\n",
              "$email\n",
              "[1] \"geo@ncbi.nlm.nih.gov\"\n",
              "\n",
              "$feature_count\n",
              "[1] \"54675\"\n",
              "\n",
              "$institute\n",
              "[1] \"NCBI NLM NIH\"\n",
              "\n",
              "$name\n",
              "[1] \"Gene Expression Omnibus (GEO)\"\n",
              "\n",
              "$order\n",
              "[1] \"none\"\n",
              "\n",
              "$platform\n",
              "[1] \"GPL570\"\n",
              "\n",
              "$platform_organism\n",
              "[1] \"Homo sapiens\"\n",
              "\n",
              "$platform_technology_type\n",
              "[1] \"in situ oligonucleotide\"\n",
              "\n",
              "$pubmed_id\n",
              "[1] \"22624712\"\n",
              "\n",
              "$ref\n",
              "[1] \"Nucleic Acids Res. 2005 Jan 1;33 Database Issue:D562-6\"\n",
              "\n",
              "$reference_series\n",
              "[1] \"GSE35972\"\n",
              "\n",
              "$sample_count\n",
              "[1] \"6\"\n",
              "\n",
              "$sample_id\n",
              "[1] \"GSM878200,GSM878201,GSM878202\" \"GSM878203,GSM878204,GSM878205\"\n",
              "\n",
              "$sample_organism\n",
              "[1] \"Homo sapiens\"\n",
              "\n",
              "$sample_type\n",
              "[1] \"RNA\"\n",
              "\n",
              "$title\n",
              "[1] \"Ovarian cancer cell line response to the anticancer drug NSC319726\"\n",
              "\n",
              "$type\n",
              "[1] \"Expression profiling by array\" \"agent\"                        \n",
              "[3] \"agent\"                        \n",
              "\n",
              "$update_date\n",
              "[1] \"Apr 29 2014\"\n",
              "\n",
              "$value_type\n",
              "[1] \"transformed count\"\n",
              "\n",
              "$web_link\n",
              "[1] \"http://www.ncbi.nlm.nih.gov/geo\"\n"
            ]
          },
          "metadata": {}
        }
      ]
    },
    {
      "cell_type": "code",
      "source": [
        "annot = gds4877@dataTable@columns\n",
        "annot"
      ],
      "metadata": {
        "colab": {
          "base_uri": "https://localhost:8080/",
          "height": 286
        },
        "id": "xDKfZGL7WSRk",
        "outputId": "62135450-861d-4618-e8e4-a4951029c16f"
      },
      "execution_count": null,
      "outputs": [
        {
          "output_type": "display_data",
          "data": {
            "text/html": [
              "<table class=\"dataframe\">\n",
              "<caption>A data.frame: 6 × 3</caption>\n",
              "<thead>\n",
              "\t<tr><th scope=col>sample</th><th scope=col>agent</th><th scope=col>description</th></tr>\n",
              "\t<tr><th scope=col>&lt;chr&gt;</th><th scope=col>&lt;fct&gt;</th><th scope=col>&lt;chr&gt;</th></tr>\n",
              "</thead>\n",
              "<tbody>\n",
              "\t<tr><td>GSM878200</td><td>control  </td><td>Value for GSM878200: TOV112D cells_untreated_biological rep1; src: TOV112D cells_untreated                          </td></tr>\n",
              "\t<tr><td>GSM878201</td><td>control  </td><td>Value for GSM878201: TOV112D cells_untreated_biological rep2; src: TOV112D cells_untreated                          </td></tr>\n",
              "\t<tr><td>GSM878202</td><td>control  </td><td>Value for GSM878202: TOV112D cells_untreated_biological rep3; src: TOV112D cells_untreated                          </td></tr>\n",
              "\t<tr><td>GSM878203</td><td>NSC319726</td><td>Value for GSM878203: TOV112D cells_treated with NSC319726_biological rep1; src: TOV112D cells_treated with NSC319726</td></tr>\n",
              "\t<tr><td>GSM878204</td><td>NSC319726</td><td>Value for GSM878204: TOV112D cells_treated with NSC319726_biological rep2; src: TOV112D cells_treated with NSC319726</td></tr>\n",
              "\t<tr><td>GSM878205</td><td>NSC319726</td><td>Value for GSM878205: TOV112D cells_treated with NSC319726_biological rep3; src: TOV112D cells_treated with NSC319726</td></tr>\n",
              "</tbody>\n",
              "</table>\n"
            ],
            "text/markdown": "\nA data.frame: 6 × 3\n\n| sample &lt;chr&gt; | agent &lt;fct&gt; | description &lt;chr&gt; |\n|---|---|---|\n| GSM878200 | control   | Value for GSM878200: TOV112D cells_untreated_biological rep1; src: TOV112D cells_untreated                           |\n| GSM878201 | control   | Value for GSM878201: TOV112D cells_untreated_biological rep2; src: TOV112D cells_untreated                           |\n| GSM878202 | control   | Value for GSM878202: TOV112D cells_untreated_biological rep3; src: TOV112D cells_untreated                           |\n| GSM878203 | NSC319726 | Value for GSM878203: TOV112D cells_treated with NSC319726_biological rep1; src: TOV112D cells_treated with NSC319726 |\n| GSM878204 | NSC319726 | Value for GSM878204: TOV112D cells_treated with NSC319726_biological rep2; src: TOV112D cells_treated with NSC319726 |\n| GSM878205 | NSC319726 | Value for GSM878205: TOV112D cells_treated with NSC319726_biological rep3; src: TOV112D cells_treated with NSC319726 |\n\n",
            "text/latex": "A data.frame: 6 × 3\n\\begin{tabular}{lll}\n sample & agent & description\\\\\n <chr> & <fct> & <chr>\\\\\n\\hline\n\t GSM878200 & control   & Value for GSM878200: TOV112D cells\\_untreated\\_biological rep1; src: TOV112D cells\\_untreated                          \\\\\n\t GSM878201 & control   & Value for GSM878201: TOV112D cells\\_untreated\\_biological rep2; src: TOV112D cells\\_untreated                          \\\\\n\t GSM878202 & control   & Value for GSM878202: TOV112D cells\\_untreated\\_biological rep3; src: TOV112D cells\\_untreated                          \\\\\n\t GSM878203 & NSC319726 & Value for GSM878203: TOV112D cells\\_treated with NSC319726\\_biological rep1; src: TOV112D cells\\_treated with NSC319726\\\\\n\t GSM878204 & NSC319726 & Value for GSM878204: TOV112D cells\\_treated with NSC319726\\_biological rep2; src: TOV112D cells\\_treated with NSC319726\\\\\n\t GSM878205 & NSC319726 & Value for GSM878205: TOV112D cells\\_treated with NSC319726\\_biological rep3; src: TOV112D cells\\_treated with NSC319726\\\\\n\\end{tabular}\n",
            "text/plain": [
              "  sample    agent    \n",
              "1 GSM878200 control  \n",
              "2 GSM878201 control  \n",
              "3 GSM878202 control  \n",
              "4 GSM878203 NSC319726\n",
              "5 GSM878204 NSC319726\n",
              "6 GSM878205 NSC319726\n",
              "  description                                                                                                         \n",
              "1 Value for GSM878200: TOV112D cells_untreated_biological rep1; src: TOV112D cells_untreated                          \n",
              "2 Value for GSM878201: TOV112D cells_untreated_biological rep2; src: TOV112D cells_untreated                          \n",
              "3 Value for GSM878202: TOV112D cells_untreated_biological rep3; src: TOV112D cells_untreated                          \n",
              "4 Value for GSM878203: TOV112D cells_treated with NSC319726_biological rep1; src: TOV112D cells_treated with NSC319726\n",
              "5 Value for GSM878204: TOV112D cells_treated with NSC319726_biological rep2; src: TOV112D cells_treated with NSC319726\n",
              "6 Value for GSM878205: TOV112D cells_treated with NSC319726_biological rep3; src: TOV112D cells_treated with NSC319726"
            ]
          },
          "metadata": {}
        }
      ]
    },
    {
      "cell_type": "code",
      "source": [
        "dt = gds4877@dataTable@table\n",
        "head(dt)"
      ],
      "metadata": {
        "colab": {
          "base_uri": "https://localhost:8080/",
          "height": 286
        },
        "id": "M3XRSh90Wuzb",
        "outputId": "078cbffb-463e-4e2b-9362-fda9871c1b3b"
      },
      "execution_count": null,
      "outputs": [
        {
          "output_type": "display_data",
          "data": {
            "text/html": [
              "<table class=\"dataframe\">\n",
              "<caption>A data.frame: 6 × 8</caption>\n",
              "<thead>\n",
              "\t<tr><th></th><th scope=col>ID_REF</th><th scope=col>IDENTIFIER</th><th scope=col>GSM878200</th><th scope=col>GSM878201</th><th scope=col>GSM878202</th><th scope=col>GSM878203</th><th scope=col>GSM878204</th><th scope=col>GSM878205</th></tr>\n",
              "\t<tr><th></th><th scope=col>&lt;chr&gt;</th><th scope=col>&lt;chr&gt;</th><th scope=col>&lt;dbl&gt;</th><th scope=col>&lt;dbl&gt;</th><th scope=col>&lt;dbl&gt;</th><th scope=col>&lt;dbl&gt;</th><th scope=col>&lt;dbl&gt;</th><th scope=col>&lt;dbl&gt;</th></tr>\n",
              "</thead>\n",
              "<tbody>\n",
              "\t<tr><th scope=row>1</th><td>1007_s_at</td><td>MIR4640</td><td>8.47317</td><td>8.54549</td><td>8.57559</td><td>8.71128</td><td>8.33301</td><td>8.45165</td></tr>\n",
              "\t<tr><th scope=row>2</th><td>1053_at  </td><td>RFC2   </td><td>9.12632</td><td>9.02977</td><td>8.46047</td><td>8.80934</td><td>8.93598</td><td>8.10066</td></tr>\n",
              "\t<tr><th scope=row>3</th><td>117_at   </td><td>HSPA6  </td><td>5.36694</td><td>5.25708</td><td>5.12728</td><td>9.57696</td><td>5.07302</td><td>5.21245</td></tr>\n",
              "\t<tr><th scope=row>4</th><td>121_at   </td><td>PAX8   </td><td>7.15984</td><td>7.18389</td><td>7.42131</td><td>7.11768</td><td>7.35202</td><td>7.23397</td></tr>\n",
              "\t<tr><th scope=row>5</th><td>1255_g_at</td><td>GUCA1A </td><td>2.63282</td><td>2.54170</td><td>2.50575</td><td>2.79574</td><td>2.76264</td><td>2.73996</td></tr>\n",
              "\t<tr><th scope=row>6</th><td>1294_at  </td><td>MIR5193</td><td>5.22361</td><td>5.23782</td><td>5.23614</td><td>5.27101</td><td>5.23804</td><td>5.42573</td></tr>\n",
              "</tbody>\n",
              "</table>\n"
            ],
            "text/markdown": "\nA data.frame: 6 × 8\n\n| <!--/--> | ID_REF &lt;chr&gt; | IDENTIFIER &lt;chr&gt; | GSM878200 &lt;dbl&gt; | GSM878201 &lt;dbl&gt; | GSM878202 &lt;dbl&gt; | GSM878203 &lt;dbl&gt; | GSM878204 &lt;dbl&gt; | GSM878205 &lt;dbl&gt; |\n|---|---|---|---|---|---|---|---|---|\n| 1 | 1007_s_at | MIR4640 | 8.47317 | 8.54549 | 8.57559 | 8.71128 | 8.33301 | 8.45165 |\n| 2 | 1053_at   | RFC2    | 9.12632 | 9.02977 | 8.46047 | 8.80934 | 8.93598 | 8.10066 |\n| 3 | 117_at    | HSPA6   | 5.36694 | 5.25708 | 5.12728 | 9.57696 | 5.07302 | 5.21245 |\n| 4 | 121_at    | PAX8    | 7.15984 | 7.18389 | 7.42131 | 7.11768 | 7.35202 | 7.23397 |\n| 5 | 1255_g_at | GUCA1A  | 2.63282 | 2.54170 | 2.50575 | 2.79574 | 2.76264 | 2.73996 |\n| 6 | 1294_at   | MIR5193 | 5.22361 | 5.23782 | 5.23614 | 5.27101 | 5.23804 | 5.42573 |\n\n",
            "text/latex": "A data.frame: 6 × 8\n\\begin{tabular}{r|llllllll}\n  & ID\\_REF & IDENTIFIER & GSM878200 & GSM878201 & GSM878202 & GSM878203 & GSM878204 & GSM878205\\\\\n  & <chr> & <chr> & <dbl> & <dbl> & <dbl> & <dbl> & <dbl> & <dbl>\\\\\n\\hline\n\t1 & 1007\\_s\\_at & MIR4640 & 8.47317 & 8.54549 & 8.57559 & 8.71128 & 8.33301 & 8.45165\\\\\n\t2 & 1053\\_at   & RFC2    & 9.12632 & 9.02977 & 8.46047 & 8.80934 & 8.93598 & 8.10066\\\\\n\t3 & 117\\_at    & HSPA6   & 5.36694 & 5.25708 & 5.12728 & 9.57696 & 5.07302 & 5.21245\\\\\n\t4 & 121\\_at    & PAX8    & 7.15984 & 7.18389 & 7.42131 & 7.11768 & 7.35202 & 7.23397\\\\\n\t5 & 1255\\_g\\_at & GUCA1A  & 2.63282 & 2.54170 & 2.50575 & 2.79574 & 2.76264 & 2.73996\\\\\n\t6 & 1294\\_at   & MIR5193 & 5.22361 & 5.23782 & 5.23614 & 5.27101 & 5.23804 & 5.42573\\\\\n\\end{tabular}\n",
            "text/plain": [
              "  ID_REF    IDENTIFIER GSM878200 GSM878201 GSM878202 GSM878203 GSM878204\n",
              "1 1007_s_at MIR4640    8.47317   8.54549   8.57559   8.71128   8.33301  \n",
              "2 1053_at   RFC2       9.12632   9.02977   8.46047   8.80934   8.93598  \n",
              "3 117_at    HSPA6      5.36694   5.25708   5.12728   9.57696   5.07302  \n",
              "4 121_at    PAX8       7.15984   7.18389   7.42131   7.11768   7.35202  \n",
              "5 1255_g_at GUCA1A     2.63282   2.54170   2.50575   2.79574   2.76264  \n",
              "6 1294_at   MIR5193    5.22361   5.23782   5.23614   5.27101   5.23804  \n",
              "  GSM878205\n",
              "1 8.45165  \n",
              "2 8.10066  \n",
              "3 5.21245  \n",
              "4 7.23397  \n",
              "5 2.73996  \n",
              "6 5.42573  "
            ]
          },
          "metadata": {}
        }
      ]
    },
    {
      "cell_type": "code",
      "source": [
        "table(dt$IDENTIFIER)"
      ],
      "metadata": {
        "id": "WhrxD7YNkGzG"
      },
      "execution_count": null,
      "outputs": []
    },
    {
      "cell_type": "code",
      "source": [
        "colnames(dt)"
      ],
      "metadata": {
        "colab": {
          "base_uri": "https://localhost:8080/",
          "height": 34
        },
        "id": "deSOA4iCXLuc",
        "outputId": "cebf53ad-4864-4be8-bd11-62ffe3765f4a"
      },
      "execution_count": null,
      "outputs": [
        {
          "output_type": "display_data",
          "data": {
            "text/html": [
              "<style>\n",
              ".list-inline {list-style: none; margin:0; padding: 0}\n",
              ".list-inline>li {display: inline-block}\n",
              ".list-inline>li:not(:last-child)::after {content: \"\\00b7\"; padding: 0 .5ex}\n",
              "</style>\n",
              "<ol class=list-inline><li>'ID_REF'</li><li>'IDENTIFIER'</li><li>'GSM878200'</li><li>'GSM878201'</li><li>'GSM878202'</li><li>'GSM878203'</li><li>'GSM878204'</li><li>'GSM878205'</li></ol>\n"
            ],
            "text/markdown": "1. 'ID_REF'\n2. 'IDENTIFIER'\n3. 'GSM878200'\n4. 'GSM878201'\n5. 'GSM878202'\n6. 'GSM878203'\n7. 'GSM878204'\n8. 'GSM878205'\n\n\n",
            "text/latex": "\\begin{enumerate*}\n\\item 'ID\\_REF'\n\\item 'IDENTIFIER'\n\\item 'GSM878200'\n\\item 'GSM878201'\n\\item 'GSM878202'\n\\item 'GSM878203'\n\\item 'GSM878204'\n\\item 'GSM878205'\n\\end{enumerate*}\n",
            "text/plain": [
              "[1] \"ID_REF\"     \"IDENTIFIER\" \"GSM878200\"  \"GSM878201\"  \"GSM878202\" \n",
              "[6] \"GSM878203\"  \"GSM878204\"  \"GSM878205\" "
            ]
          },
          "metadata": {}
        }
      ]
    },
    {
      "cell_type": "code",
      "source": [
        "IDENTIFIER = dt$IDENTIFIER"
      ],
      "metadata": {
        "id": "P-vNCO94XHUo"
      },
      "execution_count": null,
      "outputs": []
    },
    {
      "cell_type": "code",
      "source": [
        "row.names(dt) = dt$ID_REF\n",
        "head(dt)"
      ],
      "metadata": {
        "colab": {
          "base_uri": "https://localhost:8080/",
          "height": 286
        },
        "id": "FJ7daGYOXRud",
        "outputId": "8f29b660-637f-4a9b-90cc-e860294e9ce2"
      },
      "execution_count": null,
      "outputs": [
        {
          "output_type": "display_data",
          "data": {
            "text/html": [
              "<table class=\"dataframe\">\n",
              "<caption>A data.frame: 6 × 8</caption>\n",
              "<thead>\n",
              "\t<tr><th></th><th scope=col>ID_REF</th><th scope=col>IDENTIFIER</th><th scope=col>GSM878200</th><th scope=col>GSM878201</th><th scope=col>GSM878202</th><th scope=col>GSM878203</th><th scope=col>GSM878204</th><th scope=col>GSM878205</th></tr>\n",
              "\t<tr><th></th><th scope=col>&lt;chr&gt;</th><th scope=col>&lt;chr&gt;</th><th scope=col>&lt;dbl&gt;</th><th scope=col>&lt;dbl&gt;</th><th scope=col>&lt;dbl&gt;</th><th scope=col>&lt;dbl&gt;</th><th scope=col>&lt;dbl&gt;</th><th scope=col>&lt;dbl&gt;</th></tr>\n",
              "</thead>\n",
              "<tbody>\n",
              "\t<tr><th scope=row>1007_s_at</th><td>1007_s_at</td><td>MIR4640</td><td>8.47317</td><td>8.54549</td><td>8.57559</td><td>8.71128</td><td>8.33301</td><td>8.45165</td></tr>\n",
              "\t<tr><th scope=row>1053_at</th><td>1053_at  </td><td>RFC2   </td><td>9.12632</td><td>9.02977</td><td>8.46047</td><td>8.80934</td><td>8.93598</td><td>8.10066</td></tr>\n",
              "\t<tr><th scope=row>117_at</th><td>117_at   </td><td>HSPA6  </td><td>5.36694</td><td>5.25708</td><td>5.12728</td><td>9.57696</td><td>5.07302</td><td>5.21245</td></tr>\n",
              "\t<tr><th scope=row>121_at</th><td>121_at   </td><td>PAX8   </td><td>7.15984</td><td>7.18389</td><td>7.42131</td><td>7.11768</td><td>7.35202</td><td>7.23397</td></tr>\n",
              "\t<tr><th scope=row>1255_g_at</th><td>1255_g_at</td><td>GUCA1A </td><td>2.63282</td><td>2.54170</td><td>2.50575</td><td>2.79574</td><td>2.76264</td><td>2.73996</td></tr>\n",
              "\t<tr><th scope=row>1294_at</th><td>1294_at  </td><td>MIR5193</td><td>5.22361</td><td>5.23782</td><td>5.23614</td><td>5.27101</td><td>5.23804</td><td>5.42573</td></tr>\n",
              "</tbody>\n",
              "</table>\n"
            ],
            "text/markdown": "\nA data.frame: 6 × 8\n\n| <!--/--> | ID_REF &lt;chr&gt; | IDENTIFIER &lt;chr&gt; | GSM878200 &lt;dbl&gt; | GSM878201 &lt;dbl&gt; | GSM878202 &lt;dbl&gt; | GSM878203 &lt;dbl&gt; | GSM878204 &lt;dbl&gt; | GSM878205 &lt;dbl&gt; |\n|---|---|---|---|---|---|---|---|---|\n| 1007_s_at | 1007_s_at | MIR4640 | 8.47317 | 8.54549 | 8.57559 | 8.71128 | 8.33301 | 8.45165 |\n| 1053_at | 1053_at   | RFC2    | 9.12632 | 9.02977 | 8.46047 | 8.80934 | 8.93598 | 8.10066 |\n| 117_at | 117_at    | HSPA6   | 5.36694 | 5.25708 | 5.12728 | 9.57696 | 5.07302 | 5.21245 |\n| 121_at | 121_at    | PAX8    | 7.15984 | 7.18389 | 7.42131 | 7.11768 | 7.35202 | 7.23397 |\n| 1255_g_at | 1255_g_at | GUCA1A  | 2.63282 | 2.54170 | 2.50575 | 2.79574 | 2.76264 | 2.73996 |\n| 1294_at | 1294_at   | MIR5193 | 5.22361 | 5.23782 | 5.23614 | 5.27101 | 5.23804 | 5.42573 |\n\n",
            "text/latex": "A data.frame: 6 × 8\n\\begin{tabular}{r|llllllll}\n  & ID\\_REF & IDENTIFIER & GSM878200 & GSM878201 & GSM878202 & GSM878203 & GSM878204 & GSM878205\\\\\n  & <chr> & <chr> & <dbl> & <dbl> & <dbl> & <dbl> & <dbl> & <dbl>\\\\\n\\hline\n\t1007\\_s\\_at & 1007\\_s\\_at & MIR4640 & 8.47317 & 8.54549 & 8.57559 & 8.71128 & 8.33301 & 8.45165\\\\\n\t1053\\_at & 1053\\_at   & RFC2    & 9.12632 & 9.02977 & 8.46047 & 8.80934 & 8.93598 & 8.10066\\\\\n\t117\\_at & 117\\_at    & HSPA6   & 5.36694 & 5.25708 & 5.12728 & 9.57696 & 5.07302 & 5.21245\\\\\n\t121\\_at & 121\\_at    & PAX8    & 7.15984 & 7.18389 & 7.42131 & 7.11768 & 7.35202 & 7.23397\\\\\n\t1255\\_g\\_at & 1255\\_g\\_at & GUCA1A  & 2.63282 & 2.54170 & 2.50575 & 2.79574 & 2.76264 & 2.73996\\\\\n\t1294\\_at & 1294\\_at   & MIR5193 & 5.22361 & 5.23782 & 5.23614 & 5.27101 & 5.23804 & 5.42573\\\\\n\\end{tabular}\n",
            "text/plain": [
              "          ID_REF    IDENTIFIER GSM878200 GSM878201 GSM878202 GSM878203\n",
              "1007_s_at 1007_s_at MIR4640    8.47317   8.54549   8.57559   8.71128  \n",
              "1053_at   1053_at   RFC2       9.12632   9.02977   8.46047   8.80934  \n",
              "117_at    117_at    HSPA6      5.36694   5.25708   5.12728   9.57696  \n",
              "121_at    121_at    PAX8       7.15984   7.18389   7.42131   7.11768  \n",
              "1255_g_at 1255_g_at GUCA1A     2.63282   2.54170   2.50575   2.79574  \n",
              "1294_at   1294_at   MIR5193    5.22361   5.23782   5.23614   5.27101  \n",
              "          GSM878204 GSM878205\n",
              "1007_s_at 8.33301   8.45165  \n",
              "1053_at   8.93598   8.10066  \n",
              "117_at    5.07302   5.21245  \n",
              "121_at    7.35202   7.23397  \n",
              "1255_g_at 2.76264   2.73996  \n",
              "1294_at   5.23804   5.42573  "
            ]
          },
          "metadata": {}
        }
      ]
    },
    {
      "cell_type": "code",
      "source": [
        "unique(dt$IDENTIFIER)[1:5]"
      ],
      "metadata": {
        "colab": {
          "base_uri": "https://localhost:8080/",
          "height": 34
        },
        "id": "i1lQxbP5gEFn",
        "outputId": "45c85005-4b91-438f-daa8-f404e2c614ed"
      },
      "execution_count": null,
      "outputs": [
        {
          "output_type": "display_data",
          "data": {
            "text/html": [
              "<style>\n",
              ".list-inline {list-style: none; margin:0; padding: 0}\n",
              ".list-inline>li {display: inline-block}\n",
              ".list-inline>li:not(:last-child)::after {content: \"\\00b7\"; padding: 0 .5ex}\n",
              "</style>\n",
              "<ol class=list-inline><li>'MIR4640'</li><li>'RFC2'</li><li>'HSPA6'</li><li>'PAX8'</li><li>'GUCA1A'</li></ol>\n"
            ],
            "text/markdown": "1. 'MIR4640'\n2. 'RFC2'\n3. 'HSPA6'\n4. 'PAX8'\n5. 'GUCA1A'\n\n\n",
            "text/latex": "\\begin{enumerate*}\n\\item 'MIR4640'\n\\item 'RFC2'\n\\item 'HSPA6'\n\\item 'PAX8'\n\\item 'GUCA1A'\n\\end{enumerate*}\n",
            "text/plain": [
              "[1] \"MIR4640\" \"RFC2\"    \"HSPA6\"   \"PAX8\"    \"GUCA1A\" "
            ]
          },
          "metadata": {}
        }
      ]
    },
    {
      "cell_type": "code",
      "source": [
        "head(dt[3:length(colnames(dt))])"
      ],
      "metadata": {
        "colab": {
          "base_uri": "https://localhost:8080/",
          "height": 286
        },
        "id": "pCunhAzaZzZR",
        "outputId": "ac1f6d2b-aa61-4593-de65-135daa288dba"
      },
      "execution_count": null,
      "outputs": [
        {
          "output_type": "display_data",
          "data": {
            "text/html": [
              "<table class=\"dataframe\">\n",
              "<caption>A data.frame: 6 × 6</caption>\n",
              "<thead>\n",
              "\t<tr><th></th><th scope=col>GSM878200</th><th scope=col>GSM878201</th><th scope=col>GSM878202</th><th scope=col>GSM878203</th><th scope=col>GSM878204</th><th scope=col>GSM878205</th></tr>\n",
              "\t<tr><th></th><th scope=col>&lt;dbl&gt;</th><th scope=col>&lt;dbl&gt;</th><th scope=col>&lt;dbl&gt;</th><th scope=col>&lt;dbl&gt;</th><th scope=col>&lt;dbl&gt;</th><th scope=col>&lt;dbl&gt;</th></tr>\n",
              "</thead>\n",
              "<tbody>\n",
              "\t<tr><th scope=row>1007_s_at</th><td>8.47317</td><td>8.54549</td><td>8.57559</td><td>8.71128</td><td>8.33301</td><td>8.45165</td></tr>\n",
              "\t<tr><th scope=row>1053_at</th><td>9.12632</td><td>9.02977</td><td>8.46047</td><td>8.80934</td><td>8.93598</td><td>8.10066</td></tr>\n",
              "\t<tr><th scope=row>117_at</th><td>5.36694</td><td>5.25708</td><td>5.12728</td><td>9.57696</td><td>5.07302</td><td>5.21245</td></tr>\n",
              "\t<tr><th scope=row>121_at</th><td>7.15984</td><td>7.18389</td><td>7.42131</td><td>7.11768</td><td>7.35202</td><td>7.23397</td></tr>\n",
              "\t<tr><th scope=row>1255_g_at</th><td>2.63282</td><td>2.54170</td><td>2.50575</td><td>2.79574</td><td>2.76264</td><td>2.73996</td></tr>\n",
              "\t<tr><th scope=row>1294_at</th><td>5.22361</td><td>5.23782</td><td>5.23614</td><td>5.27101</td><td>5.23804</td><td>5.42573</td></tr>\n",
              "</tbody>\n",
              "</table>\n"
            ],
            "text/markdown": "\nA data.frame: 6 × 6\n\n| <!--/--> | GSM878200 &lt;dbl&gt; | GSM878201 &lt;dbl&gt; | GSM878202 &lt;dbl&gt; | GSM878203 &lt;dbl&gt; | GSM878204 &lt;dbl&gt; | GSM878205 &lt;dbl&gt; |\n|---|---|---|---|---|---|---|\n| 1007_s_at | 8.47317 | 8.54549 | 8.57559 | 8.71128 | 8.33301 | 8.45165 |\n| 1053_at | 9.12632 | 9.02977 | 8.46047 | 8.80934 | 8.93598 | 8.10066 |\n| 117_at | 5.36694 | 5.25708 | 5.12728 | 9.57696 | 5.07302 | 5.21245 |\n| 121_at | 7.15984 | 7.18389 | 7.42131 | 7.11768 | 7.35202 | 7.23397 |\n| 1255_g_at | 2.63282 | 2.54170 | 2.50575 | 2.79574 | 2.76264 | 2.73996 |\n| 1294_at | 5.22361 | 5.23782 | 5.23614 | 5.27101 | 5.23804 | 5.42573 |\n\n",
            "text/latex": "A data.frame: 6 × 6\n\\begin{tabular}{r|llllll}\n  & GSM878200 & GSM878201 & GSM878202 & GSM878203 & GSM878204 & GSM878205\\\\\n  & <dbl> & <dbl> & <dbl> & <dbl> & <dbl> & <dbl>\\\\\n\\hline\n\t1007\\_s\\_at & 8.47317 & 8.54549 & 8.57559 & 8.71128 & 8.33301 & 8.45165\\\\\n\t1053\\_at & 9.12632 & 9.02977 & 8.46047 & 8.80934 & 8.93598 & 8.10066\\\\\n\t117\\_at & 5.36694 & 5.25708 & 5.12728 & 9.57696 & 5.07302 & 5.21245\\\\\n\t121\\_at & 7.15984 & 7.18389 & 7.42131 & 7.11768 & 7.35202 & 7.23397\\\\\n\t1255\\_g\\_at & 2.63282 & 2.54170 & 2.50575 & 2.79574 & 2.76264 & 2.73996\\\\\n\t1294\\_at & 5.22361 & 5.23782 & 5.23614 & 5.27101 & 5.23804 & 5.42573\\\\\n\\end{tabular}\n",
            "text/plain": [
              "          GSM878200 GSM878201 GSM878202 GSM878203 GSM878204 GSM878205\n",
              "1007_s_at 8.47317   8.54549   8.57559   8.71128   8.33301   8.45165  \n",
              "1053_at   9.12632   9.02977   8.46047   8.80934   8.93598   8.10066  \n",
              "117_at    5.36694   5.25708   5.12728   9.57696   5.07302   5.21245  \n",
              "121_at    7.15984   7.18389   7.42131   7.11768   7.35202   7.23397  \n",
              "1255_g_at 2.63282   2.54170   2.50575   2.79574   2.76264   2.73996  \n",
              "1294_at   5.22361   5.23782   5.23614   5.27101   5.23804   5.42573  "
            ]
          },
          "metadata": {}
        }
      ]
    },
    {
      "cell_type": "code",
      "source": [
        "dt_ = t(dt[3:length(colnames(dt))])\n",
        "head(dt_)"
      ],
      "metadata": {
        "colab": {
          "base_uri": "https://localhost:8080/",
          "height": 327
        },
        "id": "U8WUVTSCZBcZ",
        "outputId": "5cf44ff5-ead4-4326-c2f1-c2d9cd4030dc"
      },
      "execution_count": null,
      "outputs": [
        {
          "output_type": "display_data",
          "data": {
            "text/html": [
              "<table class=\"dataframe\">\n",
              "<caption>A matrix: 6 × 54675 of type dbl</caption>\n",
              "<thead>\n",
              "\t<tr><th></th><th scope=col>1007_s_at</th><th scope=col>1053_at</th><th scope=col>117_at</th><th scope=col>121_at</th><th scope=col>1255_g_at</th><th scope=col>1294_at</th><th scope=col>1316_at</th><th scope=col>1320_at</th><th scope=col>1405_i_at</th><th scope=col>1431_at</th><th scope=col>⋯</th><th scope=col>AFFX-r2-Ec-bioD-3_at</th><th scope=col>AFFX-r2-Ec-bioD-5_at</th><th scope=col>AFFX-r2-P1-cre-3_at</th><th scope=col>AFFX-r2-P1-cre-5_at</th><th scope=col>AFFX-ThrX-3_at</th><th scope=col>AFFX-ThrX-5_at</th><th scope=col>AFFX-ThrX-M_at</th><th scope=col>AFFX-TrpnX-3_at</th><th scope=col>AFFX-TrpnX-5_at</th><th scope=col>AFFX-TrpnX-M_at</th></tr>\n",
              "</thead>\n",
              "<tbody>\n",
              "\t<tr><th scope=row>GSM878200</th><td>8.47317</td><td>9.12632</td><td>5.36694</td><td>7.15984</td><td>2.63282</td><td>5.22361</td><td>6.95113</td><td>5.70232</td><td>3.03179</td><td>4.00848</td><td>⋯</td><td>12.4275</td><td>11.8478</td><td>13.8108</td><td>13.5887</td><td>7.97358</td><td>6.91545</td><td>7.11894</td><td>2.43529</td><td>2.98027</td><td>2.98588</td></tr>\n",
              "\t<tr><th scope=row>GSM878201</th><td>8.54549</td><td>9.02977</td><td>5.25708</td><td>7.18389</td><td>2.54170</td><td>5.23782</td><td>6.93055</td><td>5.14683</td><td>3.22757</td><td>3.73757</td><td>⋯</td><td>12.4574</td><td>11.8156</td><td>13.9563</td><td>13.6369</td><td>7.92138</td><td>6.79585</td><td>7.11724</td><td>2.47555</td><td>2.99911</td><td>3.04700</td></tr>\n",
              "\t<tr><th scope=row>GSM878202</th><td>8.57559</td><td>8.46047</td><td>5.12728</td><td>7.42131</td><td>2.50575</td><td>5.23614</td><td>6.74418</td><td>5.32160</td><td>2.98063</td><td>3.93639</td><td>⋯</td><td>12.5871</td><td>12.0635</td><td>13.8894</td><td>13.5757</td><td>7.93992</td><td>6.78112</td><td>6.95004</td><td>2.58799</td><td>2.91629</td><td>3.02069</td></tr>\n",
              "\t<tr><th scope=row>GSM878203</th><td>8.71128</td><td>8.80934</td><td>9.57696</td><td>7.11768</td><td>2.79574</td><td>5.27101</td><td>6.87360</td><td>6.93830</td><td>3.45697</td><td>4.88047</td><td>⋯</td><td>12.5922</td><td>11.9797</td><td>13.8984</td><td>13.6467</td><td>8.05609</td><td>6.80935</td><td>7.14423</td><td>2.43935</td><td>2.95026</td><td>2.98345</td></tr>\n",
              "\t<tr><th scope=row>GSM878204</th><td>8.33301</td><td>8.93598</td><td>5.07302</td><td>7.35202</td><td>2.76264</td><td>5.23804</td><td>7.29849</td><td>5.70683</td><td>3.95914</td><td>3.83972</td><td>⋯</td><td>12.7152</td><td>11.9871</td><td>13.9370</td><td>13.6653</td><td>8.25777</td><td>7.09074</td><td>7.41788</td><td>2.47983</td><td>3.00269</td><td>3.05181</td></tr>\n",
              "\t<tr><th scope=row>GSM878205</th><td>8.45165</td><td>8.10066</td><td>5.21245</td><td>7.23397</td><td>2.73996</td><td>5.42573</td><td>7.66506</td><td>6.50058</td><td>3.86253</td><td>4.12199</td><td>⋯</td><td>12.7969</td><td>12.1713</td><td>13.8884</td><td>13.6756</td><td>8.20401</td><td>7.04833</td><td>7.24720</td><td>2.50071</td><td>2.96409</td><td>2.97451</td></tr>\n",
              "</tbody>\n",
              "</table>\n"
            ],
            "text/markdown": "\nA matrix: 6 × 54675 of type dbl\n\n| <!--/--> | 1007_s_at | 1053_at | 117_at | 121_at | 1255_g_at | 1294_at | 1316_at | 1320_at | 1405_i_at | 1431_at | ⋯ | AFFX-r2-Ec-bioD-3_at | AFFX-r2-Ec-bioD-5_at | AFFX-r2-P1-cre-3_at | AFFX-r2-P1-cre-5_at | AFFX-ThrX-3_at | AFFX-ThrX-5_at | AFFX-ThrX-M_at | AFFX-TrpnX-3_at | AFFX-TrpnX-5_at | AFFX-TrpnX-M_at |\n|---|---|---|---|---|---|---|---|---|---|---|---|---|---|---|---|---|---|---|---|---|---|\n| GSM878200 | 8.47317 | 9.12632 | 5.36694 | 7.15984 | 2.63282 | 5.22361 | 6.95113 | 5.70232 | 3.03179 | 4.00848 | ⋯ | 12.4275 | 11.8478 | 13.8108 | 13.5887 | 7.97358 | 6.91545 | 7.11894 | 2.43529 | 2.98027 | 2.98588 |\n| GSM878201 | 8.54549 | 9.02977 | 5.25708 | 7.18389 | 2.54170 | 5.23782 | 6.93055 | 5.14683 | 3.22757 | 3.73757 | ⋯ | 12.4574 | 11.8156 | 13.9563 | 13.6369 | 7.92138 | 6.79585 | 7.11724 | 2.47555 | 2.99911 | 3.04700 |\n| GSM878202 | 8.57559 | 8.46047 | 5.12728 | 7.42131 | 2.50575 | 5.23614 | 6.74418 | 5.32160 | 2.98063 | 3.93639 | ⋯ | 12.5871 | 12.0635 | 13.8894 | 13.5757 | 7.93992 | 6.78112 | 6.95004 | 2.58799 | 2.91629 | 3.02069 |\n| GSM878203 | 8.71128 | 8.80934 | 9.57696 | 7.11768 | 2.79574 | 5.27101 | 6.87360 | 6.93830 | 3.45697 | 4.88047 | ⋯ | 12.5922 | 11.9797 | 13.8984 | 13.6467 | 8.05609 | 6.80935 | 7.14423 | 2.43935 | 2.95026 | 2.98345 |\n| GSM878204 | 8.33301 | 8.93598 | 5.07302 | 7.35202 | 2.76264 | 5.23804 | 7.29849 | 5.70683 | 3.95914 | 3.83972 | ⋯ | 12.7152 | 11.9871 | 13.9370 | 13.6653 | 8.25777 | 7.09074 | 7.41788 | 2.47983 | 3.00269 | 3.05181 |\n| GSM878205 | 8.45165 | 8.10066 | 5.21245 | 7.23397 | 2.73996 | 5.42573 | 7.66506 | 6.50058 | 3.86253 | 4.12199 | ⋯ | 12.7969 | 12.1713 | 13.8884 | 13.6756 | 8.20401 | 7.04833 | 7.24720 | 2.50071 | 2.96409 | 2.97451 |\n\n",
            "text/latex": "A matrix: 6 × 54675 of type dbl\n\\begin{tabular}{r|lllllllllllllllllllll}\n  & 1007\\_s\\_at & 1053\\_at & 117\\_at & 121\\_at & 1255\\_g\\_at & 1294\\_at & 1316\\_at & 1320\\_at & 1405\\_i\\_at & 1431\\_at & ⋯ & AFFX-r2-Ec-bioD-3\\_at & AFFX-r2-Ec-bioD-5\\_at & AFFX-r2-P1-cre-3\\_at & AFFX-r2-P1-cre-5\\_at & AFFX-ThrX-3\\_at & AFFX-ThrX-5\\_at & AFFX-ThrX-M\\_at & AFFX-TrpnX-3\\_at & AFFX-TrpnX-5\\_at & AFFX-TrpnX-M\\_at\\\\\n\\hline\n\tGSM878200 & 8.47317 & 9.12632 & 5.36694 & 7.15984 & 2.63282 & 5.22361 & 6.95113 & 5.70232 & 3.03179 & 4.00848 & ⋯ & 12.4275 & 11.8478 & 13.8108 & 13.5887 & 7.97358 & 6.91545 & 7.11894 & 2.43529 & 2.98027 & 2.98588\\\\\n\tGSM878201 & 8.54549 & 9.02977 & 5.25708 & 7.18389 & 2.54170 & 5.23782 & 6.93055 & 5.14683 & 3.22757 & 3.73757 & ⋯ & 12.4574 & 11.8156 & 13.9563 & 13.6369 & 7.92138 & 6.79585 & 7.11724 & 2.47555 & 2.99911 & 3.04700\\\\\n\tGSM878202 & 8.57559 & 8.46047 & 5.12728 & 7.42131 & 2.50575 & 5.23614 & 6.74418 & 5.32160 & 2.98063 & 3.93639 & ⋯ & 12.5871 & 12.0635 & 13.8894 & 13.5757 & 7.93992 & 6.78112 & 6.95004 & 2.58799 & 2.91629 & 3.02069\\\\\n\tGSM878203 & 8.71128 & 8.80934 & 9.57696 & 7.11768 & 2.79574 & 5.27101 & 6.87360 & 6.93830 & 3.45697 & 4.88047 & ⋯ & 12.5922 & 11.9797 & 13.8984 & 13.6467 & 8.05609 & 6.80935 & 7.14423 & 2.43935 & 2.95026 & 2.98345\\\\\n\tGSM878204 & 8.33301 & 8.93598 & 5.07302 & 7.35202 & 2.76264 & 5.23804 & 7.29849 & 5.70683 & 3.95914 & 3.83972 & ⋯ & 12.7152 & 11.9871 & 13.9370 & 13.6653 & 8.25777 & 7.09074 & 7.41788 & 2.47983 & 3.00269 & 3.05181\\\\\n\tGSM878205 & 8.45165 & 8.10066 & 5.21245 & 7.23397 & 2.73996 & 5.42573 & 7.66506 & 6.50058 & 3.86253 & 4.12199 & ⋯ & 12.7969 & 12.1713 & 13.8884 & 13.6756 & 8.20401 & 7.04833 & 7.24720 & 2.50071 & 2.96409 & 2.97451\\\\\n\\end{tabular}\n",
            "text/plain": [
              "          1007_s_at 1053_at 117_at  121_at  1255_g_at 1294_at 1316_at 1320_at\n",
              "GSM878200 8.47317   9.12632 5.36694 7.15984 2.63282   5.22361 6.95113 5.70232\n",
              "GSM878201 8.54549   9.02977 5.25708 7.18389 2.54170   5.23782 6.93055 5.14683\n",
              "GSM878202 8.57559   8.46047 5.12728 7.42131 2.50575   5.23614 6.74418 5.32160\n",
              "GSM878203 8.71128   8.80934 9.57696 7.11768 2.79574   5.27101 6.87360 6.93830\n",
              "GSM878204 8.33301   8.93598 5.07302 7.35202 2.76264   5.23804 7.29849 5.70683\n",
              "GSM878205 8.45165   8.10066 5.21245 7.23397 2.73996   5.42573 7.66506 6.50058\n",
              "          1405_i_at 1431_at ⋯ AFFX-r2-Ec-bioD-3_at AFFX-r2-Ec-bioD-5_at\n",
              "GSM878200 3.03179   4.00848 ⋯ 12.4275              11.8478             \n",
              "GSM878201 3.22757   3.73757 ⋯ 12.4574              11.8156             \n",
              "GSM878202 2.98063   3.93639 ⋯ 12.5871              12.0635             \n",
              "GSM878203 3.45697   4.88047 ⋯ 12.5922              11.9797             \n",
              "GSM878204 3.95914   3.83972 ⋯ 12.7152              11.9871             \n",
              "GSM878205 3.86253   4.12199 ⋯ 12.7969              12.1713             \n",
              "          AFFX-r2-P1-cre-3_at AFFX-r2-P1-cre-5_at AFFX-ThrX-3_at AFFX-ThrX-5_at\n",
              "GSM878200 13.8108             13.5887             7.97358        6.91545       \n",
              "GSM878201 13.9563             13.6369             7.92138        6.79585       \n",
              "GSM878202 13.8894             13.5757             7.93992        6.78112       \n",
              "GSM878203 13.8984             13.6467             8.05609        6.80935       \n",
              "GSM878204 13.9370             13.6653             8.25777        7.09074       \n",
              "GSM878205 13.8884             13.6756             8.20401        7.04833       \n",
              "          AFFX-ThrX-M_at AFFX-TrpnX-3_at AFFX-TrpnX-5_at AFFX-TrpnX-M_at\n",
              "GSM878200 7.11894        2.43529         2.98027         2.98588        \n",
              "GSM878201 7.11724        2.47555         2.99911         3.04700        \n",
              "GSM878202 6.95004        2.58799         2.91629         3.02069        \n",
              "GSM878203 7.14423        2.43935         2.95026         2.98345        \n",
              "GSM878204 7.41788        2.47983         3.00269         3.05181        \n",
              "GSM878205 7.24720        2.50071         2.96409         2.97451        "
            ]
          },
          "metadata": {}
        }
      ]
    },
    {
      "cell_type": "code",
      "source": [
        "colnames(dt)"
      ],
      "metadata": {
        "colab": {
          "base_uri": "https://localhost:8080/",
          "height": 34
        },
        "id": "RlMUB5SrdKBZ",
        "outputId": "5383efe6-e3a1-41a1-b470-e606a4ae19ef"
      },
      "execution_count": null,
      "outputs": [
        {
          "output_type": "display_data",
          "data": {
            "text/html": [
              "<style>\n",
              ".list-inline {list-style: none; margin:0; padding: 0}\n",
              ".list-inline>li {display: inline-block}\n",
              ".list-inline>li:not(:last-child)::after {content: \"\\00b7\"; padding: 0 .5ex}\n",
              "</style>\n",
              "<ol class=list-inline><li>'ID_REF'</li><li>'IDENTIFIER'</li><li>'GSM878200'</li><li>'GSM878201'</li><li>'GSM878202'</li><li>'GSM878203'</li><li>'GSM878204'</li><li>'GSM878205'</li></ol>\n"
            ],
            "text/markdown": "1. 'ID_REF'\n2. 'IDENTIFIER'\n3. 'GSM878200'\n4. 'GSM878201'\n5. 'GSM878202'\n6. 'GSM878203'\n7. 'GSM878204'\n8. 'GSM878205'\n\n\n",
            "text/latex": "\\begin{enumerate*}\n\\item 'ID\\_REF'\n\\item 'IDENTIFIER'\n\\item 'GSM878200'\n\\item 'GSM878201'\n\\item 'GSM878202'\n\\item 'GSM878203'\n\\item 'GSM878204'\n\\item 'GSM878205'\n\\end{enumerate*}\n",
            "text/plain": [
              "[1] \"ID_REF\"     \"IDENTIFIER\" \"GSM878200\"  \"GSM878201\"  \"GSM878202\" \n",
              "[6] \"GSM878203\"  \"GSM878204\"  \"GSM878205\" "
            ]
          },
          "metadata": {}
        }
      ]
    },
    {
      "cell_type": "code",
      "source": [
        "row.names(dt_)"
      ],
      "metadata": {
        "colab": {
          "base_uri": "https://localhost:8080/",
          "height": 34
        },
        "id": "50fxvYfsZqx0",
        "outputId": "584397d3-9bae-49a7-8a0c-cf6293ac5a7f"
      },
      "execution_count": null,
      "outputs": [
        {
          "output_type": "display_data",
          "data": {
            "text/html": [
              "<style>\n",
              ".list-inline {list-style: none; margin:0; padding: 0}\n",
              ".list-inline>li {display: inline-block}\n",
              ".list-inline>li:not(:last-child)::after {content: \"\\00b7\"; padding: 0 .5ex}\n",
              "</style>\n",
              "<ol class=list-inline><li>'GSM878200'</li><li>'GSM878201'</li><li>'GSM878202'</li><li>'GSM878203'</li><li>'GSM878204'</li><li>'GSM878205'</li></ol>\n"
            ],
            "text/markdown": "1. 'GSM878200'\n2. 'GSM878201'\n3. 'GSM878202'\n4. 'GSM878203'\n5. 'GSM878204'\n6. 'GSM878205'\n\n\n",
            "text/latex": "\\begin{enumerate*}\n\\item 'GSM878200'\n\\item 'GSM878201'\n\\item 'GSM878202'\n\\item 'GSM878203'\n\\item 'GSM878204'\n\\item 'GSM878205'\n\\end{enumerate*}\n",
            "text/plain": [
              "[1] \"GSM878200\" \"GSM878201\" \"GSM878202\" \"GSM878203\" \"GSM878204\" \"GSM878205\""
            ]
          },
          "metadata": {}
        }
      ]
    },
    {
      "cell_type": "code",
      "source": [
        "row.names(annot) = annot$sample\n",
        "annot_ = annot[2:3]"
      ],
      "metadata": {
        "id": "lX9b9Cv6e8cJ"
      },
      "execution_count": null,
      "outputs": []
    },
    {
      "cell_type": "code",
      "source": [
        "bc = merge(annot_[1], dt_, by = 'row.names', all = TRUE)\n",
        "bc"
      ],
      "metadata": {
        "colab": {
          "base_uri": "https://localhost:8080/",
          "height": 358
        },
        "id": "jP8KNqZJbe4R",
        "outputId": "dfd1cbfd-f972-4aac-f8c3-48af48b25acf"
      },
      "execution_count": null,
      "outputs": [
        {
          "output_type": "display_data",
          "data": {
            "text/html": [
              "<table class=\"dataframe\">\n",
              "<caption>A data.frame: 6 × 54677</caption>\n",
              "<thead>\n",
              "\t<tr><th scope=col>Row.names</th><th scope=col>agent</th><th scope=col>1007_s_at</th><th scope=col>1053_at</th><th scope=col>117_at</th><th scope=col>121_at</th><th scope=col>1255_g_at</th><th scope=col>1294_at</th><th scope=col>1316_at</th><th scope=col>1320_at</th><th scope=col>⋯</th><th scope=col>AFFX-r2-Ec-bioD-3_at</th><th scope=col>AFFX-r2-Ec-bioD-5_at</th><th scope=col>AFFX-r2-P1-cre-3_at</th><th scope=col>AFFX-r2-P1-cre-5_at</th><th scope=col>AFFX-ThrX-3_at</th><th scope=col>AFFX-ThrX-5_at</th><th scope=col>AFFX-ThrX-M_at</th><th scope=col>AFFX-TrpnX-3_at</th><th scope=col>AFFX-TrpnX-5_at</th><th scope=col>AFFX-TrpnX-M_at</th></tr>\n",
              "\t<tr><th scope=col>&lt;I&lt;chr&gt;&gt;</th><th scope=col>&lt;fct&gt;</th><th scope=col>&lt;dbl&gt;</th><th scope=col>&lt;dbl&gt;</th><th scope=col>&lt;dbl&gt;</th><th scope=col>&lt;dbl&gt;</th><th scope=col>&lt;dbl&gt;</th><th scope=col>&lt;dbl&gt;</th><th scope=col>&lt;dbl&gt;</th><th scope=col>&lt;dbl&gt;</th><th scope=col>⋯</th><th scope=col>&lt;dbl&gt;</th><th scope=col>&lt;dbl&gt;</th><th scope=col>&lt;dbl&gt;</th><th scope=col>&lt;dbl&gt;</th><th scope=col>&lt;dbl&gt;</th><th scope=col>&lt;dbl&gt;</th><th scope=col>&lt;dbl&gt;</th><th scope=col>&lt;dbl&gt;</th><th scope=col>&lt;dbl&gt;</th><th scope=col>&lt;dbl&gt;</th></tr>\n",
              "</thead>\n",
              "<tbody>\n",
              "\t<tr><td>GSM878200</td><td>control  </td><td>8.47317</td><td>9.12632</td><td>5.36694</td><td>7.15984</td><td>2.63282</td><td>5.22361</td><td>6.95113</td><td>5.70232</td><td>⋯</td><td>12.4275</td><td>11.8478</td><td>13.8108</td><td>13.5887</td><td>7.97358</td><td>6.91545</td><td>7.11894</td><td>2.43529</td><td>2.98027</td><td>2.98588</td></tr>\n",
              "\t<tr><td>GSM878201</td><td>control  </td><td>8.54549</td><td>9.02977</td><td>5.25708</td><td>7.18389</td><td>2.54170</td><td>5.23782</td><td>6.93055</td><td>5.14683</td><td>⋯</td><td>12.4574</td><td>11.8156</td><td>13.9563</td><td>13.6369</td><td>7.92138</td><td>6.79585</td><td>7.11724</td><td>2.47555</td><td>2.99911</td><td>3.04700</td></tr>\n",
              "\t<tr><td>GSM878202</td><td>control  </td><td>8.57559</td><td>8.46047</td><td>5.12728</td><td>7.42131</td><td>2.50575</td><td>5.23614</td><td>6.74418</td><td>5.32160</td><td>⋯</td><td>12.5871</td><td>12.0635</td><td>13.8894</td><td>13.5757</td><td>7.93992</td><td>6.78112</td><td>6.95004</td><td>2.58799</td><td>2.91629</td><td>3.02069</td></tr>\n",
              "\t<tr><td>GSM878203</td><td>NSC319726</td><td>8.71128</td><td>8.80934</td><td>9.57696</td><td>7.11768</td><td>2.79574</td><td>5.27101</td><td>6.87360</td><td>6.93830</td><td>⋯</td><td>12.5922</td><td>11.9797</td><td>13.8984</td><td>13.6467</td><td>8.05609</td><td>6.80935</td><td>7.14423</td><td>2.43935</td><td>2.95026</td><td>2.98345</td></tr>\n",
              "\t<tr><td>GSM878204</td><td>NSC319726</td><td>8.33301</td><td>8.93598</td><td>5.07302</td><td>7.35202</td><td>2.76264</td><td>5.23804</td><td>7.29849</td><td>5.70683</td><td>⋯</td><td>12.7152</td><td>11.9871</td><td>13.9370</td><td>13.6653</td><td>8.25777</td><td>7.09074</td><td>7.41788</td><td>2.47983</td><td>3.00269</td><td>3.05181</td></tr>\n",
              "\t<tr><td>GSM878205</td><td>NSC319726</td><td>8.45165</td><td>8.10066</td><td>5.21245</td><td>7.23397</td><td>2.73996</td><td>5.42573</td><td>7.66506</td><td>6.50058</td><td>⋯</td><td>12.7969</td><td>12.1713</td><td>13.8884</td><td>13.6756</td><td>8.20401</td><td>7.04833</td><td>7.24720</td><td>2.50071</td><td>2.96409</td><td>2.97451</td></tr>\n",
              "</tbody>\n",
              "</table>\n"
            ],
            "text/markdown": "\nA data.frame: 6 × 54677\n\n| Row.names &lt;I&lt;chr&gt;&gt; | agent &lt;fct&gt; | 1007_s_at &lt;dbl&gt; | 1053_at &lt;dbl&gt; | 117_at &lt;dbl&gt; | 121_at &lt;dbl&gt; | 1255_g_at &lt;dbl&gt; | 1294_at &lt;dbl&gt; | 1316_at &lt;dbl&gt; | 1320_at &lt;dbl&gt; | ⋯ ⋯ | AFFX-r2-Ec-bioD-3_at &lt;dbl&gt; | AFFX-r2-Ec-bioD-5_at &lt;dbl&gt; | AFFX-r2-P1-cre-3_at &lt;dbl&gt; | AFFX-r2-P1-cre-5_at &lt;dbl&gt; | AFFX-ThrX-3_at &lt;dbl&gt; | AFFX-ThrX-5_at &lt;dbl&gt; | AFFX-ThrX-M_at &lt;dbl&gt; | AFFX-TrpnX-3_at &lt;dbl&gt; | AFFX-TrpnX-5_at &lt;dbl&gt; | AFFX-TrpnX-M_at &lt;dbl&gt; |\n|---|---|---|---|---|---|---|---|---|---|---|---|---|---|---|---|---|---|---|---|---|\n| GSM878200 | control   | 8.47317 | 9.12632 | 5.36694 | 7.15984 | 2.63282 | 5.22361 | 6.95113 | 5.70232 | ⋯ | 12.4275 | 11.8478 | 13.8108 | 13.5887 | 7.97358 | 6.91545 | 7.11894 | 2.43529 | 2.98027 | 2.98588 |\n| GSM878201 | control   | 8.54549 | 9.02977 | 5.25708 | 7.18389 | 2.54170 | 5.23782 | 6.93055 | 5.14683 | ⋯ | 12.4574 | 11.8156 | 13.9563 | 13.6369 | 7.92138 | 6.79585 | 7.11724 | 2.47555 | 2.99911 | 3.04700 |\n| GSM878202 | control   | 8.57559 | 8.46047 | 5.12728 | 7.42131 | 2.50575 | 5.23614 | 6.74418 | 5.32160 | ⋯ | 12.5871 | 12.0635 | 13.8894 | 13.5757 | 7.93992 | 6.78112 | 6.95004 | 2.58799 | 2.91629 | 3.02069 |\n| GSM878203 | NSC319726 | 8.71128 | 8.80934 | 9.57696 | 7.11768 | 2.79574 | 5.27101 | 6.87360 | 6.93830 | ⋯ | 12.5922 | 11.9797 | 13.8984 | 13.6467 | 8.05609 | 6.80935 | 7.14423 | 2.43935 | 2.95026 | 2.98345 |\n| GSM878204 | NSC319726 | 8.33301 | 8.93598 | 5.07302 | 7.35202 | 2.76264 | 5.23804 | 7.29849 | 5.70683 | ⋯ | 12.7152 | 11.9871 | 13.9370 | 13.6653 | 8.25777 | 7.09074 | 7.41788 | 2.47983 | 3.00269 | 3.05181 |\n| GSM878205 | NSC319726 | 8.45165 | 8.10066 | 5.21245 | 7.23397 | 2.73996 | 5.42573 | 7.66506 | 6.50058 | ⋯ | 12.7969 | 12.1713 | 13.8884 | 13.6756 | 8.20401 | 7.04833 | 7.24720 | 2.50071 | 2.96409 | 2.97451 |\n\n",
            "text/latex": "A data.frame: 6 × 54677\n\\begin{tabular}{lllllllllllllllllllll}\n Row.names & agent & 1007\\_s\\_at & 1053\\_at & 117\\_at & 121\\_at & 1255\\_g\\_at & 1294\\_at & 1316\\_at & 1320\\_at & ⋯ & AFFX-r2-Ec-bioD-3\\_at & AFFX-r2-Ec-bioD-5\\_at & AFFX-r2-P1-cre-3\\_at & AFFX-r2-P1-cre-5\\_at & AFFX-ThrX-3\\_at & AFFX-ThrX-5\\_at & AFFX-ThrX-M\\_at & AFFX-TrpnX-3\\_at & AFFX-TrpnX-5\\_at & AFFX-TrpnX-M\\_at\\\\\n <I<chr>> & <fct> & <dbl> & <dbl> & <dbl> & <dbl> & <dbl> & <dbl> & <dbl> & <dbl> & ⋯ & <dbl> & <dbl> & <dbl> & <dbl> & <dbl> & <dbl> & <dbl> & <dbl> & <dbl> & <dbl>\\\\\n\\hline\n\t GSM878200 & control   & 8.47317 & 9.12632 & 5.36694 & 7.15984 & 2.63282 & 5.22361 & 6.95113 & 5.70232 & ⋯ & 12.4275 & 11.8478 & 13.8108 & 13.5887 & 7.97358 & 6.91545 & 7.11894 & 2.43529 & 2.98027 & 2.98588\\\\\n\t GSM878201 & control   & 8.54549 & 9.02977 & 5.25708 & 7.18389 & 2.54170 & 5.23782 & 6.93055 & 5.14683 & ⋯ & 12.4574 & 11.8156 & 13.9563 & 13.6369 & 7.92138 & 6.79585 & 7.11724 & 2.47555 & 2.99911 & 3.04700\\\\\n\t GSM878202 & control   & 8.57559 & 8.46047 & 5.12728 & 7.42131 & 2.50575 & 5.23614 & 6.74418 & 5.32160 & ⋯ & 12.5871 & 12.0635 & 13.8894 & 13.5757 & 7.93992 & 6.78112 & 6.95004 & 2.58799 & 2.91629 & 3.02069\\\\\n\t GSM878203 & NSC319726 & 8.71128 & 8.80934 & 9.57696 & 7.11768 & 2.79574 & 5.27101 & 6.87360 & 6.93830 & ⋯ & 12.5922 & 11.9797 & 13.8984 & 13.6467 & 8.05609 & 6.80935 & 7.14423 & 2.43935 & 2.95026 & 2.98345\\\\\n\t GSM878204 & NSC319726 & 8.33301 & 8.93598 & 5.07302 & 7.35202 & 2.76264 & 5.23804 & 7.29849 & 5.70683 & ⋯ & 12.7152 & 11.9871 & 13.9370 & 13.6653 & 8.25777 & 7.09074 & 7.41788 & 2.47983 & 3.00269 & 3.05181\\\\\n\t GSM878205 & NSC319726 & 8.45165 & 8.10066 & 5.21245 & 7.23397 & 2.73996 & 5.42573 & 7.66506 & 6.50058 & ⋯ & 12.7969 & 12.1713 & 13.8884 & 13.6756 & 8.20401 & 7.04833 & 7.24720 & 2.50071 & 2.96409 & 2.97451\\\\\n\\end{tabular}\n",
            "text/plain": [
              "  Row.names agent     1007_s_at 1053_at 117_at  121_at  1255_g_at 1294_at\n",
              "1 GSM878200 control   8.47317   9.12632 5.36694 7.15984 2.63282   5.22361\n",
              "2 GSM878201 control   8.54549   9.02977 5.25708 7.18389 2.54170   5.23782\n",
              "3 GSM878202 control   8.57559   8.46047 5.12728 7.42131 2.50575   5.23614\n",
              "4 GSM878203 NSC319726 8.71128   8.80934 9.57696 7.11768 2.79574   5.27101\n",
              "5 GSM878204 NSC319726 8.33301   8.93598 5.07302 7.35202 2.76264   5.23804\n",
              "6 GSM878205 NSC319726 8.45165   8.10066 5.21245 7.23397 2.73996   5.42573\n",
              "  1316_at 1320_at ⋯ AFFX-r2-Ec-bioD-3_at AFFX-r2-Ec-bioD-5_at\n",
              "1 6.95113 5.70232 ⋯ 12.4275              11.8478             \n",
              "2 6.93055 5.14683 ⋯ 12.4574              11.8156             \n",
              "3 6.74418 5.32160 ⋯ 12.5871              12.0635             \n",
              "4 6.87360 6.93830 ⋯ 12.5922              11.9797             \n",
              "5 7.29849 5.70683 ⋯ 12.7152              11.9871             \n",
              "6 7.66506 6.50058 ⋯ 12.7969              12.1713             \n",
              "  AFFX-r2-P1-cre-3_at AFFX-r2-P1-cre-5_at AFFX-ThrX-3_at AFFX-ThrX-5_at\n",
              "1 13.8108             13.5887             7.97358        6.91545       \n",
              "2 13.9563             13.6369             7.92138        6.79585       \n",
              "3 13.8894             13.5757             7.93992        6.78112       \n",
              "4 13.8984             13.6467             8.05609        6.80935       \n",
              "5 13.9370             13.6653             8.25777        7.09074       \n",
              "6 13.8884             13.6756             8.20401        7.04833       \n",
              "  AFFX-ThrX-M_at AFFX-TrpnX-3_at AFFX-TrpnX-5_at AFFX-TrpnX-M_at\n",
              "1 7.11894        2.43529         2.98027         2.98588        \n",
              "2 7.11724        2.47555         2.99911         3.04700        \n",
              "3 6.95004        2.58799         2.91629         3.02069        \n",
              "4 7.14423        2.43935         2.95026         2.98345        \n",
              "5 7.41788        2.47983         3.00269         3.05181        \n",
              "6 7.24720        2.50071         2.96409         2.97451        "
            ]
          },
          "metadata": {}
        }
      ]
    },
    {
      "cell_type": "markdown",
      "source": [
        "#1) Remove outliers.  "
      ],
      "metadata": {
        "id": "1HAsjIJNNjPE"
      }
    },
    {
      "cell_type": "code",
      "source": [
        "BiocManager::install('multtest')"
      ],
      "metadata": {
        "colab": {
          "base_uri": "https://localhost:8080/"
        },
        "id": "PaHiiO94ObAx",
        "outputId": "89ee39e2-935e-4800-a23f-76563384b985"
      },
      "execution_count": null,
      "outputs": [
        {
          "metadata": {
            "tags": null
          },
          "name": "stderr",
          "output_type": "stream",
          "text": [
            "'getOption(\"repos\")' replaces Bioconductor standard repositories, see\n",
            "'?repositories' for details\n",
            "\n",
            "replacement repositories:\n",
            "    CRAN: https://cran.rstudio.com\n",
            "\n",
            "\n",
            "Bioconductor version 3.16 (BiocManager 1.30.19), R 4.2.2 Patched (2022-11-10\n",
            "  r83330)\n",
            "\n",
            "Installing package(s) 'multtest'\n",
            "\n",
            "Old packages: 'bit', 'data.table', 'devtools', 'pkgload', 'tidyverse', 'vctrs',\n",
            "  'xfun', 'foreign'\n",
            "\n"
          ]
        }
      ]
    },
    {
      "cell_type": "code",
      "source": [
        "library(multtest)\n",
        "library(MASS)"
      ],
      "metadata": {
        "id": "okCrrd1TN82H",
        "colab": {
          "base_uri": "https://localhost:8080/"
        },
        "outputId": "e4136f18-03ba-4988-908e-209ff04c4671"
      },
      "execution_count": null,
      "outputs": [
        {
          "metadata": {
            "tags": null
          },
          "name": "stderr",
          "output_type": "stream",
          "text": [
            "\n",
            "Attaching package: ‘MASS’\n",
            "\n",
            "\n",
            "The following object is masked from ‘package:dplyr’:\n",
            "\n",
            "    select\n",
            "\n",
            "\n"
          ]
        }
      ]
    },
    {
      "cell_type": "code",
      "source": [
        "df = read.table('lung_cancer_data.txt', header=1) \n",
        "head(df[1:10])"
      ],
      "metadata": {
        "colab": {
          "base_uri": "https://localhost:8080/",
          "height": 286
        },
        "id": "bknpKSZ5aU7B",
        "outputId": "199130d5-f099-4295-cbe8-c79040975bb3"
      },
      "execution_count": null,
      "outputs": [
        {
          "output_type": "display_data",
          "data": {
            "text/html": [
              "<table class=\"dataframe\">\n",
              "<caption>A data.frame: 6 × 10</caption>\n",
              "<thead>\n",
              "\t<tr><th></th><th scope=col>probe</th><th scope=col>Adeno1</th><th scope=col>Adeno2</th><th scope=col>Adeno3</th><th scope=col>Adeno4</th><th scope=col>Adeno5</th><th scope=col>Adeno6</th><th scope=col>Adeno7</th><th scope=col>Adeno8</th><th scope=col>Adeno9</th></tr>\n",
              "\t<tr><th></th><th scope=col>&lt;chr&gt;</th><th scope=col>&lt;dbl&gt;</th><th scope=col>&lt;dbl&gt;</th><th scope=col>&lt;dbl&gt;</th><th scope=col>&lt;dbl&gt;</th><th scope=col>&lt;dbl&gt;</th><th scope=col>&lt;dbl&gt;</th><th scope=col>&lt;dbl&gt;</th><th scope=col>&lt;dbl&gt;</th><th scope=col>&lt;dbl&gt;</th></tr>\n",
              "</thead>\n",
              "<tbody>\n",
              "\t<tr><th scope=row>1</th><td>1007_s_at</td><td>9.26</td><td>8.69</td><td>8.51</td><td>8.38</td><td>7.70</td><td>8.16</td><td>7.73</td><td>8.33</td><td>7.47</td></tr>\n",
              "\t<tr><th scope=row>2</th><td>1053_at  </td><td>5.15</td><td>4.57</td><td>5.20</td><td>4.92</td><td>4.60</td><td>5.24</td><td>4.64</td><td>5.64</td><td>5.64</td></tr>\n",
              "\t<tr><th scope=row>3</th><td>121_at   </td><td>7.35</td><td>7.32</td><td>7.13</td><td>7.50</td><td>7.40</td><td>7.35</td><td>7.32</td><td>7.32</td><td>7.09</td></tr>\n",
              "\t<tr><th scope=row>4</th><td>1294_at  </td><td>6.14</td><td>6.32</td><td>6.09</td><td>6.08</td><td>5.98</td><td>6.09</td><td>6.43</td><td>5.86</td><td>6.63</td></tr>\n",
              "\t<tr><th scope=row>5</th><td>1487_at  </td><td>6.45</td><td>6.13</td><td>6.64</td><td>6.54</td><td>5.93</td><td>6.51</td><td>6.09</td><td>6.36</td><td>6.47</td></tr>\n",
              "\t<tr><th scope=row>6</th><td>1729_at  </td><td>6.10</td><td>6.13</td><td>6.52</td><td>6.83</td><td>6.16</td><td>6.12</td><td>6.08</td><td>6.42</td><td>5.85</td></tr>\n",
              "</tbody>\n",
              "</table>\n"
            ],
            "text/markdown": "\nA data.frame: 6 × 10\n\n| <!--/--> | probe &lt;chr&gt; | Adeno1 &lt;dbl&gt; | Adeno2 &lt;dbl&gt; | Adeno3 &lt;dbl&gt; | Adeno4 &lt;dbl&gt; | Adeno5 &lt;dbl&gt; | Adeno6 &lt;dbl&gt; | Adeno7 &lt;dbl&gt; | Adeno8 &lt;dbl&gt; | Adeno9 &lt;dbl&gt; |\n|---|---|---|---|---|---|---|---|---|---|---|\n| 1 | 1007_s_at | 9.26 | 8.69 | 8.51 | 8.38 | 7.70 | 8.16 | 7.73 | 8.33 | 7.47 |\n| 2 | 1053_at   | 5.15 | 4.57 | 5.20 | 4.92 | 4.60 | 5.24 | 4.64 | 5.64 | 5.64 |\n| 3 | 121_at    | 7.35 | 7.32 | 7.13 | 7.50 | 7.40 | 7.35 | 7.32 | 7.32 | 7.09 |\n| 4 | 1294_at   | 6.14 | 6.32 | 6.09 | 6.08 | 5.98 | 6.09 | 6.43 | 5.86 | 6.63 |\n| 5 | 1487_at   | 6.45 | 6.13 | 6.64 | 6.54 | 5.93 | 6.51 | 6.09 | 6.36 | 6.47 |\n| 6 | 1729_at   | 6.10 | 6.13 | 6.52 | 6.83 | 6.16 | 6.12 | 6.08 | 6.42 | 5.85 |\n\n",
            "text/latex": "A data.frame: 6 × 10\n\\begin{tabular}{r|llllllllll}\n  & probe & Adeno1 & Adeno2 & Adeno3 & Adeno4 & Adeno5 & Adeno6 & Adeno7 & Adeno8 & Adeno9\\\\\n  & <chr> & <dbl> & <dbl> & <dbl> & <dbl> & <dbl> & <dbl> & <dbl> & <dbl> & <dbl>\\\\\n\\hline\n\t1 & 1007\\_s\\_at & 9.26 & 8.69 & 8.51 & 8.38 & 7.70 & 8.16 & 7.73 & 8.33 & 7.47\\\\\n\t2 & 1053\\_at   & 5.15 & 4.57 & 5.20 & 4.92 & 4.60 & 5.24 & 4.64 & 5.64 & 5.64\\\\\n\t3 & 121\\_at    & 7.35 & 7.32 & 7.13 & 7.50 & 7.40 & 7.35 & 7.32 & 7.32 & 7.09\\\\\n\t4 & 1294\\_at   & 6.14 & 6.32 & 6.09 & 6.08 & 5.98 & 6.09 & 6.43 & 5.86 & 6.63\\\\\n\t5 & 1487\\_at   & 6.45 & 6.13 & 6.64 & 6.54 & 5.93 & 6.51 & 6.09 & 6.36 & 6.47\\\\\n\t6 & 1729\\_at   & 6.10 & 6.13 & 6.52 & 6.83 & 6.16 & 6.12 & 6.08 & 6.42 & 5.85\\\\\n\\end{tabular}\n",
            "text/plain": [
              "  probe     Adeno1 Adeno2 Adeno3 Adeno4 Adeno5 Adeno6 Adeno7 Adeno8 Adeno9\n",
              "1 1007_s_at 9.26   8.69   8.51   8.38   7.70   8.16   7.73   8.33   7.47  \n",
              "2 1053_at   5.15   4.57   5.20   4.92   4.60   5.24   4.64   5.64   5.64  \n",
              "3 121_at    7.35   7.32   7.13   7.50   7.40   7.35   7.32   7.32   7.09  \n",
              "4 1294_at   6.14   6.32   6.09   6.08   5.98   6.09   6.43   5.86   6.63  \n",
              "5 1487_at   6.45   6.13   6.64   6.54   5.93   6.51   6.09   6.36   6.47  \n",
              "6 1729_at   6.10   6.13   6.52   6.83   6.16   6.12   6.08   6.42   5.85  "
            ]
          },
          "metadata": {}
        }
      ]
    },
    {
      "cell_type": "code",
      "source": [
        "colnames(df)"
      ],
      "metadata": {
        "colab": {
          "base_uri": "https://localhost:8080/",
          "height": 52
        },
        "id": "PZbHP5ENcIi8",
        "outputId": "af2d5ec7-a9a0-401c-ca91-4e9057d34898"
      },
      "execution_count": null,
      "outputs": [
        {
          "output_type": "display_data",
          "data": {
            "text/html": [
              "<style>\n",
              ".list-inline {list-style: none; margin:0; padding: 0}\n",
              ".list-inline>li {display: inline-block}\n",
              ".list-inline>li:not(:last-child)::after {content: \"\\00b7\"; padding: 0 .5ex}\n",
              "</style>\n",
              "<ol class=list-inline><li>'probe'</li><li>'Adeno1'</li><li>'Adeno2'</li><li>'Adeno3'</li><li>'Adeno4'</li><li>'Adeno5'</li><li>'Adeno6'</li><li>'Adeno7'</li><li>'Adeno8'</li><li>'Adeno9'</li><li>'Adeno10'</li><li>'SCLC1'</li><li>'SCLC2'</li><li>'SCLC3'</li><li>'SCLC4'</li><li>'SCLC5'</li><li>'SCLC6'</li><li>'SCLC7'</li><li>'SCLC8'</li><li>'SCLC9'</li><li>'Normal1'</li><li>'Normal2'</li><li>'Normal3'</li><li>'Normal4'</li><li>'Normal5'</li></ol>\n"
            ],
            "text/markdown": "1. 'probe'\n2. 'Adeno1'\n3. 'Adeno2'\n4. 'Adeno3'\n5. 'Adeno4'\n6. 'Adeno5'\n7. 'Adeno6'\n8. 'Adeno7'\n9. 'Adeno8'\n10. 'Adeno9'\n11. 'Adeno10'\n12. 'SCLC1'\n13. 'SCLC2'\n14. 'SCLC3'\n15. 'SCLC4'\n16. 'SCLC5'\n17. 'SCLC6'\n18. 'SCLC7'\n19. 'SCLC8'\n20. 'SCLC9'\n21. 'Normal1'\n22. 'Normal2'\n23. 'Normal3'\n24. 'Normal4'\n25. 'Normal5'\n\n\n",
            "text/latex": "\\begin{enumerate*}\n\\item 'probe'\n\\item 'Adeno1'\n\\item 'Adeno2'\n\\item 'Adeno3'\n\\item 'Adeno4'\n\\item 'Adeno5'\n\\item 'Adeno6'\n\\item 'Adeno7'\n\\item 'Adeno8'\n\\item 'Adeno9'\n\\item 'Adeno10'\n\\item 'SCLC1'\n\\item 'SCLC2'\n\\item 'SCLC3'\n\\item 'SCLC4'\n\\item 'SCLC5'\n\\item 'SCLC6'\n\\item 'SCLC7'\n\\item 'SCLC8'\n\\item 'SCLC9'\n\\item 'Normal1'\n\\item 'Normal2'\n\\item 'Normal3'\n\\item 'Normal4'\n\\item 'Normal5'\n\\end{enumerate*}\n",
            "text/plain": [
              " [1] \"probe\"   \"Adeno1\"  \"Adeno2\"  \"Adeno3\"  \"Adeno4\"  \"Adeno5\"  \"Adeno6\" \n",
              " [8] \"Adeno7\"  \"Adeno8\"  \"Adeno9\"  \"Adeno10\" \"SCLC1\"   \"SCLC2\"   \"SCLC3\"  \n",
              "[15] \"SCLC4\"   \"SCLC5\"   \"SCLC6\"   \"SCLC7\"   \"SCLC8\"   \"SCLC9\"   \"Normal1\"\n",
              "[22] \"Normal2\" \"Normal3\" \"Normal4\" \"Normal5\""
            ]
          },
          "metadata": {}
        }
      ]
    },
    {
      "cell_type": "code",
      "source": [
        "classes = as.factor(colnames(df)[2:length(colnames(df))])\n",
        "classes"
      ],
      "metadata": {
        "colab": {
          "base_uri": "https://localhost:8080/",
          "height": 69
        },
        "id": "1YABWS-YdAxe",
        "outputId": "95dfe0f9-a99f-4665-f99c-456cbf9068b8"
      },
      "execution_count": null,
      "outputs": [
        {
          "output_type": "display_data",
          "data": {
            "text/html": [
              "<style>\n",
              ".list-inline {list-style: none; margin:0; padding: 0}\n",
              ".list-inline>li {display: inline-block}\n",
              ".list-inline>li:not(:last-child)::after {content: \"\\00b7\"; padding: 0 .5ex}\n",
              "</style>\n",
              "<ol class=list-inline><li>Adeno1</li><li>Adeno2</li><li>Adeno3</li><li>Adeno4</li><li>Adeno5</li><li>Adeno6</li><li>Adeno7</li><li>Adeno8</li><li>Adeno9</li><li>Adeno10</li><li>SCLC1</li><li>SCLC2</li><li>SCLC3</li><li>SCLC4</li><li>SCLC5</li><li>SCLC6</li><li>SCLC7</li><li>SCLC8</li><li>SCLC9</li><li>Normal1</li><li>Normal2</li><li>Normal3</li><li>Normal4</li><li>Normal5</li></ol>\n",
              "\n",
              "<details>\n",
              "\t<summary style=display:list-item;cursor:pointer>\n",
              "\t\t<strong>Levels</strong>:\n",
              "\t</summary>\n",
              "\t<style>\n",
              "\t.list-inline {list-style: none; margin:0; padding: 0}\n",
              "\t.list-inline>li {display: inline-block}\n",
              "\t.list-inline>li:not(:last-child)::after {content: \"\\00b7\"; padding: 0 .5ex}\n",
              "\t</style>\n",
              "\t<ol class=list-inline><li>'Adeno1'</li><li>'Adeno10'</li><li>'Adeno2'</li><li>'Adeno3'</li><li>'Adeno4'</li><li>'Adeno5'</li><li>'Adeno6'</li><li>'Adeno7'</li><li>'Adeno8'</li><li>'Adeno9'</li><li>'Normal1'</li><li>'Normal2'</li><li>'Normal3'</li><li>'Normal4'</li><li>'Normal5'</li><li>'SCLC1'</li><li>'SCLC2'</li><li>'SCLC3'</li><li>'SCLC4'</li><li>'SCLC5'</li><li>'SCLC6'</li><li>'SCLC7'</li><li>'SCLC8'</li><li>'SCLC9'</li></ol>\n",
              "</details>"
            ],
            "text/markdown": "1. Adeno1\n2. Adeno2\n3. Adeno3\n4. Adeno4\n5. Adeno5\n6. Adeno6\n7. Adeno7\n8. Adeno8\n9. Adeno9\n10. Adeno10\n11. SCLC1\n12. SCLC2\n13. SCLC3\n14. SCLC4\n15. SCLC5\n16. SCLC6\n17. SCLC7\n18. SCLC8\n19. SCLC9\n20. Normal1\n21. Normal2\n22. Normal3\n23. Normal4\n24. Normal5\n\n\n\n**Levels**: 1. 'Adeno1'\n2. 'Adeno10'\n3. 'Adeno2'\n4. 'Adeno3'\n5. 'Adeno4'\n6. 'Adeno5'\n7. 'Adeno6'\n8. 'Adeno7'\n9. 'Adeno8'\n10. 'Adeno9'\n11. 'Normal1'\n12. 'Normal2'\n13. 'Normal3'\n14. 'Normal4'\n15. 'Normal5'\n16. 'SCLC1'\n17. 'SCLC2'\n18. 'SCLC3'\n19. 'SCLC4'\n20. 'SCLC5'\n21. 'SCLC6'\n22. 'SCLC7'\n23. 'SCLC8'\n24. 'SCLC9'\n\n\n",
            "text/latex": "\\begin{enumerate*}\n\\item Adeno1\n\\item Adeno2\n\\item Adeno3\n\\item Adeno4\n\\item Adeno5\n\\item Adeno6\n\\item Adeno7\n\\item Adeno8\n\\item Adeno9\n\\item Adeno10\n\\item SCLC1\n\\item SCLC2\n\\item SCLC3\n\\item SCLC4\n\\item SCLC5\n\\item SCLC6\n\\item SCLC7\n\\item SCLC8\n\\item SCLC9\n\\item Normal1\n\\item Normal2\n\\item Normal3\n\\item Normal4\n\\item Normal5\n\\end{enumerate*}\n\n\\emph{Levels}: \\begin{enumerate*}\n\\item 'Adeno1'\n\\item 'Adeno10'\n\\item 'Adeno2'\n\\item 'Adeno3'\n\\item 'Adeno4'\n\\item 'Adeno5'\n\\item 'Adeno6'\n\\item 'Adeno7'\n\\item 'Adeno8'\n\\item 'Adeno9'\n\\item 'Normal1'\n\\item 'Normal2'\n\\item 'Normal3'\n\\item 'Normal4'\n\\item 'Normal5'\n\\item 'SCLC1'\n\\item 'SCLC2'\n\\item 'SCLC3'\n\\item 'SCLC4'\n\\item 'SCLC5'\n\\item 'SCLC6'\n\\item 'SCLC7'\n\\item 'SCLC8'\n\\item 'SCLC9'\n\\end{enumerate*}\n",
            "text/plain": [
              " [1] Adeno1  Adeno2  Adeno3  Adeno4  Adeno5  Adeno6  Adeno7  Adeno8  Adeno9 \n",
              "[10] Adeno10 SCLC1   SCLC2   SCLC3   SCLC4   SCLC5   SCLC6   SCLC7   SCLC8  \n",
              "[19] SCLC9   Normal1 Normal2 Normal3 Normal4 Normal5\n",
              "24 Levels: Adeno1 Adeno10 Adeno2 Adeno3 Adeno4 Adeno5 Adeno6 Adeno7 ... SCLC9"
            ]
          },
          "metadata": {}
        }
      ]
    },
    {
      "cell_type": "code",
      "source": [
        "length(colnames(df)[2:length(colnames(df))])"
      ],
      "metadata": {
        "colab": {
          "base_uri": "https://localhost:8080/",
          "height": 34
        },
        "id": "vu330OWscmqV",
        "outputId": "5d12ae1e-e5c9-40b7-dd7f-e0c0350714a2"
      },
      "execution_count": null,
      "outputs": [
        {
          "output_type": "display_data",
          "data": {
            "text/html": [
              "24"
            ],
            "text/markdown": "24",
            "text/latex": "24",
            "text/plain": [
              "[1] 24"
            ]
          },
          "metadata": {}
        }
      ]
    },
    {
      "cell_type": "code",
      "source": [
        "dim(df)"
      ],
      "metadata": {
        "colab": {
          "base_uri": "https://localhost:8080/",
          "height": 34
        },
        "id": "4iHqxjaYdEz3",
        "outputId": "9f00f09d-7db3-4e2b-dea7-0b7b0514291c"
      },
      "execution_count": null,
      "outputs": [
        {
          "output_type": "display_data",
          "data": {
            "text/html": [
              "<style>\n",
              ".list-inline {list-style: none; margin:0; padding: 0}\n",
              ".list-inline>li {display: inline-block}\n",
              ".list-inline>li:not(:last-child)::after {content: \"\\00b7\"; padding: 0 .5ex}\n",
              "</style>\n",
              "<ol class=list-inline><li>3013</li><li>25</li></ol>\n"
            ],
            "text/markdown": "1. 3013\n2. 25\n\n\n",
            "text/latex": "\\begin{enumerate*}\n\\item 3013\n\\item 25\n\\end{enumerate*}\n",
            "text/plain": [
              "[1] 3013   25"
            ]
          },
          "metadata": {}
        }
      ]
    },
    {
      "cell_type": "code",
      "source": [
        "cn = colnames(df)[2:length(colnames(df))]\n",
        "cn"
      ],
      "metadata": {
        "colab": {
          "base_uri": "https://localhost:8080/",
          "height": 52
        },
        "id": "OQfiGCyefrPt",
        "outputId": "d74854ad-7da1-46ad-e6d2-0a6e3c2357b0"
      },
      "execution_count": null,
      "outputs": [
        {
          "output_type": "display_data",
          "data": {
            "text/html": [
              "<style>\n",
              ".list-inline {list-style: none; margin:0; padding: 0}\n",
              ".list-inline>li {display: inline-block}\n",
              ".list-inline>li:not(:last-child)::after {content: \"\\00b7\"; padding: 0 .5ex}\n",
              "</style>\n",
              "<ol class=list-inline><li>'Adeno1'</li><li>'Adeno2'</li><li>'Adeno3'</li><li>'Adeno4'</li><li>'Adeno5'</li><li>'Adeno6'</li><li>'Adeno7'</li><li>'Adeno8'</li><li>'Adeno9'</li><li>'Adeno10'</li><li>'SCLC1'</li><li>'SCLC2'</li><li>'SCLC3'</li><li>'SCLC4'</li><li>'SCLC5'</li><li>'SCLC6'</li><li>'SCLC7'</li><li>'SCLC8'</li><li>'SCLC9'</li><li>'Normal1'</li><li>'Normal2'</li><li>'Normal3'</li><li>'Normal4'</li><li>'Normal5'</li></ol>\n"
            ],
            "text/markdown": "1. 'Adeno1'\n2. 'Adeno2'\n3. 'Adeno3'\n4. 'Adeno4'\n5. 'Adeno5'\n6. 'Adeno6'\n7. 'Adeno7'\n8. 'Adeno8'\n9. 'Adeno9'\n10. 'Adeno10'\n11. 'SCLC1'\n12. 'SCLC2'\n13. 'SCLC3'\n14. 'SCLC4'\n15. 'SCLC5'\n16. 'SCLC6'\n17. 'SCLC7'\n18. 'SCLC8'\n19. 'SCLC9'\n20. 'Normal1'\n21. 'Normal2'\n22. 'Normal3'\n23. 'Normal4'\n24. 'Normal5'\n\n\n",
            "text/latex": "\\begin{enumerate*}\n\\item 'Adeno1'\n\\item 'Adeno2'\n\\item 'Adeno3'\n\\item 'Adeno4'\n\\item 'Adeno5'\n\\item 'Adeno6'\n\\item 'Adeno7'\n\\item 'Adeno8'\n\\item 'Adeno9'\n\\item 'Adeno10'\n\\item 'SCLC1'\n\\item 'SCLC2'\n\\item 'SCLC3'\n\\item 'SCLC4'\n\\item 'SCLC5'\n\\item 'SCLC6'\n\\item 'SCLC7'\n\\item 'SCLC8'\n\\item 'SCLC9'\n\\item 'Normal1'\n\\item 'Normal2'\n\\item 'Normal3'\n\\item 'Normal4'\n\\item 'Normal5'\n\\end{enumerate*}\n",
            "text/plain": [
              " [1] \"Adeno1\"  \"Adeno2\"  \"Adeno3\"  \"Adeno4\"  \"Adeno5\"  \"Adeno6\"  \"Adeno7\" \n",
              " [8] \"Adeno8\"  \"Adeno9\"  \"Adeno10\" \"SCLC1\"   \"SCLC2\"   \"SCLC3\"   \"SCLC4\"  \n",
              "[15] \"SCLC5\"   \"SCLC6\"   \"SCLC7\"   \"SCLC8\"   \"SCLC9\"   \"Normal1\" \"Normal2\"\n",
              "[22] \"Normal3\" \"Normal4\" \"Normal5\""
            ]
          },
          "metadata": {}
        }
      ]
    },
    {
      "cell_type": "code",
      "source": [
        "cn <- gsub(\"\\\\d+\", \"\", cn)\n",
        "cn"
      ],
      "metadata": {
        "colab": {
          "base_uri": "https://localhost:8080/",
          "height": 52
        },
        "id": "oUeSdVDWi06V",
        "outputId": "9e04eb36-3310-4157-b402-0cbf7ddac354"
      },
      "execution_count": null,
      "outputs": [
        {
          "output_type": "display_data",
          "data": {
            "text/html": [
              "<style>\n",
              ".list-inline {list-style: none; margin:0; padding: 0}\n",
              ".list-inline>li {display: inline-block}\n",
              ".list-inline>li:not(:last-child)::after {content: \"\\00b7\"; padding: 0 .5ex}\n",
              "</style>\n",
              "<ol class=list-inline><li>'Adeno'</li><li>'Adeno'</li><li>'Adeno'</li><li>'Adeno'</li><li>'Adeno'</li><li>'Adeno'</li><li>'Adeno'</li><li>'Adeno'</li><li>'Adeno'</li><li>'Adeno'</li><li>'SCLC'</li><li>'SCLC'</li><li>'SCLC'</li><li>'SCLC'</li><li>'SCLC'</li><li>'SCLC'</li><li>'SCLC'</li><li>'SCLC'</li><li>'SCLC'</li><li>'Normal'</li><li>'Normal'</li><li>'Normal'</li><li>'Normal'</li><li>'Normal'</li></ol>\n"
            ],
            "text/markdown": "1. 'Adeno'\n2. 'Adeno'\n3. 'Adeno'\n4. 'Adeno'\n5. 'Adeno'\n6. 'Adeno'\n7. 'Adeno'\n8. 'Adeno'\n9. 'Adeno'\n10. 'Adeno'\n11. 'SCLC'\n12. 'SCLC'\n13. 'SCLC'\n14. 'SCLC'\n15. 'SCLC'\n16. 'SCLC'\n17. 'SCLC'\n18. 'SCLC'\n19. 'SCLC'\n20. 'Normal'\n21. 'Normal'\n22. 'Normal'\n23. 'Normal'\n24. 'Normal'\n\n\n",
            "text/latex": "\\begin{enumerate*}\n\\item 'Adeno'\n\\item 'Adeno'\n\\item 'Adeno'\n\\item 'Adeno'\n\\item 'Adeno'\n\\item 'Adeno'\n\\item 'Adeno'\n\\item 'Adeno'\n\\item 'Adeno'\n\\item 'Adeno'\n\\item 'SCLC'\n\\item 'SCLC'\n\\item 'SCLC'\n\\item 'SCLC'\n\\item 'SCLC'\n\\item 'SCLC'\n\\item 'SCLC'\n\\item 'SCLC'\n\\item 'SCLC'\n\\item 'Normal'\n\\item 'Normal'\n\\item 'Normal'\n\\item 'Normal'\n\\item 'Normal'\n\\end{enumerate*}\n",
            "text/plain": [
              " [1] \"Adeno\"  \"Adeno\"  \"Adeno\"  \"Adeno\"  \"Adeno\"  \"Adeno\"  \"Adeno\"  \"Adeno\" \n",
              " [9] \"Adeno\"  \"Adeno\"  \"SCLC\"   \"SCLC\"   \"SCLC\"   \"SCLC\"   \"SCLC\"   \"SCLC\"  \n",
              "[17] \"SCLC\"   \"SCLC\"   \"SCLC\"   \"Normal\" \"Normal\" \"Normal\" \"Normal\" \"Normal\""
            ]
          },
          "metadata": {}
        }
      ]
    },
    {
      "cell_type": "code",
      "source": [
        "length(row.names(df))"
      ],
      "metadata": {
        "colab": {
          "base_uri": "https://localhost:8080/",
          "height": 34
        },
        "id": "DL_ggVePlSaq",
        "outputId": "208d421b-4420-4f98-d15b-5bf271e68a1f"
      },
      "execution_count": null,
      "outputs": [
        {
          "output_type": "display_data",
          "data": {
            "text/html": [
              "3013"
            ],
            "text/markdown": "3013",
            "text/latex": "3013",
            "text/plain": [
              "[1] 3013"
            ]
          },
          "metadata": {}
        }
      ]
    },
    {
      "cell_type": "code",
      "source": [
        "names(df)"
      ],
      "metadata": {
        "colab": {
          "base_uri": "https://localhost:8080/",
          "height": 52
        },
        "id": "srWM3n8XnDWL",
        "outputId": "0c138029-34a7-488c-d37e-97e13c3df8ca"
      },
      "execution_count": null,
      "outputs": [
        {
          "output_type": "display_data",
          "data": {
            "text/html": [
              "<style>\n",
              ".list-inline {list-style: none; margin:0; padding: 0}\n",
              ".list-inline>li {display: inline-block}\n",
              ".list-inline>li:not(:last-child)::after {content: \"\\00b7\"; padding: 0 .5ex}\n",
              "</style>\n",
              "<ol class=list-inline><li>'probe'</li><li>'Adeno1'</li><li>'Adeno2'</li><li>'Adeno3'</li><li>'Adeno4'</li><li>'Adeno5'</li><li>'Adeno6'</li><li>'Adeno7'</li><li>'Adeno8'</li><li>'Adeno9'</li><li>'Adeno10'</li><li>'SCLC1'</li><li>'SCLC2'</li><li>'SCLC3'</li><li>'SCLC4'</li><li>'SCLC5'</li><li>'SCLC6'</li><li>'SCLC7'</li><li>'SCLC8'</li><li>'SCLC9'</li><li>'Normal1'</li><li>'Normal2'</li><li>'Normal3'</li><li>'Normal4'</li><li>'Normal5'</li></ol>\n"
            ],
            "text/markdown": "1. 'probe'\n2. 'Adeno1'\n3. 'Adeno2'\n4. 'Adeno3'\n5. 'Adeno4'\n6. 'Adeno5'\n7. 'Adeno6'\n8. 'Adeno7'\n9. 'Adeno8'\n10. 'Adeno9'\n11. 'Adeno10'\n12. 'SCLC1'\n13. 'SCLC2'\n14. 'SCLC3'\n15. 'SCLC4'\n16. 'SCLC5'\n17. 'SCLC6'\n18. 'SCLC7'\n19. 'SCLC8'\n20. 'SCLC9'\n21. 'Normal1'\n22. 'Normal2'\n23. 'Normal3'\n24. 'Normal4'\n25. 'Normal5'\n\n\n",
            "text/latex": "\\begin{enumerate*}\n\\item 'probe'\n\\item 'Adeno1'\n\\item 'Adeno2'\n\\item 'Adeno3'\n\\item 'Adeno4'\n\\item 'Adeno5'\n\\item 'Adeno6'\n\\item 'Adeno7'\n\\item 'Adeno8'\n\\item 'Adeno9'\n\\item 'Adeno10'\n\\item 'SCLC1'\n\\item 'SCLC2'\n\\item 'SCLC3'\n\\item 'SCLC4'\n\\item 'SCLC5'\n\\item 'SCLC6'\n\\item 'SCLC7'\n\\item 'SCLC8'\n\\item 'SCLC9'\n\\item 'Normal1'\n\\item 'Normal2'\n\\item 'Normal3'\n\\item 'Normal4'\n\\item 'Normal5'\n\\end{enumerate*}\n",
            "text/plain": [
              " [1] \"probe\"   \"Adeno1\"  \"Adeno2\"  \"Adeno3\"  \"Adeno4\"  \"Adeno5\"  \"Adeno6\" \n",
              " [8] \"Adeno7\"  \"Adeno8\"  \"Adeno9\"  \"Adeno10\" \"SCLC1\"   \"SCLC2\"   \"SCLC3\"  \n",
              "[15] \"SCLC4\"   \"SCLC5\"   \"SCLC6\"   \"SCLC7\"   \"SCLC8\"   \"SCLC9\"   \"Normal1\"\n",
              "[22] \"Normal2\" \"Normal3\" \"Normal4\" \"Normal5\""
            ]
          },
          "metadata": {}
        }
      ]
    },
    {
      "cell_type": "code",
      "source": [
        "length(df$probe)"
      ],
      "metadata": {
        "colab": {
          "base_uri": "https://localhost:8080/",
          "height": 34
        },
        "id": "UqUkGb1dlVRw",
        "outputId": "464a7be4-d8ed-42c7-e13a-f8d9128aa14f"
      },
      "execution_count": null,
      "outputs": [
        {
          "output_type": "display_data",
          "data": {
            "text/html": [
              "3013"
            ],
            "text/markdown": "3013",
            "text/latex": "3013",
            "text/plain": [
              "[1] 3013"
            ]
          },
          "metadata": {}
        }
      ]
    },
    {
      "cell_type": "code",
      "source": [
        "row.names(df) = df$probe\n",
        "original_cn = colnames(df)\n",
        "head(df[, 2:length(colnames(df))])"
      ],
      "metadata": {
        "colab": {
          "base_uri": "https://localhost:8080/",
          "height": 306
        },
        "id": "cwToDLGdkPYQ",
        "outputId": "caaa66b4-4c3b-4fe5-9919-4d137cd8c1bf"
      },
      "execution_count": null,
      "outputs": [
        {
          "output_type": "display_data",
          "data": {
            "text/html": [
              "<table class=\"dataframe\">\n",
              "<caption>A data.frame: 6 × 24</caption>\n",
              "<thead>\n",
              "\t<tr><th></th><th scope=col>Adeno1</th><th scope=col>Adeno2</th><th scope=col>Adeno3</th><th scope=col>Adeno4</th><th scope=col>Adeno5</th><th scope=col>Adeno6</th><th scope=col>Adeno7</th><th scope=col>Adeno8</th><th scope=col>Adeno9</th><th scope=col>Adeno10</th><th scope=col>⋯</th><th scope=col>SCLC5</th><th scope=col>SCLC6</th><th scope=col>SCLC7</th><th scope=col>SCLC8</th><th scope=col>SCLC9</th><th scope=col>Normal1</th><th scope=col>Normal2</th><th scope=col>Normal3</th><th scope=col>Normal4</th><th scope=col>Normal5</th></tr>\n",
              "\t<tr><th></th><th scope=col>&lt;dbl&gt;</th><th scope=col>&lt;dbl&gt;</th><th scope=col>&lt;dbl&gt;</th><th scope=col>&lt;dbl&gt;</th><th scope=col>&lt;dbl&gt;</th><th scope=col>&lt;dbl&gt;</th><th scope=col>&lt;dbl&gt;</th><th scope=col>&lt;dbl&gt;</th><th scope=col>&lt;dbl&gt;</th><th scope=col>&lt;dbl&gt;</th><th scope=col>⋯</th><th scope=col>&lt;dbl&gt;</th><th scope=col>&lt;dbl&gt;</th><th scope=col>&lt;dbl&gt;</th><th scope=col>&lt;dbl&gt;</th><th scope=col>&lt;dbl&gt;</th><th scope=col>&lt;dbl&gt;</th><th scope=col>&lt;dbl&gt;</th><th scope=col>&lt;dbl&gt;</th><th scope=col>&lt;dbl&gt;</th><th scope=col>&lt;dbl&gt;</th></tr>\n",
              "</thead>\n",
              "<tbody>\n",
              "\t<tr><th scope=row>1007_s_at</th><td>9.26</td><td>8.69</td><td>8.51</td><td>8.38</td><td>7.70</td><td>8.16</td><td>7.73</td><td>8.33</td><td>7.47</td><td>8.39</td><td>⋯</td><td>8.37</td><td>8.24</td><td>8.16</td><td>8.19</td><td>8.23</td><td>8.96</td><td>8.15</td><td>9.40</td><td>8.96</td><td>9.32</td></tr>\n",
              "\t<tr><th scope=row>1053_at</th><td>5.15</td><td>4.57</td><td>5.20</td><td>4.92</td><td>4.60</td><td>5.24</td><td>4.64</td><td>5.64</td><td>5.64</td><td>5.42</td><td>⋯</td><td>5.90</td><td>5.65</td><td>5.84</td><td>5.69</td><td>5.10</td><td>4.57</td><td>4.82</td><td>5.31</td><td>4.93</td><td>4.79</td></tr>\n",
              "\t<tr><th scope=row>121_at</th><td>7.35</td><td>7.32</td><td>7.13</td><td>7.50</td><td>7.40</td><td>7.35</td><td>7.32</td><td>7.32</td><td>7.09</td><td>7.08</td><td>⋯</td><td>7.08</td><td>7.05</td><td>7.03</td><td>7.03</td><td>7.07</td><td>7.34</td><td>6.89</td><td>7.23</td><td>7.14</td><td>7.29</td></tr>\n",
              "\t<tr><th scope=row>1294_at</th><td>6.14</td><td>6.32</td><td>6.09</td><td>6.08</td><td>5.98</td><td>6.09</td><td>6.43</td><td>5.86</td><td>6.63</td><td>6.11</td><td>⋯</td><td>5.44</td><td>5.61</td><td>6.02</td><td>5.79</td><td>5.66</td><td>6.02</td><td>6.08</td><td>6.33</td><td>6.22</td><td>6.43</td></tr>\n",
              "\t<tr><th scope=row>1487_at</th><td>6.45</td><td>6.13</td><td>6.64</td><td>6.54</td><td>5.93</td><td>6.51</td><td>6.09</td><td>6.36</td><td>6.47</td><td>6.22</td><td>⋯</td><td>5.83</td><td>5.69</td><td>6.13</td><td>5.91</td><td>6.28</td><td>6.43</td><td>6.36</td><td>6.12</td><td>6.23</td><td>6.27</td></tr>\n",
              "\t<tr><th scope=row>1729_at</th><td>6.10</td><td>6.13</td><td>6.52</td><td>6.83</td><td>6.16</td><td>6.12</td><td>6.08</td><td>6.42</td><td>5.85</td><td>6.54</td><td>⋯</td><td>5.71</td><td>5.68</td><td>6.07</td><td>5.71</td><td>5.83</td><td>6.56</td><td>5.80</td><td>6.68</td><td>7.05</td><td>7.25</td></tr>\n",
              "</tbody>\n",
              "</table>\n"
            ],
            "text/markdown": "\nA data.frame: 6 × 24\n\n| <!--/--> | Adeno1 &lt;dbl&gt; | Adeno2 &lt;dbl&gt; | Adeno3 &lt;dbl&gt; | Adeno4 &lt;dbl&gt; | Adeno5 &lt;dbl&gt; | Adeno6 &lt;dbl&gt; | Adeno7 &lt;dbl&gt; | Adeno8 &lt;dbl&gt; | Adeno9 &lt;dbl&gt; | Adeno10 &lt;dbl&gt; | ⋯ ⋯ | SCLC5 &lt;dbl&gt; | SCLC6 &lt;dbl&gt; | SCLC7 &lt;dbl&gt; | SCLC8 &lt;dbl&gt; | SCLC9 &lt;dbl&gt; | Normal1 &lt;dbl&gt; | Normal2 &lt;dbl&gt; | Normal3 &lt;dbl&gt; | Normal4 &lt;dbl&gt; | Normal5 &lt;dbl&gt; |\n|---|---|---|---|---|---|---|---|---|---|---|---|---|---|---|---|---|---|---|---|---|---|\n| 1007_s_at | 9.26 | 8.69 | 8.51 | 8.38 | 7.70 | 8.16 | 7.73 | 8.33 | 7.47 | 8.39 | ⋯ | 8.37 | 8.24 | 8.16 | 8.19 | 8.23 | 8.96 | 8.15 | 9.40 | 8.96 | 9.32 |\n| 1053_at | 5.15 | 4.57 | 5.20 | 4.92 | 4.60 | 5.24 | 4.64 | 5.64 | 5.64 | 5.42 | ⋯ | 5.90 | 5.65 | 5.84 | 5.69 | 5.10 | 4.57 | 4.82 | 5.31 | 4.93 | 4.79 |\n| 121_at | 7.35 | 7.32 | 7.13 | 7.50 | 7.40 | 7.35 | 7.32 | 7.32 | 7.09 | 7.08 | ⋯ | 7.08 | 7.05 | 7.03 | 7.03 | 7.07 | 7.34 | 6.89 | 7.23 | 7.14 | 7.29 |\n| 1294_at | 6.14 | 6.32 | 6.09 | 6.08 | 5.98 | 6.09 | 6.43 | 5.86 | 6.63 | 6.11 | ⋯ | 5.44 | 5.61 | 6.02 | 5.79 | 5.66 | 6.02 | 6.08 | 6.33 | 6.22 | 6.43 |\n| 1487_at | 6.45 | 6.13 | 6.64 | 6.54 | 5.93 | 6.51 | 6.09 | 6.36 | 6.47 | 6.22 | ⋯ | 5.83 | 5.69 | 6.13 | 5.91 | 6.28 | 6.43 | 6.36 | 6.12 | 6.23 | 6.27 |\n| 1729_at | 6.10 | 6.13 | 6.52 | 6.83 | 6.16 | 6.12 | 6.08 | 6.42 | 5.85 | 6.54 | ⋯ | 5.71 | 5.68 | 6.07 | 5.71 | 5.83 | 6.56 | 5.80 | 6.68 | 7.05 | 7.25 |\n\n",
            "text/latex": "A data.frame: 6 × 24\n\\begin{tabular}{r|lllllllllllllllllllll}\n  & Adeno1 & Adeno2 & Adeno3 & Adeno4 & Adeno5 & Adeno6 & Adeno7 & Adeno8 & Adeno9 & Adeno10 & ⋯ & SCLC5 & SCLC6 & SCLC7 & SCLC8 & SCLC9 & Normal1 & Normal2 & Normal3 & Normal4 & Normal5\\\\\n  & <dbl> & <dbl> & <dbl> & <dbl> & <dbl> & <dbl> & <dbl> & <dbl> & <dbl> & <dbl> & ⋯ & <dbl> & <dbl> & <dbl> & <dbl> & <dbl> & <dbl> & <dbl> & <dbl> & <dbl> & <dbl>\\\\\n\\hline\n\t1007\\_s\\_at & 9.26 & 8.69 & 8.51 & 8.38 & 7.70 & 8.16 & 7.73 & 8.33 & 7.47 & 8.39 & ⋯ & 8.37 & 8.24 & 8.16 & 8.19 & 8.23 & 8.96 & 8.15 & 9.40 & 8.96 & 9.32\\\\\n\t1053\\_at & 5.15 & 4.57 & 5.20 & 4.92 & 4.60 & 5.24 & 4.64 & 5.64 & 5.64 & 5.42 & ⋯ & 5.90 & 5.65 & 5.84 & 5.69 & 5.10 & 4.57 & 4.82 & 5.31 & 4.93 & 4.79\\\\\n\t121\\_at & 7.35 & 7.32 & 7.13 & 7.50 & 7.40 & 7.35 & 7.32 & 7.32 & 7.09 & 7.08 & ⋯ & 7.08 & 7.05 & 7.03 & 7.03 & 7.07 & 7.34 & 6.89 & 7.23 & 7.14 & 7.29\\\\\n\t1294\\_at & 6.14 & 6.32 & 6.09 & 6.08 & 5.98 & 6.09 & 6.43 & 5.86 & 6.63 & 6.11 & ⋯ & 5.44 & 5.61 & 6.02 & 5.79 & 5.66 & 6.02 & 6.08 & 6.33 & 6.22 & 6.43\\\\\n\t1487\\_at & 6.45 & 6.13 & 6.64 & 6.54 & 5.93 & 6.51 & 6.09 & 6.36 & 6.47 & 6.22 & ⋯ & 5.83 & 5.69 & 6.13 & 5.91 & 6.28 & 6.43 & 6.36 & 6.12 & 6.23 & 6.27\\\\\n\t1729\\_at & 6.10 & 6.13 & 6.52 & 6.83 & 6.16 & 6.12 & 6.08 & 6.42 & 5.85 & 6.54 & ⋯ & 5.71 & 5.68 & 6.07 & 5.71 & 5.83 & 6.56 & 5.80 & 6.68 & 7.05 & 7.25\\\\\n\\end{tabular}\n",
            "text/plain": [
              "          Adeno1 Adeno2 Adeno3 Adeno4 Adeno5 Adeno6 Adeno7 Adeno8 Adeno9\n",
              "1007_s_at 9.26   8.69   8.51   8.38   7.70   8.16   7.73   8.33   7.47  \n",
              "1053_at   5.15   4.57   5.20   4.92   4.60   5.24   4.64   5.64   5.64  \n",
              "121_at    7.35   7.32   7.13   7.50   7.40   7.35   7.32   7.32   7.09  \n",
              "1294_at   6.14   6.32   6.09   6.08   5.98   6.09   6.43   5.86   6.63  \n",
              "1487_at   6.45   6.13   6.64   6.54   5.93   6.51   6.09   6.36   6.47  \n",
              "1729_at   6.10   6.13   6.52   6.83   6.16   6.12   6.08   6.42   5.85  \n",
              "          Adeno10 ⋯ SCLC5 SCLC6 SCLC7 SCLC8 SCLC9 Normal1 Normal2 Normal3\n",
              "1007_s_at 8.39    ⋯ 8.37  8.24  8.16  8.19  8.23  8.96    8.15    9.40   \n",
              "1053_at   5.42    ⋯ 5.90  5.65  5.84  5.69  5.10  4.57    4.82    5.31   \n",
              "121_at    7.08    ⋯ 7.08  7.05  7.03  7.03  7.07  7.34    6.89    7.23   \n",
              "1294_at   6.11    ⋯ 5.44  5.61  6.02  5.79  5.66  6.02    6.08    6.33   \n",
              "1487_at   6.22    ⋯ 5.83  5.69  6.13  5.91  6.28  6.43    6.36    6.12   \n",
              "1729_at   6.54    ⋯ 5.71  5.68  6.07  5.71  5.83  6.56    5.80    6.68   \n",
              "          Normal4 Normal5\n",
              "1007_s_at 8.96    9.32   \n",
              "1053_at   4.93    4.79   \n",
              "121_at    7.14    7.29   \n",
              "1294_at   6.22    6.43   \n",
              "1487_at   6.23    6.27   \n",
              "1729_at   7.05    7.25   "
            ]
          },
          "metadata": {}
        }
      ]
    },
    {
      "cell_type": "code",
      "source": [
        "original_cn[2:length(original_cn)]"
      ],
      "metadata": {
        "colab": {
          "base_uri": "https://localhost:8080/",
          "height": 52
        },
        "id": "0kI-4PXznp21",
        "outputId": "83f1dc7b-420a-4873-c9c0-89cadbcf7ba6"
      },
      "execution_count": null,
      "outputs": [
        {
          "output_type": "display_data",
          "data": {
            "text/html": [
              "<style>\n",
              ".list-inline {list-style: none; margin:0; padding: 0}\n",
              ".list-inline>li {display: inline-block}\n",
              ".list-inline>li:not(:last-child)::after {content: \"\\00b7\"; padding: 0 .5ex}\n",
              "</style>\n",
              "<ol class=list-inline><li>'Adeno1'</li><li>'Adeno2'</li><li>'Adeno3'</li><li>'Adeno4'</li><li>'Adeno5'</li><li>'Adeno6'</li><li>'Adeno7'</li><li>'Adeno8'</li><li>'Adeno9'</li><li>'Adeno10'</li><li>'SCLC1'</li><li>'SCLC2'</li><li>'SCLC3'</li><li>'SCLC4'</li><li>'SCLC5'</li><li>'SCLC6'</li><li>'SCLC7'</li><li>'SCLC8'</li><li>'SCLC9'</li><li>'Normal1'</li><li>'Normal2'</li><li>'Normal3'</li><li>'Normal4'</li><li>'Normal5'</li></ol>\n"
            ],
            "text/markdown": "1. 'Adeno1'\n2. 'Adeno2'\n3. 'Adeno3'\n4. 'Adeno4'\n5. 'Adeno5'\n6. 'Adeno6'\n7. 'Adeno7'\n8. 'Adeno8'\n9. 'Adeno9'\n10. 'Adeno10'\n11. 'SCLC1'\n12. 'SCLC2'\n13. 'SCLC3'\n14. 'SCLC4'\n15. 'SCLC5'\n16. 'SCLC6'\n17. 'SCLC7'\n18. 'SCLC8'\n19. 'SCLC9'\n20. 'Normal1'\n21. 'Normal2'\n22. 'Normal3'\n23. 'Normal4'\n24. 'Normal5'\n\n\n",
            "text/latex": "\\begin{enumerate*}\n\\item 'Adeno1'\n\\item 'Adeno2'\n\\item 'Adeno3'\n\\item 'Adeno4'\n\\item 'Adeno5'\n\\item 'Adeno6'\n\\item 'Adeno7'\n\\item 'Adeno8'\n\\item 'Adeno9'\n\\item 'Adeno10'\n\\item 'SCLC1'\n\\item 'SCLC2'\n\\item 'SCLC3'\n\\item 'SCLC4'\n\\item 'SCLC5'\n\\item 'SCLC6'\n\\item 'SCLC7'\n\\item 'SCLC8'\n\\item 'SCLC9'\n\\item 'Normal1'\n\\item 'Normal2'\n\\item 'Normal3'\n\\item 'Normal4'\n\\item 'Normal5'\n\\end{enumerate*}\n",
            "text/plain": [
              " [1] \"Adeno1\"  \"Adeno2\"  \"Adeno3\"  \"Adeno4\"  \"Adeno5\"  \"Adeno6\"  \"Adeno7\" \n",
              " [8] \"Adeno8\"  \"Adeno9\"  \"Adeno10\" \"SCLC1\"   \"SCLC2\"   \"SCLC3\"   \"SCLC4\"  \n",
              "[15] \"SCLC5\"   \"SCLC6\"   \"SCLC7\"   \"SCLC8\"   \"SCLC9\"   \"Normal1\" \"Normal2\"\n",
              "[22] \"Normal3\" \"Normal4\" \"Normal5\""
            ]
          },
          "metadata": {}
        }
      ]
    },
    {
      "cell_type": "code",
      "source": [
        "length(row.names(df))"
      ],
      "metadata": {
        "colab": {
          "base_uri": "https://localhost:8080/",
          "height": 34
        },
        "id": "oJilYL5gpyAX",
        "outputId": "8bdbe200-cc20-452c-a2a0-0bd0dd8c9421"
      },
      "execution_count": null,
      "outputs": [
        {
          "output_type": "display_data",
          "data": {
            "text/html": [
              "3013"
            ],
            "text/markdown": "3013",
            "text/latex": "3013",
            "text/plain": [
              "[1] 3013"
            ]
          },
          "metadata": {}
        }
      ]
    },
    {
      "cell_type": "markdown",
      "source": [
        "#2)\tLoad the MASS library and create a variable that has the class names for the 3 classes in the data.  This variable should be of length 24.  Next, bind the variable that you just created to a transposition of the data matrix using the data.frame() function.  Note: the dimensions of this final data matrix should be 24 x 3014."
      ],
      "metadata": {
        "id": "ofnV1bh3qsHq"
      }
    },
    {
      "cell_type": "code",
      "source": [
        "# names <- names(df)\n",
        "# dat  <- data.frame(names, t(df))\n",
        "# rbind(dat[1:6,] , dat[11:16,] , dat[20:22,])"
      ],
      "metadata": {
        "id": "G1CKK_wpnkQD"
      },
      "execution_count": null,
      "outputs": []
    },
    {
      "cell_type": "code",
      "source": [
        "t_df = as.data.frame(t(df[, 2:length(colnames(df))]))\n",
        "t_df$class = cn\n",
        "row.names(t_df) = 1:length(row.names(t_df))\n",
        "head(t_df[, 1:10])"
      ],
      "metadata": {
        "colab": {
          "base_uri": "https://localhost:8080/",
          "height": 286
        },
        "id": "IfpkQMsclqvw",
        "outputId": "974aa7bd-25b8-41f4-b47b-2c0b13491b42"
      },
      "execution_count": null,
      "outputs": [
        {
          "output_type": "display_data",
          "data": {
            "text/html": [
              "<table class=\"dataframe\">\n",
              "<caption>A data.frame: 6 × 10</caption>\n",
              "<thead>\n",
              "\t<tr><th></th><th scope=col>1007_s_at</th><th scope=col>1053_at</th><th scope=col>121_at</th><th scope=col>1294_at</th><th scope=col>1487_at</th><th scope=col>1729_at</th><th scope=col>177_at</th><th scope=col>200003_s_at</th><th scope=col>200005_at</th><th scope=col>200016_x_at</th></tr>\n",
              "\t<tr><th></th><th scope=col>&lt;dbl&gt;</th><th scope=col>&lt;dbl&gt;</th><th scope=col>&lt;dbl&gt;</th><th scope=col>&lt;dbl&gt;</th><th scope=col>&lt;dbl&gt;</th><th scope=col>&lt;dbl&gt;</th><th scope=col>&lt;dbl&gt;</th><th scope=col>&lt;dbl&gt;</th><th scope=col>&lt;dbl&gt;</th><th scope=col>&lt;dbl&gt;</th></tr>\n",
              "</thead>\n",
              "<tbody>\n",
              "\t<tr><th scope=row>1</th><td>9.26</td><td>5.15</td><td>7.35</td><td>6.14</td><td>6.45</td><td>6.10</td><td>4.63</td><td>11.71</td><td>8.16</td><td> 9.95</td></tr>\n",
              "\t<tr><th scope=row>2</th><td>8.69</td><td>4.57</td><td>7.32</td><td>6.32</td><td>6.13</td><td>6.13</td><td>4.72</td><td>10.72</td><td>7.26</td><td>10.24</td></tr>\n",
              "\t<tr><th scope=row>3</th><td>8.51</td><td>5.20</td><td>7.13</td><td>6.09</td><td>6.64</td><td>6.52</td><td>4.86</td><td>10.99</td><td>8.60</td><td> 9.71</td></tr>\n",
              "\t<tr><th scope=row>4</th><td>8.38</td><td>4.92</td><td>7.50</td><td>6.08</td><td>6.54</td><td>6.83</td><td>4.42</td><td>10.67</td><td>7.05</td><td> 9.58</td></tr>\n",
              "\t<tr><th scope=row>5</th><td>7.70</td><td>4.60</td><td>7.40</td><td>5.98</td><td>5.93</td><td>6.16</td><td>4.41</td><td>10.82</td><td>7.43</td><td> 9.35</td></tr>\n",
              "\t<tr><th scope=row>6</th><td>8.16</td><td>5.24</td><td>7.35</td><td>6.09</td><td>6.51</td><td>6.12</td><td>4.79</td><td>10.69</td><td>7.62</td><td> 9.52</td></tr>\n",
              "</tbody>\n",
              "</table>\n"
            ],
            "text/markdown": "\nA data.frame: 6 × 10\n\n| <!--/--> | 1007_s_at &lt;dbl&gt; | 1053_at &lt;dbl&gt; | 121_at &lt;dbl&gt; | 1294_at &lt;dbl&gt; | 1487_at &lt;dbl&gt; | 1729_at &lt;dbl&gt; | 177_at &lt;dbl&gt; | 200003_s_at &lt;dbl&gt; | 200005_at &lt;dbl&gt; | 200016_x_at &lt;dbl&gt; |\n|---|---|---|---|---|---|---|---|---|---|---|\n| 1 | 9.26 | 5.15 | 7.35 | 6.14 | 6.45 | 6.10 | 4.63 | 11.71 | 8.16 |  9.95 |\n| 2 | 8.69 | 4.57 | 7.32 | 6.32 | 6.13 | 6.13 | 4.72 | 10.72 | 7.26 | 10.24 |\n| 3 | 8.51 | 5.20 | 7.13 | 6.09 | 6.64 | 6.52 | 4.86 | 10.99 | 8.60 |  9.71 |\n| 4 | 8.38 | 4.92 | 7.50 | 6.08 | 6.54 | 6.83 | 4.42 | 10.67 | 7.05 |  9.58 |\n| 5 | 7.70 | 4.60 | 7.40 | 5.98 | 5.93 | 6.16 | 4.41 | 10.82 | 7.43 |  9.35 |\n| 6 | 8.16 | 5.24 | 7.35 | 6.09 | 6.51 | 6.12 | 4.79 | 10.69 | 7.62 |  9.52 |\n\n",
            "text/latex": "A data.frame: 6 × 10\n\\begin{tabular}{r|llllllllll}\n  & 1007\\_s\\_at & 1053\\_at & 121\\_at & 1294\\_at & 1487\\_at & 1729\\_at & 177\\_at & 200003\\_s\\_at & 200005\\_at & 200016\\_x\\_at\\\\\n  & <dbl> & <dbl> & <dbl> & <dbl> & <dbl> & <dbl> & <dbl> & <dbl> & <dbl> & <dbl>\\\\\n\\hline\n\t1 & 9.26 & 5.15 & 7.35 & 6.14 & 6.45 & 6.10 & 4.63 & 11.71 & 8.16 &  9.95\\\\\n\t2 & 8.69 & 4.57 & 7.32 & 6.32 & 6.13 & 6.13 & 4.72 & 10.72 & 7.26 & 10.24\\\\\n\t3 & 8.51 & 5.20 & 7.13 & 6.09 & 6.64 & 6.52 & 4.86 & 10.99 & 8.60 &  9.71\\\\\n\t4 & 8.38 & 4.92 & 7.50 & 6.08 & 6.54 & 6.83 & 4.42 & 10.67 & 7.05 &  9.58\\\\\n\t5 & 7.70 & 4.60 & 7.40 & 5.98 & 5.93 & 6.16 & 4.41 & 10.82 & 7.43 &  9.35\\\\\n\t6 & 8.16 & 5.24 & 7.35 & 6.09 & 6.51 & 6.12 & 4.79 & 10.69 & 7.62 &  9.52\\\\\n\\end{tabular}\n",
            "text/plain": [
              "  1007_s_at 1053_at 121_at 1294_at 1487_at 1729_at 177_at 200003_s_at 200005_at\n",
              "1 9.26      5.15    7.35   6.14    6.45    6.10    4.63   11.71       8.16     \n",
              "2 8.69      4.57    7.32   6.32    6.13    6.13    4.72   10.72       7.26     \n",
              "3 8.51      5.20    7.13   6.09    6.64    6.52    4.86   10.99       8.60     \n",
              "4 8.38      4.92    7.50   6.08    6.54    6.83    4.42   10.67       7.05     \n",
              "5 7.70      4.60    7.40   5.98    5.93    6.16    4.41   10.82       7.43     \n",
              "6 8.16      5.24    7.35   6.09    6.51    6.12    4.79   10.69       7.62     \n",
              "  200016_x_at\n",
              "1  9.95      \n",
              "2 10.24      \n",
              "3  9.71      \n",
              "4  9.58      \n",
              "5  9.35      \n",
              "6  9.52      "
            ]
          },
          "metadata": {}
        }
      ]
    },
    {
      "cell_type": "code",
      "source": [
        "dim(t_df)"
      ],
      "metadata": {
        "colab": {
          "base_uri": "https://localhost:8080/",
          "height": 34
        },
        "id": "6R8JGORGqAil",
        "outputId": "5ef1a90a-1da2-4aed-934e-3efd0abab988"
      },
      "execution_count": null,
      "outputs": [
        {
          "output_type": "display_data",
          "data": {
            "text/html": [
              "<style>\n",
              ".list-inline {list-style: none; margin:0; padding: 0}\n",
              ".list-inline>li {display: inline-block}\n",
              ".list-inline>li:not(:last-child)::after {content: \"\\00b7\"; padding: 0 .5ex}\n",
              "</style>\n",
              "<ol class=list-inline><li>24</li><li>3014</li></ol>\n"
            ],
            "text/markdown": "1. 24\n2. 3014\n\n\n",
            "text/latex": "\\begin{enumerate*}\n\\item 24\n\\item 3014\n\\end{enumerate*}\n",
            "text/plain": [
              "[1]   24 3014"
            ]
          },
          "metadata": {}
        }
      ]
    },
    {
      "cell_type": "code",
      "source": [
        "t_df"
      ],
      "metadata": {
        "colab": {
          "base_uri": "https://localhost:8080/",
          "height": 888
        },
        "id": "hFdCCA2Bs-yu",
        "outputId": "ed6f1a01-9661-41f4-ba07-7f26dc4faa4e"
      },
      "execution_count": null,
      "outputs": [
        {
          "output_type": "display_data",
          "data": {
            "text/html": [
              "<table class=\"dataframe\">\n",
              "<caption>A data.frame: 24 × 3014</caption>\n",
              "<thead>\n",
              "\t<tr><th></th><th scope=col>1007_s_at</th><th scope=col>1053_at</th><th scope=col>121_at</th><th scope=col>1294_at</th><th scope=col>1487_at</th><th scope=col>1729_at</th><th scope=col>177_at</th><th scope=col>200003_s_at</th><th scope=col>200005_at</th><th scope=col>200016_x_at</th><th scope=col>⋯</th><th scope=col>78047_s_at</th><th scope=col>823_at</th><th scope=col>90265_at</th><th scope=col>AFFX-HSAC07/X00351_3_at</th><th scope=col>AFFX-HSAC07/X00351_M_at</th><th scope=col>AFFX-HUMGAPDH/M33197_5_at</th><th scope=col>AFFX-M27830_3_at</th><th scope=col>AFFX-M27830_5_at</th><th scope=col>AFFX-M27830_M_at</th><th scope=col>class</th></tr>\n",
              "\t<tr><th></th><th scope=col>&lt;dbl&gt;</th><th scope=col>&lt;dbl&gt;</th><th scope=col>&lt;dbl&gt;</th><th scope=col>&lt;dbl&gt;</th><th scope=col>&lt;dbl&gt;</th><th scope=col>&lt;dbl&gt;</th><th scope=col>&lt;dbl&gt;</th><th scope=col>&lt;dbl&gt;</th><th scope=col>&lt;dbl&gt;</th><th scope=col>&lt;dbl&gt;</th><th scope=col>⋯</th><th scope=col>&lt;dbl&gt;</th><th scope=col>&lt;dbl&gt;</th><th scope=col>&lt;dbl&gt;</th><th scope=col>&lt;dbl&gt;</th><th scope=col>&lt;dbl&gt;</th><th scope=col>&lt;dbl&gt;</th><th scope=col>&lt;dbl&gt;</th><th scope=col>&lt;dbl&gt;</th><th scope=col>&lt;dbl&gt;</th><th scope=col>&lt;chr&gt;</th></tr>\n",
              "</thead>\n",
              "<tbody>\n",
              "\t<tr><th scope=row>1</th><td>9.26</td><td>5.15</td><td>7.35</td><td>6.14</td><td>6.45</td><td>6.10</td><td>4.63</td><td>11.71</td><td>8.16</td><td> 9.95</td><td>⋯</td><td>6.85</td><td>6.03</td><td>6.96</td><td>12.25</td><td>11.35</td><td>10.09</td><td>5.71</td><td> 8.45</td><td>8.16</td><td>Adeno </td></tr>\n",
              "\t<tr><th scope=row>2</th><td>8.69</td><td>4.57</td><td>7.32</td><td>6.32</td><td>6.13</td><td>6.13</td><td>4.72</td><td>10.72</td><td>7.26</td><td>10.24</td><td>⋯</td><td>7.21</td><td>5.67</td><td>7.36</td><td>11.71</td><td> 9.59</td><td> 7.75</td><td>5.64</td><td> 7.13</td><td>8.17</td><td>Adeno </td></tr>\n",
              "\t<tr><th scope=row>3</th><td>8.51</td><td>5.20</td><td>7.13</td><td>6.09</td><td>6.64</td><td>6.52</td><td>4.86</td><td>10.99</td><td>8.60</td><td> 9.71</td><td>⋯</td><td>6.78</td><td>5.22</td><td>7.26</td><td>11.65</td><td>10.86</td><td> 9.13</td><td>5.60</td><td> 6.92</td><td>7.86</td><td>Adeno </td></tr>\n",
              "\t<tr><th scope=row>4</th><td>8.38</td><td>4.92</td><td>7.50</td><td>6.08</td><td>6.54</td><td>6.83</td><td>4.42</td><td>10.67</td><td>7.05</td><td> 9.58</td><td>⋯</td><td>6.85</td><td>6.24</td><td>7.11</td><td>11.07</td><td>10.17</td><td>10.18</td><td>5.74</td><td> 7.50</td><td>7.91</td><td>Adeno </td></tr>\n",
              "\t<tr><th scope=row>5</th><td>7.70</td><td>4.60</td><td>7.40</td><td>5.98</td><td>5.93</td><td>6.16</td><td>4.41</td><td>10.82</td><td>7.43</td><td> 9.35</td><td>⋯</td><td>6.73</td><td>5.96</td><td>6.98</td><td>11.73</td><td> 9.83</td><td> 9.22</td><td>5.86</td><td> 7.67</td><td>7.68</td><td>Adeno </td></tr>\n",
              "\t<tr><th scope=row>6</th><td>8.16</td><td>5.24</td><td>7.35</td><td>6.09</td><td>6.51</td><td>6.12</td><td>4.79</td><td>10.69</td><td>7.62</td><td> 9.52</td><td>⋯</td><td>6.88</td><td>6.14</td><td>7.12</td><td>11.06</td><td> 9.85</td><td>10.30</td><td>5.67</td><td> 7.59</td><td>7.82</td><td>Adeno </td></tr>\n",
              "\t<tr><th scope=row>7</th><td>7.73</td><td>4.64</td><td>7.32</td><td>6.43</td><td>6.09</td><td>6.08</td><td>4.85</td><td>10.89</td><td>7.51</td><td> 9.74</td><td>⋯</td><td>6.77</td><td>5.81</td><td>7.07</td><td>11.58</td><td>10.53</td><td> 8.28</td><td>5.35</td><td> 7.80</td><td>8.26</td><td>Adeno </td></tr>\n",
              "\t<tr><th scope=row>8</th><td>8.33</td><td>5.64</td><td>7.32</td><td>5.86</td><td>6.36</td><td>6.42</td><td>4.76</td><td>11.13</td><td>8.52</td><td> 9.59</td><td>⋯</td><td>6.70</td><td>4.86</td><td>6.81</td><td>11.44</td><td>10.48</td><td> 9.81</td><td>5.56</td><td> 9.16</td><td>8.96</td><td>Adeno </td></tr>\n",
              "\t<tr><th scope=row>9</th><td>7.47</td><td>5.64</td><td>7.09</td><td>6.63</td><td>6.47</td><td>5.85</td><td>4.96</td><td>11.26</td><td>7.53</td><td> 9.96</td><td>⋯</td><td>6.63</td><td>5.01</td><td>7.27</td><td>11.26</td><td> 8.73</td><td> 8.22</td><td>5.62</td><td>10.17</td><td>9.50</td><td>Adeno </td></tr>\n",
              "\t<tr><th scope=row>10</th><td>8.39</td><td>5.42</td><td>7.08</td><td>6.11</td><td>6.22</td><td>6.54</td><td>4.57</td><td>11.10</td><td>7.92</td><td>10.10</td><td>⋯</td><td>6.68</td><td>6.27</td><td>7.38</td><td>11.03</td><td> 8.81</td><td> 7.82</td><td>5.41</td><td> 8.69</td><td>8.68</td><td>Adeno </td></tr>\n",
              "\t<tr><th scope=row>11</th><td>7.88</td><td>5.85</td><td>7.06</td><td>5.69</td><td>6.16</td><td>6.12</td><td>4.73</td><td>10.83</td><td>7.40</td><td>10.27</td><td>⋯</td><td>6.74</td><td>5.55</td><td>6.77</td><td>10.62</td><td> 9.63</td><td>11.02</td><td>5.66</td><td> 8.37</td><td>8.16</td><td>SCLC  </td></tr>\n",
              "\t<tr><th scope=row>12</th><td>8.43</td><td>5.31</td><td>7.12</td><td>5.97</td><td>6.24</td><td>6.39</td><td>4.84</td><td>11.06</td><td>7.76</td><td>10.46</td><td>⋯</td><td>6.47</td><td>5.67</td><td>6.73</td><td>10.98</td><td> 9.03</td><td>10.11</td><td>5.39</td><td> 7.61</td><td>7.80</td><td>SCLC  </td></tr>\n",
              "\t<tr><th scope=row>13</th><td>7.84</td><td>6.18</td><td>7.20</td><td>5.71</td><td>6.12</td><td>6.45</td><td>4.47</td><td>10.74</td><td>7.74</td><td> 9.88</td><td>⋯</td><td>6.74</td><td>5.64</td><td>6.88</td><td>10.52</td><td> 9.84</td><td>11.14</td><td>5.41</td><td> 8.47</td><td>8.39</td><td>SCLC  </td></tr>\n",
              "\t<tr><th scope=row>14</th><td>8.31</td><td>5.76</td><td>7.09</td><td>5.81</td><td>5.85</td><td>5.84</td><td>4.63</td><td>10.47</td><td>7.37</td><td>10.24</td><td>⋯</td><td>6.36</td><td>5.45</td><td>6.67</td><td>10.90</td><td>10.30</td><td>10.43</td><td>5.31</td><td> 8.31</td><td>8.48</td><td>SCLC  </td></tr>\n",
              "\t<tr><th scope=row>15</th><td>8.37</td><td>5.90</td><td>7.08</td><td>5.44</td><td>5.83</td><td>5.71</td><td>4.58</td><td>10.57</td><td>7.17</td><td>10.12</td><td>⋯</td><td>6.54</td><td>5.34</td><td>6.65</td><td>11.19</td><td>10.36</td><td> 9.88</td><td>5.27</td><td> 9.52</td><td>8.75</td><td>SCLC  </td></tr>\n",
              "\t<tr><th scope=row>16</th><td>8.24</td><td>5.65</td><td>7.05</td><td>5.61</td><td>5.69</td><td>5.68</td><td>4.43</td><td>10.43</td><td>7.51</td><td> 9.84</td><td>⋯</td><td>6.35</td><td>5.32</td><td>6.78</td><td>10.82</td><td>10.41</td><td>10.11</td><td>5.33</td><td> 7.21</td><td>7.76</td><td>SCLC  </td></tr>\n",
              "\t<tr><th scope=row>17</th><td>8.16</td><td>5.84</td><td>7.03</td><td>6.02</td><td>6.13</td><td>6.07</td><td>4.42</td><td>10.48</td><td>7.15</td><td>10.03</td><td>⋯</td><td>6.44</td><td>5.32</td><td>6.73</td><td>10.49</td><td>10.02</td><td>10.17</td><td>5.38</td><td> 8.47</td><td>8.57</td><td>SCLC  </td></tr>\n",
              "\t<tr><th scope=row>18</th><td>8.19</td><td>5.69</td><td>7.03</td><td>5.79</td><td>5.91</td><td>5.71</td><td>4.44</td><td>10.54</td><td>7.15</td><td>10.47</td><td>⋯</td><td>6.45</td><td>5.18</td><td>6.61</td><td>11.17</td><td>10.00</td><td>10.19</td><td>5.46</td><td> 7.94</td><td>7.88</td><td>SCLC  </td></tr>\n",
              "\t<tr><th scope=row>19</th><td>8.23</td><td>5.10</td><td>7.07</td><td>5.66</td><td>6.28</td><td>5.83</td><td>4.33</td><td>10.48</td><td>7.11</td><td>10.46</td><td>⋯</td><td>6.45</td><td>5.51</td><td>6.79</td><td>10.97</td><td> 9.36</td><td> 9.27</td><td>5.44</td><td> 8.38</td><td>8.79</td><td>SCLC  </td></tr>\n",
              "\t<tr><th scope=row>20</th><td>8.96</td><td>4.57</td><td>7.34</td><td>6.02</td><td>6.43</td><td>6.56</td><td>4.77</td><td>10.77</td><td>8.13</td><td> 9.98</td><td>⋯</td><td>6.86</td><td>6.52</td><td>7.01</td><td>10.75</td><td> 9.71</td><td> 8.99</td><td>5.54</td><td> 7.16</td><td>7.42</td><td>Normal</td></tr>\n",
              "\t<tr><th scope=row>21</th><td>8.15</td><td>4.82</td><td>6.89</td><td>6.08</td><td>6.36</td><td>5.80</td><td>4.44</td><td>10.59</td><td>7.76</td><td> 9.62</td><td>⋯</td><td>6.30</td><td>6.71</td><td>6.29</td><td>10.30</td><td> 8.21</td><td> 7.70</td><td>5.33</td><td> 6.47</td><td>7.02</td><td>Normal</td></tr>\n",
              "\t<tr><th scope=row>22</th><td>9.40</td><td>5.31</td><td>7.23</td><td>6.33</td><td>6.12</td><td>6.68</td><td>5.27</td><td>10.95</td><td>8.22</td><td> 9.59</td><td>⋯</td><td>6.63</td><td>6.02</td><td>6.92</td><td>10.77</td><td> 8.69</td><td>10.44</td><td>5.34</td><td> 8.02</td><td>8.21</td><td>Normal</td></tr>\n",
              "\t<tr><th scope=row>23</th><td>8.96</td><td>4.93</td><td>7.14</td><td>6.22</td><td>6.23</td><td>7.05</td><td>4.81</td><td>11.05</td><td>7.77</td><td> 9.71</td><td>⋯</td><td>6.98</td><td>6.07</td><td>6.95</td><td>10.79</td><td> 8.70</td><td> 9.78</td><td>5.51</td><td> 7.04</td><td>7.70</td><td>Normal</td></tr>\n",
              "\t<tr><th scope=row>24</th><td>9.32</td><td>4.79</td><td>7.29</td><td>6.43</td><td>6.27</td><td>7.25</td><td>4.90</td><td>11.45</td><td>7.86</td><td> 9.96</td><td>⋯</td><td>6.93</td><td>6.89</td><td>6.95</td><td>10.48</td><td> 8.72</td><td> 9.45</td><td>5.49</td><td> 6.89</td><td>7.71</td><td>Normal</td></tr>\n",
              "</tbody>\n",
              "</table>\n"
            ],
            "text/markdown": "\nA data.frame: 24 × 3014\n\n| <!--/--> | 1007_s_at &lt;dbl&gt; | 1053_at &lt;dbl&gt; | 121_at &lt;dbl&gt; | 1294_at &lt;dbl&gt; | 1487_at &lt;dbl&gt; | 1729_at &lt;dbl&gt; | 177_at &lt;dbl&gt; | 200003_s_at &lt;dbl&gt; | 200005_at &lt;dbl&gt; | 200016_x_at &lt;dbl&gt; | ⋯ ⋯ | 78047_s_at &lt;dbl&gt; | 823_at &lt;dbl&gt; | 90265_at &lt;dbl&gt; | AFFX-HSAC07/X00351_3_at &lt;dbl&gt; | AFFX-HSAC07/X00351_M_at &lt;dbl&gt; | AFFX-HUMGAPDH/M33197_5_at &lt;dbl&gt; | AFFX-M27830_3_at &lt;dbl&gt; | AFFX-M27830_5_at &lt;dbl&gt; | AFFX-M27830_M_at &lt;dbl&gt; | class &lt;chr&gt; |\n|---|---|---|---|---|---|---|---|---|---|---|---|---|---|---|---|---|---|---|---|---|---|\n| 1 | 9.26 | 5.15 | 7.35 | 6.14 | 6.45 | 6.10 | 4.63 | 11.71 | 8.16 |  9.95 | ⋯ | 6.85 | 6.03 | 6.96 | 12.25 | 11.35 | 10.09 | 5.71 |  8.45 | 8.16 | Adeno  |\n| 2 | 8.69 | 4.57 | 7.32 | 6.32 | 6.13 | 6.13 | 4.72 | 10.72 | 7.26 | 10.24 | ⋯ | 7.21 | 5.67 | 7.36 | 11.71 |  9.59 |  7.75 | 5.64 |  7.13 | 8.17 | Adeno  |\n| 3 | 8.51 | 5.20 | 7.13 | 6.09 | 6.64 | 6.52 | 4.86 | 10.99 | 8.60 |  9.71 | ⋯ | 6.78 | 5.22 | 7.26 | 11.65 | 10.86 |  9.13 | 5.60 |  6.92 | 7.86 | Adeno  |\n| 4 | 8.38 | 4.92 | 7.50 | 6.08 | 6.54 | 6.83 | 4.42 | 10.67 | 7.05 |  9.58 | ⋯ | 6.85 | 6.24 | 7.11 | 11.07 | 10.17 | 10.18 | 5.74 |  7.50 | 7.91 | Adeno  |\n| 5 | 7.70 | 4.60 | 7.40 | 5.98 | 5.93 | 6.16 | 4.41 | 10.82 | 7.43 |  9.35 | ⋯ | 6.73 | 5.96 | 6.98 | 11.73 |  9.83 |  9.22 | 5.86 |  7.67 | 7.68 | Adeno  |\n| 6 | 8.16 | 5.24 | 7.35 | 6.09 | 6.51 | 6.12 | 4.79 | 10.69 | 7.62 |  9.52 | ⋯ | 6.88 | 6.14 | 7.12 | 11.06 |  9.85 | 10.30 | 5.67 |  7.59 | 7.82 | Adeno  |\n| 7 | 7.73 | 4.64 | 7.32 | 6.43 | 6.09 | 6.08 | 4.85 | 10.89 | 7.51 |  9.74 | ⋯ | 6.77 | 5.81 | 7.07 | 11.58 | 10.53 |  8.28 | 5.35 |  7.80 | 8.26 | Adeno  |\n| 8 | 8.33 | 5.64 | 7.32 | 5.86 | 6.36 | 6.42 | 4.76 | 11.13 | 8.52 |  9.59 | ⋯ | 6.70 | 4.86 | 6.81 | 11.44 | 10.48 |  9.81 | 5.56 |  9.16 | 8.96 | Adeno  |\n| 9 | 7.47 | 5.64 | 7.09 | 6.63 | 6.47 | 5.85 | 4.96 | 11.26 | 7.53 |  9.96 | ⋯ | 6.63 | 5.01 | 7.27 | 11.26 |  8.73 |  8.22 | 5.62 | 10.17 | 9.50 | Adeno  |\n| 10 | 8.39 | 5.42 | 7.08 | 6.11 | 6.22 | 6.54 | 4.57 | 11.10 | 7.92 | 10.10 | ⋯ | 6.68 | 6.27 | 7.38 | 11.03 |  8.81 |  7.82 | 5.41 |  8.69 | 8.68 | Adeno  |\n| 11 | 7.88 | 5.85 | 7.06 | 5.69 | 6.16 | 6.12 | 4.73 | 10.83 | 7.40 | 10.27 | ⋯ | 6.74 | 5.55 | 6.77 | 10.62 |  9.63 | 11.02 | 5.66 |  8.37 | 8.16 | SCLC   |\n| 12 | 8.43 | 5.31 | 7.12 | 5.97 | 6.24 | 6.39 | 4.84 | 11.06 | 7.76 | 10.46 | ⋯ | 6.47 | 5.67 | 6.73 | 10.98 |  9.03 | 10.11 | 5.39 |  7.61 | 7.80 | SCLC   |\n| 13 | 7.84 | 6.18 | 7.20 | 5.71 | 6.12 | 6.45 | 4.47 | 10.74 | 7.74 |  9.88 | ⋯ | 6.74 | 5.64 | 6.88 | 10.52 |  9.84 | 11.14 | 5.41 |  8.47 | 8.39 | SCLC   |\n| 14 | 8.31 | 5.76 | 7.09 | 5.81 | 5.85 | 5.84 | 4.63 | 10.47 | 7.37 | 10.24 | ⋯ | 6.36 | 5.45 | 6.67 | 10.90 | 10.30 | 10.43 | 5.31 |  8.31 | 8.48 | SCLC   |\n| 15 | 8.37 | 5.90 | 7.08 | 5.44 | 5.83 | 5.71 | 4.58 | 10.57 | 7.17 | 10.12 | ⋯ | 6.54 | 5.34 | 6.65 | 11.19 | 10.36 |  9.88 | 5.27 |  9.52 | 8.75 | SCLC   |\n| 16 | 8.24 | 5.65 | 7.05 | 5.61 | 5.69 | 5.68 | 4.43 | 10.43 | 7.51 |  9.84 | ⋯ | 6.35 | 5.32 | 6.78 | 10.82 | 10.41 | 10.11 | 5.33 |  7.21 | 7.76 | SCLC   |\n| 17 | 8.16 | 5.84 | 7.03 | 6.02 | 6.13 | 6.07 | 4.42 | 10.48 | 7.15 | 10.03 | ⋯ | 6.44 | 5.32 | 6.73 | 10.49 | 10.02 | 10.17 | 5.38 |  8.47 | 8.57 | SCLC   |\n| 18 | 8.19 | 5.69 | 7.03 | 5.79 | 5.91 | 5.71 | 4.44 | 10.54 | 7.15 | 10.47 | ⋯ | 6.45 | 5.18 | 6.61 | 11.17 | 10.00 | 10.19 | 5.46 |  7.94 | 7.88 | SCLC   |\n| 19 | 8.23 | 5.10 | 7.07 | 5.66 | 6.28 | 5.83 | 4.33 | 10.48 | 7.11 | 10.46 | ⋯ | 6.45 | 5.51 | 6.79 | 10.97 |  9.36 |  9.27 | 5.44 |  8.38 | 8.79 | SCLC   |\n| 20 | 8.96 | 4.57 | 7.34 | 6.02 | 6.43 | 6.56 | 4.77 | 10.77 | 8.13 |  9.98 | ⋯ | 6.86 | 6.52 | 7.01 | 10.75 |  9.71 |  8.99 | 5.54 |  7.16 | 7.42 | Normal |\n| 21 | 8.15 | 4.82 | 6.89 | 6.08 | 6.36 | 5.80 | 4.44 | 10.59 | 7.76 |  9.62 | ⋯ | 6.30 | 6.71 | 6.29 | 10.30 |  8.21 |  7.70 | 5.33 |  6.47 | 7.02 | Normal |\n| 22 | 9.40 | 5.31 | 7.23 | 6.33 | 6.12 | 6.68 | 5.27 | 10.95 | 8.22 |  9.59 | ⋯ | 6.63 | 6.02 | 6.92 | 10.77 |  8.69 | 10.44 | 5.34 |  8.02 | 8.21 | Normal |\n| 23 | 8.96 | 4.93 | 7.14 | 6.22 | 6.23 | 7.05 | 4.81 | 11.05 | 7.77 |  9.71 | ⋯ | 6.98 | 6.07 | 6.95 | 10.79 |  8.70 |  9.78 | 5.51 |  7.04 | 7.70 | Normal |\n| 24 | 9.32 | 4.79 | 7.29 | 6.43 | 6.27 | 7.25 | 4.90 | 11.45 | 7.86 |  9.96 | ⋯ | 6.93 | 6.89 | 6.95 | 10.48 |  8.72 |  9.45 | 5.49 |  6.89 | 7.71 | Normal |\n\n",
            "text/latex": "A data.frame: 24 × 3014\n\\begin{tabular}{r|lllllllllllllllllllll}\n  & 1007\\_s\\_at & 1053\\_at & 121\\_at & 1294\\_at & 1487\\_at & 1729\\_at & 177\\_at & 200003\\_s\\_at & 200005\\_at & 200016\\_x\\_at & ⋯ & 78047\\_s\\_at & 823\\_at & 90265\\_at & AFFX-HSAC07/X00351\\_3\\_at & AFFX-HSAC07/X00351\\_M\\_at & AFFX-HUMGAPDH/M33197\\_5\\_at & AFFX-M27830\\_3\\_at & AFFX-M27830\\_5\\_at & AFFX-M27830\\_M\\_at & class\\\\\n  & <dbl> & <dbl> & <dbl> & <dbl> & <dbl> & <dbl> & <dbl> & <dbl> & <dbl> & <dbl> & ⋯ & <dbl> & <dbl> & <dbl> & <dbl> & <dbl> & <dbl> & <dbl> & <dbl> & <dbl> & <chr>\\\\\n\\hline\n\t1 & 9.26 & 5.15 & 7.35 & 6.14 & 6.45 & 6.10 & 4.63 & 11.71 & 8.16 &  9.95 & ⋯ & 6.85 & 6.03 & 6.96 & 12.25 & 11.35 & 10.09 & 5.71 &  8.45 & 8.16 & Adeno \\\\\n\t2 & 8.69 & 4.57 & 7.32 & 6.32 & 6.13 & 6.13 & 4.72 & 10.72 & 7.26 & 10.24 & ⋯ & 7.21 & 5.67 & 7.36 & 11.71 &  9.59 &  7.75 & 5.64 &  7.13 & 8.17 & Adeno \\\\\n\t3 & 8.51 & 5.20 & 7.13 & 6.09 & 6.64 & 6.52 & 4.86 & 10.99 & 8.60 &  9.71 & ⋯ & 6.78 & 5.22 & 7.26 & 11.65 & 10.86 &  9.13 & 5.60 &  6.92 & 7.86 & Adeno \\\\\n\t4 & 8.38 & 4.92 & 7.50 & 6.08 & 6.54 & 6.83 & 4.42 & 10.67 & 7.05 &  9.58 & ⋯ & 6.85 & 6.24 & 7.11 & 11.07 & 10.17 & 10.18 & 5.74 &  7.50 & 7.91 & Adeno \\\\\n\t5 & 7.70 & 4.60 & 7.40 & 5.98 & 5.93 & 6.16 & 4.41 & 10.82 & 7.43 &  9.35 & ⋯ & 6.73 & 5.96 & 6.98 & 11.73 &  9.83 &  9.22 & 5.86 &  7.67 & 7.68 & Adeno \\\\\n\t6 & 8.16 & 5.24 & 7.35 & 6.09 & 6.51 & 6.12 & 4.79 & 10.69 & 7.62 &  9.52 & ⋯ & 6.88 & 6.14 & 7.12 & 11.06 &  9.85 & 10.30 & 5.67 &  7.59 & 7.82 & Adeno \\\\\n\t7 & 7.73 & 4.64 & 7.32 & 6.43 & 6.09 & 6.08 & 4.85 & 10.89 & 7.51 &  9.74 & ⋯ & 6.77 & 5.81 & 7.07 & 11.58 & 10.53 &  8.28 & 5.35 &  7.80 & 8.26 & Adeno \\\\\n\t8 & 8.33 & 5.64 & 7.32 & 5.86 & 6.36 & 6.42 & 4.76 & 11.13 & 8.52 &  9.59 & ⋯ & 6.70 & 4.86 & 6.81 & 11.44 & 10.48 &  9.81 & 5.56 &  9.16 & 8.96 & Adeno \\\\\n\t9 & 7.47 & 5.64 & 7.09 & 6.63 & 6.47 & 5.85 & 4.96 & 11.26 & 7.53 &  9.96 & ⋯ & 6.63 & 5.01 & 7.27 & 11.26 &  8.73 &  8.22 & 5.62 & 10.17 & 9.50 & Adeno \\\\\n\t10 & 8.39 & 5.42 & 7.08 & 6.11 & 6.22 & 6.54 & 4.57 & 11.10 & 7.92 & 10.10 & ⋯ & 6.68 & 6.27 & 7.38 & 11.03 &  8.81 &  7.82 & 5.41 &  8.69 & 8.68 & Adeno \\\\\n\t11 & 7.88 & 5.85 & 7.06 & 5.69 & 6.16 & 6.12 & 4.73 & 10.83 & 7.40 & 10.27 & ⋯ & 6.74 & 5.55 & 6.77 & 10.62 &  9.63 & 11.02 & 5.66 &  8.37 & 8.16 & SCLC  \\\\\n\t12 & 8.43 & 5.31 & 7.12 & 5.97 & 6.24 & 6.39 & 4.84 & 11.06 & 7.76 & 10.46 & ⋯ & 6.47 & 5.67 & 6.73 & 10.98 &  9.03 & 10.11 & 5.39 &  7.61 & 7.80 & SCLC  \\\\\n\t13 & 7.84 & 6.18 & 7.20 & 5.71 & 6.12 & 6.45 & 4.47 & 10.74 & 7.74 &  9.88 & ⋯ & 6.74 & 5.64 & 6.88 & 10.52 &  9.84 & 11.14 & 5.41 &  8.47 & 8.39 & SCLC  \\\\\n\t14 & 8.31 & 5.76 & 7.09 & 5.81 & 5.85 & 5.84 & 4.63 & 10.47 & 7.37 & 10.24 & ⋯ & 6.36 & 5.45 & 6.67 & 10.90 & 10.30 & 10.43 & 5.31 &  8.31 & 8.48 & SCLC  \\\\\n\t15 & 8.37 & 5.90 & 7.08 & 5.44 & 5.83 & 5.71 & 4.58 & 10.57 & 7.17 & 10.12 & ⋯ & 6.54 & 5.34 & 6.65 & 11.19 & 10.36 &  9.88 & 5.27 &  9.52 & 8.75 & SCLC  \\\\\n\t16 & 8.24 & 5.65 & 7.05 & 5.61 & 5.69 & 5.68 & 4.43 & 10.43 & 7.51 &  9.84 & ⋯ & 6.35 & 5.32 & 6.78 & 10.82 & 10.41 & 10.11 & 5.33 &  7.21 & 7.76 & SCLC  \\\\\n\t17 & 8.16 & 5.84 & 7.03 & 6.02 & 6.13 & 6.07 & 4.42 & 10.48 & 7.15 & 10.03 & ⋯ & 6.44 & 5.32 & 6.73 & 10.49 & 10.02 & 10.17 & 5.38 &  8.47 & 8.57 & SCLC  \\\\\n\t18 & 8.19 & 5.69 & 7.03 & 5.79 & 5.91 & 5.71 & 4.44 & 10.54 & 7.15 & 10.47 & ⋯ & 6.45 & 5.18 & 6.61 & 11.17 & 10.00 & 10.19 & 5.46 &  7.94 & 7.88 & SCLC  \\\\\n\t19 & 8.23 & 5.10 & 7.07 & 5.66 & 6.28 & 5.83 & 4.33 & 10.48 & 7.11 & 10.46 & ⋯ & 6.45 & 5.51 & 6.79 & 10.97 &  9.36 &  9.27 & 5.44 &  8.38 & 8.79 & SCLC  \\\\\n\t20 & 8.96 & 4.57 & 7.34 & 6.02 & 6.43 & 6.56 & 4.77 & 10.77 & 8.13 &  9.98 & ⋯ & 6.86 & 6.52 & 7.01 & 10.75 &  9.71 &  8.99 & 5.54 &  7.16 & 7.42 & Normal\\\\\n\t21 & 8.15 & 4.82 & 6.89 & 6.08 & 6.36 & 5.80 & 4.44 & 10.59 & 7.76 &  9.62 & ⋯ & 6.30 & 6.71 & 6.29 & 10.30 &  8.21 &  7.70 & 5.33 &  6.47 & 7.02 & Normal\\\\\n\t22 & 9.40 & 5.31 & 7.23 & 6.33 & 6.12 & 6.68 & 5.27 & 10.95 & 8.22 &  9.59 & ⋯ & 6.63 & 6.02 & 6.92 & 10.77 &  8.69 & 10.44 & 5.34 &  8.02 & 8.21 & Normal\\\\\n\t23 & 8.96 & 4.93 & 7.14 & 6.22 & 6.23 & 7.05 & 4.81 & 11.05 & 7.77 &  9.71 & ⋯ & 6.98 & 6.07 & 6.95 & 10.79 &  8.70 &  9.78 & 5.51 &  7.04 & 7.70 & Normal\\\\\n\t24 & 9.32 & 4.79 & 7.29 & 6.43 & 6.27 & 7.25 & 4.90 & 11.45 & 7.86 &  9.96 & ⋯ & 6.93 & 6.89 & 6.95 & 10.48 &  8.72 &  9.45 & 5.49 &  6.89 & 7.71 & Normal\\\\\n\\end{tabular}\n",
            "text/plain": [
              "   1007_s_at 1053_at 121_at 1294_at 1487_at 1729_at 177_at 200003_s_at\n",
              "1  9.26      5.15    7.35   6.14    6.45    6.10    4.63   11.71      \n",
              "2  8.69      4.57    7.32   6.32    6.13    6.13    4.72   10.72      \n",
              "3  8.51      5.20    7.13   6.09    6.64    6.52    4.86   10.99      \n",
              "4  8.38      4.92    7.50   6.08    6.54    6.83    4.42   10.67      \n",
              "5  7.70      4.60    7.40   5.98    5.93    6.16    4.41   10.82      \n",
              "6  8.16      5.24    7.35   6.09    6.51    6.12    4.79   10.69      \n",
              "7  7.73      4.64    7.32   6.43    6.09    6.08    4.85   10.89      \n",
              "8  8.33      5.64    7.32   5.86    6.36    6.42    4.76   11.13      \n",
              "9  7.47      5.64    7.09   6.63    6.47    5.85    4.96   11.26      \n",
              "10 8.39      5.42    7.08   6.11    6.22    6.54    4.57   11.10      \n",
              "11 7.88      5.85    7.06   5.69    6.16    6.12    4.73   10.83      \n",
              "12 8.43      5.31    7.12   5.97    6.24    6.39    4.84   11.06      \n",
              "13 7.84      6.18    7.20   5.71    6.12    6.45    4.47   10.74      \n",
              "14 8.31      5.76    7.09   5.81    5.85    5.84    4.63   10.47      \n",
              "15 8.37      5.90    7.08   5.44    5.83    5.71    4.58   10.57      \n",
              "16 8.24      5.65    7.05   5.61    5.69    5.68    4.43   10.43      \n",
              "17 8.16      5.84    7.03   6.02    6.13    6.07    4.42   10.48      \n",
              "18 8.19      5.69    7.03   5.79    5.91    5.71    4.44   10.54      \n",
              "19 8.23      5.10    7.07   5.66    6.28    5.83    4.33   10.48      \n",
              "20 8.96      4.57    7.34   6.02    6.43    6.56    4.77   10.77      \n",
              "21 8.15      4.82    6.89   6.08    6.36    5.80    4.44   10.59      \n",
              "22 9.40      5.31    7.23   6.33    6.12    6.68    5.27   10.95      \n",
              "23 8.96      4.93    7.14   6.22    6.23    7.05    4.81   11.05      \n",
              "24 9.32      4.79    7.29   6.43    6.27    7.25    4.90   11.45      \n",
              "   200005_at 200016_x_at ⋯ 78047_s_at 823_at 90265_at AFFX-HSAC07/X00351_3_at\n",
              "1  8.16       9.95       ⋯ 6.85       6.03   6.96     12.25                  \n",
              "2  7.26      10.24       ⋯ 7.21       5.67   7.36     11.71                  \n",
              "3  8.60       9.71       ⋯ 6.78       5.22   7.26     11.65                  \n",
              "4  7.05       9.58       ⋯ 6.85       6.24   7.11     11.07                  \n",
              "5  7.43       9.35       ⋯ 6.73       5.96   6.98     11.73                  \n",
              "6  7.62       9.52       ⋯ 6.88       6.14   7.12     11.06                  \n",
              "7  7.51       9.74       ⋯ 6.77       5.81   7.07     11.58                  \n",
              "8  8.52       9.59       ⋯ 6.70       4.86   6.81     11.44                  \n",
              "9  7.53       9.96       ⋯ 6.63       5.01   7.27     11.26                  \n",
              "10 7.92      10.10       ⋯ 6.68       6.27   7.38     11.03                  \n",
              "11 7.40      10.27       ⋯ 6.74       5.55   6.77     10.62                  \n",
              "12 7.76      10.46       ⋯ 6.47       5.67   6.73     10.98                  \n",
              "13 7.74       9.88       ⋯ 6.74       5.64   6.88     10.52                  \n",
              "14 7.37      10.24       ⋯ 6.36       5.45   6.67     10.90                  \n",
              "15 7.17      10.12       ⋯ 6.54       5.34   6.65     11.19                  \n",
              "16 7.51       9.84       ⋯ 6.35       5.32   6.78     10.82                  \n",
              "17 7.15      10.03       ⋯ 6.44       5.32   6.73     10.49                  \n",
              "18 7.15      10.47       ⋯ 6.45       5.18   6.61     11.17                  \n",
              "19 7.11      10.46       ⋯ 6.45       5.51   6.79     10.97                  \n",
              "20 8.13       9.98       ⋯ 6.86       6.52   7.01     10.75                  \n",
              "21 7.76       9.62       ⋯ 6.30       6.71   6.29     10.30                  \n",
              "22 8.22       9.59       ⋯ 6.63       6.02   6.92     10.77                  \n",
              "23 7.77       9.71       ⋯ 6.98       6.07   6.95     10.79                  \n",
              "24 7.86       9.96       ⋯ 6.93       6.89   6.95     10.48                  \n",
              "   AFFX-HSAC07/X00351_M_at AFFX-HUMGAPDH/M33197_5_at AFFX-M27830_3_at\n",
              "1  11.35                   10.09                     5.71            \n",
              "2   9.59                    7.75                     5.64            \n",
              "3  10.86                    9.13                     5.60            \n",
              "4  10.17                   10.18                     5.74            \n",
              "5   9.83                    9.22                     5.86            \n",
              "6   9.85                   10.30                     5.67            \n",
              "7  10.53                    8.28                     5.35            \n",
              "8  10.48                    9.81                     5.56            \n",
              "9   8.73                    8.22                     5.62            \n",
              "10  8.81                    7.82                     5.41            \n",
              "11  9.63                   11.02                     5.66            \n",
              "12  9.03                   10.11                     5.39            \n",
              "13  9.84                   11.14                     5.41            \n",
              "14 10.30                   10.43                     5.31            \n",
              "15 10.36                    9.88                     5.27            \n",
              "16 10.41                   10.11                     5.33            \n",
              "17 10.02                   10.17                     5.38            \n",
              "18 10.00                   10.19                     5.46            \n",
              "19  9.36                    9.27                     5.44            \n",
              "20  9.71                    8.99                     5.54            \n",
              "21  8.21                    7.70                     5.33            \n",
              "22  8.69                   10.44                     5.34            \n",
              "23  8.70                    9.78                     5.51            \n",
              "24  8.72                    9.45                     5.49            \n",
              "   AFFX-M27830_5_at AFFX-M27830_M_at class \n",
              "1   8.45            8.16             Adeno \n",
              "2   7.13            8.17             Adeno \n",
              "3   6.92            7.86             Adeno \n",
              "4   7.50            7.91             Adeno \n",
              "5   7.67            7.68             Adeno \n",
              "6   7.59            7.82             Adeno \n",
              "7   7.80            8.26             Adeno \n",
              "8   9.16            8.96             Adeno \n",
              "9  10.17            9.50             Adeno \n",
              "10  8.69            8.68             Adeno \n",
              "11  8.37            8.16             SCLC  \n",
              "12  7.61            7.80             SCLC  \n",
              "13  8.47            8.39             SCLC  \n",
              "14  8.31            8.48             SCLC  \n",
              "15  9.52            8.75             SCLC  \n",
              "16  7.21            7.76             SCLC  \n",
              "17  8.47            8.57             SCLC  \n",
              "18  7.94            7.88             SCLC  \n",
              "19  8.38            8.79             SCLC  \n",
              "20  7.16            7.42             Normal\n",
              "21  6.47            7.02             Normal\n",
              "22  8.02            8.21             Normal\n",
              "23  7.04            7.70             Normal\n",
              "24  6.89            7.71             Normal"
            ]
          },
          "metadata": {}
        }
      ]
    },
    {
      "cell_type": "code",
      "source": [
        "adeno = t_df[t_df$class == 'Adeno', ]\n",
        "adeno"
      ],
      "metadata": {
        "colab": {
          "base_uri": "https://localhost:8080/",
          "height": 449
        },
        "id": "84_dle7XuB8y",
        "outputId": "7177138a-bdf6-49ed-cc71-efc32c8c1815"
      },
      "execution_count": null,
      "outputs": [
        {
          "output_type": "display_data",
          "data": {
            "text/html": [
              "<table class=\"dataframe\">\n",
              "<caption>A data.frame: 10 × 3014</caption>\n",
              "<thead>\n",
              "\t<tr><th></th><th scope=col>1007_s_at</th><th scope=col>1053_at</th><th scope=col>121_at</th><th scope=col>1294_at</th><th scope=col>1487_at</th><th scope=col>1729_at</th><th scope=col>177_at</th><th scope=col>200003_s_at</th><th scope=col>200005_at</th><th scope=col>200016_x_at</th><th scope=col>⋯</th><th scope=col>78047_s_at</th><th scope=col>823_at</th><th scope=col>90265_at</th><th scope=col>AFFX-HSAC07/X00351_3_at</th><th scope=col>AFFX-HSAC07/X00351_M_at</th><th scope=col>AFFX-HUMGAPDH/M33197_5_at</th><th scope=col>AFFX-M27830_3_at</th><th scope=col>AFFX-M27830_5_at</th><th scope=col>AFFX-M27830_M_at</th><th scope=col>class</th></tr>\n",
              "\t<tr><th></th><th scope=col>&lt;dbl&gt;</th><th scope=col>&lt;dbl&gt;</th><th scope=col>&lt;dbl&gt;</th><th scope=col>&lt;dbl&gt;</th><th scope=col>&lt;dbl&gt;</th><th scope=col>&lt;dbl&gt;</th><th scope=col>&lt;dbl&gt;</th><th scope=col>&lt;dbl&gt;</th><th scope=col>&lt;dbl&gt;</th><th scope=col>&lt;dbl&gt;</th><th scope=col>⋯</th><th scope=col>&lt;dbl&gt;</th><th scope=col>&lt;dbl&gt;</th><th scope=col>&lt;dbl&gt;</th><th scope=col>&lt;dbl&gt;</th><th scope=col>&lt;dbl&gt;</th><th scope=col>&lt;dbl&gt;</th><th scope=col>&lt;dbl&gt;</th><th scope=col>&lt;dbl&gt;</th><th scope=col>&lt;dbl&gt;</th><th scope=col>&lt;chr&gt;</th></tr>\n",
              "</thead>\n",
              "<tbody>\n",
              "\t<tr><th scope=row>1</th><td>9.26</td><td>5.15</td><td>7.35</td><td>6.14</td><td>6.45</td><td>6.10</td><td>4.63</td><td>11.71</td><td>8.16</td><td> 9.95</td><td>⋯</td><td>6.85</td><td>6.03</td><td>6.96</td><td>12.25</td><td>11.35</td><td>10.09</td><td>5.71</td><td> 8.45</td><td>8.16</td><td>Adeno</td></tr>\n",
              "\t<tr><th scope=row>2</th><td>8.69</td><td>4.57</td><td>7.32</td><td>6.32</td><td>6.13</td><td>6.13</td><td>4.72</td><td>10.72</td><td>7.26</td><td>10.24</td><td>⋯</td><td>7.21</td><td>5.67</td><td>7.36</td><td>11.71</td><td> 9.59</td><td> 7.75</td><td>5.64</td><td> 7.13</td><td>8.17</td><td>Adeno</td></tr>\n",
              "\t<tr><th scope=row>3</th><td>8.51</td><td>5.20</td><td>7.13</td><td>6.09</td><td>6.64</td><td>6.52</td><td>4.86</td><td>10.99</td><td>8.60</td><td> 9.71</td><td>⋯</td><td>6.78</td><td>5.22</td><td>7.26</td><td>11.65</td><td>10.86</td><td> 9.13</td><td>5.60</td><td> 6.92</td><td>7.86</td><td>Adeno</td></tr>\n",
              "\t<tr><th scope=row>4</th><td>8.38</td><td>4.92</td><td>7.50</td><td>6.08</td><td>6.54</td><td>6.83</td><td>4.42</td><td>10.67</td><td>7.05</td><td> 9.58</td><td>⋯</td><td>6.85</td><td>6.24</td><td>7.11</td><td>11.07</td><td>10.17</td><td>10.18</td><td>5.74</td><td> 7.50</td><td>7.91</td><td>Adeno</td></tr>\n",
              "\t<tr><th scope=row>5</th><td>7.70</td><td>4.60</td><td>7.40</td><td>5.98</td><td>5.93</td><td>6.16</td><td>4.41</td><td>10.82</td><td>7.43</td><td> 9.35</td><td>⋯</td><td>6.73</td><td>5.96</td><td>6.98</td><td>11.73</td><td> 9.83</td><td> 9.22</td><td>5.86</td><td> 7.67</td><td>7.68</td><td>Adeno</td></tr>\n",
              "\t<tr><th scope=row>6</th><td>8.16</td><td>5.24</td><td>7.35</td><td>6.09</td><td>6.51</td><td>6.12</td><td>4.79</td><td>10.69</td><td>7.62</td><td> 9.52</td><td>⋯</td><td>6.88</td><td>6.14</td><td>7.12</td><td>11.06</td><td> 9.85</td><td>10.30</td><td>5.67</td><td> 7.59</td><td>7.82</td><td>Adeno</td></tr>\n",
              "\t<tr><th scope=row>7</th><td>7.73</td><td>4.64</td><td>7.32</td><td>6.43</td><td>6.09</td><td>6.08</td><td>4.85</td><td>10.89</td><td>7.51</td><td> 9.74</td><td>⋯</td><td>6.77</td><td>5.81</td><td>7.07</td><td>11.58</td><td>10.53</td><td> 8.28</td><td>5.35</td><td> 7.80</td><td>8.26</td><td>Adeno</td></tr>\n",
              "\t<tr><th scope=row>8</th><td>8.33</td><td>5.64</td><td>7.32</td><td>5.86</td><td>6.36</td><td>6.42</td><td>4.76</td><td>11.13</td><td>8.52</td><td> 9.59</td><td>⋯</td><td>6.70</td><td>4.86</td><td>6.81</td><td>11.44</td><td>10.48</td><td> 9.81</td><td>5.56</td><td> 9.16</td><td>8.96</td><td>Adeno</td></tr>\n",
              "\t<tr><th scope=row>9</th><td>7.47</td><td>5.64</td><td>7.09</td><td>6.63</td><td>6.47</td><td>5.85</td><td>4.96</td><td>11.26</td><td>7.53</td><td> 9.96</td><td>⋯</td><td>6.63</td><td>5.01</td><td>7.27</td><td>11.26</td><td> 8.73</td><td> 8.22</td><td>5.62</td><td>10.17</td><td>9.50</td><td>Adeno</td></tr>\n",
              "\t<tr><th scope=row>10</th><td>8.39</td><td>5.42</td><td>7.08</td><td>6.11</td><td>6.22</td><td>6.54</td><td>4.57</td><td>11.10</td><td>7.92</td><td>10.10</td><td>⋯</td><td>6.68</td><td>6.27</td><td>7.38</td><td>11.03</td><td> 8.81</td><td> 7.82</td><td>5.41</td><td> 8.69</td><td>8.68</td><td>Adeno</td></tr>\n",
              "</tbody>\n",
              "</table>\n"
            ],
            "text/markdown": "\nA data.frame: 10 × 3014\n\n| <!--/--> | 1007_s_at &lt;dbl&gt; | 1053_at &lt;dbl&gt; | 121_at &lt;dbl&gt; | 1294_at &lt;dbl&gt; | 1487_at &lt;dbl&gt; | 1729_at &lt;dbl&gt; | 177_at &lt;dbl&gt; | 200003_s_at &lt;dbl&gt; | 200005_at &lt;dbl&gt; | 200016_x_at &lt;dbl&gt; | ⋯ ⋯ | 78047_s_at &lt;dbl&gt; | 823_at &lt;dbl&gt; | 90265_at &lt;dbl&gt; | AFFX-HSAC07/X00351_3_at &lt;dbl&gt; | AFFX-HSAC07/X00351_M_at &lt;dbl&gt; | AFFX-HUMGAPDH/M33197_5_at &lt;dbl&gt; | AFFX-M27830_3_at &lt;dbl&gt; | AFFX-M27830_5_at &lt;dbl&gt; | AFFX-M27830_M_at &lt;dbl&gt; | class &lt;chr&gt; |\n|---|---|---|---|---|---|---|---|---|---|---|---|---|---|---|---|---|---|---|---|---|---|\n| 1 | 9.26 | 5.15 | 7.35 | 6.14 | 6.45 | 6.10 | 4.63 | 11.71 | 8.16 |  9.95 | ⋯ | 6.85 | 6.03 | 6.96 | 12.25 | 11.35 | 10.09 | 5.71 |  8.45 | 8.16 | Adeno |\n| 2 | 8.69 | 4.57 | 7.32 | 6.32 | 6.13 | 6.13 | 4.72 | 10.72 | 7.26 | 10.24 | ⋯ | 7.21 | 5.67 | 7.36 | 11.71 |  9.59 |  7.75 | 5.64 |  7.13 | 8.17 | Adeno |\n| 3 | 8.51 | 5.20 | 7.13 | 6.09 | 6.64 | 6.52 | 4.86 | 10.99 | 8.60 |  9.71 | ⋯ | 6.78 | 5.22 | 7.26 | 11.65 | 10.86 |  9.13 | 5.60 |  6.92 | 7.86 | Adeno |\n| 4 | 8.38 | 4.92 | 7.50 | 6.08 | 6.54 | 6.83 | 4.42 | 10.67 | 7.05 |  9.58 | ⋯ | 6.85 | 6.24 | 7.11 | 11.07 | 10.17 | 10.18 | 5.74 |  7.50 | 7.91 | Adeno |\n| 5 | 7.70 | 4.60 | 7.40 | 5.98 | 5.93 | 6.16 | 4.41 | 10.82 | 7.43 |  9.35 | ⋯ | 6.73 | 5.96 | 6.98 | 11.73 |  9.83 |  9.22 | 5.86 |  7.67 | 7.68 | Adeno |\n| 6 | 8.16 | 5.24 | 7.35 | 6.09 | 6.51 | 6.12 | 4.79 | 10.69 | 7.62 |  9.52 | ⋯ | 6.88 | 6.14 | 7.12 | 11.06 |  9.85 | 10.30 | 5.67 |  7.59 | 7.82 | Adeno |\n| 7 | 7.73 | 4.64 | 7.32 | 6.43 | 6.09 | 6.08 | 4.85 | 10.89 | 7.51 |  9.74 | ⋯ | 6.77 | 5.81 | 7.07 | 11.58 | 10.53 |  8.28 | 5.35 |  7.80 | 8.26 | Adeno |\n| 8 | 8.33 | 5.64 | 7.32 | 5.86 | 6.36 | 6.42 | 4.76 | 11.13 | 8.52 |  9.59 | ⋯ | 6.70 | 4.86 | 6.81 | 11.44 | 10.48 |  9.81 | 5.56 |  9.16 | 8.96 | Adeno |\n| 9 | 7.47 | 5.64 | 7.09 | 6.63 | 6.47 | 5.85 | 4.96 | 11.26 | 7.53 |  9.96 | ⋯ | 6.63 | 5.01 | 7.27 | 11.26 |  8.73 |  8.22 | 5.62 | 10.17 | 9.50 | Adeno |\n| 10 | 8.39 | 5.42 | 7.08 | 6.11 | 6.22 | 6.54 | 4.57 | 11.10 | 7.92 | 10.10 | ⋯ | 6.68 | 6.27 | 7.38 | 11.03 |  8.81 |  7.82 | 5.41 |  8.69 | 8.68 | Adeno |\n\n",
            "text/latex": "A data.frame: 10 × 3014\n\\begin{tabular}{r|lllllllllllllllllllll}\n  & 1007\\_s\\_at & 1053\\_at & 121\\_at & 1294\\_at & 1487\\_at & 1729\\_at & 177\\_at & 200003\\_s\\_at & 200005\\_at & 200016\\_x\\_at & ⋯ & 78047\\_s\\_at & 823\\_at & 90265\\_at & AFFX-HSAC07/X00351\\_3\\_at & AFFX-HSAC07/X00351\\_M\\_at & AFFX-HUMGAPDH/M33197\\_5\\_at & AFFX-M27830\\_3\\_at & AFFX-M27830\\_5\\_at & AFFX-M27830\\_M\\_at & class\\\\\n  & <dbl> & <dbl> & <dbl> & <dbl> & <dbl> & <dbl> & <dbl> & <dbl> & <dbl> & <dbl> & ⋯ & <dbl> & <dbl> & <dbl> & <dbl> & <dbl> & <dbl> & <dbl> & <dbl> & <dbl> & <chr>\\\\\n\\hline\n\t1 & 9.26 & 5.15 & 7.35 & 6.14 & 6.45 & 6.10 & 4.63 & 11.71 & 8.16 &  9.95 & ⋯ & 6.85 & 6.03 & 6.96 & 12.25 & 11.35 & 10.09 & 5.71 &  8.45 & 8.16 & Adeno\\\\\n\t2 & 8.69 & 4.57 & 7.32 & 6.32 & 6.13 & 6.13 & 4.72 & 10.72 & 7.26 & 10.24 & ⋯ & 7.21 & 5.67 & 7.36 & 11.71 &  9.59 &  7.75 & 5.64 &  7.13 & 8.17 & Adeno\\\\\n\t3 & 8.51 & 5.20 & 7.13 & 6.09 & 6.64 & 6.52 & 4.86 & 10.99 & 8.60 &  9.71 & ⋯ & 6.78 & 5.22 & 7.26 & 11.65 & 10.86 &  9.13 & 5.60 &  6.92 & 7.86 & Adeno\\\\\n\t4 & 8.38 & 4.92 & 7.50 & 6.08 & 6.54 & 6.83 & 4.42 & 10.67 & 7.05 &  9.58 & ⋯ & 6.85 & 6.24 & 7.11 & 11.07 & 10.17 & 10.18 & 5.74 &  7.50 & 7.91 & Adeno\\\\\n\t5 & 7.70 & 4.60 & 7.40 & 5.98 & 5.93 & 6.16 & 4.41 & 10.82 & 7.43 &  9.35 & ⋯ & 6.73 & 5.96 & 6.98 & 11.73 &  9.83 &  9.22 & 5.86 &  7.67 & 7.68 & Adeno\\\\\n\t6 & 8.16 & 5.24 & 7.35 & 6.09 & 6.51 & 6.12 & 4.79 & 10.69 & 7.62 &  9.52 & ⋯ & 6.88 & 6.14 & 7.12 & 11.06 &  9.85 & 10.30 & 5.67 &  7.59 & 7.82 & Adeno\\\\\n\t7 & 7.73 & 4.64 & 7.32 & 6.43 & 6.09 & 6.08 & 4.85 & 10.89 & 7.51 &  9.74 & ⋯ & 6.77 & 5.81 & 7.07 & 11.58 & 10.53 &  8.28 & 5.35 &  7.80 & 8.26 & Adeno\\\\\n\t8 & 8.33 & 5.64 & 7.32 & 5.86 & 6.36 & 6.42 & 4.76 & 11.13 & 8.52 &  9.59 & ⋯ & 6.70 & 4.86 & 6.81 & 11.44 & 10.48 &  9.81 & 5.56 &  9.16 & 8.96 & Adeno\\\\\n\t9 & 7.47 & 5.64 & 7.09 & 6.63 & 6.47 & 5.85 & 4.96 & 11.26 & 7.53 &  9.96 & ⋯ & 6.63 & 5.01 & 7.27 & 11.26 &  8.73 &  8.22 & 5.62 & 10.17 & 9.50 & Adeno\\\\\n\t10 & 8.39 & 5.42 & 7.08 & 6.11 & 6.22 & 6.54 & 4.57 & 11.10 & 7.92 & 10.10 & ⋯ & 6.68 & 6.27 & 7.38 & 11.03 &  8.81 &  7.82 & 5.41 &  8.69 & 8.68 & Adeno\\\\\n\\end{tabular}\n",
            "text/plain": [
              "   1007_s_at 1053_at 121_at 1294_at 1487_at 1729_at 177_at 200003_s_at\n",
              "1  9.26      5.15    7.35   6.14    6.45    6.10    4.63   11.71      \n",
              "2  8.69      4.57    7.32   6.32    6.13    6.13    4.72   10.72      \n",
              "3  8.51      5.20    7.13   6.09    6.64    6.52    4.86   10.99      \n",
              "4  8.38      4.92    7.50   6.08    6.54    6.83    4.42   10.67      \n",
              "5  7.70      4.60    7.40   5.98    5.93    6.16    4.41   10.82      \n",
              "6  8.16      5.24    7.35   6.09    6.51    6.12    4.79   10.69      \n",
              "7  7.73      4.64    7.32   6.43    6.09    6.08    4.85   10.89      \n",
              "8  8.33      5.64    7.32   5.86    6.36    6.42    4.76   11.13      \n",
              "9  7.47      5.64    7.09   6.63    6.47    5.85    4.96   11.26      \n",
              "10 8.39      5.42    7.08   6.11    6.22    6.54    4.57   11.10      \n",
              "   200005_at 200016_x_at ⋯ 78047_s_at 823_at 90265_at AFFX-HSAC07/X00351_3_at\n",
              "1  8.16       9.95       ⋯ 6.85       6.03   6.96     12.25                  \n",
              "2  7.26      10.24       ⋯ 7.21       5.67   7.36     11.71                  \n",
              "3  8.60       9.71       ⋯ 6.78       5.22   7.26     11.65                  \n",
              "4  7.05       9.58       ⋯ 6.85       6.24   7.11     11.07                  \n",
              "5  7.43       9.35       ⋯ 6.73       5.96   6.98     11.73                  \n",
              "6  7.62       9.52       ⋯ 6.88       6.14   7.12     11.06                  \n",
              "7  7.51       9.74       ⋯ 6.77       5.81   7.07     11.58                  \n",
              "8  8.52       9.59       ⋯ 6.70       4.86   6.81     11.44                  \n",
              "9  7.53       9.96       ⋯ 6.63       5.01   7.27     11.26                  \n",
              "10 7.92      10.10       ⋯ 6.68       6.27   7.38     11.03                  \n",
              "   AFFX-HSAC07/X00351_M_at AFFX-HUMGAPDH/M33197_5_at AFFX-M27830_3_at\n",
              "1  11.35                   10.09                     5.71            \n",
              "2   9.59                    7.75                     5.64            \n",
              "3  10.86                    9.13                     5.60            \n",
              "4  10.17                   10.18                     5.74            \n",
              "5   9.83                    9.22                     5.86            \n",
              "6   9.85                   10.30                     5.67            \n",
              "7  10.53                    8.28                     5.35            \n",
              "8  10.48                    9.81                     5.56            \n",
              "9   8.73                    8.22                     5.62            \n",
              "10  8.81                    7.82                     5.41            \n",
              "   AFFX-M27830_5_at AFFX-M27830_M_at class\n",
              "1   8.45            8.16             Adeno\n",
              "2   7.13            8.17             Adeno\n",
              "3   6.92            7.86             Adeno\n",
              "4   7.50            7.91             Adeno\n",
              "5   7.67            7.68             Adeno\n",
              "6   7.59            7.82             Adeno\n",
              "7   7.80            8.26             Adeno\n",
              "8   9.16            8.96             Adeno\n",
              "9  10.17            9.50             Adeno\n",
              "10  8.69            8.68             Adeno"
            ]
          },
          "metadata": {}
        }
      ]
    },
    {
      "cell_type": "code",
      "source": [
        "adeno_tr = adeno[1:6, ]\n",
        "adeno_tr"
      ],
      "metadata": {
        "colab": {
          "base_uri": "https://localhost:8080/",
          "height": 324
        },
        "id": "qrJ8iVGi1mBV",
        "outputId": "8525eabf-0de8-4e05-e9d1-5bd0d3e5d028"
      },
      "execution_count": null,
      "outputs": [
        {
          "output_type": "display_data",
          "data": {
            "text/html": [
              "<table class=\"dataframe\">\n",
              "<caption>A data.frame: 6 × 3014</caption>\n",
              "<thead>\n",
              "\t<tr><th></th><th scope=col>1007_s_at</th><th scope=col>1053_at</th><th scope=col>121_at</th><th scope=col>1294_at</th><th scope=col>1487_at</th><th scope=col>1729_at</th><th scope=col>177_at</th><th scope=col>200003_s_at</th><th scope=col>200005_at</th><th scope=col>200016_x_at</th><th scope=col>⋯</th><th scope=col>78047_s_at</th><th scope=col>823_at</th><th scope=col>90265_at</th><th scope=col>AFFX-HSAC07/X00351_3_at</th><th scope=col>AFFX-HSAC07/X00351_M_at</th><th scope=col>AFFX-HUMGAPDH/M33197_5_at</th><th scope=col>AFFX-M27830_3_at</th><th scope=col>AFFX-M27830_5_at</th><th scope=col>AFFX-M27830_M_at</th><th scope=col>class</th></tr>\n",
              "\t<tr><th></th><th scope=col>&lt;dbl&gt;</th><th scope=col>&lt;dbl&gt;</th><th scope=col>&lt;dbl&gt;</th><th scope=col>&lt;dbl&gt;</th><th scope=col>&lt;dbl&gt;</th><th scope=col>&lt;dbl&gt;</th><th scope=col>&lt;dbl&gt;</th><th scope=col>&lt;dbl&gt;</th><th scope=col>&lt;dbl&gt;</th><th scope=col>&lt;dbl&gt;</th><th scope=col>⋯</th><th scope=col>&lt;dbl&gt;</th><th scope=col>&lt;dbl&gt;</th><th scope=col>&lt;dbl&gt;</th><th scope=col>&lt;dbl&gt;</th><th scope=col>&lt;dbl&gt;</th><th scope=col>&lt;dbl&gt;</th><th scope=col>&lt;dbl&gt;</th><th scope=col>&lt;dbl&gt;</th><th scope=col>&lt;dbl&gt;</th><th scope=col>&lt;chr&gt;</th></tr>\n",
              "</thead>\n",
              "<tbody>\n",
              "\t<tr><th scope=row>1</th><td>9.26</td><td>5.15</td><td>7.35</td><td>6.14</td><td>6.45</td><td>6.10</td><td>4.63</td><td>11.71</td><td>8.16</td><td> 9.95</td><td>⋯</td><td>6.85</td><td>6.03</td><td>6.96</td><td>12.25</td><td>11.35</td><td>10.09</td><td>5.71</td><td>8.45</td><td>8.16</td><td>Adeno</td></tr>\n",
              "\t<tr><th scope=row>2</th><td>8.69</td><td>4.57</td><td>7.32</td><td>6.32</td><td>6.13</td><td>6.13</td><td>4.72</td><td>10.72</td><td>7.26</td><td>10.24</td><td>⋯</td><td>7.21</td><td>5.67</td><td>7.36</td><td>11.71</td><td> 9.59</td><td> 7.75</td><td>5.64</td><td>7.13</td><td>8.17</td><td>Adeno</td></tr>\n",
              "\t<tr><th scope=row>3</th><td>8.51</td><td>5.20</td><td>7.13</td><td>6.09</td><td>6.64</td><td>6.52</td><td>4.86</td><td>10.99</td><td>8.60</td><td> 9.71</td><td>⋯</td><td>6.78</td><td>5.22</td><td>7.26</td><td>11.65</td><td>10.86</td><td> 9.13</td><td>5.60</td><td>6.92</td><td>7.86</td><td>Adeno</td></tr>\n",
              "\t<tr><th scope=row>4</th><td>8.38</td><td>4.92</td><td>7.50</td><td>6.08</td><td>6.54</td><td>6.83</td><td>4.42</td><td>10.67</td><td>7.05</td><td> 9.58</td><td>⋯</td><td>6.85</td><td>6.24</td><td>7.11</td><td>11.07</td><td>10.17</td><td>10.18</td><td>5.74</td><td>7.50</td><td>7.91</td><td>Adeno</td></tr>\n",
              "\t<tr><th scope=row>5</th><td>7.70</td><td>4.60</td><td>7.40</td><td>5.98</td><td>5.93</td><td>6.16</td><td>4.41</td><td>10.82</td><td>7.43</td><td> 9.35</td><td>⋯</td><td>6.73</td><td>5.96</td><td>6.98</td><td>11.73</td><td> 9.83</td><td> 9.22</td><td>5.86</td><td>7.67</td><td>7.68</td><td>Adeno</td></tr>\n",
              "\t<tr><th scope=row>6</th><td>8.16</td><td>5.24</td><td>7.35</td><td>6.09</td><td>6.51</td><td>6.12</td><td>4.79</td><td>10.69</td><td>7.62</td><td> 9.52</td><td>⋯</td><td>6.88</td><td>6.14</td><td>7.12</td><td>11.06</td><td> 9.85</td><td>10.30</td><td>5.67</td><td>7.59</td><td>7.82</td><td>Adeno</td></tr>\n",
              "</tbody>\n",
              "</table>\n"
            ],
            "text/markdown": "\nA data.frame: 6 × 3014\n\n| <!--/--> | 1007_s_at &lt;dbl&gt; | 1053_at &lt;dbl&gt; | 121_at &lt;dbl&gt; | 1294_at &lt;dbl&gt; | 1487_at &lt;dbl&gt; | 1729_at &lt;dbl&gt; | 177_at &lt;dbl&gt; | 200003_s_at &lt;dbl&gt; | 200005_at &lt;dbl&gt; | 200016_x_at &lt;dbl&gt; | ⋯ ⋯ | 78047_s_at &lt;dbl&gt; | 823_at &lt;dbl&gt; | 90265_at &lt;dbl&gt; | AFFX-HSAC07/X00351_3_at &lt;dbl&gt; | AFFX-HSAC07/X00351_M_at &lt;dbl&gt; | AFFX-HUMGAPDH/M33197_5_at &lt;dbl&gt; | AFFX-M27830_3_at &lt;dbl&gt; | AFFX-M27830_5_at &lt;dbl&gt; | AFFX-M27830_M_at &lt;dbl&gt; | class &lt;chr&gt; |\n|---|---|---|---|---|---|---|---|---|---|---|---|---|---|---|---|---|---|---|---|---|---|\n| 1 | 9.26 | 5.15 | 7.35 | 6.14 | 6.45 | 6.10 | 4.63 | 11.71 | 8.16 |  9.95 | ⋯ | 6.85 | 6.03 | 6.96 | 12.25 | 11.35 | 10.09 | 5.71 | 8.45 | 8.16 | Adeno |\n| 2 | 8.69 | 4.57 | 7.32 | 6.32 | 6.13 | 6.13 | 4.72 | 10.72 | 7.26 | 10.24 | ⋯ | 7.21 | 5.67 | 7.36 | 11.71 |  9.59 |  7.75 | 5.64 | 7.13 | 8.17 | Adeno |\n| 3 | 8.51 | 5.20 | 7.13 | 6.09 | 6.64 | 6.52 | 4.86 | 10.99 | 8.60 |  9.71 | ⋯ | 6.78 | 5.22 | 7.26 | 11.65 | 10.86 |  9.13 | 5.60 | 6.92 | 7.86 | Adeno |\n| 4 | 8.38 | 4.92 | 7.50 | 6.08 | 6.54 | 6.83 | 4.42 | 10.67 | 7.05 |  9.58 | ⋯ | 6.85 | 6.24 | 7.11 | 11.07 | 10.17 | 10.18 | 5.74 | 7.50 | 7.91 | Adeno |\n| 5 | 7.70 | 4.60 | 7.40 | 5.98 | 5.93 | 6.16 | 4.41 | 10.82 | 7.43 |  9.35 | ⋯ | 6.73 | 5.96 | 6.98 | 11.73 |  9.83 |  9.22 | 5.86 | 7.67 | 7.68 | Adeno |\n| 6 | 8.16 | 5.24 | 7.35 | 6.09 | 6.51 | 6.12 | 4.79 | 10.69 | 7.62 |  9.52 | ⋯ | 6.88 | 6.14 | 7.12 | 11.06 |  9.85 | 10.30 | 5.67 | 7.59 | 7.82 | Adeno |\n\n",
            "text/latex": "A data.frame: 6 × 3014\n\\begin{tabular}{r|lllllllllllllllllllll}\n  & 1007\\_s\\_at & 1053\\_at & 121\\_at & 1294\\_at & 1487\\_at & 1729\\_at & 177\\_at & 200003\\_s\\_at & 200005\\_at & 200016\\_x\\_at & ⋯ & 78047\\_s\\_at & 823\\_at & 90265\\_at & AFFX-HSAC07/X00351\\_3\\_at & AFFX-HSAC07/X00351\\_M\\_at & AFFX-HUMGAPDH/M33197\\_5\\_at & AFFX-M27830\\_3\\_at & AFFX-M27830\\_5\\_at & AFFX-M27830\\_M\\_at & class\\\\\n  & <dbl> & <dbl> & <dbl> & <dbl> & <dbl> & <dbl> & <dbl> & <dbl> & <dbl> & <dbl> & ⋯ & <dbl> & <dbl> & <dbl> & <dbl> & <dbl> & <dbl> & <dbl> & <dbl> & <dbl> & <chr>\\\\\n\\hline\n\t1 & 9.26 & 5.15 & 7.35 & 6.14 & 6.45 & 6.10 & 4.63 & 11.71 & 8.16 &  9.95 & ⋯ & 6.85 & 6.03 & 6.96 & 12.25 & 11.35 & 10.09 & 5.71 & 8.45 & 8.16 & Adeno\\\\\n\t2 & 8.69 & 4.57 & 7.32 & 6.32 & 6.13 & 6.13 & 4.72 & 10.72 & 7.26 & 10.24 & ⋯ & 7.21 & 5.67 & 7.36 & 11.71 &  9.59 &  7.75 & 5.64 & 7.13 & 8.17 & Adeno\\\\\n\t3 & 8.51 & 5.20 & 7.13 & 6.09 & 6.64 & 6.52 & 4.86 & 10.99 & 8.60 &  9.71 & ⋯ & 6.78 & 5.22 & 7.26 & 11.65 & 10.86 &  9.13 & 5.60 & 6.92 & 7.86 & Adeno\\\\\n\t4 & 8.38 & 4.92 & 7.50 & 6.08 & 6.54 & 6.83 & 4.42 & 10.67 & 7.05 &  9.58 & ⋯ & 6.85 & 6.24 & 7.11 & 11.07 & 10.17 & 10.18 & 5.74 & 7.50 & 7.91 & Adeno\\\\\n\t5 & 7.70 & 4.60 & 7.40 & 5.98 & 5.93 & 6.16 & 4.41 & 10.82 & 7.43 &  9.35 & ⋯ & 6.73 & 5.96 & 6.98 & 11.73 &  9.83 &  9.22 & 5.86 & 7.67 & 7.68 & Adeno\\\\\n\t6 & 8.16 & 5.24 & 7.35 & 6.09 & 6.51 & 6.12 & 4.79 & 10.69 & 7.62 &  9.52 & ⋯ & 6.88 & 6.14 & 7.12 & 11.06 &  9.85 & 10.30 & 5.67 & 7.59 & 7.82 & Adeno\\\\\n\\end{tabular}\n",
            "text/plain": [
              "  1007_s_at 1053_at 121_at 1294_at 1487_at 1729_at 177_at 200003_s_at 200005_at\n",
              "1 9.26      5.15    7.35   6.14    6.45    6.10    4.63   11.71       8.16     \n",
              "2 8.69      4.57    7.32   6.32    6.13    6.13    4.72   10.72       7.26     \n",
              "3 8.51      5.20    7.13   6.09    6.64    6.52    4.86   10.99       8.60     \n",
              "4 8.38      4.92    7.50   6.08    6.54    6.83    4.42   10.67       7.05     \n",
              "5 7.70      4.60    7.40   5.98    5.93    6.16    4.41   10.82       7.43     \n",
              "6 8.16      5.24    7.35   6.09    6.51    6.12    4.79   10.69       7.62     \n",
              "  200016_x_at ⋯ 78047_s_at 823_at 90265_at AFFX-HSAC07/X00351_3_at\n",
              "1  9.95       ⋯ 6.85       6.03   6.96     12.25                  \n",
              "2 10.24       ⋯ 7.21       5.67   7.36     11.71                  \n",
              "3  9.71       ⋯ 6.78       5.22   7.26     11.65                  \n",
              "4  9.58       ⋯ 6.85       6.24   7.11     11.07                  \n",
              "5  9.35       ⋯ 6.73       5.96   6.98     11.73                  \n",
              "6  9.52       ⋯ 6.88       6.14   7.12     11.06                  \n",
              "  AFFX-HSAC07/X00351_M_at AFFX-HUMGAPDH/M33197_5_at AFFX-M27830_3_at\n",
              "1 11.35                   10.09                     5.71            \n",
              "2  9.59                    7.75                     5.64            \n",
              "3 10.86                    9.13                     5.60            \n",
              "4 10.17                   10.18                     5.74            \n",
              "5  9.83                    9.22                     5.86            \n",
              "6  9.85                   10.30                     5.67            \n",
              "  AFFX-M27830_5_at AFFX-M27830_M_at class\n",
              "1 8.45             8.16             Adeno\n",
              "2 7.13             8.17             Adeno\n",
              "3 6.92             7.86             Adeno\n",
              "4 7.50             7.91             Adeno\n",
              "5 7.67             7.68             Adeno\n",
              "6 7.59             7.82             Adeno"
            ]
          },
          "metadata": {}
        }
      ]
    },
    {
      "cell_type": "code",
      "source": [
        "adeno_te = adeno[7:10, ]\n",
        "adeno_te"
      ],
      "metadata": {
        "colab": {
          "base_uri": "https://localhost:8080/",
          "height": 261
        },
        "id": "5fuGfKcM1r-9",
        "outputId": "74361a1f-0ea5-4b67-ec0c-a6cba88e7345"
      },
      "execution_count": null,
      "outputs": [
        {
          "output_type": "display_data",
          "data": {
            "text/html": [
              "<table class=\"dataframe\">\n",
              "<caption>A data.frame: 4 × 3014</caption>\n",
              "<thead>\n",
              "\t<tr><th></th><th scope=col>1007_s_at</th><th scope=col>1053_at</th><th scope=col>121_at</th><th scope=col>1294_at</th><th scope=col>1487_at</th><th scope=col>1729_at</th><th scope=col>177_at</th><th scope=col>200003_s_at</th><th scope=col>200005_at</th><th scope=col>200016_x_at</th><th scope=col>⋯</th><th scope=col>78047_s_at</th><th scope=col>823_at</th><th scope=col>90265_at</th><th scope=col>AFFX-HSAC07/X00351_3_at</th><th scope=col>AFFX-HSAC07/X00351_M_at</th><th scope=col>AFFX-HUMGAPDH/M33197_5_at</th><th scope=col>AFFX-M27830_3_at</th><th scope=col>AFFX-M27830_5_at</th><th scope=col>AFFX-M27830_M_at</th><th scope=col>class</th></tr>\n",
              "\t<tr><th></th><th scope=col>&lt;dbl&gt;</th><th scope=col>&lt;dbl&gt;</th><th scope=col>&lt;dbl&gt;</th><th scope=col>&lt;dbl&gt;</th><th scope=col>&lt;dbl&gt;</th><th scope=col>&lt;dbl&gt;</th><th scope=col>&lt;dbl&gt;</th><th scope=col>&lt;dbl&gt;</th><th scope=col>&lt;dbl&gt;</th><th scope=col>&lt;dbl&gt;</th><th scope=col>⋯</th><th scope=col>&lt;dbl&gt;</th><th scope=col>&lt;dbl&gt;</th><th scope=col>&lt;dbl&gt;</th><th scope=col>&lt;dbl&gt;</th><th scope=col>&lt;dbl&gt;</th><th scope=col>&lt;dbl&gt;</th><th scope=col>&lt;dbl&gt;</th><th scope=col>&lt;dbl&gt;</th><th scope=col>&lt;dbl&gt;</th><th scope=col>&lt;chr&gt;</th></tr>\n",
              "</thead>\n",
              "<tbody>\n",
              "\t<tr><th scope=row>7</th><td>7.73</td><td>4.64</td><td>7.32</td><td>6.43</td><td>6.09</td><td>6.08</td><td>4.85</td><td>10.89</td><td>7.51</td><td> 9.74</td><td>⋯</td><td>6.77</td><td>5.81</td><td>7.07</td><td>11.58</td><td>10.53</td><td>8.28</td><td>5.35</td><td> 7.80</td><td>8.26</td><td>Adeno</td></tr>\n",
              "\t<tr><th scope=row>8</th><td>8.33</td><td>5.64</td><td>7.32</td><td>5.86</td><td>6.36</td><td>6.42</td><td>4.76</td><td>11.13</td><td>8.52</td><td> 9.59</td><td>⋯</td><td>6.70</td><td>4.86</td><td>6.81</td><td>11.44</td><td>10.48</td><td>9.81</td><td>5.56</td><td> 9.16</td><td>8.96</td><td>Adeno</td></tr>\n",
              "\t<tr><th scope=row>9</th><td>7.47</td><td>5.64</td><td>7.09</td><td>6.63</td><td>6.47</td><td>5.85</td><td>4.96</td><td>11.26</td><td>7.53</td><td> 9.96</td><td>⋯</td><td>6.63</td><td>5.01</td><td>7.27</td><td>11.26</td><td> 8.73</td><td>8.22</td><td>5.62</td><td>10.17</td><td>9.50</td><td>Adeno</td></tr>\n",
              "\t<tr><th scope=row>10</th><td>8.39</td><td>5.42</td><td>7.08</td><td>6.11</td><td>6.22</td><td>6.54</td><td>4.57</td><td>11.10</td><td>7.92</td><td>10.10</td><td>⋯</td><td>6.68</td><td>6.27</td><td>7.38</td><td>11.03</td><td> 8.81</td><td>7.82</td><td>5.41</td><td> 8.69</td><td>8.68</td><td>Adeno</td></tr>\n",
              "</tbody>\n",
              "</table>\n"
            ],
            "text/markdown": "\nA data.frame: 4 × 3014\n\n| <!--/--> | 1007_s_at &lt;dbl&gt; | 1053_at &lt;dbl&gt; | 121_at &lt;dbl&gt; | 1294_at &lt;dbl&gt; | 1487_at &lt;dbl&gt; | 1729_at &lt;dbl&gt; | 177_at &lt;dbl&gt; | 200003_s_at &lt;dbl&gt; | 200005_at &lt;dbl&gt; | 200016_x_at &lt;dbl&gt; | ⋯ ⋯ | 78047_s_at &lt;dbl&gt; | 823_at &lt;dbl&gt; | 90265_at &lt;dbl&gt; | AFFX-HSAC07/X00351_3_at &lt;dbl&gt; | AFFX-HSAC07/X00351_M_at &lt;dbl&gt; | AFFX-HUMGAPDH/M33197_5_at &lt;dbl&gt; | AFFX-M27830_3_at &lt;dbl&gt; | AFFX-M27830_5_at &lt;dbl&gt; | AFFX-M27830_M_at &lt;dbl&gt; | class &lt;chr&gt; |\n|---|---|---|---|---|---|---|---|---|---|---|---|---|---|---|---|---|---|---|---|---|---|\n| 7 | 7.73 | 4.64 | 7.32 | 6.43 | 6.09 | 6.08 | 4.85 | 10.89 | 7.51 |  9.74 | ⋯ | 6.77 | 5.81 | 7.07 | 11.58 | 10.53 | 8.28 | 5.35 |  7.80 | 8.26 | Adeno |\n| 8 | 8.33 | 5.64 | 7.32 | 5.86 | 6.36 | 6.42 | 4.76 | 11.13 | 8.52 |  9.59 | ⋯ | 6.70 | 4.86 | 6.81 | 11.44 | 10.48 | 9.81 | 5.56 |  9.16 | 8.96 | Adeno |\n| 9 | 7.47 | 5.64 | 7.09 | 6.63 | 6.47 | 5.85 | 4.96 | 11.26 | 7.53 |  9.96 | ⋯ | 6.63 | 5.01 | 7.27 | 11.26 |  8.73 | 8.22 | 5.62 | 10.17 | 9.50 | Adeno |\n| 10 | 8.39 | 5.42 | 7.08 | 6.11 | 6.22 | 6.54 | 4.57 | 11.10 | 7.92 | 10.10 | ⋯ | 6.68 | 6.27 | 7.38 | 11.03 |  8.81 | 7.82 | 5.41 |  8.69 | 8.68 | Adeno |\n\n",
            "text/latex": "A data.frame: 4 × 3014\n\\begin{tabular}{r|lllllllllllllllllllll}\n  & 1007\\_s\\_at & 1053\\_at & 121\\_at & 1294\\_at & 1487\\_at & 1729\\_at & 177\\_at & 200003\\_s\\_at & 200005\\_at & 200016\\_x\\_at & ⋯ & 78047\\_s\\_at & 823\\_at & 90265\\_at & AFFX-HSAC07/X00351\\_3\\_at & AFFX-HSAC07/X00351\\_M\\_at & AFFX-HUMGAPDH/M33197\\_5\\_at & AFFX-M27830\\_3\\_at & AFFX-M27830\\_5\\_at & AFFX-M27830\\_M\\_at & class\\\\\n  & <dbl> & <dbl> & <dbl> & <dbl> & <dbl> & <dbl> & <dbl> & <dbl> & <dbl> & <dbl> & ⋯ & <dbl> & <dbl> & <dbl> & <dbl> & <dbl> & <dbl> & <dbl> & <dbl> & <dbl> & <chr>\\\\\n\\hline\n\t7 & 7.73 & 4.64 & 7.32 & 6.43 & 6.09 & 6.08 & 4.85 & 10.89 & 7.51 &  9.74 & ⋯ & 6.77 & 5.81 & 7.07 & 11.58 & 10.53 & 8.28 & 5.35 &  7.80 & 8.26 & Adeno\\\\\n\t8 & 8.33 & 5.64 & 7.32 & 5.86 & 6.36 & 6.42 & 4.76 & 11.13 & 8.52 &  9.59 & ⋯ & 6.70 & 4.86 & 6.81 & 11.44 & 10.48 & 9.81 & 5.56 &  9.16 & 8.96 & Adeno\\\\\n\t9 & 7.47 & 5.64 & 7.09 & 6.63 & 6.47 & 5.85 & 4.96 & 11.26 & 7.53 &  9.96 & ⋯ & 6.63 & 5.01 & 7.27 & 11.26 &  8.73 & 8.22 & 5.62 & 10.17 & 9.50 & Adeno\\\\\n\t10 & 8.39 & 5.42 & 7.08 & 6.11 & 6.22 & 6.54 & 4.57 & 11.10 & 7.92 & 10.10 & ⋯ & 6.68 & 6.27 & 7.38 & 11.03 &  8.81 & 7.82 & 5.41 &  8.69 & 8.68 & Adeno\\\\\n\\end{tabular}\n",
            "text/plain": [
              "   1007_s_at 1053_at 121_at 1294_at 1487_at 1729_at 177_at 200003_s_at\n",
              "7  7.73      4.64    7.32   6.43    6.09    6.08    4.85   10.89      \n",
              "8  8.33      5.64    7.32   5.86    6.36    6.42    4.76   11.13      \n",
              "9  7.47      5.64    7.09   6.63    6.47    5.85    4.96   11.26      \n",
              "10 8.39      5.42    7.08   6.11    6.22    6.54    4.57   11.10      \n",
              "   200005_at 200016_x_at ⋯ 78047_s_at 823_at 90265_at AFFX-HSAC07/X00351_3_at\n",
              "7  7.51       9.74       ⋯ 6.77       5.81   7.07     11.58                  \n",
              "8  8.52       9.59       ⋯ 6.70       4.86   6.81     11.44                  \n",
              "9  7.53       9.96       ⋯ 6.63       5.01   7.27     11.26                  \n",
              "10 7.92      10.10       ⋯ 6.68       6.27   7.38     11.03                  \n",
              "   AFFX-HSAC07/X00351_M_at AFFX-HUMGAPDH/M33197_5_at AFFX-M27830_3_at\n",
              "7  10.53                   8.28                      5.35            \n",
              "8  10.48                   9.81                      5.56            \n",
              "9   8.73                   8.22                      5.62            \n",
              "10  8.81                   7.82                      5.41            \n",
              "   AFFX-M27830_5_at AFFX-M27830_M_at class\n",
              "7   7.80            8.26             Adeno\n",
              "8   9.16            8.96             Adeno\n",
              "9  10.17            9.50             Adeno\n",
              "10  8.69            8.68             Adeno"
            ]
          },
          "metadata": {}
        }
      ]
    },
    {
      "cell_type": "code",
      "source": [
        "sclc = t_df[t_df$class == 'SCLC', ]\n",
        "sclc"
      ],
      "metadata": {
        "colab": {
          "base_uri": "https://localhost:8080/",
          "height": 418
        },
        "id": "hLYT4t9E2B4q",
        "outputId": "37a0eb56-cde3-4e2b-c9c7-f133432f710c"
      },
      "execution_count": null,
      "outputs": [
        {
          "output_type": "display_data",
          "data": {
            "text/html": [
              "<table class=\"dataframe\">\n",
              "<caption>A data.frame: 9 × 3014</caption>\n",
              "<thead>\n",
              "\t<tr><th></th><th scope=col>1007_s_at</th><th scope=col>1053_at</th><th scope=col>121_at</th><th scope=col>1294_at</th><th scope=col>1487_at</th><th scope=col>1729_at</th><th scope=col>177_at</th><th scope=col>200003_s_at</th><th scope=col>200005_at</th><th scope=col>200016_x_at</th><th scope=col>⋯</th><th scope=col>78047_s_at</th><th scope=col>823_at</th><th scope=col>90265_at</th><th scope=col>AFFX-HSAC07/X00351_3_at</th><th scope=col>AFFX-HSAC07/X00351_M_at</th><th scope=col>AFFX-HUMGAPDH/M33197_5_at</th><th scope=col>AFFX-M27830_3_at</th><th scope=col>AFFX-M27830_5_at</th><th scope=col>AFFX-M27830_M_at</th><th scope=col>class</th></tr>\n",
              "\t<tr><th></th><th scope=col>&lt;dbl&gt;</th><th scope=col>&lt;dbl&gt;</th><th scope=col>&lt;dbl&gt;</th><th scope=col>&lt;dbl&gt;</th><th scope=col>&lt;dbl&gt;</th><th scope=col>&lt;dbl&gt;</th><th scope=col>&lt;dbl&gt;</th><th scope=col>&lt;dbl&gt;</th><th scope=col>&lt;dbl&gt;</th><th scope=col>&lt;dbl&gt;</th><th scope=col>⋯</th><th scope=col>&lt;dbl&gt;</th><th scope=col>&lt;dbl&gt;</th><th scope=col>&lt;dbl&gt;</th><th scope=col>&lt;dbl&gt;</th><th scope=col>&lt;dbl&gt;</th><th scope=col>&lt;dbl&gt;</th><th scope=col>&lt;dbl&gt;</th><th scope=col>&lt;dbl&gt;</th><th scope=col>&lt;dbl&gt;</th><th scope=col>&lt;chr&gt;</th></tr>\n",
              "</thead>\n",
              "<tbody>\n",
              "\t<tr><th scope=row>11</th><td>7.88</td><td>5.85</td><td>7.06</td><td>5.69</td><td>6.16</td><td>6.12</td><td>4.73</td><td>10.83</td><td>7.40</td><td>10.27</td><td>⋯</td><td>6.74</td><td>5.55</td><td>6.77</td><td>10.62</td><td> 9.63</td><td>11.02</td><td>5.66</td><td>8.37</td><td>8.16</td><td>SCLC</td></tr>\n",
              "\t<tr><th scope=row>12</th><td>8.43</td><td>5.31</td><td>7.12</td><td>5.97</td><td>6.24</td><td>6.39</td><td>4.84</td><td>11.06</td><td>7.76</td><td>10.46</td><td>⋯</td><td>6.47</td><td>5.67</td><td>6.73</td><td>10.98</td><td> 9.03</td><td>10.11</td><td>5.39</td><td>7.61</td><td>7.80</td><td>SCLC</td></tr>\n",
              "\t<tr><th scope=row>13</th><td>7.84</td><td>6.18</td><td>7.20</td><td>5.71</td><td>6.12</td><td>6.45</td><td>4.47</td><td>10.74</td><td>7.74</td><td> 9.88</td><td>⋯</td><td>6.74</td><td>5.64</td><td>6.88</td><td>10.52</td><td> 9.84</td><td>11.14</td><td>5.41</td><td>8.47</td><td>8.39</td><td>SCLC</td></tr>\n",
              "\t<tr><th scope=row>14</th><td>8.31</td><td>5.76</td><td>7.09</td><td>5.81</td><td>5.85</td><td>5.84</td><td>4.63</td><td>10.47</td><td>7.37</td><td>10.24</td><td>⋯</td><td>6.36</td><td>5.45</td><td>6.67</td><td>10.90</td><td>10.30</td><td>10.43</td><td>5.31</td><td>8.31</td><td>8.48</td><td>SCLC</td></tr>\n",
              "\t<tr><th scope=row>15</th><td>8.37</td><td>5.90</td><td>7.08</td><td>5.44</td><td>5.83</td><td>5.71</td><td>4.58</td><td>10.57</td><td>7.17</td><td>10.12</td><td>⋯</td><td>6.54</td><td>5.34</td><td>6.65</td><td>11.19</td><td>10.36</td><td> 9.88</td><td>5.27</td><td>9.52</td><td>8.75</td><td>SCLC</td></tr>\n",
              "\t<tr><th scope=row>16</th><td>8.24</td><td>5.65</td><td>7.05</td><td>5.61</td><td>5.69</td><td>5.68</td><td>4.43</td><td>10.43</td><td>7.51</td><td> 9.84</td><td>⋯</td><td>6.35</td><td>5.32</td><td>6.78</td><td>10.82</td><td>10.41</td><td>10.11</td><td>5.33</td><td>7.21</td><td>7.76</td><td>SCLC</td></tr>\n",
              "\t<tr><th scope=row>17</th><td>8.16</td><td>5.84</td><td>7.03</td><td>6.02</td><td>6.13</td><td>6.07</td><td>4.42</td><td>10.48</td><td>7.15</td><td>10.03</td><td>⋯</td><td>6.44</td><td>5.32</td><td>6.73</td><td>10.49</td><td>10.02</td><td>10.17</td><td>5.38</td><td>8.47</td><td>8.57</td><td>SCLC</td></tr>\n",
              "\t<tr><th scope=row>18</th><td>8.19</td><td>5.69</td><td>7.03</td><td>5.79</td><td>5.91</td><td>5.71</td><td>4.44</td><td>10.54</td><td>7.15</td><td>10.47</td><td>⋯</td><td>6.45</td><td>5.18</td><td>6.61</td><td>11.17</td><td>10.00</td><td>10.19</td><td>5.46</td><td>7.94</td><td>7.88</td><td>SCLC</td></tr>\n",
              "\t<tr><th scope=row>19</th><td>8.23</td><td>5.10</td><td>7.07</td><td>5.66</td><td>6.28</td><td>5.83</td><td>4.33</td><td>10.48</td><td>7.11</td><td>10.46</td><td>⋯</td><td>6.45</td><td>5.51</td><td>6.79</td><td>10.97</td><td> 9.36</td><td> 9.27</td><td>5.44</td><td>8.38</td><td>8.79</td><td>SCLC</td></tr>\n",
              "</tbody>\n",
              "</table>\n"
            ],
            "text/markdown": "\nA data.frame: 9 × 3014\n\n| <!--/--> | 1007_s_at &lt;dbl&gt; | 1053_at &lt;dbl&gt; | 121_at &lt;dbl&gt; | 1294_at &lt;dbl&gt; | 1487_at &lt;dbl&gt; | 1729_at &lt;dbl&gt; | 177_at &lt;dbl&gt; | 200003_s_at &lt;dbl&gt; | 200005_at &lt;dbl&gt; | 200016_x_at &lt;dbl&gt; | ⋯ ⋯ | 78047_s_at &lt;dbl&gt; | 823_at &lt;dbl&gt; | 90265_at &lt;dbl&gt; | AFFX-HSAC07/X00351_3_at &lt;dbl&gt; | AFFX-HSAC07/X00351_M_at &lt;dbl&gt; | AFFX-HUMGAPDH/M33197_5_at &lt;dbl&gt; | AFFX-M27830_3_at &lt;dbl&gt; | AFFX-M27830_5_at &lt;dbl&gt; | AFFX-M27830_M_at &lt;dbl&gt; | class &lt;chr&gt; |\n|---|---|---|---|---|---|---|---|---|---|---|---|---|---|---|---|---|---|---|---|---|---|\n| 11 | 7.88 | 5.85 | 7.06 | 5.69 | 6.16 | 6.12 | 4.73 | 10.83 | 7.40 | 10.27 | ⋯ | 6.74 | 5.55 | 6.77 | 10.62 |  9.63 | 11.02 | 5.66 | 8.37 | 8.16 | SCLC |\n| 12 | 8.43 | 5.31 | 7.12 | 5.97 | 6.24 | 6.39 | 4.84 | 11.06 | 7.76 | 10.46 | ⋯ | 6.47 | 5.67 | 6.73 | 10.98 |  9.03 | 10.11 | 5.39 | 7.61 | 7.80 | SCLC |\n| 13 | 7.84 | 6.18 | 7.20 | 5.71 | 6.12 | 6.45 | 4.47 | 10.74 | 7.74 |  9.88 | ⋯ | 6.74 | 5.64 | 6.88 | 10.52 |  9.84 | 11.14 | 5.41 | 8.47 | 8.39 | SCLC |\n| 14 | 8.31 | 5.76 | 7.09 | 5.81 | 5.85 | 5.84 | 4.63 | 10.47 | 7.37 | 10.24 | ⋯ | 6.36 | 5.45 | 6.67 | 10.90 | 10.30 | 10.43 | 5.31 | 8.31 | 8.48 | SCLC |\n| 15 | 8.37 | 5.90 | 7.08 | 5.44 | 5.83 | 5.71 | 4.58 | 10.57 | 7.17 | 10.12 | ⋯ | 6.54 | 5.34 | 6.65 | 11.19 | 10.36 |  9.88 | 5.27 | 9.52 | 8.75 | SCLC |\n| 16 | 8.24 | 5.65 | 7.05 | 5.61 | 5.69 | 5.68 | 4.43 | 10.43 | 7.51 |  9.84 | ⋯ | 6.35 | 5.32 | 6.78 | 10.82 | 10.41 | 10.11 | 5.33 | 7.21 | 7.76 | SCLC |\n| 17 | 8.16 | 5.84 | 7.03 | 6.02 | 6.13 | 6.07 | 4.42 | 10.48 | 7.15 | 10.03 | ⋯ | 6.44 | 5.32 | 6.73 | 10.49 | 10.02 | 10.17 | 5.38 | 8.47 | 8.57 | SCLC |\n| 18 | 8.19 | 5.69 | 7.03 | 5.79 | 5.91 | 5.71 | 4.44 | 10.54 | 7.15 | 10.47 | ⋯ | 6.45 | 5.18 | 6.61 | 11.17 | 10.00 | 10.19 | 5.46 | 7.94 | 7.88 | SCLC |\n| 19 | 8.23 | 5.10 | 7.07 | 5.66 | 6.28 | 5.83 | 4.33 | 10.48 | 7.11 | 10.46 | ⋯ | 6.45 | 5.51 | 6.79 | 10.97 |  9.36 |  9.27 | 5.44 | 8.38 | 8.79 | SCLC |\n\n",
            "text/latex": "A data.frame: 9 × 3014\n\\begin{tabular}{r|lllllllllllllllllllll}\n  & 1007\\_s\\_at & 1053\\_at & 121\\_at & 1294\\_at & 1487\\_at & 1729\\_at & 177\\_at & 200003\\_s\\_at & 200005\\_at & 200016\\_x\\_at & ⋯ & 78047\\_s\\_at & 823\\_at & 90265\\_at & AFFX-HSAC07/X00351\\_3\\_at & AFFX-HSAC07/X00351\\_M\\_at & AFFX-HUMGAPDH/M33197\\_5\\_at & AFFX-M27830\\_3\\_at & AFFX-M27830\\_5\\_at & AFFX-M27830\\_M\\_at & class\\\\\n  & <dbl> & <dbl> & <dbl> & <dbl> & <dbl> & <dbl> & <dbl> & <dbl> & <dbl> & <dbl> & ⋯ & <dbl> & <dbl> & <dbl> & <dbl> & <dbl> & <dbl> & <dbl> & <dbl> & <dbl> & <chr>\\\\\n\\hline\n\t11 & 7.88 & 5.85 & 7.06 & 5.69 & 6.16 & 6.12 & 4.73 & 10.83 & 7.40 & 10.27 & ⋯ & 6.74 & 5.55 & 6.77 & 10.62 &  9.63 & 11.02 & 5.66 & 8.37 & 8.16 & SCLC\\\\\n\t12 & 8.43 & 5.31 & 7.12 & 5.97 & 6.24 & 6.39 & 4.84 & 11.06 & 7.76 & 10.46 & ⋯ & 6.47 & 5.67 & 6.73 & 10.98 &  9.03 & 10.11 & 5.39 & 7.61 & 7.80 & SCLC\\\\\n\t13 & 7.84 & 6.18 & 7.20 & 5.71 & 6.12 & 6.45 & 4.47 & 10.74 & 7.74 &  9.88 & ⋯ & 6.74 & 5.64 & 6.88 & 10.52 &  9.84 & 11.14 & 5.41 & 8.47 & 8.39 & SCLC\\\\\n\t14 & 8.31 & 5.76 & 7.09 & 5.81 & 5.85 & 5.84 & 4.63 & 10.47 & 7.37 & 10.24 & ⋯ & 6.36 & 5.45 & 6.67 & 10.90 & 10.30 & 10.43 & 5.31 & 8.31 & 8.48 & SCLC\\\\\n\t15 & 8.37 & 5.90 & 7.08 & 5.44 & 5.83 & 5.71 & 4.58 & 10.57 & 7.17 & 10.12 & ⋯ & 6.54 & 5.34 & 6.65 & 11.19 & 10.36 &  9.88 & 5.27 & 9.52 & 8.75 & SCLC\\\\\n\t16 & 8.24 & 5.65 & 7.05 & 5.61 & 5.69 & 5.68 & 4.43 & 10.43 & 7.51 &  9.84 & ⋯ & 6.35 & 5.32 & 6.78 & 10.82 & 10.41 & 10.11 & 5.33 & 7.21 & 7.76 & SCLC\\\\\n\t17 & 8.16 & 5.84 & 7.03 & 6.02 & 6.13 & 6.07 & 4.42 & 10.48 & 7.15 & 10.03 & ⋯ & 6.44 & 5.32 & 6.73 & 10.49 & 10.02 & 10.17 & 5.38 & 8.47 & 8.57 & SCLC\\\\\n\t18 & 8.19 & 5.69 & 7.03 & 5.79 & 5.91 & 5.71 & 4.44 & 10.54 & 7.15 & 10.47 & ⋯ & 6.45 & 5.18 & 6.61 & 11.17 & 10.00 & 10.19 & 5.46 & 7.94 & 7.88 & SCLC\\\\\n\t19 & 8.23 & 5.10 & 7.07 & 5.66 & 6.28 & 5.83 & 4.33 & 10.48 & 7.11 & 10.46 & ⋯ & 6.45 & 5.51 & 6.79 & 10.97 &  9.36 &  9.27 & 5.44 & 8.38 & 8.79 & SCLC\\\\\n\\end{tabular}\n",
            "text/plain": [
              "   1007_s_at 1053_at 121_at 1294_at 1487_at 1729_at 177_at 200003_s_at\n",
              "11 7.88      5.85    7.06   5.69    6.16    6.12    4.73   10.83      \n",
              "12 8.43      5.31    7.12   5.97    6.24    6.39    4.84   11.06      \n",
              "13 7.84      6.18    7.20   5.71    6.12    6.45    4.47   10.74      \n",
              "14 8.31      5.76    7.09   5.81    5.85    5.84    4.63   10.47      \n",
              "15 8.37      5.90    7.08   5.44    5.83    5.71    4.58   10.57      \n",
              "16 8.24      5.65    7.05   5.61    5.69    5.68    4.43   10.43      \n",
              "17 8.16      5.84    7.03   6.02    6.13    6.07    4.42   10.48      \n",
              "18 8.19      5.69    7.03   5.79    5.91    5.71    4.44   10.54      \n",
              "19 8.23      5.10    7.07   5.66    6.28    5.83    4.33   10.48      \n",
              "   200005_at 200016_x_at ⋯ 78047_s_at 823_at 90265_at AFFX-HSAC07/X00351_3_at\n",
              "11 7.40      10.27       ⋯ 6.74       5.55   6.77     10.62                  \n",
              "12 7.76      10.46       ⋯ 6.47       5.67   6.73     10.98                  \n",
              "13 7.74       9.88       ⋯ 6.74       5.64   6.88     10.52                  \n",
              "14 7.37      10.24       ⋯ 6.36       5.45   6.67     10.90                  \n",
              "15 7.17      10.12       ⋯ 6.54       5.34   6.65     11.19                  \n",
              "16 7.51       9.84       ⋯ 6.35       5.32   6.78     10.82                  \n",
              "17 7.15      10.03       ⋯ 6.44       5.32   6.73     10.49                  \n",
              "18 7.15      10.47       ⋯ 6.45       5.18   6.61     11.17                  \n",
              "19 7.11      10.46       ⋯ 6.45       5.51   6.79     10.97                  \n",
              "   AFFX-HSAC07/X00351_M_at AFFX-HUMGAPDH/M33197_5_at AFFX-M27830_3_at\n",
              "11  9.63                   11.02                     5.66            \n",
              "12  9.03                   10.11                     5.39            \n",
              "13  9.84                   11.14                     5.41            \n",
              "14 10.30                   10.43                     5.31            \n",
              "15 10.36                    9.88                     5.27            \n",
              "16 10.41                   10.11                     5.33            \n",
              "17 10.02                   10.17                     5.38            \n",
              "18 10.00                   10.19                     5.46            \n",
              "19  9.36                    9.27                     5.44            \n",
              "   AFFX-M27830_5_at AFFX-M27830_M_at class\n",
              "11 8.37             8.16             SCLC \n",
              "12 7.61             7.80             SCLC \n",
              "13 8.47             8.39             SCLC \n",
              "14 8.31             8.48             SCLC \n",
              "15 9.52             8.75             SCLC \n",
              "16 7.21             7.76             SCLC \n",
              "17 8.47             8.57             SCLC \n",
              "18 7.94             7.88             SCLC \n",
              "19 8.38             8.79             SCLC "
            ]
          },
          "metadata": {}
        }
      ]
    },
    {
      "cell_type": "code",
      "source": [
        "sclc_tr = sclc[1:6, ]\n",
        "sclc_tr"
      ],
      "metadata": {
        "colab": {
          "base_uri": "https://localhost:8080/",
          "height": 324
        },
        "id": "ap8kDfU32B8W",
        "outputId": "4b700fe5-2159-4342-e5ec-d6728068794f"
      },
      "execution_count": null,
      "outputs": [
        {
          "output_type": "display_data",
          "data": {
            "text/html": [
              "<table class=\"dataframe\">\n",
              "<caption>A data.frame: 6 × 3014</caption>\n",
              "<thead>\n",
              "\t<tr><th></th><th scope=col>1007_s_at</th><th scope=col>1053_at</th><th scope=col>121_at</th><th scope=col>1294_at</th><th scope=col>1487_at</th><th scope=col>1729_at</th><th scope=col>177_at</th><th scope=col>200003_s_at</th><th scope=col>200005_at</th><th scope=col>200016_x_at</th><th scope=col>⋯</th><th scope=col>78047_s_at</th><th scope=col>823_at</th><th scope=col>90265_at</th><th scope=col>AFFX-HSAC07/X00351_3_at</th><th scope=col>AFFX-HSAC07/X00351_M_at</th><th scope=col>AFFX-HUMGAPDH/M33197_5_at</th><th scope=col>AFFX-M27830_3_at</th><th scope=col>AFFX-M27830_5_at</th><th scope=col>AFFX-M27830_M_at</th><th scope=col>class</th></tr>\n",
              "\t<tr><th></th><th scope=col>&lt;dbl&gt;</th><th scope=col>&lt;dbl&gt;</th><th scope=col>&lt;dbl&gt;</th><th scope=col>&lt;dbl&gt;</th><th scope=col>&lt;dbl&gt;</th><th scope=col>&lt;dbl&gt;</th><th scope=col>&lt;dbl&gt;</th><th scope=col>&lt;dbl&gt;</th><th scope=col>&lt;dbl&gt;</th><th scope=col>&lt;dbl&gt;</th><th scope=col>⋯</th><th scope=col>&lt;dbl&gt;</th><th scope=col>&lt;dbl&gt;</th><th scope=col>&lt;dbl&gt;</th><th scope=col>&lt;dbl&gt;</th><th scope=col>&lt;dbl&gt;</th><th scope=col>&lt;dbl&gt;</th><th scope=col>&lt;dbl&gt;</th><th scope=col>&lt;dbl&gt;</th><th scope=col>&lt;dbl&gt;</th><th scope=col>&lt;chr&gt;</th></tr>\n",
              "</thead>\n",
              "<tbody>\n",
              "\t<tr><th scope=row>11</th><td>7.88</td><td>5.85</td><td>7.06</td><td>5.69</td><td>6.16</td><td>6.12</td><td>4.73</td><td>10.83</td><td>7.40</td><td>10.27</td><td>⋯</td><td>6.74</td><td>5.55</td><td>6.77</td><td>10.62</td><td> 9.63</td><td>11.02</td><td>5.66</td><td>8.37</td><td>8.16</td><td>SCLC</td></tr>\n",
              "\t<tr><th scope=row>12</th><td>8.43</td><td>5.31</td><td>7.12</td><td>5.97</td><td>6.24</td><td>6.39</td><td>4.84</td><td>11.06</td><td>7.76</td><td>10.46</td><td>⋯</td><td>6.47</td><td>5.67</td><td>6.73</td><td>10.98</td><td> 9.03</td><td>10.11</td><td>5.39</td><td>7.61</td><td>7.80</td><td>SCLC</td></tr>\n",
              "\t<tr><th scope=row>13</th><td>7.84</td><td>6.18</td><td>7.20</td><td>5.71</td><td>6.12</td><td>6.45</td><td>4.47</td><td>10.74</td><td>7.74</td><td> 9.88</td><td>⋯</td><td>6.74</td><td>5.64</td><td>6.88</td><td>10.52</td><td> 9.84</td><td>11.14</td><td>5.41</td><td>8.47</td><td>8.39</td><td>SCLC</td></tr>\n",
              "\t<tr><th scope=row>14</th><td>8.31</td><td>5.76</td><td>7.09</td><td>5.81</td><td>5.85</td><td>5.84</td><td>4.63</td><td>10.47</td><td>7.37</td><td>10.24</td><td>⋯</td><td>6.36</td><td>5.45</td><td>6.67</td><td>10.90</td><td>10.30</td><td>10.43</td><td>5.31</td><td>8.31</td><td>8.48</td><td>SCLC</td></tr>\n",
              "\t<tr><th scope=row>15</th><td>8.37</td><td>5.90</td><td>7.08</td><td>5.44</td><td>5.83</td><td>5.71</td><td>4.58</td><td>10.57</td><td>7.17</td><td>10.12</td><td>⋯</td><td>6.54</td><td>5.34</td><td>6.65</td><td>11.19</td><td>10.36</td><td> 9.88</td><td>5.27</td><td>9.52</td><td>8.75</td><td>SCLC</td></tr>\n",
              "\t<tr><th scope=row>16</th><td>8.24</td><td>5.65</td><td>7.05</td><td>5.61</td><td>5.69</td><td>5.68</td><td>4.43</td><td>10.43</td><td>7.51</td><td> 9.84</td><td>⋯</td><td>6.35</td><td>5.32</td><td>6.78</td><td>10.82</td><td>10.41</td><td>10.11</td><td>5.33</td><td>7.21</td><td>7.76</td><td>SCLC</td></tr>\n",
              "</tbody>\n",
              "</table>\n"
            ],
            "text/markdown": "\nA data.frame: 6 × 3014\n\n| <!--/--> | 1007_s_at &lt;dbl&gt; | 1053_at &lt;dbl&gt; | 121_at &lt;dbl&gt; | 1294_at &lt;dbl&gt; | 1487_at &lt;dbl&gt; | 1729_at &lt;dbl&gt; | 177_at &lt;dbl&gt; | 200003_s_at &lt;dbl&gt; | 200005_at &lt;dbl&gt; | 200016_x_at &lt;dbl&gt; | ⋯ ⋯ | 78047_s_at &lt;dbl&gt; | 823_at &lt;dbl&gt; | 90265_at &lt;dbl&gt; | AFFX-HSAC07/X00351_3_at &lt;dbl&gt; | AFFX-HSAC07/X00351_M_at &lt;dbl&gt; | AFFX-HUMGAPDH/M33197_5_at &lt;dbl&gt; | AFFX-M27830_3_at &lt;dbl&gt; | AFFX-M27830_5_at &lt;dbl&gt; | AFFX-M27830_M_at &lt;dbl&gt; | class &lt;chr&gt; |\n|---|---|---|---|---|---|---|---|---|---|---|---|---|---|---|---|---|---|---|---|---|---|\n| 11 | 7.88 | 5.85 | 7.06 | 5.69 | 6.16 | 6.12 | 4.73 | 10.83 | 7.40 | 10.27 | ⋯ | 6.74 | 5.55 | 6.77 | 10.62 |  9.63 | 11.02 | 5.66 | 8.37 | 8.16 | SCLC |\n| 12 | 8.43 | 5.31 | 7.12 | 5.97 | 6.24 | 6.39 | 4.84 | 11.06 | 7.76 | 10.46 | ⋯ | 6.47 | 5.67 | 6.73 | 10.98 |  9.03 | 10.11 | 5.39 | 7.61 | 7.80 | SCLC |\n| 13 | 7.84 | 6.18 | 7.20 | 5.71 | 6.12 | 6.45 | 4.47 | 10.74 | 7.74 |  9.88 | ⋯ | 6.74 | 5.64 | 6.88 | 10.52 |  9.84 | 11.14 | 5.41 | 8.47 | 8.39 | SCLC |\n| 14 | 8.31 | 5.76 | 7.09 | 5.81 | 5.85 | 5.84 | 4.63 | 10.47 | 7.37 | 10.24 | ⋯ | 6.36 | 5.45 | 6.67 | 10.90 | 10.30 | 10.43 | 5.31 | 8.31 | 8.48 | SCLC |\n| 15 | 8.37 | 5.90 | 7.08 | 5.44 | 5.83 | 5.71 | 4.58 | 10.57 | 7.17 | 10.12 | ⋯ | 6.54 | 5.34 | 6.65 | 11.19 | 10.36 |  9.88 | 5.27 | 9.52 | 8.75 | SCLC |\n| 16 | 8.24 | 5.65 | 7.05 | 5.61 | 5.69 | 5.68 | 4.43 | 10.43 | 7.51 |  9.84 | ⋯ | 6.35 | 5.32 | 6.78 | 10.82 | 10.41 | 10.11 | 5.33 | 7.21 | 7.76 | SCLC |\n\n",
            "text/latex": "A data.frame: 6 × 3014\n\\begin{tabular}{r|lllllllllllllllllllll}\n  & 1007\\_s\\_at & 1053\\_at & 121\\_at & 1294\\_at & 1487\\_at & 1729\\_at & 177\\_at & 200003\\_s\\_at & 200005\\_at & 200016\\_x\\_at & ⋯ & 78047\\_s\\_at & 823\\_at & 90265\\_at & AFFX-HSAC07/X00351\\_3\\_at & AFFX-HSAC07/X00351\\_M\\_at & AFFX-HUMGAPDH/M33197\\_5\\_at & AFFX-M27830\\_3\\_at & AFFX-M27830\\_5\\_at & AFFX-M27830\\_M\\_at & class\\\\\n  & <dbl> & <dbl> & <dbl> & <dbl> & <dbl> & <dbl> & <dbl> & <dbl> & <dbl> & <dbl> & ⋯ & <dbl> & <dbl> & <dbl> & <dbl> & <dbl> & <dbl> & <dbl> & <dbl> & <dbl> & <chr>\\\\\n\\hline\n\t11 & 7.88 & 5.85 & 7.06 & 5.69 & 6.16 & 6.12 & 4.73 & 10.83 & 7.40 & 10.27 & ⋯ & 6.74 & 5.55 & 6.77 & 10.62 &  9.63 & 11.02 & 5.66 & 8.37 & 8.16 & SCLC\\\\\n\t12 & 8.43 & 5.31 & 7.12 & 5.97 & 6.24 & 6.39 & 4.84 & 11.06 & 7.76 & 10.46 & ⋯ & 6.47 & 5.67 & 6.73 & 10.98 &  9.03 & 10.11 & 5.39 & 7.61 & 7.80 & SCLC\\\\\n\t13 & 7.84 & 6.18 & 7.20 & 5.71 & 6.12 & 6.45 & 4.47 & 10.74 & 7.74 &  9.88 & ⋯ & 6.74 & 5.64 & 6.88 & 10.52 &  9.84 & 11.14 & 5.41 & 8.47 & 8.39 & SCLC\\\\\n\t14 & 8.31 & 5.76 & 7.09 & 5.81 & 5.85 & 5.84 & 4.63 & 10.47 & 7.37 & 10.24 & ⋯ & 6.36 & 5.45 & 6.67 & 10.90 & 10.30 & 10.43 & 5.31 & 8.31 & 8.48 & SCLC\\\\\n\t15 & 8.37 & 5.90 & 7.08 & 5.44 & 5.83 & 5.71 & 4.58 & 10.57 & 7.17 & 10.12 & ⋯ & 6.54 & 5.34 & 6.65 & 11.19 & 10.36 &  9.88 & 5.27 & 9.52 & 8.75 & SCLC\\\\\n\t16 & 8.24 & 5.65 & 7.05 & 5.61 & 5.69 & 5.68 & 4.43 & 10.43 & 7.51 &  9.84 & ⋯ & 6.35 & 5.32 & 6.78 & 10.82 & 10.41 & 10.11 & 5.33 & 7.21 & 7.76 & SCLC\\\\\n\\end{tabular}\n",
            "text/plain": [
              "   1007_s_at 1053_at 121_at 1294_at 1487_at 1729_at 177_at 200003_s_at\n",
              "11 7.88      5.85    7.06   5.69    6.16    6.12    4.73   10.83      \n",
              "12 8.43      5.31    7.12   5.97    6.24    6.39    4.84   11.06      \n",
              "13 7.84      6.18    7.20   5.71    6.12    6.45    4.47   10.74      \n",
              "14 8.31      5.76    7.09   5.81    5.85    5.84    4.63   10.47      \n",
              "15 8.37      5.90    7.08   5.44    5.83    5.71    4.58   10.57      \n",
              "16 8.24      5.65    7.05   5.61    5.69    5.68    4.43   10.43      \n",
              "   200005_at 200016_x_at ⋯ 78047_s_at 823_at 90265_at AFFX-HSAC07/X00351_3_at\n",
              "11 7.40      10.27       ⋯ 6.74       5.55   6.77     10.62                  \n",
              "12 7.76      10.46       ⋯ 6.47       5.67   6.73     10.98                  \n",
              "13 7.74       9.88       ⋯ 6.74       5.64   6.88     10.52                  \n",
              "14 7.37      10.24       ⋯ 6.36       5.45   6.67     10.90                  \n",
              "15 7.17      10.12       ⋯ 6.54       5.34   6.65     11.19                  \n",
              "16 7.51       9.84       ⋯ 6.35       5.32   6.78     10.82                  \n",
              "   AFFX-HSAC07/X00351_M_at AFFX-HUMGAPDH/M33197_5_at AFFX-M27830_3_at\n",
              "11  9.63                   11.02                     5.66            \n",
              "12  9.03                   10.11                     5.39            \n",
              "13  9.84                   11.14                     5.41            \n",
              "14 10.30                   10.43                     5.31            \n",
              "15 10.36                    9.88                     5.27            \n",
              "16 10.41                   10.11                     5.33            \n",
              "   AFFX-M27830_5_at AFFX-M27830_M_at class\n",
              "11 8.37             8.16             SCLC \n",
              "12 7.61             7.80             SCLC \n",
              "13 8.47             8.39             SCLC \n",
              "14 8.31             8.48             SCLC \n",
              "15 9.52             8.75             SCLC \n",
              "16 7.21             7.76             SCLC "
            ]
          },
          "metadata": {}
        }
      ]
    },
    {
      "cell_type": "code",
      "source": [
        "sclc_te = sclc[7:dim(sclc)[1], ]\n",
        "sclc_te"
      ],
      "metadata": {
        "colab": {
          "base_uri": "https://localhost:8080/",
          "height": 230
        },
        "id": "rqx-Yys32B_R",
        "outputId": "d2f44d00-3469-4fb2-da84-1defc01c2b1b"
      },
      "execution_count": null,
      "outputs": [
        {
          "output_type": "display_data",
          "data": {
            "text/html": [
              "<table class=\"dataframe\">\n",
              "<caption>A data.frame: 3 × 3014</caption>\n",
              "<thead>\n",
              "\t<tr><th></th><th scope=col>1007_s_at</th><th scope=col>1053_at</th><th scope=col>121_at</th><th scope=col>1294_at</th><th scope=col>1487_at</th><th scope=col>1729_at</th><th scope=col>177_at</th><th scope=col>200003_s_at</th><th scope=col>200005_at</th><th scope=col>200016_x_at</th><th scope=col>⋯</th><th scope=col>78047_s_at</th><th scope=col>823_at</th><th scope=col>90265_at</th><th scope=col>AFFX-HSAC07/X00351_3_at</th><th scope=col>AFFX-HSAC07/X00351_M_at</th><th scope=col>AFFX-HUMGAPDH/M33197_5_at</th><th scope=col>AFFX-M27830_3_at</th><th scope=col>AFFX-M27830_5_at</th><th scope=col>AFFX-M27830_M_at</th><th scope=col>class</th></tr>\n",
              "\t<tr><th></th><th scope=col>&lt;dbl&gt;</th><th scope=col>&lt;dbl&gt;</th><th scope=col>&lt;dbl&gt;</th><th scope=col>&lt;dbl&gt;</th><th scope=col>&lt;dbl&gt;</th><th scope=col>&lt;dbl&gt;</th><th scope=col>&lt;dbl&gt;</th><th scope=col>&lt;dbl&gt;</th><th scope=col>&lt;dbl&gt;</th><th scope=col>&lt;dbl&gt;</th><th scope=col>⋯</th><th scope=col>&lt;dbl&gt;</th><th scope=col>&lt;dbl&gt;</th><th scope=col>&lt;dbl&gt;</th><th scope=col>&lt;dbl&gt;</th><th scope=col>&lt;dbl&gt;</th><th scope=col>&lt;dbl&gt;</th><th scope=col>&lt;dbl&gt;</th><th scope=col>&lt;dbl&gt;</th><th scope=col>&lt;dbl&gt;</th><th scope=col>&lt;chr&gt;</th></tr>\n",
              "</thead>\n",
              "<tbody>\n",
              "\t<tr><th scope=row>17</th><td>8.16</td><td>5.84</td><td>7.03</td><td>6.02</td><td>6.13</td><td>6.07</td><td>4.42</td><td>10.48</td><td>7.15</td><td>10.03</td><td>⋯</td><td>6.44</td><td>5.32</td><td>6.73</td><td>10.49</td><td>10.02</td><td>10.17</td><td>5.38</td><td>8.47</td><td>8.57</td><td>SCLC</td></tr>\n",
              "\t<tr><th scope=row>18</th><td>8.19</td><td>5.69</td><td>7.03</td><td>5.79</td><td>5.91</td><td>5.71</td><td>4.44</td><td>10.54</td><td>7.15</td><td>10.47</td><td>⋯</td><td>6.45</td><td>5.18</td><td>6.61</td><td>11.17</td><td>10.00</td><td>10.19</td><td>5.46</td><td>7.94</td><td>7.88</td><td>SCLC</td></tr>\n",
              "\t<tr><th scope=row>19</th><td>8.23</td><td>5.10</td><td>7.07</td><td>5.66</td><td>6.28</td><td>5.83</td><td>4.33</td><td>10.48</td><td>7.11</td><td>10.46</td><td>⋯</td><td>6.45</td><td>5.51</td><td>6.79</td><td>10.97</td><td> 9.36</td><td> 9.27</td><td>5.44</td><td>8.38</td><td>8.79</td><td>SCLC</td></tr>\n",
              "</tbody>\n",
              "</table>\n"
            ],
            "text/markdown": "\nA data.frame: 3 × 3014\n\n| <!--/--> | 1007_s_at &lt;dbl&gt; | 1053_at &lt;dbl&gt; | 121_at &lt;dbl&gt; | 1294_at &lt;dbl&gt; | 1487_at &lt;dbl&gt; | 1729_at &lt;dbl&gt; | 177_at &lt;dbl&gt; | 200003_s_at &lt;dbl&gt; | 200005_at &lt;dbl&gt; | 200016_x_at &lt;dbl&gt; | ⋯ ⋯ | 78047_s_at &lt;dbl&gt; | 823_at &lt;dbl&gt; | 90265_at &lt;dbl&gt; | AFFX-HSAC07/X00351_3_at &lt;dbl&gt; | AFFX-HSAC07/X00351_M_at &lt;dbl&gt; | AFFX-HUMGAPDH/M33197_5_at &lt;dbl&gt; | AFFX-M27830_3_at &lt;dbl&gt; | AFFX-M27830_5_at &lt;dbl&gt; | AFFX-M27830_M_at &lt;dbl&gt; | class &lt;chr&gt; |\n|---|---|---|---|---|---|---|---|---|---|---|---|---|---|---|---|---|---|---|---|---|---|\n| 17 | 8.16 | 5.84 | 7.03 | 6.02 | 6.13 | 6.07 | 4.42 | 10.48 | 7.15 | 10.03 | ⋯ | 6.44 | 5.32 | 6.73 | 10.49 | 10.02 | 10.17 | 5.38 | 8.47 | 8.57 | SCLC |\n| 18 | 8.19 | 5.69 | 7.03 | 5.79 | 5.91 | 5.71 | 4.44 | 10.54 | 7.15 | 10.47 | ⋯ | 6.45 | 5.18 | 6.61 | 11.17 | 10.00 | 10.19 | 5.46 | 7.94 | 7.88 | SCLC |\n| 19 | 8.23 | 5.10 | 7.07 | 5.66 | 6.28 | 5.83 | 4.33 | 10.48 | 7.11 | 10.46 | ⋯ | 6.45 | 5.51 | 6.79 | 10.97 |  9.36 |  9.27 | 5.44 | 8.38 | 8.79 | SCLC |\n\n",
            "text/latex": "A data.frame: 3 × 3014\n\\begin{tabular}{r|lllllllllllllllllllll}\n  & 1007\\_s\\_at & 1053\\_at & 121\\_at & 1294\\_at & 1487\\_at & 1729\\_at & 177\\_at & 200003\\_s\\_at & 200005\\_at & 200016\\_x\\_at & ⋯ & 78047\\_s\\_at & 823\\_at & 90265\\_at & AFFX-HSAC07/X00351\\_3\\_at & AFFX-HSAC07/X00351\\_M\\_at & AFFX-HUMGAPDH/M33197\\_5\\_at & AFFX-M27830\\_3\\_at & AFFX-M27830\\_5\\_at & AFFX-M27830\\_M\\_at & class\\\\\n  & <dbl> & <dbl> & <dbl> & <dbl> & <dbl> & <dbl> & <dbl> & <dbl> & <dbl> & <dbl> & ⋯ & <dbl> & <dbl> & <dbl> & <dbl> & <dbl> & <dbl> & <dbl> & <dbl> & <dbl> & <chr>\\\\\n\\hline\n\t17 & 8.16 & 5.84 & 7.03 & 6.02 & 6.13 & 6.07 & 4.42 & 10.48 & 7.15 & 10.03 & ⋯ & 6.44 & 5.32 & 6.73 & 10.49 & 10.02 & 10.17 & 5.38 & 8.47 & 8.57 & SCLC\\\\\n\t18 & 8.19 & 5.69 & 7.03 & 5.79 & 5.91 & 5.71 & 4.44 & 10.54 & 7.15 & 10.47 & ⋯ & 6.45 & 5.18 & 6.61 & 11.17 & 10.00 & 10.19 & 5.46 & 7.94 & 7.88 & SCLC\\\\\n\t19 & 8.23 & 5.10 & 7.07 & 5.66 & 6.28 & 5.83 & 4.33 & 10.48 & 7.11 & 10.46 & ⋯ & 6.45 & 5.51 & 6.79 & 10.97 &  9.36 &  9.27 & 5.44 & 8.38 & 8.79 & SCLC\\\\\n\\end{tabular}\n",
            "text/plain": [
              "   1007_s_at 1053_at 121_at 1294_at 1487_at 1729_at 177_at 200003_s_at\n",
              "17 8.16      5.84    7.03   6.02    6.13    6.07    4.42   10.48      \n",
              "18 8.19      5.69    7.03   5.79    5.91    5.71    4.44   10.54      \n",
              "19 8.23      5.10    7.07   5.66    6.28    5.83    4.33   10.48      \n",
              "   200005_at 200016_x_at ⋯ 78047_s_at 823_at 90265_at AFFX-HSAC07/X00351_3_at\n",
              "17 7.15      10.03       ⋯ 6.44       5.32   6.73     10.49                  \n",
              "18 7.15      10.47       ⋯ 6.45       5.18   6.61     11.17                  \n",
              "19 7.11      10.46       ⋯ 6.45       5.51   6.79     10.97                  \n",
              "   AFFX-HSAC07/X00351_M_at AFFX-HUMGAPDH/M33197_5_at AFFX-M27830_3_at\n",
              "17 10.02                   10.17                     5.38            \n",
              "18 10.00                   10.19                     5.46            \n",
              "19  9.36                    9.27                     5.44            \n",
              "   AFFX-M27830_5_at AFFX-M27830_M_at class\n",
              "17 8.47             8.57             SCLC \n",
              "18 7.94             7.88             SCLC \n",
              "19 8.38             8.79             SCLC "
            ]
          },
          "metadata": {}
        }
      ]
    },
    {
      "cell_type": "code",
      "source": [
        "normal = t_df[t_df$class == 'Normal', ]\n",
        "normal_tr = normal[1:3, ]\n",
        "normal_tr"
      ],
      "metadata": {
        "colab": {
          "base_uri": "https://localhost:8080/",
          "height": 230
        },
        "id": "HqzIkGLp2CBs",
        "outputId": "a9819b81-1fc7-47e2-9668-3b894730e92e"
      },
      "execution_count": null,
      "outputs": [
        {
          "output_type": "display_data",
          "data": {
            "text/html": [
              "<table class=\"dataframe\">\n",
              "<caption>A data.frame: 3 × 3014</caption>\n",
              "<thead>\n",
              "\t<tr><th></th><th scope=col>1007_s_at</th><th scope=col>1053_at</th><th scope=col>121_at</th><th scope=col>1294_at</th><th scope=col>1487_at</th><th scope=col>1729_at</th><th scope=col>177_at</th><th scope=col>200003_s_at</th><th scope=col>200005_at</th><th scope=col>200016_x_at</th><th scope=col>⋯</th><th scope=col>78047_s_at</th><th scope=col>823_at</th><th scope=col>90265_at</th><th scope=col>AFFX-HSAC07/X00351_3_at</th><th scope=col>AFFX-HSAC07/X00351_M_at</th><th scope=col>AFFX-HUMGAPDH/M33197_5_at</th><th scope=col>AFFX-M27830_3_at</th><th scope=col>AFFX-M27830_5_at</th><th scope=col>AFFX-M27830_M_at</th><th scope=col>class</th></tr>\n",
              "\t<tr><th></th><th scope=col>&lt;dbl&gt;</th><th scope=col>&lt;dbl&gt;</th><th scope=col>&lt;dbl&gt;</th><th scope=col>&lt;dbl&gt;</th><th scope=col>&lt;dbl&gt;</th><th scope=col>&lt;dbl&gt;</th><th scope=col>&lt;dbl&gt;</th><th scope=col>&lt;dbl&gt;</th><th scope=col>&lt;dbl&gt;</th><th scope=col>&lt;dbl&gt;</th><th scope=col>⋯</th><th scope=col>&lt;dbl&gt;</th><th scope=col>&lt;dbl&gt;</th><th scope=col>&lt;dbl&gt;</th><th scope=col>&lt;dbl&gt;</th><th scope=col>&lt;dbl&gt;</th><th scope=col>&lt;dbl&gt;</th><th scope=col>&lt;dbl&gt;</th><th scope=col>&lt;dbl&gt;</th><th scope=col>&lt;dbl&gt;</th><th scope=col>&lt;chr&gt;</th></tr>\n",
              "</thead>\n",
              "<tbody>\n",
              "\t<tr><th scope=row>20</th><td>8.96</td><td>4.57</td><td>7.34</td><td>6.02</td><td>6.43</td><td>6.56</td><td>4.77</td><td>10.77</td><td>8.13</td><td>9.98</td><td>⋯</td><td>6.86</td><td>6.52</td><td>7.01</td><td>10.75</td><td>9.71</td><td> 8.99</td><td>5.54</td><td>7.16</td><td>7.42</td><td>Normal</td></tr>\n",
              "\t<tr><th scope=row>21</th><td>8.15</td><td>4.82</td><td>6.89</td><td>6.08</td><td>6.36</td><td>5.80</td><td>4.44</td><td>10.59</td><td>7.76</td><td>9.62</td><td>⋯</td><td>6.30</td><td>6.71</td><td>6.29</td><td>10.30</td><td>8.21</td><td> 7.70</td><td>5.33</td><td>6.47</td><td>7.02</td><td>Normal</td></tr>\n",
              "\t<tr><th scope=row>22</th><td>9.40</td><td>5.31</td><td>7.23</td><td>6.33</td><td>6.12</td><td>6.68</td><td>5.27</td><td>10.95</td><td>8.22</td><td>9.59</td><td>⋯</td><td>6.63</td><td>6.02</td><td>6.92</td><td>10.77</td><td>8.69</td><td>10.44</td><td>5.34</td><td>8.02</td><td>8.21</td><td>Normal</td></tr>\n",
              "</tbody>\n",
              "</table>\n"
            ],
            "text/markdown": "\nA data.frame: 3 × 3014\n\n| <!--/--> | 1007_s_at &lt;dbl&gt; | 1053_at &lt;dbl&gt; | 121_at &lt;dbl&gt; | 1294_at &lt;dbl&gt; | 1487_at &lt;dbl&gt; | 1729_at &lt;dbl&gt; | 177_at &lt;dbl&gt; | 200003_s_at &lt;dbl&gt; | 200005_at &lt;dbl&gt; | 200016_x_at &lt;dbl&gt; | ⋯ ⋯ | 78047_s_at &lt;dbl&gt; | 823_at &lt;dbl&gt; | 90265_at &lt;dbl&gt; | AFFX-HSAC07/X00351_3_at &lt;dbl&gt; | AFFX-HSAC07/X00351_M_at &lt;dbl&gt; | AFFX-HUMGAPDH/M33197_5_at &lt;dbl&gt; | AFFX-M27830_3_at &lt;dbl&gt; | AFFX-M27830_5_at &lt;dbl&gt; | AFFX-M27830_M_at &lt;dbl&gt; | class &lt;chr&gt; |\n|---|---|---|---|---|---|---|---|---|---|---|---|---|---|---|---|---|---|---|---|---|---|\n| 20 | 8.96 | 4.57 | 7.34 | 6.02 | 6.43 | 6.56 | 4.77 | 10.77 | 8.13 | 9.98 | ⋯ | 6.86 | 6.52 | 7.01 | 10.75 | 9.71 |  8.99 | 5.54 | 7.16 | 7.42 | Normal |\n| 21 | 8.15 | 4.82 | 6.89 | 6.08 | 6.36 | 5.80 | 4.44 | 10.59 | 7.76 | 9.62 | ⋯ | 6.30 | 6.71 | 6.29 | 10.30 | 8.21 |  7.70 | 5.33 | 6.47 | 7.02 | Normal |\n| 22 | 9.40 | 5.31 | 7.23 | 6.33 | 6.12 | 6.68 | 5.27 | 10.95 | 8.22 | 9.59 | ⋯ | 6.63 | 6.02 | 6.92 | 10.77 | 8.69 | 10.44 | 5.34 | 8.02 | 8.21 | Normal |\n\n",
            "text/latex": "A data.frame: 3 × 3014\n\\begin{tabular}{r|lllllllllllllllllllll}\n  & 1007\\_s\\_at & 1053\\_at & 121\\_at & 1294\\_at & 1487\\_at & 1729\\_at & 177\\_at & 200003\\_s\\_at & 200005\\_at & 200016\\_x\\_at & ⋯ & 78047\\_s\\_at & 823\\_at & 90265\\_at & AFFX-HSAC07/X00351\\_3\\_at & AFFX-HSAC07/X00351\\_M\\_at & AFFX-HUMGAPDH/M33197\\_5\\_at & AFFX-M27830\\_3\\_at & AFFX-M27830\\_5\\_at & AFFX-M27830\\_M\\_at & class\\\\\n  & <dbl> & <dbl> & <dbl> & <dbl> & <dbl> & <dbl> & <dbl> & <dbl> & <dbl> & <dbl> & ⋯ & <dbl> & <dbl> & <dbl> & <dbl> & <dbl> & <dbl> & <dbl> & <dbl> & <dbl> & <chr>\\\\\n\\hline\n\t20 & 8.96 & 4.57 & 7.34 & 6.02 & 6.43 & 6.56 & 4.77 & 10.77 & 8.13 & 9.98 & ⋯ & 6.86 & 6.52 & 7.01 & 10.75 & 9.71 &  8.99 & 5.54 & 7.16 & 7.42 & Normal\\\\\n\t21 & 8.15 & 4.82 & 6.89 & 6.08 & 6.36 & 5.80 & 4.44 & 10.59 & 7.76 & 9.62 & ⋯ & 6.30 & 6.71 & 6.29 & 10.30 & 8.21 &  7.70 & 5.33 & 6.47 & 7.02 & Normal\\\\\n\t22 & 9.40 & 5.31 & 7.23 & 6.33 & 6.12 & 6.68 & 5.27 & 10.95 & 8.22 & 9.59 & ⋯ & 6.63 & 6.02 & 6.92 & 10.77 & 8.69 & 10.44 & 5.34 & 8.02 & 8.21 & Normal\\\\\n\\end{tabular}\n",
            "text/plain": [
              "   1007_s_at 1053_at 121_at 1294_at 1487_at 1729_at 177_at 200003_s_at\n",
              "20 8.96      4.57    7.34   6.02    6.43    6.56    4.77   10.77      \n",
              "21 8.15      4.82    6.89   6.08    6.36    5.80    4.44   10.59      \n",
              "22 9.40      5.31    7.23   6.33    6.12    6.68    5.27   10.95      \n",
              "   200005_at 200016_x_at ⋯ 78047_s_at 823_at 90265_at AFFX-HSAC07/X00351_3_at\n",
              "20 8.13      9.98        ⋯ 6.86       6.52   7.01     10.75                  \n",
              "21 7.76      9.62        ⋯ 6.30       6.71   6.29     10.30                  \n",
              "22 8.22      9.59        ⋯ 6.63       6.02   6.92     10.77                  \n",
              "   AFFX-HSAC07/X00351_M_at AFFX-HUMGAPDH/M33197_5_at AFFX-M27830_3_at\n",
              "20 9.71                     8.99                     5.54            \n",
              "21 8.21                     7.70                     5.33            \n",
              "22 8.69                    10.44                     5.34            \n",
              "   AFFX-M27830_5_at AFFX-M27830_M_at class \n",
              "20 7.16             7.42             Normal\n",
              "21 6.47             7.02             Normal\n",
              "22 8.02             8.21             Normal"
            ]
          },
          "metadata": {}
        }
      ]
    },
    {
      "cell_type": "code",
      "source": [
        "normal_te = normal[4:dim(normal)[1], ]\n",
        "normal_te"
      ],
      "metadata": {
        "colab": {
          "base_uri": "https://localhost:8080/",
          "height": 198
        },
        "id": "f_U3gAQ31mLO",
        "outputId": "a9f13e38-afa3-4e8d-abdc-8b56c098318b"
      },
      "execution_count": null,
      "outputs": [
        {
          "output_type": "display_data",
          "data": {
            "text/html": [
              "<table class=\"dataframe\">\n",
              "<caption>A data.frame: 2 × 3014</caption>\n",
              "<thead>\n",
              "\t<tr><th></th><th scope=col>1007_s_at</th><th scope=col>1053_at</th><th scope=col>121_at</th><th scope=col>1294_at</th><th scope=col>1487_at</th><th scope=col>1729_at</th><th scope=col>177_at</th><th scope=col>200003_s_at</th><th scope=col>200005_at</th><th scope=col>200016_x_at</th><th scope=col>⋯</th><th scope=col>78047_s_at</th><th scope=col>823_at</th><th scope=col>90265_at</th><th scope=col>AFFX-HSAC07/X00351_3_at</th><th scope=col>AFFX-HSAC07/X00351_M_at</th><th scope=col>AFFX-HUMGAPDH/M33197_5_at</th><th scope=col>AFFX-M27830_3_at</th><th scope=col>AFFX-M27830_5_at</th><th scope=col>AFFX-M27830_M_at</th><th scope=col>class</th></tr>\n",
              "\t<tr><th></th><th scope=col>&lt;dbl&gt;</th><th scope=col>&lt;dbl&gt;</th><th scope=col>&lt;dbl&gt;</th><th scope=col>&lt;dbl&gt;</th><th scope=col>&lt;dbl&gt;</th><th scope=col>&lt;dbl&gt;</th><th scope=col>&lt;dbl&gt;</th><th scope=col>&lt;dbl&gt;</th><th scope=col>&lt;dbl&gt;</th><th scope=col>&lt;dbl&gt;</th><th scope=col>⋯</th><th scope=col>&lt;dbl&gt;</th><th scope=col>&lt;dbl&gt;</th><th scope=col>&lt;dbl&gt;</th><th scope=col>&lt;dbl&gt;</th><th scope=col>&lt;dbl&gt;</th><th scope=col>&lt;dbl&gt;</th><th scope=col>&lt;dbl&gt;</th><th scope=col>&lt;dbl&gt;</th><th scope=col>&lt;dbl&gt;</th><th scope=col>&lt;chr&gt;</th></tr>\n",
              "</thead>\n",
              "<tbody>\n",
              "\t<tr><th scope=row>23</th><td>8.96</td><td>4.93</td><td>7.14</td><td>6.22</td><td>6.23</td><td>7.05</td><td>4.81</td><td>11.05</td><td>7.77</td><td>9.71</td><td>⋯</td><td>6.98</td><td>6.07</td><td>6.95</td><td>10.79</td><td>8.70</td><td>9.78</td><td>5.51</td><td>7.04</td><td>7.70</td><td>Normal</td></tr>\n",
              "\t<tr><th scope=row>24</th><td>9.32</td><td>4.79</td><td>7.29</td><td>6.43</td><td>6.27</td><td>7.25</td><td>4.90</td><td>11.45</td><td>7.86</td><td>9.96</td><td>⋯</td><td>6.93</td><td>6.89</td><td>6.95</td><td>10.48</td><td>8.72</td><td>9.45</td><td>5.49</td><td>6.89</td><td>7.71</td><td>Normal</td></tr>\n",
              "</tbody>\n",
              "</table>\n"
            ],
            "text/markdown": "\nA data.frame: 2 × 3014\n\n| <!--/--> | 1007_s_at &lt;dbl&gt; | 1053_at &lt;dbl&gt; | 121_at &lt;dbl&gt; | 1294_at &lt;dbl&gt; | 1487_at &lt;dbl&gt; | 1729_at &lt;dbl&gt; | 177_at &lt;dbl&gt; | 200003_s_at &lt;dbl&gt; | 200005_at &lt;dbl&gt; | 200016_x_at &lt;dbl&gt; | ⋯ ⋯ | 78047_s_at &lt;dbl&gt; | 823_at &lt;dbl&gt; | 90265_at &lt;dbl&gt; | AFFX-HSAC07/X00351_3_at &lt;dbl&gt; | AFFX-HSAC07/X00351_M_at &lt;dbl&gt; | AFFX-HUMGAPDH/M33197_5_at &lt;dbl&gt; | AFFX-M27830_3_at &lt;dbl&gt; | AFFX-M27830_5_at &lt;dbl&gt; | AFFX-M27830_M_at &lt;dbl&gt; | class &lt;chr&gt; |\n|---|---|---|---|---|---|---|---|---|---|---|---|---|---|---|---|---|---|---|---|---|---|\n| 23 | 8.96 | 4.93 | 7.14 | 6.22 | 6.23 | 7.05 | 4.81 | 11.05 | 7.77 | 9.71 | ⋯ | 6.98 | 6.07 | 6.95 | 10.79 | 8.70 | 9.78 | 5.51 | 7.04 | 7.70 | Normal |\n| 24 | 9.32 | 4.79 | 7.29 | 6.43 | 6.27 | 7.25 | 4.90 | 11.45 | 7.86 | 9.96 | ⋯ | 6.93 | 6.89 | 6.95 | 10.48 | 8.72 | 9.45 | 5.49 | 6.89 | 7.71 | Normal |\n\n",
            "text/latex": "A data.frame: 2 × 3014\n\\begin{tabular}{r|lllllllllllllllllllll}\n  & 1007\\_s\\_at & 1053\\_at & 121\\_at & 1294\\_at & 1487\\_at & 1729\\_at & 177\\_at & 200003\\_s\\_at & 200005\\_at & 200016\\_x\\_at & ⋯ & 78047\\_s\\_at & 823\\_at & 90265\\_at & AFFX-HSAC07/X00351\\_3\\_at & AFFX-HSAC07/X00351\\_M\\_at & AFFX-HUMGAPDH/M33197\\_5\\_at & AFFX-M27830\\_3\\_at & AFFX-M27830\\_5\\_at & AFFX-M27830\\_M\\_at & class\\\\\n  & <dbl> & <dbl> & <dbl> & <dbl> & <dbl> & <dbl> & <dbl> & <dbl> & <dbl> & <dbl> & ⋯ & <dbl> & <dbl> & <dbl> & <dbl> & <dbl> & <dbl> & <dbl> & <dbl> & <dbl> & <chr>\\\\\n\\hline\n\t23 & 8.96 & 4.93 & 7.14 & 6.22 & 6.23 & 7.05 & 4.81 & 11.05 & 7.77 & 9.71 & ⋯ & 6.98 & 6.07 & 6.95 & 10.79 & 8.70 & 9.78 & 5.51 & 7.04 & 7.70 & Normal\\\\\n\t24 & 9.32 & 4.79 & 7.29 & 6.43 & 6.27 & 7.25 & 4.90 & 11.45 & 7.86 & 9.96 & ⋯ & 6.93 & 6.89 & 6.95 & 10.48 & 8.72 & 9.45 & 5.49 & 6.89 & 7.71 & Normal\\\\\n\\end{tabular}\n",
            "text/plain": [
              "   1007_s_at 1053_at 121_at 1294_at 1487_at 1729_at 177_at 200003_s_at\n",
              "23 8.96      4.93    7.14   6.22    6.23    7.05    4.81   11.05      \n",
              "24 9.32      4.79    7.29   6.43    6.27    7.25    4.90   11.45      \n",
              "   200005_at 200016_x_at ⋯ 78047_s_at 823_at 90265_at AFFX-HSAC07/X00351_3_at\n",
              "23 7.77      9.71        ⋯ 6.98       6.07   6.95     10.79                  \n",
              "24 7.86      9.96        ⋯ 6.93       6.89   6.95     10.48                  \n",
              "   AFFX-HSAC07/X00351_M_at AFFX-HUMGAPDH/M33197_5_at AFFX-M27830_3_at\n",
              "23 8.70                    9.78                      5.51            \n",
              "24 8.72                    9.45                      5.49            \n",
              "   AFFX-M27830_5_at AFFX-M27830_M_at class \n",
              "23 7.04             7.70             Normal\n",
              "24 6.89             7.71             Normal"
            ]
          },
          "metadata": {}
        }
      ]
    },
    {
      "cell_type": "code",
      "source": [
        "dim(adeno)[1]"
      ],
      "metadata": {
        "colab": {
          "base_uri": "https://localhost:8080/",
          "height": 34
        },
        "id": "fIr_fLb4zhTb",
        "outputId": "409688e1-8553-451e-b2d0-7abae60d564e"
      },
      "execution_count": null,
      "outputs": [
        {
          "output_type": "display_data",
          "data": {
            "text/html": [
              "10"
            ],
            "text/markdown": "10",
            "text/latex": "10",
            "text/plain": [
              "[1] 10"
            ]
          },
          "metadata": {}
        }
      ]
    },
    {
      "cell_type": "code",
      "source": [
        "train = rbind(adeno_tr, sclc_tr, normal_tr)\n",
        "train[, 1:10]"
      ],
      "metadata": {
        "colab": {
          "base_uri": "https://localhost:8080/",
          "height": 568
        },
        "id": "pzQPfrt9tNEj",
        "outputId": "f10af4ae-4696-486a-839a-377f17289304"
      },
      "execution_count": null,
      "outputs": [
        {
          "output_type": "display_data",
          "data": {
            "text/html": [
              "<table class=\"dataframe\">\n",
              "<caption>A data.frame: 15 × 10</caption>\n",
              "<thead>\n",
              "\t<tr><th></th><th scope=col>1007_s_at</th><th scope=col>1053_at</th><th scope=col>121_at</th><th scope=col>1294_at</th><th scope=col>1487_at</th><th scope=col>1729_at</th><th scope=col>177_at</th><th scope=col>200003_s_at</th><th scope=col>200005_at</th><th scope=col>200016_x_at</th></tr>\n",
              "\t<tr><th></th><th scope=col>&lt;dbl&gt;</th><th scope=col>&lt;dbl&gt;</th><th scope=col>&lt;dbl&gt;</th><th scope=col>&lt;dbl&gt;</th><th scope=col>&lt;dbl&gt;</th><th scope=col>&lt;dbl&gt;</th><th scope=col>&lt;dbl&gt;</th><th scope=col>&lt;dbl&gt;</th><th scope=col>&lt;dbl&gt;</th><th scope=col>&lt;dbl&gt;</th></tr>\n",
              "</thead>\n",
              "<tbody>\n",
              "\t<tr><th scope=row>1</th><td>9.26</td><td>5.15</td><td>7.35</td><td>6.14</td><td>6.45</td><td>6.10</td><td>4.63</td><td>11.71</td><td>8.16</td><td> 9.95</td></tr>\n",
              "\t<tr><th scope=row>2</th><td>8.69</td><td>4.57</td><td>7.32</td><td>6.32</td><td>6.13</td><td>6.13</td><td>4.72</td><td>10.72</td><td>7.26</td><td>10.24</td></tr>\n",
              "\t<tr><th scope=row>3</th><td>8.51</td><td>5.20</td><td>7.13</td><td>6.09</td><td>6.64</td><td>6.52</td><td>4.86</td><td>10.99</td><td>8.60</td><td> 9.71</td></tr>\n",
              "\t<tr><th scope=row>4</th><td>8.38</td><td>4.92</td><td>7.50</td><td>6.08</td><td>6.54</td><td>6.83</td><td>4.42</td><td>10.67</td><td>7.05</td><td> 9.58</td></tr>\n",
              "\t<tr><th scope=row>5</th><td>7.70</td><td>4.60</td><td>7.40</td><td>5.98</td><td>5.93</td><td>6.16</td><td>4.41</td><td>10.82</td><td>7.43</td><td> 9.35</td></tr>\n",
              "\t<tr><th scope=row>6</th><td>8.16</td><td>5.24</td><td>7.35</td><td>6.09</td><td>6.51</td><td>6.12</td><td>4.79</td><td>10.69</td><td>7.62</td><td> 9.52</td></tr>\n",
              "\t<tr><th scope=row>11</th><td>7.88</td><td>5.85</td><td>7.06</td><td>5.69</td><td>6.16</td><td>6.12</td><td>4.73</td><td>10.83</td><td>7.40</td><td>10.27</td></tr>\n",
              "\t<tr><th scope=row>12</th><td>8.43</td><td>5.31</td><td>7.12</td><td>5.97</td><td>6.24</td><td>6.39</td><td>4.84</td><td>11.06</td><td>7.76</td><td>10.46</td></tr>\n",
              "\t<tr><th scope=row>13</th><td>7.84</td><td>6.18</td><td>7.20</td><td>5.71</td><td>6.12</td><td>6.45</td><td>4.47</td><td>10.74</td><td>7.74</td><td> 9.88</td></tr>\n",
              "\t<tr><th scope=row>14</th><td>8.31</td><td>5.76</td><td>7.09</td><td>5.81</td><td>5.85</td><td>5.84</td><td>4.63</td><td>10.47</td><td>7.37</td><td>10.24</td></tr>\n",
              "\t<tr><th scope=row>15</th><td>8.37</td><td>5.90</td><td>7.08</td><td>5.44</td><td>5.83</td><td>5.71</td><td>4.58</td><td>10.57</td><td>7.17</td><td>10.12</td></tr>\n",
              "\t<tr><th scope=row>16</th><td>8.24</td><td>5.65</td><td>7.05</td><td>5.61</td><td>5.69</td><td>5.68</td><td>4.43</td><td>10.43</td><td>7.51</td><td> 9.84</td></tr>\n",
              "\t<tr><th scope=row>20</th><td>8.96</td><td>4.57</td><td>7.34</td><td>6.02</td><td>6.43</td><td>6.56</td><td>4.77</td><td>10.77</td><td>8.13</td><td> 9.98</td></tr>\n",
              "\t<tr><th scope=row>21</th><td>8.15</td><td>4.82</td><td>6.89</td><td>6.08</td><td>6.36</td><td>5.80</td><td>4.44</td><td>10.59</td><td>7.76</td><td> 9.62</td></tr>\n",
              "\t<tr><th scope=row>22</th><td>9.40</td><td>5.31</td><td>7.23</td><td>6.33</td><td>6.12</td><td>6.68</td><td>5.27</td><td>10.95</td><td>8.22</td><td> 9.59</td></tr>\n",
              "</tbody>\n",
              "</table>\n"
            ],
            "text/markdown": "\nA data.frame: 15 × 10\n\n| <!--/--> | 1007_s_at &lt;dbl&gt; | 1053_at &lt;dbl&gt; | 121_at &lt;dbl&gt; | 1294_at &lt;dbl&gt; | 1487_at &lt;dbl&gt; | 1729_at &lt;dbl&gt; | 177_at &lt;dbl&gt; | 200003_s_at &lt;dbl&gt; | 200005_at &lt;dbl&gt; | 200016_x_at &lt;dbl&gt; |\n|---|---|---|---|---|---|---|---|---|---|---|\n| 1 | 9.26 | 5.15 | 7.35 | 6.14 | 6.45 | 6.10 | 4.63 | 11.71 | 8.16 |  9.95 |\n| 2 | 8.69 | 4.57 | 7.32 | 6.32 | 6.13 | 6.13 | 4.72 | 10.72 | 7.26 | 10.24 |\n| 3 | 8.51 | 5.20 | 7.13 | 6.09 | 6.64 | 6.52 | 4.86 | 10.99 | 8.60 |  9.71 |\n| 4 | 8.38 | 4.92 | 7.50 | 6.08 | 6.54 | 6.83 | 4.42 | 10.67 | 7.05 |  9.58 |\n| 5 | 7.70 | 4.60 | 7.40 | 5.98 | 5.93 | 6.16 | 4.41 | 10.82 | 7.43 |  9.35 |\n| 6 | 8.16 | 5.24 | 7.35 | 6.09 | 6.51 | 6.12 | 4.79 | 10.69 | 7.62 |  9.52 |\n| 11 | 7.88 | 5.85 | 7.06 | 5.69 | 6.16 | 6.12 | 4.73 | 10.83 | 7.40 | 10.27 |\n| 12 | 8.43 | 5.31 | 7.12 | 5.97 | 6.24 | 6.39 | 4.84 | 11.06 | 7.76 | 10.46 |\n| 13 | 7.84 | 6.18 | 7.20 | 5.71 | 6.12 | 6.45 | 4.47 | 10.74 | 7.74 |  9.88 |\n| 14 | 8.31 | 5.76 | 7.09 | 5.81 | 5.85 | 5.84 | 4.63 | 10.47 | 7.37 | 10.24 |\n| 15 | 8.37 | 5.90 | 7.08 | 5.44 | 5.83 | 5.71 | 4.58 | 10.57 | 7.17 | 10.12 |\n| 16 | 8.24 | 5.65 | 7.05 | 5.61 | 5.69 | 5.68 | 4.43 | 10.43 | 7.51 |  9.84 |\n| 20 | 8.96 | 4.57 | 7.34 | 6.02 | 6.43 | 6.56 | 4.77 | 10.77 | 8.13 |  9.98 |\n| 21 | 8.15 | 4.82 | 6.89 | 6.08 | 6.36 | 5.80 | 4.44 | 10.59 | 7.76 |  9.62 |\n| 22 | 9.40 | 5.31 | 7.23 | 6.33 | 6.12 | 6.68 | 5.27 | 10.95 | 8.22 |  9.59 |\n\n",
            "text/latex": "A data.frame: 15 × 10\n\\begin{tabular}{r|llllllllll}\n  & 1007\\_s\\_at & 1053\\_at & 121\\_at & 1294\\_at & 1487\\_at & 1729\\_at & 177\\_at & 200003\\_s\\_at & 200005\\_at & 200016\\_x\\_at\\\\\n  & <dbl> & <dbl> & <dbl> & <dbl> & <dbl> & <dbl> & <dbl> & <dbl> & <dbl> & <dbl>\\\\\n\\hline\n\t1 & 9.26 & 5.15 & 7.35 & 6.14 & 6.45 & 6.10 & 4.63 & 11.71 & 8.16 &  9.95\\\\\n\t2 & 8.69 & 4.57 & 7.32 & 6.32 & 6.13 & 6.13 & 4.72 & 10.72 & 7.26 & 10.24\\\\\n\t3 & 8.51 & 5.20 & 7.13 & 6.09 & 6.64 & 6.52 & 4.86 & 10.99 & 8.60 &  9.71\\\\\n\t4 & 8.38 & 4.92 & 7.50 & 6.08 & 6.54 & 6.83 & 4.42 & 10.67 & 7.05 &  9.58\\\\\n\t5 & 7.70 & 4.60 & 7.40 & 5.98 & 5.93 & 6.16 & 4.41 & 10.82 & 7.43 &  9.35\\\\\n\t6 & 8.16 & 5.24 & 7.35 & 6.09 & 6.51 & 6.12 & 4.79 & 10.69 & 7.62 &  9.52\\\\\n\t11 & 7.88 & 5.85 & 7.06 & 5.69 & 6.16 & 6.12 & 4.73 & 10.83 & 7.40 & 10.27\\\\\n\t12 & 8.43 & 5.31 & 7.12 & 5.97 & 6.24 & 6.39 & 4.84 & 11.06 & 7.76 & 10.46\\\\\n\t13 & 7.84 & 6.18 & 7.20 & 5.71 & 6.12 & 6.45 & 4.47 & 10.74 & 7.74 &  9.88\\\\\n\t14 & 8.31 & 5.76 & 7.09 & 5.81 & 5.85 & 5.84 & 4.63 & 10.47 & 7.37 & 10.24\\\\\n\t15 & 8.37 & 5.90 & 7.08 & 5.44 & 5.83 & 5.71 & 4.58 & 10.57 & 7.17 & 10.12\\\\\n\t16 & 8.24 & 5.65 & 7.05 & 5.61 & 5.69 & 5.68 & 4.43 & 10.43 & 7.51 &  9.84\\\\\n\t20 & 8.96 & 4.57 & 7.34 & 6.02 & 6.43 & 6.56 & 4.77 & 10.77 & 8.13 &  9.98\\\\\n\t21 & 8.15 & 4.82 & 6.89 & 6.08 & 6.36 & 5.80 & 4.44 & 10.59 & 7.76 &  9.62\\\\\n\t22 & 9.40 & 5.31 & 7.23 & 6.33 & 6.12 & 6.68 & 5.27 & 10.95 & 8.22 &  9.59\\\\\n\\end{tabular}\n",
            "text/plain": [
              "   1007_s_at 1053_at 121_at 1294_at 1487_at 1729_at 177_at 200003_s_at\n",
              "1  9.26      5.15    7.35   6.14    6.45    6.10    4.63   11.71      \n",
              "2  8.69      4.57    7.32   6.32    6.13    6.13    4.72   10.72      \n",
              "3  8.51      5.20    7.13   6.09    6.64    6.52    4.86   10.99      \n",
              "4  8.38      4.92    7.50   6.08    6.54    6.83    4.42   10.67      \n",
              "5  7.70      4.60    7.40   5.98    5.93    6.16    4.41   10.82      \n",
              "6  8.16      5.24    7.35   6.09    6.51    6.12    4.79   10.69      \n",
              "11 7.88      5.85    7.06   5.69    6.16    6.12    4.73   10.83      \n",
              "12 8.43      5.31    7.12   5.97    6.24    6.39    4.84   11.06      \n",
              "13 7.84      6.18    7.20   5.71    6.12    6.45    4.47   10.74      \n",
              "14 8.31      5.76    7.09   5.81    5.85    5.84    4.63   10.47      \n",
              "15 8.37      5.90    7.08   5.44    5.83    5.71    4.58   10.57      \n",
              "16 8.24      5.65    7.05   5.61    5.69    5.68    4.43   10.43      \n",
              "20 8.96      4.57    7.34   6.02    6.43    6.56    4.77   10.77      \n",
              "21 8.15      4.82    6.89   6.08    6.36    5.80    4.44   10.59      \n",
              "22 9.40      5.31    7.23   6.33    6.12    6.68    5.27   10.95      \n",
              "   200005_at 200016_x_at\n",
              "1  8.16       9.95      \n",
              "2  7.26      10.24      \n",
              "3  8.60       9.71      \n",
              "4  7.05       9.58      \n",
              "5  7.43       9.35      \n",
              "6  7.62       9.52      \n",
              "11 7.40      10.27      \n",
              "12 7.76      10.46      \n",
              "13 7.74       9.88      \n",
              "14 7.37      10.24      \n",
              "15 7.17      10.12      \n",
              "16 7.51       9.84      \n",
              "20 8.13       9.98      \n",
              "21 7.76       9.62      \n",
              "22 8.22       9.59      "
            ]
          },
          "metadata": {}
        }
      ]
    },
    {
      "cell_type": "code",
      "source": [
        "test = rbind(adeno_te, sclc_te, normal_te)\n",
        "test[,1:10]"
      ],
      "metadata": {
        "colab": {
          "base_uri": "https://localhost:8080/",
          "height": 380
        },
        "id": "o11mcaFKxRNB",
        "outputId": "053863b1-ff3f-4758-cab7-16ada7cd609f"
      },
      "execution_count": null,
      "outputs": [
        {
          "output_type": "display_data",
          "data": {
            "text/html": [
              "<table class=\"dataframe\">\n",
              "<caption>A data.frame: 9 × 10</caption>\n",
              "<thead>\n",
              "\t<tr><th></th><th scope=col>1007_s_at</th><th scope=col>1053_at</th><th scope=col>121_at</th><th scope=col>1294_at</th><th scope=col>1487_at</th><th scope=col>1729_at</th><th scope=col>177_at</th><th scope=col>200003_s_at</th><th scope=col>200005_at</th><th scope=col>200016_x_at</th></tr>\n",
              "\t<tr><th></th><th scope=col>&lt;dbl&gt;</th><th scope=col>&lt;dbl&gt;</th><th scope=col>&lt;dbl&gt;</th><th scope=col>&lt;dbl&gt;</th><th scope=col>&lt;dbl&gt;</th><th scope=col>&lt;dbl&gt;</th><th scope=col>&lt;dbl&gt;</th><th scope=col>&lt;dbl&gt;</th><th scope=col>&lt;dbl&gt;</th><th scope=col>&lt;dbl&gt;</th></tr>\n",
              "</thead>\n",
              "<tbody>\n",
              "\t<tr><th scope=row>7</th><td>7.73</td><td>4.64</td><td>7.32</td><td>6.43</td><td>6.09</td><td>6.08</td><td>4.85</td><td>10.89</td><td>7.51</td><td> 9.74</td></tr>\n",
              "\t<tr><th scope=row>8</th><td>8.33</td><td>5.64</td><td>7.32</td><td>5.86</td><td>6.36</td><td>6.42</td><td>4.76</td><td>11.13</td><td>8.52</td><td> 9.59</td></tr>\n",
              "\t<tr><th scope=row>9</th><td>7.47</td><td>5.64</td><td>7.09</td><td>6.63</td><td>6.47</td><td>5.85</td><td>4.96</td><td>11.26</td><td>7.53</td><td> 9.96</td></tr>\n",
              "\t<tr><th scope=row>10</th><td>8.39</td><td>5.42</td><td>7.08</td><td>6.11</td><td>6.22</td><td>6.54</td><td>4.57</td><td>11.10</td><td>7.92</td><td>10.10</td></tr>\n",
              "\t<tr><th scope=row>17</th><td>8.16</td><td>5.84</td><td>7.03</td><td>6.02</td><td>6.13</td><td>6.07</td><td>4.42</td><td>10.48</td><td>7.15</td><td>10.03</td></tr>\n",
              "\t<tr><th scope=row>18</th><td>8.19</td><td>5.69</td><td>7.03</td><td>5.79</td><td>5.91</td><td>5.71</td><td>4.44</td><td>10.54</td><td>7.15</td><td>10.47</td></tr>\n",
              "\t<tr><th scope=row>19</th><td>8.23</td><td>5.10</td><td>7.07</td><td>5.66</td><td>6.28</td><td>5.83</td><td>4.33</td><td>10.48</td><td>7.11</td><td>10.46</td></tr>\n",
              "\t<tr><th scope=row>23</th><td>8.96</td><td>4.93</td><td>7.14</td><td>6.22</td><td>6.23</td><td>7.05</td><td>4.81</td><td>11.05</td><td>7.77</td><td> 9.71</td></tr>\n",
              "\t<tr><th scope=row>24</th><td>9.32</td><td>4.79</td><td>7.29</td><td>6.43</td><td>6.27</td><td>7.25</td><td>4.90</td><td>11.45</td><td>7.86</td><td> 9.96</td></tr>\n",
              "</tbody>\n",
              "</table>\n"
            ],
            "text/markdown": "\nA data.frame: 9 × 10\n\n| <!--/--> | 1007_s_at &lt;dbl&gt; | 1053_at &lt;dbl&gt; | 121_at &lt;dbl&gt; | 1294_at &lt;dbl&gt; | 1487_at &lt;dbl&gt; | 1729_at &lt;dbl&gt; | 177_at &lt;dbl&gt; | 200003_s_at &lt;dbl&gt; | 200005_at &lt;dbl&gt; | 200016_x_at &lt;dbl&gt; |\n|---|---|---|---|---|---|---|---|---|---|---|\n| 7 | 7.73 | 4.64 | 7.32 | 6.43 | 6.09 | 6.08 | 4.85 | 10.89 | 7.51 |  9.74 |\n| 8 | 8.33 | 5.64 | 7.32 | 5.86 | 6.36 | 6.42 | 4.76 | 11.13 | 8.52 |  9.59 |\n| 9 | 7.47 | 5.64 | 7.09 | 6.63 | 6.47 | 5.85 | 4.96 | 11.26 | 7.53 |  9.96 |\n| 10 | 8.39 | 5.42 | 7.08 | 6.11 | 6.22 | 6.54 | 4.57 | 11.10 | 7.92 | 10.10 |\n| 17 | 8.16 | 5.84 | 7.03 | 6.02 | 6.13 | 6.07 | 4.42 | 10.48 | 7.15 | 10.03 |\n| 18 | 8.19 | 5.69 | 7.03 | 5.79 | 5.91 | 5.71 | 4.44 | 10.54 | 7.15 | 10.47 |\n| 19 | 8.23 | 5.10 | 7.07 | 5.66 | 6.28 | 5.83 | 4.33 | 10.48 | 7.11 | 10.46 |\n| 23 | 8.96 | 4.93 | 7.14 | 6.22 | 6.23 | 7.05 | 4.81 | 11.05 | 7.77 |  9.71 |\n| 24 | 9.32 | 4.79 | 7.29 | 6.43 | 6.27 | 7.25 | 4.90 | 11.45 | 7.86 |  9.96 |\n\n",
            "text/latex": "A data.frame: 9 × 10\n\\begin{tabular}{r|llllllllll}\n  & 1007\\_s\\_at & 1053\\_at & 121\\_at & 1294\\_at & 1487\\_at & 1729\\_at & 177\\_at & 200003\\_s\\_at & 200005\\_at & 200016\\_x\\_at\\\\\n  & <dbl> & <dbl> & <dbl> & <dbl> & <dbl> & <dbl> & <dbl> & <dbl> & <dbl> & <dbl>\\\\\n\\hline\n\t7 & 7.73 & 4.64 & 7.32 & 6.43 & 6.09 & 6.08 & 4.85 & 10.89 & 7.51 &  9.74\\\\\n\t8 & 8.33 & 5.64 & 7.32 & 5.86 & 6.36 & 6.42 & 4.76 & 11.13 & 8.52 &  9.59\\\\\n\t9 & 7.47 & 5.64 & 7.09 & 6.63 & 6.47 & 5.85 & 4.96 & 11.26 & 7.53 &  9.96\\\\\n\t10 & 8.39 & 5.42 & 7.08 & 6.11 & 6.22 & 6.54 & 4.57 & 11.10 & 7.92 & 10.10\\\\\n\t17 & 8.16 & 5.84 & 7.03 & 6.02 & 6.13 & 6.07 & 4.42 & 10.48 & 7.15 & 10.03\\\\\n\t18 & 8.19 & 5.69 & 7.03 & 5.79 & 5.91 & 5.71 & 4.44 & 10.54 & 7.15 & 10.47\\\\\n\t19 & 8.23 & 5.10 & 7.07 & 5.66 & 6.28 & 5.83 & 4.33 & 10.48 & 7.11 & 10.46\\\\\n\t23 & 8.96 & 4.93 & 7.14 & 6.22 & 6.23 & 7.05 & 4.81 & 11.05 & 7.77 &  9.71\\\\\n\t24 & 9.32 & 4.79 & 7.29 & 6.43 & 6.27 & 7.25 & 4.90 & 11.45 & 7.86 &  9.96\\\\\n\\end{tabular}\n",
            "text/plain": [
              "   1007_s_at 1053_at 121_at 1294_at 1487_at 1729_at 177_at 200003_s_at\n",
              "7  7.73      4.64    7.32   6.43    6.09    6.08    4.85   10.89      \n",
              "8  8.33      5.64    7.32   5.86    6.36    6.42    4.76   11.13      \n",
              "9  7.47      5.64    7.09   6.63    6.47    5.85    4.96   11.26      \n",
              "10 8.39      5.42    7.08   6.11    6.22    6.54    4.57   11.10      \n",
              "17 8.16      5.84    7.03   6.02    6.13    6.07    4.42   10.48      \n",
              "18 8.19      5.69    7.03   5.79    5.91    5.71    4.44   10.54      \n",
              "19 8.23      5.10    7.07   5.66    6.28    5.83    4.33   10.48      \n",
              "23 8.96      4.93    7.14   6.22    6.23    7.05    4.81   11.05      \n",
              "24 9.32      4.79    7.29   6.43    6.27    7.25    4.90   11.45      \n",
              "   200005_at 200016_x_at\n",
              "7  7.51       9.74      \n",
              "8  8.52       9.59      \n",
              "9  7.53       9.96      \n",
              "10 7.92      10.10      \n",
              "17 7.15      10.03      \n",
              "18 7.15      10.47      \n",
              "19 7.11      10.46      \n",
              "23 7.77       9.71      \n",
              "24 7.86       9.96      "
            ]
          },
          "metadata": {}
        }
      ]
    },
    {
      "cell_type": "markdown",
      "source": [
        "#3) Now create 2 separate data matrices from the matrix created in #2 above – a training set and a test set.  The training set should include the following number of samples from each class: first 6 adenocarcinomas, first 6 SCLC, and first 3 normals.  The test set should include the remaining samples.  Put the first column of the test matrix that you just created into a new variable, since this will be the actual sample classes.  Then remove the first column from the test set."
      ],
      "metadata": {
        "id": "sNh4MUfSrKQf"
      }
    },
    {
      "cell_type": "code",
      "source": [
        "train_class = train$class\n",
        "train"
      ],
      "metadata": {
        "colab": {
          "base_uri": "https://localhost:8080/",
          "height": 606
        },
        "id": "mtOOMo9-rEqF",
        "outputId": "633686cb-3876-4ec2-f6a8-cd4571c47916"
      },
      "execution_count": null,
      "outputs": [
        {
          "output_type": "display_data",
          "data": {
            "text/html": [
              "<table class=\"dataframe\">\n",
              "<caption>A data.frame: 15 × 3014</caption>\n",
              "<thead>\n",
              "\t<tr><th></th><th scope=col>1007_s_at</th><th scope=col>1053_at</th><th scope=col>121_at</th><th scope=col>1294_at</th><th scope=col>1487_at</th><th scope=col>1729_at</th><th scope=col>177_at</th><th scope=col>200003_s_at</th><th scope=col>200005_at</th><th scope=col>200016_x_at</th><th scope=col>⋯</th><th scope=col>78047_s_at</th><th scope=col>823_at</th><th scope=col>90265_at</th><th scope=col>AFFX-HSAC07/X00351_3_at</th><th scope=col>AFFX-HSAC07/X00351_M_at</th><th scope=col>AFFX-HUMGAPDH/M33197_5_at</th><th scope=col>AFFX-M27830_3_at</th><th scope=col>AFFX-M27830_5_at</th><th scope=col>AFFX-M27830_M_at</th><th scope=col>class</th></tr>\n",
              "\t<tr><th></th><th scope=col>&lt;dbl&gt;</th><th scope=col>&lt;dbl&gt;</th><th scope=col>&lt;dbl&gt;</th><th scope=col>&lt;dbl&gt;</th><th scope=col>&lt;dbl&gt;</th><th scope=col>&lt;dbl&gt;</th><th scope=col>&lt;dbl&gt;</th><th scope=col>&lt;dbl&gt;</th><th scope=col>&lt;dbl&gt;</th><th scope=col>&lt;dbl&gt;</th><th scope=col>⋯</th><th scope=col>&lt;dbl&gt;</th><th scope=col>&lt;dbl&gt;</th><th scope=col>&lt;dbl&gt;</th><th scope=col>&lt;dbl&gt;</th><th scope=col>&lt;dbl&gt;</th><th scope=col>&lt;dbl&gt;</th><th scope=col>&lt;dbl&gt;</th><th scope=col>&lt;dbl&gt;</th><th scope=col>&lt;dbl&gt;</th><th scope=col>&lt;chr&gt;</th></tr>\n",
              "</thead>\n",
              "<tbody>\n",
              "\t<tr><th scope=row>1</th><td>9.26</td><td>5.15</td><td>7.35</td><td>6.14</td><td>6.45</td><td>6.10</td><td>4.63</td><td>11.71</td><td>8.16</td><td> 9.95</td><td>⋯</td><td>6.85</td><td>6.03</td><td>6.96</td><td>12.25</td><td>11.35</td><td>10.09</td><td>5.71</td><td>8.45</td><td>8.16</td><td>Adeno </td></tr>\n",
              "\t<tr><th scope=row>2</th><td>8.69</td><td>4.57</td><td>7.32</td><td>6.32</td><td>6.13</td><td>6.13</td><td>4.72</td><td>10.72</td><td>7.26</td><td>10.24</td><td>⋯</td><td>7.21</td><td>5.67</td><td>7.36</td><td>11.71</td><td> 9.59</td><td> 7.75</td><td>5.64</td><td>7.13</td><td>8.17</td><td>Adeno </td></tr>\n",
              "\t<tr><th scope=row>3</th><td>8.51</td><td>5.20</td><td>7.13</td><td>6.09</td><td>6.64</td><td>6.52</td><td>4.86</td><td>10.99</td><td>8.60</td><td> 9.71</td><td>⋯</td><td>6.78</td><td>5.22</td><td>7.26</td><td>11.65</td><td>10.86</td><td> 9.13</td><td>5.60</td><td>6.92</td><td>7.86</td><td>Adeno </td></tr>\n",
              "\t<tr><th scope=row>4</th><td>8.38</td><td>4.92</td><td>7.50</td><td>6.08</td><td>6.54</td><td>6.83</td><td>4.42</td><td>10.67</td><td>7.05</td><td> 9.58</td><td>⋯</td><td>6.85</td><td>6.24</td><td>7.11</td><td>11.07</td><td>10.17</td><td>10.18</td><td>5.74</td><td>7.50</td><td>7.91</td><td>Adeno </td></tr>\n",
              "\t<tr><th scope=row>5</th><td>7.70</td><td>4.60</td><td>7.40</td><td>5.98</td><td>5.93</td><td>6.16</td><td>4.41</td><td>10.82</td><td>7.43</td><td> 9.35</td><td>⋯</td><td>6.73</td><td>5.96</td><td>6.98</td><td>11.73</td><td> 9.83</td><td> 9.22</td><td>5.86</td><td>7.67</td><td>7.68</td><td>Adeno </td></tr>\n",
              "\t<tr><th scope=row>6</th><td>8.16</td><td>5.24</td><td>7.35</td><td>6.09</td><td>6.51</td><td>6.12</td><td>4.79</td><td>10.69</td><td>7.62</td><td> 9.52</td><td>⋯</td><td>6.88</td><td>6.14</td><td>7.12</td><td>11.06</td><td> 9.85</td><td>10.30</td><td>5.67</td><td>7.59</td><td>7.82</td><td>Adeno </td></tr>\n",
              "\t<tr><th scope=row>11</th><td>7.88</td><td>5.85</td><td>7.06</td><td>5.69</td><td>6.16</td><td>6.12</td><td>4.73</td><td>10.83</td><td>7.40</td><td>10.27</td><td>⋯</td><td>6.74</td><td>5.55</td><td>6.77</td><td>10.62</td><td> 9.63</td><td>11.02</td><td>5.66</td><td>8.37</td><td>8.16</td><td>SCLC  </td></tr>\n",
              "\t<tr><th scope=row>12</th><td>8.43</td><td>5.31</td><td>7.12</td><td>5.97</td><td>6.24</td><td>6.39</td><td>4.84</td><td>11.06</td><td>7.76</td><td>10.46</td><td>⋯</td><td>6.47</td><td>5.67</td><td>6.73</td><td>10.98</td><td> 9.03</td><td>10.11</td><td>5.39</td><td>7.61</td><td>7.80</td><td>SCLC  </td></tr>\n",
              "\t<tr><th scope=row>13</th><td>7.84</td><td>6.18</td><td>7.20</td><td>5.71</td><td>6.12</td><td>6.45</td><td>4.47</td><td>10.74</td><td>7.74</td><td> 9.88</td><td>⋯</td><td>6.74</td><td>5.64</td><td>6.88</td><td>10.52</td><td> 9.84</td><td>11.14</td><td>5.41</td><td>8.47</td><td>8.39</td><td>SCLC  </td></tr>\n",
              "\t<tr><th scope=row>14</th><td>8.31</td><td>5.76</td><td>7.09</td><td>5.81</td><td>5.85</td><td>5.84</td><td>4.63</td><td>10.47</td><td>7.37</td><td>10.24</td><td>⋯</td><td>6.36</td><td>5.45</td><td>6.67</td><td>10.90</td><td>10.30</td><td>10.43</td><td>5.31</td><td>8.31</td><td>8.48</td><td>SCLC  </td></tr>\n",
              "\t<tr><th scope=row>15</th><td>8.37</td><td>5.90</td><td>7.08</td><td>5.44</td><td>5.83</td><td>5.71</td><td>4.58</td><td>10.57</td><td>7.17</td><td>10.12</td><td>⋯</td><td>6.54</td><td>5.34</td><td>6.65</td><td>11.19</td><td>10.36</td><td> 9.88</td><td>5.27</td><td>9.52</td><td>8.75</td><td>SCLC  </td></tr>\n",
              "\t<tr><th scope=row>16</th><td>8.24</td><td>5.65</td><td>7.05</td><td>5.61</td><td>5.69</td><td>5.68</td><td>4.43</td><td>10.43</td><td>7.51</td><td> 9.84</td><td>⋯</td><td>6.35</td><td>5.32</td><td>6.78</td><td>10.82</td><td>10.41</td><td>10.11</td><td>5.33</td><td>7.21</td><td>7.76</td><td>SCLC  </td></tr>\n",
              "\t<tr><th scope=row>20</th><td>8.96</td><td>4.57</td><td>7.34</td><td>6.02</td><td>6.43</td><td>6.56</td><td>4.77</td><td>10.77</td><td>8.13</td><td> 9.98</td><td>⋯</td><td>6.86</td><td>6.52</td><td>7.01</td><td>10.75</td><td> 9.71</td><td> 8.99</td><td>5.54</td><td>7.16</td><td>7.42</td><td>Normal</td></tr>\n",
              "\t<tr><th scope=row>21</th><td>8.15</td><td>4.82</td><td>6.89</td><td>6.08</td><td>6.36</td><td>5.80</td><td>4.44</td><td>10.59</td><td>7.76</td><td> 9.62</td><td>⋯</td><td>6.30</td><td>6.71</td><td>6.29</td><td>10.30</td><td> 8.21</td><td> 7.70</td><td>5.33</td><td>6.47</td><td>7.02</td><td>Normal</td></tr>\n",
              "\t<tr><th scope=row>22</th><td>9.40</td><td>5.31</td><td>7.23</td><td>6.33</td><td>6.12</td><td>6.68</td><td>5.27</td><td>10.95</td><td>8.22</td><td> 9.59</td><td>⋯</td><td>6.63</td><td>6.02</td><td>6.92</td><td>10.77</td><td> 8.69</td><td>10.44</td><td>5.34</td><td>8.02</td><td>8.21</td><td>Normal</td></tr>\n",
              "</tbody>\n",
              "</table>\n"
            ],
            "text/markdown": "\nA data.frame: 15 × 3014\n\n| <!--/--> | 1007_s_at &lt;dbl&gt; | 1053_at &lt;dbl&gt; | 121_at &lt;dbl&gt; | 1294_at &lt;dbl&gt; | 1487_at &lt;dbl&gt; | 1729_at &lt;dbl&gt; | 177_at &lt;dbl&gt; | 200003_s_at &lt;dbl&gt; | 200005_at &lt;dbl&gt; | 200016_x_at &lt;dbl&gt; | ⋯ ⋯ | 78047_s_at &lt;dbl&gt; | 823_at &lt;dbl&gt; | 90265_at &lt;dbl&gt; | AFFX-HSAC07/X00351_3_at &lt;dbl&gt; | AFFX-HSAC07/X00351_M_at &lt;dbl&gt; | AFFX-HUMGAPDH/M33197_5_at &lt;dbl&gt; | AFFX-M27830_3_at &lt;dbl&gt; | AFFX-M27830_5_at &lt;dbl&gt; | AFFX-M27830_M_at &lt;dbl&gt; | class &lt;chr&gt; |\n|---|---|---|---|---|---|---|---|---|---|---|---|---|---|---|---|---|---|---|---|---|---|\n| 1 | 9.26 | 5.15 | 7.35 | 6.14 | 6.45 | 6.10 | 4.63 | 11.71 | 8.16 |  9.95 | ⋯ | 6.85 | 6.03 | 6.96 | 12.25 | 11.35 | 10.09 | 5.71 | 8.45 | 8.16 | Adeno  |\n| 2 | 8.69 | 4.57 | 7.32 | 6.32 | 6.13 | 6.13 | 4.72 | 10.72 | 7.26 | 10.24 | ⋯ | 7.21 | 5.67 | 7.36 | 11.71 |  9.59 |  7.75 | 5.64 | 7.13 | 8.17 | Adeno  |\n| 3 | 8.51 | 5.20 | 7.13 | 6.09 | 6.64 | 6.52 | 4.86 | 10.99 | 8.60 |  9.71 | ⋯ | 6.78 | 5.22 | 7.26 | 11.65 | 10.86 |  9.13 | 5.60 | 6.92 | 7.86 | Adeno  |\n| 4 | 8.38 | 4.92 | 7.50 | 6.08 | 6.54 | 6.83 | 4.42 | 10.67 | 7.05 |  9.58 | ⋯ | 6.85 | 6.24 | 7.11 | 11.07 | 10.17 | 10.18 | 5.74 | 7.50 | 7.91 | Adeno  |\n| 5 | 7.70 | 4.60 | 7.40 | 5.98 | 5.93 | 6.16 | 4.41 | 10.82 | 7.43 |  9.35 | ⋯ | 6.73 | 5.96 | 6.98 | 11.73 |  9.83 |  9.22 | 5.86 | 7.67 | 7.68 | Adeno  |\n| 6 | 8.16 | 5.24 | 7.35 | 6.09 | 6.51 | 6.12 | 4.79 | 10.69 | 7.62 |  9.52 | ⋯ | 6.88 | 6.14 | 7.12 | 11.06 |  9.85 | 10.30 | 5.67 | 7.59 | 7.82 | Adeno  |\n| 11 | 7.88 | 5.85 | 7.06 | 5.69 | 6.16 | 6.12 | 4.73 | 10.83 | 7.40 | 10.27 | ⋯ | 6.74 | 5.55 | 6.77 | 10.62 |  9.63 | 11.02 | 5.66 | 8.37 | 8.16 | SCLC   |\n| 12 | 8.43 | 5.31 | 7.12 | 5.97 | 6.24 | 6.39 | 4.84 | 11.06 | 7.76 | 10.46 | ⋯ | 6.47 | 5.67 | 6.73 | 10.98 |  9.03 | 10.11 | 5.39 | 7.61 | 7.80 | SCLC   |\n| 13 | 7.84 | 6.18 | 7.20 | 5.71 | 6.12 | 6.45 | 4.47 | 10.74 | 7.74 |  9.88 | ⋯ | 6.74 | 5.64 | 6.88 | 10.52 |  9.84 | 11.14 | 5.41 | 8.47 | 8.39 | SCLC   |\n| 14 | 8.31 | 5.76 | 7.09 | 5.81 | 5.85 | 5.84 | 4.63 | 10.47 | 7.37 | 10.24 | ⋯ | 6.36 | 5.45 | 6.67 | 10.90 | 10.30 | 10.43 | 5.31 | 8.31 | 8.48 | SCLC   |\n| 15 | 8.37 | 5.90 | 7.08 | 5.44 | 5.83 | 5.71 | 4.58 | 10.57 | 7.17 | 10.12 | ⋯ | 6.54 | 5.34 | 6.65 | 11.19 | 10.36 |  9.88 | 5.27 | 9.52 | 8.75 | SCLC   |\n| 16 | 8.24 | 5.65 | 7.05 | 5.61 | 5.69 | 5.68 | 4.43 | 10.43 | 7.51 |  9.84 | ⋯ | 6.35 | 5.32 | 6.78 | 10.82 | 10.41 | 10.11 | 5.33 | 7.21 | 7.76 | SCLC   |\n| 20 | 8.96 | 4.57 | 7.34 | 6.02 | 6.43 | 6.56 | 4.77 | 10.77 | 8.13 |  9.98 | ⋯ | 6.86 | 6.52 | 7.01 | 10.75 |  9.71 |  8.99 | 5.54 | 7.16 | 7.42 | Normal |\n| 21 | 8.15 | 4.82 | 6.89 | 6.08 | 6.36 | 5.80 | 4.44 | 10.59 | 7.76 |  9.62 | ⋯ | 6.30 | 6.71 | 6.29 | 10.30 |  8.21 |  7.70 | 5.33 | 6.47 | 7.02 | Normal |\n| 22 | 9.40 | 5.31 | 7.23 | 6.33 | 6.12 | 6.68 | 5.27 | 10.95 | 8.22 |  9.59 | ⋯ | 6.63 | 6.02 | 6.92 | 10.77 |  8.69 | 10.44 | 5.34 | 8.02 | 8.21 | Normal |\n\n",
            "text/latex": "A data.frame: 15 × 3014\n\\begin{tabular}{r|lllllllllllllllllllll}\n  & 1007\\_s\\_at & 1053\\_at & 121\\_at & 1294\\_at & 1487\\_at & 1729\\_at & 177\\_at & 200003\\_s\\_at & 200005\\_at & 200016\\_x\\_at & ⋯ & 78047\\_s\\_at & 823\\_at & 90265\\_at & AFFX-HSAC07/X00351\\_3\\_at & AFFX-HSAC07/X00351\\_M\\_at & AFFX-HUMGAPDH/M33197\\_5\\_at & AFFX-M27830\\_3\\_at & AFFX-M27830\\_5\\_at & AFFX-M27830\\_M\\_at & class\\\\\n  & <dbl> & <dbl> & <dbl> & <dbl> & <dbl> & <dbl> & <dbl> & <dbl> & <dbl> & <dbl> & ⋯ & <dbl> & <dbl> & <dbl> & <dbl> & <dbl> & <dbl> & <dbl> & <dbl> & <dbl> & <chr>\\\\\n\\hline\n\t1 & 9.26 & 5.15 & 7.35 & 6.14 & 6.45 & 6.10 & 4.63 & 11.71 & 8.16 &  9.95 & ⋯ & 6.85 & 6.03 & 6.96 & 12.25 & 11.35 & 10.09 & 5.71 & 8.45 & 8.16 & Adeno \\\\\n\t2 & 8.69 & 4.57 & 7.32 & 6.32 & 6.13 & 6.13 & 4.72 & 10.72 & 7.26 & 10.24 & ⋯ & 7.21 & 5.67 & 7.36 & 11.71 &  9.59 &  7.75 & 5.64 & 7.13 & 8.17 & Adeno \\\\\n\t3 & 8.51 & 5.20 & 7.13 & 6.09 & 6.64 & 6.52 & 4.86 & 10.99 & 8.60 &  9.71 & ⋯ & 6.78 & 5.22 & 7.26 & 11.65 & 10.86 &  9.13 & 5.60 & 6.92 & 7.86 & Adeno \\\\\n\t4 & 8.38 & 4.92 & 7.50 & 6.08 & 6.54 & 6.83 & 4.42 & 10.67 & 7.05 &  9.58 & ⋯ & 6.85 & 6.24 & 7.11 & 11.07 & 10.17 & 10.18 & 5.74 & 7.50 & 7.91 & Adeno \\\\\n\t5 & 7.70 & 4.60 & 7.40 & 5.98 & 5.93 & 6.16 & 4.41 & 10.82 & 7.43 &  9.35 & ⋯ & 6.73 & 5.96 & 6.98 & 11.73 &  9.83 &  9.22 & 5.86 & 7.67 & 7.68 & Adeno \\\\\n\t6 & 8.16 & 5.24 & 7.35 & 6.09 & 6.51 & 6.12 & 4.79 & 10.69 & 7.62 &  9.52 & ⋯ & 6.88 & 6.14 & 7.12 & 11.06 &  9.85 & 10.30 & 5.67 & 7.59 & 7.82 & Adeno \\\\\n\t11 & 7.88 & 5.85 & 7.06 & 5.69 & 6.16 & 6.12 & 4.73 & 10.83 & 7.40 & 10.27 & ⋯ & 6.74 & 5.55 & 6.77 & 10.62 &  9.63 & 11.02 & 5.66 & 8.37 & 8.16 & SCLC  \\\\\n\t12 & 8.43 & 5.31 & 7.12 & 5.97 & 6.24 & 6.39 & 4.84 & 11.06 & 7.76 & 10.46 & ⋯ & 6.47 & 5.67 & 6.73 & 10.98 &  9.03 & 10.11 & 5.39 & 7.61 & 7.80 & SCLC  \\\\\n\t13 & 7.84 & 6.18 & 7.20 & 5.71 & 6.12 & 6.45 & 4.47 & 10.74 & 7.74 &  9.88 & ⋯ & 6.74 & 5.64 & 6.88 & 10.52 &  9.84 & 11.14 & 5.41 & 8.47 & 8.39 & SCLC  \\\\\n\t14 & 8.31 & 5.76 & 7.09 & 5.81 & 5.85 & 5.84 & 4.63 & 10.47 & 7.37 & 10.24 & ⋯ & 6.36 & 5.45 & 6.67 & 10.90 & 10.30 & 10.43 & 5.31 & 8.31 & 8.48 & SCLC  \\\\\n\t15 & 8.37 & 5.90 & 7.08 & 5.44 & 5.83 & 5.71 & 4.58 & 10.57 & 7.17 & 10.12 & ⋯ & 6.54 & 5.34 & 6.65 & 11.19 & 10.36 &  9.88 & 5.27 & 9.52 & 8.75 & SCLC  \\\\\n\t16 & 8.24 & 5.65 & 7.05 & 5.61 & 5.69 & 5.68 & 4.43 & 10.43 & 7.51 &  9.84 & ⋯ & 6.35 & 5.32 & 6.78 & 10.82 & 10.41 & 10.11 & 5.33 & 7.21 & 7.76 & SCLC  \\\\\n\t20 & 8.96 & 4.57 & 7.34 & 6.02 & 6.43 & 6.56 & 4.77 & 10.77 & 8.13 &  9.98 & ⋯ & 6.86 & 6.52 & 7.01 & 10.75 &  9.71 &  8.99 & 5.54 & 7.16 & 7.42 & Normal\\\\\n\t21 & 8.15 & 4.82 & 6.89 & 6.08 & 6.36 & 5.80 & 4.44 & 10.59 & 7.76 &  9.62 & ⋯ & 6.30 & 6.71 & 6.29 & 10.30 &  8.21 &  7.70 & 5.33 & 6.47 & 7.02 & Normal\\\\\n\t22 & 9.40 & 5.31 & 7.23 & 6.33 & 6.12 & 6.68 & 5.27 & 10.95 & 8.22 &  9.59 & ⋯ & 6.63 & 6.02 & 6.92 & 10.77 &  8.69 & 10.44 & 5.34 & 8.02 & 8.21 & Normal\\\\\n\\end{tabular}\n",
            "text/plain": [
              "   1007_s_at 1053_at 121_at 1294_at 1487_at 1729_at 177_at 200003_s_at\n",
              "1  9.26      5.15    7.35   6.14    6.45    6.10    4.63   11.71      \n",
              "2  8.69      4.57    7.32   6.32    6.13    6.13    4.72   10.72      \n",
              "3  8.51      5.20    7.13   6.09    6.64    6.52    4.86   10.99      \n",
              "4  8.38      4.92    7.50   6.08    6.54    6.83    4.42   10.67      \n",
              "5  7.70      4.60    7.40   5.98    5.93    6.16    4.41   10.82      \n",
              "6  8.16      5.24    7.35   6.09    6.51    6.12    4.79   10.69      \n",
              "11 7.88      5.85    7.06   5.69    6.16    6.12    4.73   10.83      \n",
              "12 8.43      5.31    7.12   5.97    6.24    6.39    4.84   11.06      \n",
              "13 7.84      6.18    7.20   5.71    6.12    6.45    4.47   10.74      \n",
              "14 8.31      5.76    7.09   5.81    5.85    5.84    4.63   10.47      \n",
              "15 8.37      5.90    7.08   5.44    5.83    5.71    4.58   10.57      \n",
              "16 8.24      5.65    7.05   5.61    5.69    5.68    4.43   10.43      \n",
              "20 8.96      4.57    7.34   6.02    6.43    6.56    4.77   10.77      \n",
              "21 8.15      4.82    6.89   6.08    6.36    5.80    4.44   10.59      \n",
              "22 9.40      5.31    7.23   6.33    6.12    6.68    5.27   10.95      \n",
              "   200005_at 200016_x_at ⋯ 78047_s_at 823_at 90265_at AFFX-HSAC07/X00351_3_at\n",
              "1  8.16       9.95       ⋯ 6.85       6.03   6.96     12.25                  \n",
              "2  7.26      10.24       ⋯ 7.21       5.67   7.36     11.71                  \n",
              "3  8.60       9.71       ⋯ 6.78       5.22   7.26     11.65                  \n",
              "4  7.05       9.58       ⋯ 6.85       6.24   7.11     11.07                  \n",
              "5  7.43       9.35       ⋯ 6.73       5.96   6.98     11.73                  \n",
              "6  7.62       9.52       ⋯ 6.88       6.14   7.12     11.06                  \n",
              "11 7.40      10.27       ⋯ 6.74       5.55   6.77     10.62                  \n",
              "12 7.76      10.46       ⋯ 6.47       5.67   6.73     10.98                  \n",
              "13 7.74       9.88       ⋯ 6.74       5.64   6.88     10.52                  \n",
              "14 7.37      10.24       ⋯ 6.36       5.45   6.67     10.90                  \n",
              "15 7.17      10.12       ⋯ 6.54       5.34   6.65     11.19                  \n",
              "16 7.51       9.84       ⋯ 6.35       5.32   6.78     10.82                  \n",
              "20 8.13       9.98       ⋯ 6.86       6.52   7.01     10.75                  \n",
              "21 7.76       9.62       ⋯ 6.30       6.71   6.29     10.30                  \n",
              "22 8.22       9.59       ⋯ 6.63       6.02   6.92     10.77                  \n",
              "   AFFX-HSAC07/X00351_M_at AFFX-HUMGAPDH/M33197_5_at AFFX-M27830_3_at\n",
              "1  11.35                   10.09                     5.71            \n",
              "2   9.59                    7.75                     5.64            \n",
              "3  10.86                    9.13                     5.60            \n",
              "4  10.17                   10.18                     5.74            \n",
              "5   9.83                    9.22                     5.86            \n",
              "6   9.85                   10.30                     5.67            \n",
              "11  9.63                   11.02                     5.66            \n",
              "12  9.03                   10.11                     5.39            \n",
              "13  9.84                   11.14                     5.41            \n",
              "14 10.30                   10.43                     5.31            \n",
              "15 10.36                    9.88                     5.27            \n",
              "16 10.41                   10.11                     5.33            \n",
              "20  9.71                    8.99                     5.54            \n",
              "21  8.21                    7.70                     5.33            \n",
              "22  8.69                   10.44                     5.34            \n",
              "   AFFX-M27830_5_at AFFX-M27830_M_at class \n",
              "1  8.45             8.16             Adeno \n",
              "2  7.13             8.17             Adeno \n",
              "3  6.92             7.86             Adeno \n",
              "4  7.50             7.91             Adeno \n",
              "5  7.67             7.68             Adeno \n",
              "6  7.59             7.82             Adeno \n",
              "11 8.37             8.16             SCLC  \n",
              "12 7.61             7.80             SCLC  \n",
              "13 8.47             8.39             SCLC  \n",
              "14 8.31             8.48             SCLC  \n",
              "15 9.52             8.75             SCLC  \n",
              "16 7.21             7.76             SCLC  \n",
              "20 7.16             7.42             Normal\n",
              "21 6.47             7.02             Normal\n",
              "22 8.02             8.21             Normal"
            ]
          },
          "metadata": {}
        }
      ]
    },
    {
      "cell_type": "code",
      "source": [
        "test_class = test$class\n",
        "test"
      ],
      "metadata": {
        "colab": {
          "base_uri": "https://localhost:8080/",
          "height": 418
        },
        "id": "o0ZI_B4X3alM",
        "outputId": "4ca37ed2-c24a-4146-d512-15cc62c9cf2d"
      },
      "execution_count": null,
      "outputs": [
        {
          "output_type": "display_data",
          "data": {
            "text/html": [
              "<table class=\"dataframe\">\n",
              "<caption>A data.frame: 9 × 3014</caption>\n",
              "<thead>\n",
              "\t<tr><th></th><th scope=col>1007_s_at</th><th scope=col>1053_at</th><th scope=col>121_at</th><th scope=col>1294_at</th><th scope=col>1487_at</th><th scope=col>1729_at</th><th scope=col>177_at</th><th scope=col>200003_s_at</th><th scope=col>200005_at</th><th scope=col>200016_x_at</th><th scope=col>⋯</th><th scope=col>78047_s_at</th><th scope=col>823_at</th><th scope=col>90265_at</th><th scope=col>AFFX-HSAC07/X00351_3_at</th><th scope=col>AFFX-HSAC07/X00351_M_at</th><th scope=col>AFFX-HUMGAPDH/M33197_5_at</th><th scope=col>AFFX-M27830_3_at</th><th scope=col>AFFX-M27830_5_at</th><th scope=col>AFFX-M27830_M_at</th><th scope=col>class</th></tr>\n",
              "\t<tr><th></th><th scope=col>&lt;dbl&gt;</th><th scope=col>&lt;dbl&gt;</th><th scope=col>&lt;dbl&gt;</th><th scope=col>&lt;dbl&gt;</th><th scope=col>&lt;dbl&gt;</th><th scope=col>&lt;dbl&gt;</th><th scope=col>&lt;dbl&gt;</th><th scope=col>&lt;dbl&gt;</th><th scope=col>&lt;dbl&gt;</th><th scope=col>&lt;dbl&gt;</th><th scope=col>⋯</th><th scope=col>&lt;dbl&gt;</th><th scope=col>&lt;dbl&gt;</th><th scope=col>&lt;dbl&gt;</th><th scope=col>&lt;dbl&gt;</th><th scope=col>&lt;dbl&gt;</th><th scope=col>&lt;dbl&gt;</th><th scope=col>&lt;dbl&gt;</th><th scope=col>&lt;dbl&gt;</th><th scope=col>&lt;dbl&gt;</th><th scope=col>&lt;chr&gt;</th></tr>\n",
              "</thead>\n",
              "<tbody>\n",
              "\t<tr><th scope=row>7</th><td>7.73</td><td>4.64</td><td>7.32</td><td>6.43</td><td>6.09</td><td>6.08</td><td>4.85</td><td>10.89</td><td>7.51</td><td> 9.74</td><td>⋯</td><td>6.77</td><td>5.81</td><td>7.07</td><td>11.58</td><td>10.53</td><td> 8.28</td><td>5.35</td><td> 7.80</td><td>8.26</td><td>Adeno </td></tr>\n",
              "\t<tr><th scope=row>8</th><td>8.33</td><td>5.64</td><td>7.32</td><td>5.86</td><td>6.36</td><td>6.42</td><td>4.76</td><td>11.13</td><td>8.52</td><td> 9.59</td><td>⋯</td><td>6.70</td><td>4.86</td><td>6.81</td><td>11.44</td><td>10.48</td><td> 9.81</td><td>5.56</td><td> 9.16</td><td>8.96</td><td>Adeno </td></tr>\n",
              "\t<tr><th scope=row>9</th><td>7.47</td><td>5.64</td><td>7.09</td><td>6.63</td><td>6.47</td><td>5.85</td><td>4.96</td><td>11.26</td><td>7.53</td><td> 9.96</td><td>⋯</td><td>6.63</td><td>5.01</td><td>7.27</td><td>11.26</td><td> 8.73</td><td> 8.22</td><td>5.62</td><td>10.17</td><td>9.50</td><td>Adeno </td></tr>\n",
              "\t<tr><th scope=row>10</th><td>8.39</td><td>5.42</td><td>7.08</td><td>6.11</td><td>6.22</td><td>6.54</td><td>4.57</td><td>11.10</td><td>7.92</td><td>10.10</td><td>⋯</td><td>6.68</td><td>6.27</td><td>7.38</td><td>11.03</td><td> 8.81</td><td> 7.82</td><td>5.41</td><td> 8.69</td><td>8.68</td><td>Adeno </td></tr>\n",
              "\t<tr><th scope=row>17</th><td>8.16</td><td>5.84</td><td>7.03</td><td>6.02</td><td>6.13</td><td>6.07</td><td>4.42</td><td>10.48</td><td>7.15</td><td>10.03</td><td>⋯</td><td>6.44</td><td>5.32</td><td>6.73</td><td>10.49</td><td>10.02</td><td>10.17</td><td>5.38</td><td> 8.47</td><td>8.57</td><td>SCLC  </td></tr>\n",
              "\t<tr><th scope=row>18</th><td>8.19</td><td>5.69</td><td>7.03</td><td>5.79</td><td>5.91</td><td>5.71</td><td>4.44</td><td>10.54</td><td>7.15</td><td>10.47</td><td>⋯</td><td>6.45</td><td>5.18</td><td>6.61</td><td>11.17</td><td>10.00</td><td>10.19</td><td>5.46</td><td> 7.94</td><td>7.88</td><td>SCLC  </td></tr>\n",
              "\t<tr><th scope=row>19</th><td>8.23</td><td>5.10</td><td>7.07</td><td>5.66</td><td>6.28</td><td>5.83</td><td>4.33</td><td>10.48</td><td>7.11</td><td>10.46</td><td>⋯</td><td>6.45</td><td>5.51</td><td>6.79</td><td>10.97</td><td> 9.36</td><td> 9.27</td><td>5.44</td><td> 8.38</td><td>8.79</td><td>SCLC  </td></tr>\n",
              "\t<tr><th scope=row>23</th><td>8.96</td><td>4.93</td><td>7.14</td><td>6.22</td><td>6.23</td><td>7.05</td><td>4.81</td><td>11.05</td><td>7.77</td><td> 9.71</td><td>⋯</td><td>6.98</td><td>6.07</td><td>6.95</td><td>10.79</td><td> 8.70</td><td> 9.78</td><td>5.51</td><td> 7.04</td><td>7.70</td><td>Normal</td></tr>\n",
              "\t<tr><th scope=row>24</th><td>9.32</td><td>4.79</td><td>7.29</td><td>6.43</td><td>6.27</td><td>7.25</td><td>4.90</td><td>11.45</td><td>7.86</td><td> 9.96</td><td>⋯</td><td>6.93</td><td>6.89</td><td>6.95</td><td>10.48</td><td> 8.72</td><td> 9.45</td><td>5.49</td><td> 6.89</td><td>7.71</td><td>Normal</td></tr>\n",
              "</tbody>\n",
              "</table>\n"
            ],
            "text/markdown": "\nA data.frame: 9 × 3014\n\n| <!--/--> | 1007_s_at &lt;dbl&gt; | 1053_at &lt;dbl&gt; | 121_at &lt;dbl&gt; | 1294_at &lt;dbl&gt; | 1487_at &lt;dbl&gt; | 1729_at &lt;dbl&gt; | 177_at &lt;dbl&gt; | 200003_s_at &lt;dbl&gt; | 200005_at &lt;dbl&gt; | 200016_x_at &lt;dbl&gt; | ⋯ ⋯ | 78047_s_at &lt;dbl&gt; | 823_at &lt;dbl&gt; | 90265_at &lt;dbl&gt; | AFFX-HSAC07/X00351_3_at &lt;dbl&gt; | AFFX-HSAC07/X00351_M_at &lt;dbl&gt; | AFFX-HUMGAPDH/M33197_5_at &lt;dbl&gt; | AFFX-M27830_3_at &lt;dbl&gt; | AFFX-M27830_5_at &lt;dbl&gt; | AFFX-M27830_M_at &lt;dbl&gt; | class &lt;chr&gt; |\n|---|---|---|---|---|---|---|---|---|---|---|---|---|---|---|---|---|---|---|---|---|---|\n| 7 | 7.73 | 4.64 | 7.32 | 6.43 | 6.09 | 6.08 | 4.85 | 10.89 | 7.51 |  9.74 | ⋯ | 6.77 | 5.81 | 7.07 | 11.58 | 10.53 |  8.28 | 5.35 |  7.80 | 8.26 | Adeno  |\n| 8 | 8.33 | 5.64 | 7.32 | 5.86 | 6.36 | 6.42 | 4.76 | 11.13 | 8.52 |  9.59 | ⋯ | 6.70 | 4.86 | 6.81 | 11.44 | 10.48 |  9.81 | 5.56 |  9.16 | 8.96 | Adeno  |\n| 9 | 7.47 | 5.64 | 7.09 | 6.63 | 6.47 | 5.85 | 4.96 | 11.26 | 7.53 |  9.96 | ⋯ | 6.63 | 5.01 | 7.27 | 11.26 |  8.73 |  8.22 | 5.62 | 10.17 | 9.50 | Adeno  |\n| 10 | 8.39 | 5.42 | 7.08 | 6.11 | 6.22 | 6.54 | 4.57 | 11.10 | 7.92 | 10.10 | ⋯ | 6.68 | 6.27 | 7.38 | 11.03 |  8.81 |  7.82 | 5.41 |  8.69 | 8.68 | Adeno  |\n| 17 | 8.16 | 5.84 | 7.03 | 6.02 | 6.13 | 6.07 | 4.42 | 10.48 | 7.15 | 10.03 | ⋯ | 6.44 | 5.32 | 6.73 | 10.49 | 10.02 | 10.17 | 5.38 |  8.47 | 8.57 | SCLC   |\n| 18 | 8.19 | 5.69 | 7.03 | 5.79 | 5.91 | 5.71 | 4.44 | 10.54 | 7.15 | 10.47 | ⋯ | 6.45 | 5.18 | 6.61 | 11.17 | 10.00 | 10.19 | 5.46 |  7.94 | 7.88 | SCLC   |\n| 19 | 8.23 | 5.10 | 7.07 | 5.66 | 6.28 | 5.83 | 4.33 | 10.48 | 7.11 | 10.46 | ⋯ | 6.45 | 5.51 | 6.79 | 10.97 |  9.36 |  9.27 | 5.44 |  8.38 | 8.79 | SCLC   |\n| 23 | 8.96 | 4.93 | 7.14 | 6.22 | 6.23 | 7.05 | 4.81 | 11.05 | 7.77 |  9.71 | ⋯ | 6.98 | 6.07 | 6.95 | 10.79 |  8.70 |  9.78 | 5.51 |  7.04 | 7.70 | Normal |\n| 24 | 9.32 | 4.79 | 7.29 | 6.43 | 6.27 | 7.25 | 4.90 | 11.45 | 7.86 |  9.96 | ⋯ | 6.93 | 6.89 | 6.95 | 10.48 |  8.72 |  9.45 | 5.49 |  6.89 | 7.71 | Normal |\n\n",
            "text/latex": "A data.frame: 9 × 3014\n\\begin{tabular}{r|lllllllllllllllllllll}\n  & 1007\\_s\\_at & 1053\\_at & 121\\_at & 1294\\_at & 1487\\_at & 1729\\_at & 177\\_at & 200003\\_s\\_at & 200005\\_at & 200016\\_x\\_at & ⋯ & 78047\\_s\\_at & 823\\_at & 90265\\_at & AFFX-HSAC07/X00351\\_3\\_at & AFFX-HSAC07/X00351\\_M\\_at & AFFX-HUMGAPDH/M33197\\_5\\_at & AFFX-M27830\\_3\\_at & AFFX-M27830\\_5\\_at & AFFX-M27830\\_M\\_at & class\\\\\n  & <dbl> & <dbl> & <dbl> & <dbl> & <dbl> & <dbl> & <dbl> & <dbl> & <dbl> & <dbl> & ⋯ & <dbl> & <dbl> & <dbl> & <dbl> & <dbl> & <dbl> & <dbl> & <dbl> & <dbl> & <chr>\\\\\n\\hline\n\t7 & 7.73 & 4.64 & 7.32 & 6.43 & 6.09 & 6.08 & 4.85 & 10.89 & 7.51 &  9.74 & ⋯ & 6.77 & 5.81 & 7.07 & 11.58 & 10.53 &  8.28 & 5.35 &  7.80 & 8.26 & Adeno \\\\\n\t8 & 8.33 & 5.64 & 7.32 & 5.86 & 6.36 & 6.42 & 4.76 & 11.13 & 8.52 &  9.59 & ⋯ & 6.70 & 4.86 & 6.81 & 11.44 & 10.48 &  9.81 & 5.56 &  9.16 & 8.96 & Adeno \\\\\n\t9 & 7.47 & 5.64 & 7.09 & 6.63 & 6.47 & 5.85 & 4.96 & 11.26 & 7.53 &  9.96 & ⋯ & 6.63 & 5.01 & 7.27 & 11.26 &  8.73 &  8.22 & 5.62 & 10.17 & 9.50 & Adeno \\\\\n\t10 & 8.39 & 5.42 & 7.08 & 6.11 & 6.22 & 6.54 & 4.57 & 11.10 & 7.92 & 10.10 & ⋯ & 6.68 & 6.27 & 7.38 & 11.03 &  8.81 &  7.82 & 5.41 &  8.69 & 8.68 & Adeno \\\\\n\t17 & 8.16 & 5.84 & 7.03 & 6.02 & 6.13 & 6.07 & 4.42 & 10.48 & 7.15 & 10.03 & ⋯ & 6.44 & 5.32 & 6.73 & 10.49 & 10.02 & 10.17 & 5.38 &  8.47 & 8.57 & SCLC  \\\\\n\t18 & 8.19 & 5.69 & 7.03 & 5.79 & 5.91 & 5.71 & 4.44 & 10.54 & 7.15 & 10.47 & ⋯ & 6.45 & 5.18 & 6.61 & 11.17 & 10.00 & 10.19 & 5.46 &  7.94 & 7.88 & SCLC  \\\\\n\t19 & 8.23 & 5.10 & 7.07 & 5.66 & 6.28 & 5.83 & 4.33 & 10.48 & 7.11 & 10.46 & ⋯ & 6.45 & 5.51 & 6.79 & 10.97 &  9.36 &  9.27 & 5.44 &  8.38 & 8.79 & SCLC  \\\\\n\t23 & 8.96 & 4.93 & 7.14 & 6.22 & 6.23 & 7.05 & 4.81 & 11.05 & 7.77 &  9.71 & ⋯ & 6.98 & 6.07 & 6.95 & 10.79 &  8.70 &  9.78 & 5.51 &  7.04 & 7.70 & Normal\\\\\n\t24 & 9.32 & 4.79 & 7.29 & 6.43 & 6.27 & 7.25 & 4.90 & 11.45 & 7.86 &  9.96 & ⋯ & 6.93 & 6.89 & 6.95 & 10.48 &  8.72 &  9.45 & 5.49 &  6.89 & 7.71 & Normal\\\\\n\\end{tabular}\n",
            "text/plain": [
              "   1007_s_at 1053_at 121_at 1294_at 1487_at 1729_at 177_at 200003_s_at\n",
              "7  7.73      4.64    7.32   6.43    6.09    6.08    4.85   10.89      \n",
              "8  8.33      5.64    7.32   5.86    6.36    6.42    4.76   11.13      \n",
              "9  7.47      5.64    7.09   6.63    6.47    5.85    4.96   11.26      \n",
              "10 8.39      5.42    7.08   6.11    6.22    6.54    4.57   11.10      \n",
              "17 8.16      5.84    7.03   6.02    6.13    6.07    4.42   10.48      \n",
              "18 8.19      5.69    7.03   5.79    5.91    5.71    4.44   10.54      \n",
              "19 8.23      5.10    7.07   5.66    6.28    5.83    4.33   10.48      \n",
              "23 8.96      4.93    7.14   6.22    6.23    7.05    4.81   11.05      \n",
              "24 9.32      4.79    7.29   6.43    6.27    7.25    4.90   11.45      \n",
              "   200005_at 200016_x_at ⋯ 78047_s_at 823_at 90265_at AFFX-HSAC07/X00351_3_at\n",
              "7  7.51       9.74       ⋯ 6.77       5.81   7.07     11.58                  \n",
              "8  8.52       9.59       ⋯ 6.70       4.86   6.81     11.44                  \n",
              "9  7.53       9.96       ⋯ 6.63       5.01   7.27     11.26                  \n",
              "10 7.92      10.10       ⋯ 6.68       6.27   7.38     11.03                  \n",
              "17 7.15      10.03       ⋯ 6.44       5.32   6.73     10.49                  \n",
              "18 7.15      10.47       ⋯ 6.45       5.18   6.61     11.17                  \n",
              "19 7.11      10.46       ⋯ 6.45       5.51   6.79     10.97                  \n",
              "23 7.77       9.71       ⋯ 6.98       6.07   6.95     10.79                  \n",
              "24 7.86       9.96       ⋯ 6.93       6.89   6.95     10.48                  \n",
              "   AFFX-HSAC07/X00351_M_at AFFX-HUMGAPDH/M33197_5_at AFFX-M27830_3_at\n",
              "7  10.53                    8.28                     5.35            \n",
              "8  10.48                    9.81                     5.56            \n",
              "9   8.73                    8.22                     5.62            \n",
              "10  8.81                    7.82                     5.41            \n",
              "17 10.02                   10.17                     5.38            \n",
              "18 10.00                   10.19                     5.46            \n",
              "19  9.36                    9.27                     5.44            \n",
              "23  8.70                    9.78                     5.51            \n",
              "24  8.72                    9.45                     5.49            \n",
              "   AFFX-M27830_5_at AFFX-M27830_M_at class \n",
              "7   7.80            8.26             Adeno \n",
              "8   9.16            8.96             Adeno \n",
              "9  10.17            9.50             Adeno \n",
              "10  8.69            8.68             Adeno \n",
              "17  8.47            8.57             SCLC  \n",
              "18  7.94            7.88             SCLC  \n",
              "19  8.38            8.79             SCLC  \n",
              "23  7.04            7.70             Normal\n",
              "24  6.89            7.71             Normal"
            ]
          },
          "metadata": {}
        }
      ]
    },
    {
      "cell_type": "code",
      "source": [
        "test_ = test[,1:length(colnames(test))-1]\n",
        "test_"
      ],
      "metadata": {
        "colab": {
          "base_uri": "https://localhost:8080/",
          "height": 418
        },
        "id": "NyQbJbbp4BmH",
        "outputId": "03615e22-fe99-4527-8c6c-1a2a628654e4"
      },
      "execution_count": null,
      "outputs": [
        {
          "output_type": "display_data",
          "data": {
            "text/html": [
              "<table class=\"dataframe\">\n",
              "<caption>A data.frame: 9 × 3013</caption>\n",
              "<thead>\n",
              "\t<tr><th></th><th scope=col>1007_s_at</th><th scope=col>1053_at</th><th scope=col>121_at</th><th scope=col>1294_at</th><th scope=col>1487_at</th><th scope=col>1729_at</th><th scope=col>177_at</th><th scope=col>200003_s_at</th><th scope=col>200005_at</th><th scope=col>200016_x_at</th><th scope=col>⋯</th><th scope=col>65521_at</th><th scope=col>78047_s_at</th><th scope=col>823_at</th><th scope=col>90265_at</th><th scope=col>AFFX-HSAC07/X00351_3_at</th><th scope=col>AFFX-HSAC07/X00351_M_at</th><th scope=col>AFFX-HUMGAPDH/M33197_5_at</th><th scope=col>AFFX-M27830_3_at</th><th scope=col>AFFX-M27830_5_at</th><th scope=col>AFFX-M27830_M_at</th></tr>\n",
              "\t<tr><th></th><th scope=col>&lt;dbl&gt;</th><th scope=col>&lt;dbl&gt;</th><th scope=col>&lt;dbl&gt;</th><th scope=col>&lt;dbl&gt;</th><th scope=col>&lt;dbl&gt;</th><th scope=col>&lt;dbl&gt;</th><th scope=col>&lt;dbl&gt;</th><th scope=col>&lt;dbl&gt;</th><th scope=col>&lt;dbl&gt;</th><th scope=col>&lt;dbl&gt;</th><th scope=col>⋯</th><th scope=col>&lt;dbl&gt;</th><th scope=col>&lt;dbl&gt;</th><th scope=col>&lt;dbl&gt;</th><th scope=col>&lt;dbl&gt;</th><th scope=col>&lt;dbl&gt;</th><th scope=col>&lt;dbl&gt;</th><th scope=col>&lt;dbl&gt;</th><th scope=col>&lt;dbl&gt;</th><th scope=col>&lt;dbl&gt;</th><th scope=col>&lt;dbl&gt;</th></tr>\n",
              "</thead>\n",
              "<tbody>\n",
              "\t<tr><th scope=row>7</th><td>7.73</td><td>4.64</td><td>7.32</td><td>6.43</td><td>6.09</td><td>6.08</td><td>4.85</td><td>10.89</td><td>7.51</td><td> 9.74</td><td>⋯</td><td>6.08</td><td>6.77</td><td>5.81</td><td>7.07</td><td>11.58</td><td>10.53</td><td> 8.28</td><td>5.35</td><td> 7.80</td><td>8.26</td></tr>\n",
              "\t<tr><th scope=row>8</th><td>8.33</td><td>5.64</td><td>7.32</td><td>5.86</td><td>6.36</td><td>6.42</td><td>4.76</td><td>11.13</td><td>8.52</td><td> 9.59</td><td>⋯</td><td>6.55</td><td>6.70</td><td>4.86</td><td>6.81</td><td>11.44</td><td>10.48</td><td> 9.81</td><td>5.56</td><td> 9.16</td><td>8.96</td></tr>\n",
              "\t<tr><th scope=row>9</th><td>7.47</td><td>5.64</td><td>7.09</td><td>6.63</td><td>6.47</td><td>5.85</td><td>4.96</td><td>11.26</td><td>7.53</td><td> 9.96</td><td>⋯</td><td>6.17</td><td>6.63</td><td>5.01</td><td>7.27</td><td>11.26</td><td> 8.73</td><td> 8.22</td><td>5.62</td><td>10.17</td><td>9.50</td></tr>\n",
              "\t<tr><th scope=row>10</th><td>8.39</td><td>5.42</td><td>7.08</td><td>6.11</td><td>6.22</td><td>6.54</td><td>4.57</td><td>11.10</td><td>7.92</td><td>10.10</td><td>⋯</td><td>6.34</td><td>6.68</td><td>6.27</td><td>7.38</td><td>11.03</td><td> 8.81</td><td> 7.82</td><td>5.41</td><td> 8.69</td><td>8.68</td></tr>\n",
              "\t<tr><th scope=row>17</th><td>8.16</td><td>5.84</td><td>7.03</td><td>6.02</td><td>6.13</td><td>6.07</td><td>4.42</td><td>10.48</td><td>7.15</td><td>10.03</td><td>⋯</td><td>6.15</td><td>6.44</td><td>5.32</td><td>6.73</td><td>10.49</td><td>10.02</td><td>10.17</td><td>5.38</td><td> 8.47</td><td>8.57</td></tr>\n",
              "\t<tr><th scope=row>18</th><td>8.19</td><td>5.69</td><td>7.03</td><td>5.79</td><td>5.91</td><td>5.71</td><td>4.44</td><td>10.54</td><td>7.15</td><td>10.47</td><td>⋯</td><td>6.06</td><td>6.45</td><td>5.18</td><td>6.61</td><td>11.17</td><td>10.00</td><td>10.19</td><td>5.46</td><td> 7.94</td><td>7.88</td></tr>\n",
              "\t<tr><th scope=row>19</th><td>8.23</td><td>5.10</td><td>7.07</td><td>5.66</td><td>6.28</td><td>5.83</td><td>4.33</td><td>10.48</td><td>7.11</td><td>10.46</td><td>⋯</td><td>6.21</td><td>6.45</td><td>5.51</td><td>6.79</td><td>10.97</td><td> 9.36</td><td> 9.27</td><td>5.44</td><td> 8.38</td><td>8.79</td></tr>\n",
              "\t<tr><th scope=row>23</th><td>8.96</td><td>4.93</td><td>7.14</td><td>6.22</td><td>6.23</td><td>7.05</td><td>4.81</td><td>11.05</td><td>7.77</td><td> 9.71</td><td>⋯</td><td>6.34</td><td>6.98</td><td>6.07</td><td>6.95</td><td>10.79</td><td> 8.70</td><td> 9.78</td><td>5.51</td><td> 7.04</td><td>7.70</td></tr>\n",
              "\t<tr><th scope=row>24</th><td>9.32</td><td>4.79</td><td>7.29</td><td>6.43</td><td>6.27</td><td>7.25</td><td>4.90</td><td>11.45</td><td>7.86</td><td> 9.96</td><td>⋯</td><td>6.20</td><td>6.93</td><td>6.89</td><td>6.95</td><td>10.48</td><td> 8.72</td><td> 9.45</td><td>5.49</td><td> 6.89</td><td>7.71</td></tr>\n",
              "</tbody>\n",
              "</table>\n"
            ],
            "text/markdown": "\nA data.frame: 9 × 3013\n\n| <!--/--> | 1007_s_at &lt;dbl&gt; | 1053_at &lt;dbl&gt; | 121_at &lt;dbl&gt; | 1294_at &lt;dbl&gt; | 1487_at &lt;dbl&gt; | 1729_at &lt;dbl&gt; | 177_at &lt;dbl&gt; | 200003_s_at &lt;dbl&gt; | 200005_at &lt;dbl&gt; | 200016_x_at &lt;dbl&gt; | ⋯ ⋯ | 65521_at &lt;dbl&gt; | 78047_s_at &lt;dbl&gt; | 823_at &lt;dbl&gt; | 90265_at &lt;dbl&gt; | AFFX-HSAC07/X00351_3_at &lt;dbl&gt; | AFFX-HSAC07/X00351_M_at &lt;dbl&gt; | AFFX-HUMGAPDH/M33197_5_at &lt;dbl&gt; | AFFX-M27830_3_at &lt;dbl&gt; | AFFX-M27830_5_at &lt;dbl&gt; | AFFX-M27830_M_at &lt;dbl&gt; |\n|---|---|---|---|---|---|---|---|---|---|---|---|---|---|---|---|---|---|---|---|---|---|\n| 7 | 7.73 | 4.64 | 7.32 | 6.43 | 6.09 | 6.08 | 4.85 | 10.89 | 7.51 |  9.74 | ⋯ | 6.08 | 6.77 | 5.81 | 7.07 | 11.58 | 10.53 |  8.28 | 5.35 |  7.80 | 8.26 |\n| 8 | 8.33 | 5.64 | 7.32 | 5.86 | 6.36 | 6.42 | 4.76 | 11.13 | 8.52 |  9.59 | ⋯ | 6.55 | 6.70 | 4.86 | 6.81 | 11.44 | 10.48 |  9.81 | 5.56 |  9.16 | 8.96 |\n| 9 | 7.47 | 5.64 | 7.09 | 6.63 | 6.47 | 5.85 | 4.96 | 11.26 | 7.53 |  9.96 | ⋯ | 6.17 | 6.63 | 5.01 | 7.27 | 11.26 |  8.73 |  8.22 | 5.62 | 10.17 | 9.50 |\n| 10 | 8.39 | 5.42 | 7.08 | 6.11 | 6.22 | 6.54 | 4.57 | 11.10 | 7.92 | 10.10 | ⋯ | 6.34 | 6.68 | 6.27 | 7.38 | 11.03 |  8.81 |  7.82 | 5.41 |  8.69 | 8.68 |\n| 17 | 8.16 | 5.84 | 7.03 | 6.02 | 6.13 | 6.07 | 4.42 | 10.48 | 7.15 | 10.03 | ⋯ | 6.15 | 6.44 | 5.32 | 6.73 | 10.49 | 10.02 | 10.17 | 5.38 |  8.47 | 8.57 |\n| 18 | 8.19 | 5.69 | 7.03 | 5.79 | 5.91 | 5.71 | 4.44 | 10.54 | 7.15 | 10.47 | ⋯ | 6.06 | 6.45 | 5.18 | 6.61 | 11.17 | 10.00 | 10.19 | 5.46 |  7.94 | 7.88 |\n| 19 | 8.23 | 5.10 | 7.07 | 5.66 | 6.28 | 5.83 | 4.33 | 10.48 | 7.11 | 10.46 | ⋯ | 6.21 | 6.45 | 5.51 | 6.79 | 10.97 |  9.36 |  9.27 | 5.44 |  8.38 | 8.79 |\n| 23 | 8.96 | 4.93 | 7.14 | 6.22 | 6.23 | 7.05 | 4.81 | 11.05 | 7.77 |  9.71 | ⋯ | 6.34 | 6.98 | 6.07 | 6.95 | 10.79 |  8.70 |  9.78 | 5.51 |  7.04 | 7.70 |\n| 24 | 9.32 | 4.79 | 7.29 | 6.43 | 6.27 | 7.25 | 4.90 | 11.45 | 7.86 |  9.96 | ⋯ | 6.20 | 6.93 | 6.89 | 6.95 | 10.48 |  8.72 |  9.45 | 5.49 |  6.89 | 7.71 |\n\n",
            "text/latex": "A data.frame: 9 × 3013\n\\begin{tabular}{r|lllllllllllllllllllll}\n  & 1007\\_s\\_at & 1053\\_at & 121\\_at & 1294\\_at & 1487\\_at & 1729\\_at & 177\\_at & 200003\\_s\\_at & 200005\\_at & 200016\\_x\\_at & ⋯ & 65521\\_at & 78047\\_s\\_at & 823\\_at & 90265\\_at & AFFX-HSAC07/X00351\\_3\\_at & AFFX-HSAC07/X00351\\_M\\_at & AFFX-HUMGAPDH/M33197\\_5\\_at & AFFX-M27830\\_3\\_at & AFFX-M27830\\_5\\_at & AFFX-M27830\\_M\\_at\\\\\n  & <dbl> & <dbl> & <dbl> & <dbl> & <dbl> & <dbl> & <dbl> & <dbl> & <dbl> & <dbl> & ⋯ & <dbl> & <dbl> & <dbl> & <dbl> & <dbl> & <dbl> & <dbl> & <dbl> & <dbl> & <dbl>\\\\\n\\hline\n\t7 & 7.73 & 4.64 & 7.32 & 6.43 & 6.09 & 6.08 & 4.85 & 10.89 & 7.51 &  9.74 & ⋯ & 6.08 & 6.77 & 5.81 & 7.07 & 11.58 & 10.53 &  8.28 & 5.35 &  7.80 & 8.26\\\\\n\t8 & 8.33 & 5.64 & 7.32 & 5.86 & 6.36 & 6.42 & 4.76 & 11.13 & 8.52 &  9.59 & ⋯ & 6.55 & 6.70 & 4.86 & 6.81 & 11.44 & 10.48 &  9.81 & 5.56 &  9.16 & 8.96\\\\\n\t9 & 7.47 & 5.64 & 7.09 & 6.63 & 6.47 & 5.85 & 4.96 & 11.26 & 7.53 &  9.96 & ⋯ & 6.17 & 6.63 & 5.01 & 7.27 & 11.26 &  8.73 &  8.22 & 5.62 & 10.17 & 9.50\\\\\n\t10 & 8.39 & 5.42 & 7.08 & 6.11 & 6.22 & 6.54 & 4.57 & 11.10 & 7.92 & 10.10 & ⋯ & 6.34 & 6.68 & 6.27 & 7.38 & 11.03 &  8.81 &  7.82 & 5.41 &  8.69 & 8.68\\\\\n\t17 & 8.16 & 5.84 & 7.03 & 6.02 & 6.13 & 6.07 & 4.42 & 10.48 & 7.15 & 10.03 & ⋯ & 6.15 & 6.44 & 5.32 & 6.73 & 10.49 & 10.02 & 10.17 & 5.38 &  8.47 & 8.57\\\\\n\t18 & 8.19 & 5.69 & 7.03 & 5.79 & 5.91 & 5.71 & 4.44 & 10.54 & 7.15 & 10.47 & ⋯ & 6.06 & 6.45 & 5.18 & 6.61 & 11.17 & 10.00 & 10.19 & 5.46 &  7.94 & 7.88\\\\\n\t19 & 8.23 & 5.10 & 7.07 & 5.66 & 6.28 & 5.83 & 4.33 & 10.48 & 7.11 & 10.46 & ⋯ & 6.21 & 6.45 & 5.51 & 6.79 & 10.97 &  9.36 &  9.27 & 5.44 &  8.38 & 8.79\\\\\n\t23 & 8.96 & 4.93 & 7.14 & 6.22 & 6.23 & 7.05 & 4.81 & 11.05 & 7.77 &  9.71 & ⋯ & 6.34 & 6.98 & 6.07 & 6.95 & 10.79 &  8.70 &  9.78 & 5.51 &  7.04 & 7.70\\\\\n\t24 & 9.32 & 4.79 & 7.29 & 6.43 & 6.27 & 7.25 & 4.90 & 11.45 & 7.86 &  9.96 & ⋯ & 6.20 & 6.93 & 6.89 & 6.95 & 10.48 &  8.72 &  9.45 & 5.49 &  6.89 & 7.71\\\\\n\\end{tabular}\n",
            "text/plain": [
              "   1007_s_at 1053_at 121_at 1294_at 1487_at 1729_at 177_at 200003_s_at\n",
              "7  7.73      4.64    7.32   6.43    6.09    6.08    4.85   10.89      \n",
              "8  8.33      5.64    7.32   5.86    6.36    6.42    4.76   11.13      \n",
              "9  7.47      5.64    7.09   6.63    6.47    5.85    4.96   11.26      \n",
              "10 8.39      5.42    7.08   6.11    6.22    6.54    4.57   11.10      \n",
              "17 8.16      5.84    7.03   6.02    6.13    6.07    4.42   10.48      \n",
              "18 8.19      5.69    7.03   5.79    5.91    5.71    4.44   10.54      \n",
              "19 8.23      5.10    7.07   5.66    6.28    5.83    4.33   10.48      \n",
              "23 8.96      4.93    7.14   6.22    6.23    7.05    4.81   11.05      \n",
              "24 9.32      4.79    7.29   6.43    6.27    7.25    4.90   11.45      \n",
              "   200005_at 200016_x_at ⋯ 65521_at 78047_s_at 823_at 90265_at\n",
              "7  7.51       9.74       ⋯ 6.08     6.77       5.81   7.07    \n",
              "8  8.52       9.59       ⋯ 6.55     6.70       4.86   6.81    \n",
              "9  7.53       9.96       ⋯ 6.17     6.63       5.01   7.27    \n",
              "10 7.92      10.10       ⋯ 6.34     6.68       6.27   7.38    \n",
              "17 7.15      10.03       ⋯ 6.15     6.44       5.32   6.73    \n",
              "18 7.15      10.47       ⋯ 6.06     6.45       5.18   6.61    \n",
              "19 7.11      10.46       ⋯ 6.21     6.45       5.51   6.79    \n",
              "23 7.77       9.71       ⋯ 6.34     6.98       6.07   6.95    \n",
              "24 7.86       9.96       ⋯ 6.20     6.93       6.89   6.95    \n",
              "   AFFX-HSAC07/X00351_3_at AFFX-HSAC07/X00351_M_at AFFX-HUMGAPDH/M33197_5_at\n",
              "7  11.58                   10.53                    8.28                    \n",
              "8  11.44                   10.48                    9.81                    \n",
              "9  11.26                    8.73                    8.22                    \n",
              "10 11.03                    8.81                    7.82                    \n",
              "17 10.49                   10.02                   10.17                    \n",
              "18 11.17                   10.00                   10.19                    \n",
              "19 10.97                    9.36                    9.27                    \n",
              "23 10.79                    8.70                    9.78                    \n",
              "24 10.48                    8.72                    9.45                    \n",
              "   AFFX-M27830_3_at AFFX-M27830_5_at AFFX-M27830_M_at\n",
              "7  5.35              7.80            8.26            \n",
              "8  5.56              9.16            8.96            \n",
              "9  5.62             10.17            9.50            \n",
              "10 5.41              8.69            8.68            \n",
              "17 5.38              8.47            8.57            \n",
              "18 5.46              7.94            7.88            \n",
              "19 5.44              8.38            8.79            \n",
              "23 5.51              7.04            7.70            \n",
              "24 5.49              6.89            7.71            "
            ]
          },
          "metadata": {}
        }
      ]
    },
    {
      "cell_type": "markdown",
      "source": [
        "#4)\tNow we want to run a classifier to see if we can predict the lung cancer types and discriminate them from both each other and the normal samples.  We will train the model on the training set and use the test set as our model accuracy assessment.\n",
        "\n",
        "#Use the lda() function and train the model using the training set, but ONLY use the first 2 genes.  Predict the test set sample using the predict() function.  This function only requires 2 arguments – the variable that you saved the model construction in and the test set.  Make sure to only select the first 2 genes (i.e. columns) in the test set, when predicting the sample classes.  Use the table() function to see the confusion matrix.  Hint: if you saved your output from the predict function in the variable “out” and you called the variable created in #3 “lab”, then you use table like this:\n",
        "\n",
        "> table(out$class,lab)\n",
        "\t\n",
        "#How many total samples are misclassified?\n",
        "5 samples were misclassified.\n"
      ],
      "metadata": {
        "id": "7Qz_yZ0ZrFHr"
      }
    },
    {
      "cell_type": "code",
      "source": [
        "# class(train)\n",
        "head(train[, 1:2])"
      ],
      "metadata": {
        "colab": {
          "base_uri": "https://localhost:8080/",
          "height": 286
        },
        "id": "FQ2bgEIo9h0b",
        "outputId": "18630376-8d5b-43e1-c552-1b9f6e6ba480"
      },
      "execution_count": null,
      "outputs": [
        {
          "output_type": "display_data",
          "data": {
            "text/html": [
              "<table class=\"dataframe\">\n",
              "<caption>A data.frame: 6 × 2</caption>\n",
              "<thead>\n",
              "\t<tr><th></th><th scope=col>1007_s_at</th><th scope=col>1053_at</th></tr>\n",
              "\t<tr><th></th><th scope=col>&lt;dbl&gt;</th><th scope=col>&lt;dbl&gt;</th></tr>\n",
              "</thead>\n",
              "<tbody>\n",
              "\t<tr><th scope=row>1</th><td>9.26</td><td>5.15</td></tr>\n",
              "\t<tr><th scope=row>2</th><td>8.69</td><td>4.57</td></tr>\n",
              "\t<tr><th scope=row>3</th><td>8.51</td><td>5.20</td></tr>\n",
              "\t<tr><th scope=row>4</th><td>8.38</td><td>4.92</td></tr>\n",
              "\t<tr><th scope=row>5</th><td>7.70</td><td>4.60</td></tr>\n",
              "\t<tr><th scope=row>6</th><td>8.16</td><td>5.24</td></tr>\n",
              "</tbody>\n",
              "</table>\n"
            ],
            "text/markdown": "\nA data.frame: 6 × 2\n\n| <!--/--> | 1007_s_at &lt;dbl&gt; | 1053_at &lt;dbl&gt; |\n|---|---|---|\n| 1 | 9.26 | 5.15 |\n| 2 | 8.69 | 4.57 |\n| 3 | 8.51 | 5.20 |\n| 4 | 8.38 | 4.92 |\n| 5 | 7.70 | 4.60 |\n| 6 | 8.16 | 5.24 |\n\n",
            "text/latex": "A data.frame: 6 × 2\n\\begin{tabular}{r|ll}\n  & 1007\\_s\\_at & 1053\\_at\\\\\n  & <dbl> & <dbl>\\\\\n\\hline\n\t1 & 9.26 & 5.15\\\\\n\t2 & 8.69 & 4.57\\\\\n\t3 & 8.51 & 5.20\\\\\n\t4 & 8.38 & 4.92\\\\\n\t5 & 7.70 & 4.60\\\\\n\t6 & 8.16 & 5.24\\\\\n\\end{tabular}\n",
            "text/plain": [
              "  1007_s_at 1053_at\n",
              "1 9.26      5.15   \n",
              "2 8.69      4.57   \n",
              "3 8.51      5.20   \n",
              "4 8.38      4.92   \n",
              "5 7.70      4.60   \n",
              "6 8.16      5.24   "
            ]
          },
          "metadata": {}
        }
      ]
    },
    {
      "cell_type": "code",
      "source": [
        "head(train)"
      ],
      "metadata": {
        "colab": {
          "base_uri": "https://localhost:8080/",
          "height": 324
        },
        "id": "W3CmIo6N7Oht",
        "outputId": "3dd48198-800f-480a-d4b3-c5e4de776b63"
      },
      "execution_count": null,
      "outputs": [
        {
          "output_type": "display_data",
          "data": {
            "text/html": [
              "<table class=\"dataframe\">\n",
              "<caption>A data.frame: 6 × 3014</caption>\n",
              "<thead>\n",
              "\t<tr><th></th><th scope=col>1007_s_at</th><th scope=col>1053_at</th><th scope=col>121_at</th><th scope=col>1294_at</th><th scope=col>1487_at</th><th scope=col>1729_at</th><th scope=col>177_at</th><th scope=col>200003_s_at</th><th scope=col>200005_at</th><th scope=col>200016_x_at</th><th scope=col>⋯</th><th scope=col>78047_s_at</th><th scope=col>823_at</th><th scope=col>90265_at</th><th scope=col>AFFX-HSAC07/X00351_3_at</th><th scope=col>AFFX-HSAC07/X00351_M_at</th><th scope=col>AFFX-HUMGAPDH/M33197_5_at</th><th scope=col>AFFX-M27830_3_at</th><th scope=col>AFFX-M27830_5_at</th><th scope=col>AFFX-M27830_M_at</th><th scope=col>class</th></tr>\n",
              "\t<tr><th></th><th scope=col>&lt;dbl&gt;</th><th scope=col>&lt;dbl&gt;</th><th scope=col>&lt;dbl&gt;</th><th scope=col>&lt;dbl&gt;</th><th scope=col>&lt;dbl&gt;</th><th scope=col>&lt;dbl&gt;</th><th scope=col>&lt;dbl&gt;</th><th scope=col>&lt;dbl&gt;</th><th scope=col>&lt;dbl&gt;</th><th scope=col>&lt;dbl&gt;</th><th scope=col>⋯</th><th scope=col>&lt;dbl&gt;</th><th scope=col>&lt;dbl&gt;</th><th scope=col>&lt;dbl&gt;</th><th scope=col>&lt;dbl&gt;</th><th scope=col>&lt;dbl&gt;</th><th scope=col>&lt;dbl&gt;</th><th scope=col>&lt;dbl&gt;</th><th scope=col>&lt;dbl&gt;</th><th scope=col>&lt;dbl&gt;</th><th scope=col>&lt;chr&gt;</th></tr>\n",
              "</thead>\n",
              "<tbody>\n",
              "\t<tr><th scope=row>1</th><td>9.26</td><td>5.15</td><td>7.35</td><td>6.14</td><td>6.45</td><td>6.10</td><td>4.63</td><td>11.71</td><td>8.16</td><td> 9.95</td><td>⋯</td><td>6.85</td><td>6.03</td><td>6.96</td><td>12.25</td><td>11.35</td><td>10.09</td><td>5.71</td><td>8.45</td><td>8.16</td><td>Adeno</td></tr>\n",
              "\t<tr><th scope=row>2</th><td>8.69</td><td>4.57</td><td>7.32</td><td>6.32</td><td>6.13</td><td>6.13</td><td>4.72</td><td>10.72</td><td>7.26</td><td>10.24</td><td>⋯</td><td>7.21</td><td>5.67</td><td>7.36</td><td>11.71</td><td> 9.59</td><td> 7.75</td><td>5.64</td><td>7.13</td><td>8.17</td><td>Adeno</td></tr>\n",
              "\t<tr><th scope=row>3</th><td>8.51</td><td>5.20</td><td>7.13</td><td>6.09</td><td>6.64</td><td>6.52</td><td>4.86</td><td>10.99</td><td>8.60</td><td> 9.71</td><td>⋯</td><td>6.78</td><td>5.22</td><td>7.26</td><td>11.65</td><td>10.86</td><td> 9.13</td><td>5.60</td><td>6.92</td><td>7.86</td><td>Adeno</td></tr>\n",
              "\t<tr><th scope=row>4</th><td>8.38</td><td>4.92</td><td>7.50</td><td>6.08</td><td>6.54</td><td>6.83</td><td>4.42</td><td>10.67</td><td>7.05</td><td> 9.58</td><td>⋯</td><td>6.85</td><td>6.24</td><td>7.11</td><td>11.07</td><td>10.17</td><td>10.18</td><td>5.74</td><td>7.50</td><td>7.91</td><td>Adeno</td></tr>\n",
              "\t<tr><th scope=row>5</th><td>7.70</td><td>4.60</td><td>7.40</td><td>5.98</td><td>5.93</td><td>6.16</td><td>4.41</td><td>10.82</td><td>7.43</td><td> 9.35</td><td>⋯</td><td>6.73</td><td>5.96</td><td>6.98</td><td>11.73</td><td> 9.83</td><td> 9.22</td><td>5.86</td><td>7.67</td><td>7.68</td><td>Adeno</td></tr>\n",
              "\t<tr><th scope=row>6</th><td>8.16</td><td>5.24</td><td>7.35</td><td>6.09</td><td>6.51</td><td>6.12</td><td>4.79</td><td>10.69</td><td>7.62</td><td> 9.52</td><td>⋯</td><td>6.88</td><td>6.14</td><td>7.12</td><td>11.06</td><td> 9.85</td><td>10.30</td><td>5.67</td><td>7.59</td><td>7.82</td><td>Adeno</td></tr>\n",
              "</tbody>\n",
              "</table>\n"
            ],
            "text/markdown": "\nA data.frame: 6 × 3014\n\n| <!--/--> | 1007_s_at &lt;dbl&gt; | 1053_at &lt;dbl&gt; | 121_at &lt;dbl&gt; | 1294_at &lt;dbl&gt; | 1487_at &lt;dbl&gt; | 1729_at &lt;dbl&gt; | 177_at &lt;dbl&gt; | 200003_s_at &lt;dbl&gt; | 200005_at &lt;dbl&gt; | 200016_x_at &lt;dbl&gt; | ⋯ ⋯ | 78047_s_at &lt;dbl&gt; | 823_at &lt;dbl&gt; | 90265_at &lt;dbl&gt; | AFFX-HSAC07/X00351_3_at &lt;dbl&gt; | AFFX-HSAC07/X00351_M_at &lt;dbl&gt; | AFFX-HUMGAPDH/M33197_5_at &lt;dbl&gt; | AFFX-M27830_3_at &lt;dbl&gt; | AFFX-M27830_5_at &lt;dbl&gt; | AFFX-M27830_M_at &lt;dbl&gt; | class &lt;chr&gt; |\n|---|---|---|---|---|---|---|---|---|---|---|---|---|---|---|---|---|---|---|---|---|---|\n| 1 | 9.26 | 5.15 | 7.35 | 6.14 | 6.45 | 6.10 | 4.63 | 11.71 | 8.16 |  9.95 | ⋯ | 6.85 | 6.03 | 6.96 | 12.25 | 11.35 | 10.09 | 5.71 | 8.45 | 8.16 | Adeno |\n| 2 | 8.69 | 4.57 | 7.32 | 6.32 | 6.13 | 6.13 | 4.72 | 10.72 | 7.26 | 10.24 | ⋯ | 7.21 | 5.67 | 7.36 | 11.71 |  9.59 |  7.75 | 5.64 | 7.13 | 8.17 | Adeno |\n| 3 | 8.51 | 5.20 | 7.13 | 6.09 | 6.64 | 6.52 | 4.86 | 10.99 | 8.60 |  9.71 | ⋯ | 6.78 | 5.22 | 7.26 | 11.65 | 10.86 |  9.13 | 5.60 | 6.92 | 7.86 | Adeno |\n| 4 | 8.38 | 4.92 | 7.50 | 6.08 | 6.54 | 6.83 | 4.42 | 10.67 | 7.05 |  9.58 | ⋯ | 6.85 | 6.24 | 7.11 | 11.07 | 10.17 | 10.18 | 5.74 | 7.50 | 7.91 | Adeno |\n| 5 | 7.70 | 4.60 | 7.40 | 5.98 | 5.93 | 6.16 | 4.41 | 10.82 | 7.43 |  9.35 | ⋯ | 6.73 | 5.96 | 6.98 | 11.73 |  9.83 |  9.22 | 5.86 | 7.67 | 7.68 | Adeno |\n| 6 | 8.16 | 5.24 | 7.35 | 6.09 | 6.51 | 6.12 | 4.79 | 10.69 | 7.62 |  9.52 | ⋯ | 6.88 | 6.14 | 7.12 | 11.06 |  9.85 | 10.30 | 5.67 | 7.59 | 7.82 | Adeno |\n\n",
            "text/latex": "A data.frame: 6 × 3014\n\\begin{tabular}{r|lllllllllllllllllllll}\n  & 1007\\_s\\_at & 1053\\_at & 121\\_at & 1294\\_at & 1487\\_at & 1729\\_at & 177\\_at & 200003\\_s\\_at & 200005\\_at & 200016\\_x\\_at & ⋯ & 78047\\_s\\_at & 823\\_at & 90265\\_at & AFFX-HSAC07/X00351\\_3\\_at & AFFX-HSAC07/X00351\\_M\\_at & AFFX-HUMGAPDH/M33197\\_5\\_at & AFFX-M27830\\_3\\_at & AFFX-M27830\\_5\\_at & AFFX-M27830\\_M\\_at & class\\\\\n  & <dbl> & <dbl> & <dbl> & <dbl> & <dbl> & <dbl> & <dbl> & <dbl> & <dbl> & <dbl> & ⋯ & <dbl> & <dbl> & <dbl> & <dbl> & <dbl> & <dbl> & <dbl> & <dbl> & <dbl> & <chr>\\\\\n\\hline\n\t1 & 9.26 & 5.15 & 7.35 & 6.14 & 6.45 & 6.10 & 4.63 & 11.71 & 8.16 &  9.95 & ⋯ & 6.85 & 6.03 & 6.96 & 12.25 & 11.35 & 10.09 & 5.71 & 8.45 & 8.16 & Adeno\\\\\n\t2 & 8.69 & 4.57 & 7.32 & 6.32 & 6.13 & 6.13 & 4.72 & 10.72 & 7.26 & 10.24 & ⋯ & 7.21 & 5.67 & 7.36 & 11.71 &  9.59 &  7.75 & 5.64 & 7.13 & 8.17 & Adeno\\\\\n\t3 & 8.51 & 5.20 & 7.13 & 6.09 & 6.64 & 6.52 & 4.86 & 10.99 & 8.60 &  9.71 & ⋯ & 6.78 & 5.22 & 7.26 & 11.65 & 10.86 &  9.13 & 5.60 & 6.92 & 7.86 & Adeno\\\\\n\t4 & 8.38 & 4.92 & 7.50 & 6.08 & 6.54 & 6.83 & 4.42 & 10.67 & 7.05 &  9.58 & ⋯ & 6.85 & 6.24 & 7.11 & 11.07 & 10.17 & 10.18 & 5.74 & 7.50 & 7.91 & Adeno\\\\\n\t5 & 7.70 & 4.60 & 7.40 & 5.98 & 5.93 & 6.16 & 4.41 & 10.82 & 7.43 &  9.35 & ⋯ & 6.73 & 5.96 & 6.98 & 11.73 &  9.83 &  9.22 & 5.86 & 7.67 & 7.68 & Adeno\\\\\n\t6 & 8.16 & 5.24 & 7.35 & 6.09 & 6.51 & 6.12 & 4.79 & 10.69 & 7.62 &  9.52 & ⋯ & 6.88 & 6.14 & 7.12 & 11.06 &  9.85 & 10.30 & 5.67 & 7.59 & 7.82 & Adeno\\\\\n\\end{tabular}\n",
            "text/plain": [
              "  1007_s_at 1053_at 121_at 1294_at 1487_at 1729_at 177_at 200003_s_at 200005_at\n",
              "1 9.26      5.15    7.35   6.14    6.45    6.10    4.63   11.71       8.16     \n",
              "2 8.69      4.57    7.32   6.32    6.13    6.13    4.72   10.72       7.26     \n",
              "3 8.51      5.20    7.13   6.09    6.64    6.52    4.86   10.99       8.60     \n",
              "4 8.38      4.92    7.50   6.08    6.54    6.83    4.42   10.67       7.05     \n",
              "5 7.70      4.60    7.40   5.98    5.93    6.16    4.41   10.82       7.43     \n",
              "6 8.16      5.24    7.35   6.09    6.51    6.12    4.79   10.69       7.62     \n",
              "  200016_x_at ⋯ 78047_s_at 823_at 90265_at AFFX-HSAC07/X00351_3_at\n",
              "1  9.95       ⋯ 6.85       6.03   6.96     12.25                  \n",
              "2 10.24       ⋯ 7.21       5.67   7.36     11.71                  \n",
              "3  9.71       ⋯ 6.78       5.22   7.26     11.65                  \n",
              "4  9.58       ⋯ 6.85       6.24   7.11     11.07                  \n",
              "5  9.35       ⋯ 6.73       5.96   6.98     11.73                  \n",
              "6  9.52       ⋯ 6.88       6.14   7.12     11.06                  \n",
              "  AFFX-HSAC07/X00351_M_at AFFX-HUMGAPDH/M33197_5_at AFFX-M27830_3_at\n",
              "1 11.35                   10.09                     5.71            \n",
              "2  9.59                    7.75                     5.64            \n",
              "3 10.86                    9.13                     5.60            \n",
              "4 10.17                   10.18                     5.74            \n",
              "5  9.83                    9.22                     5.86            \n",
              "6  9.85                   10.30                     5.67            \n",
              "  AFFX-M27830_5_at AFFX-M27830_M_at class\n",
              "1 8.45             8.16             Adeno\n",
              "2 7.13             8.17             Adeno\n",
              "3 6.92             7.86             Adeno\n",
              "4 7.50             7.91             Adeno\n",
              "5 7.67             7.68             Adeno\n",
              "6 7.59             7.82             Adeno"
            ]
          },
          "metadata": {}
        }
      ]
    },
    {
      "cell_type": "code",
      "source": [
        "# datx <- as.data.frame(t(dat))\n",
        "datx = train[, 1:2]\n",
        "datx"
      ],
      "metadata": {
        "colab": {
          "base_uri": "https://localhost:8080/",
          "height": 568
        },
        "id": "aE-IOY8pCitx",
        "outputId": "466891bd-e4ec-42fc-bf29-525a47c0ea0c"
      },
      "execution_count": null,
      "outputs": [
        {
          "output_type": "display_data",
          "data": {
            "text/html": [
              "<table class=\"dataframe\">\n",
              "<caption>A data.frame: 15 × 2</caption>\n",
              "<thead>\n",
              "\t<tr><th></th><th scope=col>1007_s_at</th><th scope=col>1053_at</th></tr>\n",
              "\t<tr><th></th><th scope=col>&lt;dbl&gt;</th><th scope=col>&lt;dbl&gt;</th></tr>\n",
              "</thead>\n",
              "<tbody>\n",
              "\t<tr><th scope=row>1</th><td>9.26</td><td>5.15</td></tr>\n",
              "\t<tr><th scope=row>2</th><td>8.69</td><td>4.57</td></tr>\n",
              "\t<tr><th scope=row>3</th><td>8.51</td><td>5.20</td></tr>\n",
              "\t<tr><th scope=row>4</th><td>8.38</td><td>4.92</td></tr>\n",
              "\t<tr><th scope=row>5</th><td>7.70</td><td>4.60</td></tr>\n",
              "\t<tr><th scope=row>6</th><td>8.16</td><td>5.24</td></tr>\n",
              "\t<tr><th scope=row>11</th><td>7.88</td><td>5.85</td></tr>\n",
              "\t<tr><th scope=row>12</th><td>8.43</td><td>5.31</td></tr>\n",
              "\t<tr><th scope=row>13</th><td>7.84</td><td>6.18</td></tr>\n",
              "\t<tr><th scope=row>14</th><td>8.31</td><td>5.76</td></tr>\n",
              "\t<tr><th scope=row>15</th><td>8.37</td><td>5.90</td></tr>\n",
              "\t<tr><th scope=row>16</th><td>8.24</td><td>5.65</td></tr>\n",
              "\t<tr><th scope=row>20</th><td>8.96</td><td>4.57</td></tr>\n",
              "\t<tr><th scope=row>21</th><td>8.15</td><td>4.82</td></tr>\n",
              "\t<tr><th scope=row>22</th><td>9.40</td><td>5.31</td></tr>\n",
              "</tbody>\n",
              "</table>\n"
            ],
            "text/markdown": "\nA data.frame: 15 × 2\n\n| <!--/--> | 1007_s_at &lt;dbl&gt; | 1053_at &lt;dbl&gt; |\n|---|---|---|\n| 1 | 9.26 | 5.15 |\n| 2 | 8.69 | 4.57 |\n| 3 | 8.51 | 5.20 |\n| 4 | 8.38 | 4.92 |\n| 5 | 7.70 | 4.60 |\n| 6 | 8.16 | 5.24 |\n| 11 | 7.88 | 5.85 |\n| 12 | 8.43 | 5.31 |\n| 13 | 7.84 | 6.18 |\n| 14 | 8.31 | 5.76 |\n| 15 | 8.37 | 5.90 |\n| 16 | 8.24 | 5.65 |\n| 20 | 8.96 | 4.57 |\n| 21 | 8.15 | 4.82 |\n| 22 | 9.40 | 5.31 |\n\n",
            "text/latex": "A data.frame: 15 × 2\n\\begin{tabular}{r|ll}\n  & 1007\\_s\\_at & 1053\\_at\\\\\n  & <dbl> & <dbl>\\\\\n\\hline\n\t1 & 9.26 & 5.15\\\\\n\t2 & 8.69 & 4.57\\\\\n\t3 & 8.51 & 5.20\\\\\n\t4 & 8.38 & 4.92\\\\\n\t5 & 7.70 & 4.60\\\\\n\t6 & 8.16 & 5.24\\\\\n\t11 & 7.88 & 5.85\\\\\n\t12 & 8.43 & 5.31\\\\\n\t13 & 7.84 & 6.18\\\\\n\t14 & 8.31 & 5.76\\\\\n\t15 & 8.37 & 5.90\\\\\n\t16 & 8.24 & 5.65\\\\\n\t20 & 8.96 & 4.57\\\\\n\t21 & 8.15 & 4.82\\\\\n\t22 & 9.40 & 5.31\\\\\n\\end{tabular}\n",
            "text/plain": [
              "   1007_s_at 1053_at\n",
              "1  9.26      5.15   \n",
              "2  8.69      4.57   \n",
              "3  8.51      5.20   \n",
              "4  8.38      4.92   \n",
              "5  7.70      4.60   \n",
              "6  8.16      5.24   \n",
              "11 7.88      5.85   \n",
              "12 8.43      5.31   \n",
              "13 7.84      6.18   \n",
              "14 8.31      5.76   \n",
              "15 8.37      5.90   \n",
              "16 8.24      5.65   \n",
              "20 8.96      4.57   \n",
              "21 8.15      4.82   \n",
              "22 9.40      5.31   "
            ]
          },
          "metadata": {}
        }
      ]
    },
    {
      "cell_type": "code",
      "source": [
        "clas = train$class\n",
        "datx <- data.frame(clas,datx)\n",
        "datx"
      ],
      "metadata": {
        "colab": {
          "base_uri": "https://localhost:8080/",
          "height": 568
        },
        "id": "OB35_GLIJwD_",
        "outputId": "26620010-24b5-4d3a-c2d2-9e3840924c43"
      },
      "execution_count": null,
      "outputs": [
        {
          "output_type": "display_data",
          "data": {
            "text/html": [
              "<table class=\"dataframe\">\n",
              "<caption>A data.frame: 15 × 3</caption>\n",
              "<thead>\n",
              "\t<tr><th></th><th scope=col>clas</th><th scope=col>X1007_s_at</th><th scope=col>X1053_at</th></tr>\n",
              "\t<tr><th></th><th scope=col>&lt;chr&gt;</th><th scope=col>&lt;dbl&gt;</th><th scope=col>&lt;dbl&gt;</th></tr>\n",
              "</thead>\n",
              "<tbody>\n",
              "\t<tr><th scope=row>1</th><td>Adeno </td><td>9.26</td><td>5.15</td></tr>\n",
              "\t<tr><th scope=row>2</th><td>Adeno </td><td>8.69</td><td>4.57</td></tr>\n",
              "\t<tr><th scope=row>3</th><td>Adeno </td><td>8.51</td><td>5.20</td></tr>\n",
              "\t<tr><th scope=row>4</th><td>Adeno </td><td>8.38</td><td>4.92</td></tr>\n",
              "\t<tr><th scope=row>5</th><td>Adeno </td><td>7.70</td><td>4.60</td></tr>\n",
              "\t<tr><th scope=row>6</th><td>Adeno </td><td>8.16</td><td>5.24</td></tr>\n",
              "\t<tr><th scope=row>11</th><td>SCLC  </td><td>7.88</td><td>5.85</td></tr>\n",
              "\t<tr><th scope=row>12</th><td>SCLC  </td><td>8.43</td><td>5.31</td></tr>\n",
              "\t<tr><th scope=row>13</th><td>SCLC  </td><td>7.84</td><td>6.18</td></tr>\n",
              "\t<tr><th scope=row>14</th><td>SCLC  </td><td>8.31</td><td>5.76</td></tr>\n",
              "\t<tr><th scope=row>15</th><td>SCLC  </td><td>8.37</td><td>5.90</td></tr>\n",
              "\t<tr><th scope=row>16</th><td>SCLC  </td><td>8.24</td><td>5.65</td></tr>\n",
              "\t<tr><th scope=row>20</th><td>Normal</td><td>8.96</td><td>4.57</td></tr>\n",
              "\t<tr><th scope=row>21</th><td>Normal</td><td>8.15</td><td>4.82</td></tr>\n",
              "\t<tr><th scope=row>22</th><td>Normal</td><td>9.40</td><td>5.31</td></tr>\n",
              "</tbody>\n",
              "</table>\n"
            ],
            "text/markdown": "\nA data.frame: 15 × 3\n\n| <!--/--> | clas &lt;chr&gt; | X1007_s_at &lt;dbl&gt; | X1053_at &lt;dbl&gt; |\n|---|---|---|---|\n| 1 | Adeno  | 9.26 | 5.15 |\n| 2 | Adeno  | 8.69 | 4.57 |\n| 3 | Adeno  | 8.51 | 5.20 |\n| 4 | Adeno  | 8.38 | 4.92 |\n| 5 | Adeno  | 7.70 | 4.60 |\n| 6 | Adeno  | 8.16 | 5.24 |\n| 11 | SCLC   | 7.88 | 5.85 |\n| 12 | SCLC   | 8.43 | 5.31 |\n| 13 | SCLC   | 7.84 | 6.18 |\n| 14 | SCLC   | 8.31 | 5.76 |\n| 15 | SCLC   | 8.37 | 5.90 |\n| 16 | SCLC   | 8.24 | 5.65 |\n| 20 | Normal | 8.96 | 4.57 |\n| 21 | Normal | 8.15 | 4.82 |\n| 22 | Normal | 9.40 | 5.31 |\n\n",
            "text/latex": "A data.frame: 15 × 3\n\\begin{tabular}{r|lll}\n  & clas & X1007\\_s\\_at & X1053\\_at\\\\\n  & <chr> & <dbl> & <dbl>\\\\\n\\hline\n\t1 & Adeno  & 9.26 & 5.15\\\\\n\t2 & Adeno  & 8.69 & 4.57\\\\\n\t3 & Adeno  & 8.51 & 5.20\\\\\n\t4 & Adeno  & 8.38 & 4.92\\\\\n\t5 & Adeno  & 7.70 & 4.60\\\\\n\t6 & Adeno  & 8.16 & 5.24\\\\\n\t11 & SCLC   & 7.88 & 5.85\\\\\n\t12 & SCLC   & 8.43 & 5.31\\\\\n\t13 & SCLC   & 7.84 & 6.18\\\\\n\t14 & SCLC   & 8.31 & 5.76\\\\\n\t15 & SCLC   & 8.37 & 5.90\\\\\n\t16 & SCLC   & 8.24 & 5.65\\\\\n\t20 & Normal & 8.96 & 4.57\\\\\n\t21 & Normal & 8.15 & 4.82\\\\\n\t22 & Normal & 9.40 & 5.31\\\\\n\\end{tabular}\n",
            "text/plain": [
              "   clas   X1007_s_at X1053_at\n",
              "1  Adeno  9.26       5.15    \n",
              "2  Adeno  8.69       4.57    \n",
              "3  Adeno  8.51       5.20    \n",
              "4  Adeno  8.38       4.92    \n",
              "5  Adeno  7.70       4.60    \n",
              "6  Adeno  8.16       5.24    \n",
              "11 SCLC   7.88       5.85    \n",
              "12 SCLC   8.43       5.31    \n",
              "13 SCLC   7.84       6.18    \n",
              "14 SCLC   8.31       5.76    \n",
              "15 SCLC   8.37       5.90    \n",
              "16 SCLC   8.24       5.65    \n",
              "20 Normal 8.96       4.57    \n",
              "21 Normal 8.15       4.82    \n",
              "22 Normal 9.40       5.31    "
            ]
          },
          "metadata": {}
        }
      ]
    },
    {
      "cell_type": "code",
      "source": [
        "dat.lda <- lda(clas~X1007_s_at + X1053_at,datx[2:3])\n",
        "dat.pred <- predict(dat.lda,datx[2:3])\n",
        "plot(dat.pred$x,bg=as.numeric(factor(clas)),pch=21,col=1,ylab=\"Discriminant function\",axes=F,xlab=\"Score\",main=\"Discriminant function for Lung Cancer dataset\")\n",
        "axis(1,at=c(1:62),names(clas),las=2,cex.axis=0.5)\n",
        "axis(2)"
      ],
      "metadata": {
        "colab": {
          "base_uri": "https://localhost:8080/",
          "height": 437
        },
        "id": "5_HtBsIMroyI",
        "outputId": "77ff918f-240d-4a19-b97d-2b27b460d1c2"
      },
      "execution_count": null,
      "outputs": [
        {
          "output_type": "display_data",
          "data": {
            "text/plain": [
              "Plot with title “Discriminant function for Lung Cancer dataset”"
            ],
            "image/png": "[encoded data removed]"
          },
          "metadata": {
            "image/png": {
              "width": 420,
              "height": 420
            }
          }
        }
      ]
    },
    {
      "cell_type": "code",
      "source": [
        "table(clas, dat.pred$class)"
      ],
      "metadata": {
        "colab": {
          "base_uri": "https://localhost:8080/",
          "height": 104
        },
        "id": "NpexGRwfALqb",
        "outputId": "da81596f-e773-465b-ede2-6cab46bbe782"
      },
      "execution_count": null,
      "outputs": [
        {
          "output_type": "display_data",
          "data": {
            "text/plain": [
              "        \n",
              "clas     Adeno Normal SCLC\n",
              "  Adeno      5      1    0\n",
              "  Normal     1      2    0\n",
              "  SCLC       1      0    5"
            ]
          },
          "metadata": {}
        }
      ]
    },
    {
      "cell_type": "code",
      "source": [
        "colnames(test_)[1] = 'X1007_s_at'\n",
        "colnames(test_)[2] = 'X1053_at'\n",
        "test_[, 1:2]"
      ],
      "metadata": {
        "colab": {
          "base_uri": "https://localhost:8080/",
          "height": 380
        },
        "id": "o9M2OeQNBYpG",
        "outputId": "4a4946fd-386a-4349-f1de-ed1c5af6720e"
      },
      "execution_count": null,
      "outputs": [
        {
          "output_type": "display_data",
          "data": {
            "text/html": [
              "<table class=\"dataframe\">\n",
              "<caption>A data.frame: 9 × 2</caption>\n",
              "<thead>\n",
              "\t<tr><th></th><th scope=col>X1007_s_at</th><th scope=col>X1053_at</th></tr>\n",
              "\t<tr><th></th><th scope=col>&lt;dbl&gt;</th><th scope=col>&lt;dbl&gt;</th></tr>\n",
              "</thead>\n",
              "<tbody>\n",
              "\t<tr><th scope=row>7</th><td>7.73</td><td>4.64</td></tr>\n",
              "\t<tr><th scope=row>8</th><td>8.33</td><td>5.64</td></tr>\n",
              "\t<tr><th scope=row>9</th><td>7.47</td><td>5.64</td></tr>\n",
              "\t<tr><th scope=row>10</th><td>8.39</td><td>5.42</td></tr>\n",
              "\t<tr><th scope=row>17</th><td>8.16</td><td>5.84</td></tr>\n",
              "\t<tr><th scope=row>18</th><td>8.19</td><td>5.69</td></tr>\n",
              "\t<tr><th scope=row>19</th><td>8.23</td><td>5.10</td></tr>\n",
              "\t<tr><th scope=row>23</th><td>8.96</td><td>4.93</td></tr>\n",
              "\t<tr><th scope=row>24</th><td>9.32</td><td>4.79</td></tr>\n",
              "</tbody>\n",
              "</table>\n"
            ],
            "text/markdown": "\nA data.frame: 9 × 2\n\n| <!--/--> | X1007_s_at &lt;dbl&gt; | X1053_at &lt;dbl&gt; |\n|---|---|---|\n| 7 | 7.73 | 4.64 |\n| 8 | 8.33 | 5.64 |\n| 9 | 7.47 | 5.64 |\n| 10 | 8.39 | 5.42 |\n| 17 | 8.16 | 5.84 |\n| 18 | 8.19 | 5.69 |\n| 19 | 8.23 | 5.10 |\n| 23 | 8.96 | 4.93 |\n| 24 | 9.32 | 4.79 |\n\n",
            "text/latex": "A data.frame: 9 × 2\n\\begin{tabular}{r|ll}\n  & X1007\\_s\\_at & X1053\\_at\\\\\n  & <dbl> & <dbl>\\\\\n\\hline\n\t7 & 7.73 & 4.64\\\\\n\t8 & 8.33 & 5.64\\\\\n\t9 & 7.47 & 5.64\\\\\n\t10 & 8.39 & 5.42\\\\\n\t17 & 8.16 & 5.84\\\\\n\t18 & 8.19 & 5.69\\\\\n\t19 & 8.23 & 5.10\\\\\n\t23 & 8.96 & 4.93\\\\\n\t24 & 9.32 & 4.79\\\\\n\\end{tabular}\n",
            "text/plain": [
              "   X1007_s_at X1053_at\n",
              "7  7.73       4.64    \n",
              "8  8.33       5.64    \n",
              "9  7.47       5.64    \n",
              "10 8.39       5.42    \n",
              "17 8.16       5.84    \n",
              "18 8.19       5.69    \n",
              "19 8.23       5.10    \n",
              "23 8.96       4.93    \n",
              "24 9.32       4.79    "
            ]
          },
          "metadata": {}
        }
      ]
    },
    {
      "cell_type": "code",
      "source": [
        "test"
      ],
      "metadata": {
        "colab": {
          "base_uri": "https://localhost:8080/",
          "height": 418
        },
        "id": "gvD9tsVJ7Twr",
        "outputId": "ffd1e8ba-ce22-4386-db29-66b0bd9954bf"
      },
      "execution_count": null,
      "outputs": [
        {
          "output_type": "display_data",
          "data": {
            "text/html": [
              "<table class=\"dataframe\">\n",
              "<caption>A data.frame: 9 × 3014</caption>\n",
              "<thead>\n",
              "\t<tr><th></th><th scope=col>1007_s_at</th><th scope=col>1053_at</th><th scope=col>121_at</th><th scope=col>1294_at</th><th scope=col>1487_at</th><th scope=col>1729_at</th><th scope=col>177_at</th><th scope=col>200003_s_at</th><th scope=col>200005_at</th><th scope=col>200016_x_at</th><th scope=col>⋯</th><th scope=col>78047_s_at</th><th scope=col>823_at</th><th scope=col>90265_at</th><th scope=col>AFFX-HSAC07/X00351_3_at</th><th scope=col>AFFX-HSAC07/X00351_M_at</th><th scope=col>AFFX-HUMGAPDH/M33197_5_at</th><th scope=col>AFFX-M27830_3_at</th><th scope=col>AFFX-M27830_5_at</th><th scope=col>AFFX-M27830_M_at</th><th scope=col>class</th></tr>\n",
              "\t<tr><th></th><th scope=col>&lt;dbl&gt;</th><th scope=col>&lt;dbl&gt;</th><th scope=col>&lt;dbl&gt;</th><th scope=col>&lt;dbl&gt;</th><th scope=col>&lt;dbl&gt;</th><th scope=col>&lt;dbl&gt;</th><th scope=col>&lt;dbl&gt;</th><th scope=col>&lt;dbl&gt;</th><th scope=col>&lt;dbl&gt;</th><th scope=col>&lt;dbl&gt;</th><th scope=col>⋯</th><th scope=col>&lt;dbl&gt;</th><th scope=col>&lt;dbl&gt;</th><th scope=col>&lt;dbl&gt;</th><th scope=col>&lt;dbl&gt;</th><th scope=col>&lt;dbl&gt;</th><th scope=col>&lt;dbl&gt;</th><th scope=col>&lt;dbl&gt;</th><th scope=col>&lt;dbl&gt;</th><th scope=col>&lt;dbl&gt;</th><th scope=col>&lt;chr&gt;</th></tr>\n",
              "</thead>\n",
              "<tbody>\n",
              "\t<tr><th scope=row>7</th><td>7.73</td><td>4.64</td><td>7.32</td><td>6.43</td><td>6.09</td><td>6.08</td><td>4.85</td><td>10.89</td><td>7.51</td><td> 9.74</td><td>⋯</td><td>6.77</td><td>5.81</td><td>7.07</td><td>11.58</td><td>10.53</td><td> 8.28</td><td>5.35</td><td> 7.80</td><td>8.26</td><td>Adeno </td></tr>\n",
              "\t<tr><th scope=row>8</th><td>8.33</td><td>5.64</td><td>7.32</td><td>5.86</td><td>6.36</td><td>6.42</td><td>4.76</td><td>11.13</td><td>8.52</td><td> 9.59</td><td>⋯</td><td>6.70</td><td>4.86</td><td>6.81</td><td>11.44</td><td>10.48</td><td> 9.81</td><td>5.56</td><td> 9.16</td><td>8.96</td><td>Adeno </td></tr>\n",
              "\t<tr><th scope=row>9</th><td>7.47</td><td>5.64</td><td>7.09</td><td>6.63</td><td>6.47</td><td>5.85</td><td>4.96</td><td>11.26</td><td>7.53</td><td> 9.96</td><td>⋯</td><td>6.63</td><td>5.01</td><td>7.27</td><td>11.26</td><td> 8.73</td><td> 8.22</td><td>5.62</td><td>10.17</td><td>9.50</td><td>Adeno </td></tr>\n",
              "\t<tr><th scope=row>10</th><td>8.39</td><td>5.42</td><td>7.08</td><td>6.11</td><td>6.22</td><td>6.54</td><td>4.57</td><td>11.10</td><td>7.92</td><td>10.10</td><td>⋯</td><td>6.68</td><td>6.27</td><td>7.38</td><td>11.03</td><td> 8.81</td><td> 7.82</td><td>5.41</td><td> 8.69</td><td>8.68</td><td>Adeno </td></tr>\n",
              "\t<tr><th scope=row>17</th><td>8.16</td><td>5.84</td><td>7.03</td><td>6.02</td><td>6.13</td><td>6.07</td><td>4.42</td><td>10.48</td><td>7.15</td><td>10.03</td><td>⋯</td><td>6.44</td><td>5.32</td><td>6.73</td><td>10.49</td><td>10.02</td><td>10.17</td><td>5.38</td><td> 8.47</td><td>8.57</td><td>SCLC  </td></tr>\n",
              "\t<tr><th scope=row>18</th><td>8.19</td><td>5.69</td><td>7.03</td><td>5.79</td><td>5.91</td><td>5.71</td><td>4.44</td><td>10.54</td><td>7.15</td><td>10.47</td><td>⋯</td><td>6.45</td><td>5.18</td><td>6.61</td><td>11.17</td><td>10.00</td><td>10.19</td><td>5.46</td><td> 7.94</td><td>7.88</td><td>SCLC  </td></tr>\n",
              "\t<tr><th scope=row>19</th><td>8.23</td><td>5.10</td><td>7.07</td><td>5.66</td><td>6.28</td><td>5.83</td><td>4.33</td><td>10.48</td><td>7.11</td><td>10.46</td><td>⋯</td><td>6.45</td><td>5.51</td><td>6.79</td><td>10.97</td><td> 9.36</td><td> 9.27</td><td>5.44</td><td> 8.38</td><td>8.79</td><td>SCLC  </td></tr>\n",
              "\t<tr><th scope=row>23</th><td>8.96</td><td>4.93</td><td>7.14</td><td>6.22</td><td>6.23</td><td>7.05</td><td>4.81</td><td>11.05</td><td>7.77</td><td> 9.71</td><td>⋯</td><td>6.98</td><td>6.07</td><td>6.95</td><td>10.79</td><td> 8.70</td><td> 9.78</td><td>5.51</td><td> 7.04</td><td>7.70</td><td>Normal</td></tr>\n",
              "\t<tr><th scope=row>24</th><td>9.32</td><td>4.79</td><td>7.29</td><td>6.43</td><td>6.27</td><td>7.25</td><td>4.90</td><td>11.45</td><td>7.86</td><td> 9.96</td><td>⋯</td><td>6.93</td><td>6.89</td><td>6.95</td><td>10.48</td><td> 8.72</td><td> 9.45</td><td>5.49</td><td> 6.89</td><td>7.71</td><td>Normal</td></tr>\n",
              "</tbody>\n",
              "</table>\n"
            ],
            "text/markdown": "\nA data.frame: 9 × 3014\n\n| <!--/--> | 1007_s_at &lt;dbl&gt; | 1053_at &lt;dbl&gt; | 121_at &lt;dbl&gt; | 1294_at &lt;dbl&gt; | 1487_at &lt;dbl&gt; | 1729_at &lt;dbl&gt; | 177_at &lt;dbl&gt; | 200003_s_at &lt;dbl&gt; | 200005_at &lt;dbl&gt; | 200016_x_at &lt;dbl&gt; | ⋯ ⋯ | 78047_s_at &lt;dbl&gt; | 823_at &lt;dbl&gt; | 90265_at &lt;dbl&gt; | AFFX-HSAC07/X00351_3_at &lt;dbl&gt; | AFFX-HSAC07/X00351_M_at &lt;dbl&gt; | AFFX-HUMGAPDH/M33197_5_at &lt;dbl&gt; | AFFX-M27830_3_at &lt;dbl&gt; | AFFX-M27830_5_at &lt;dbl&gt; | AFFX-M27830_M_at &lt;dbl&gt; | class &lt;chr&gt; |\n|---|---|---|---|---|---|---|---|---|---|---|---|---|---|---|---|---|---|---|---|---|---|\n| 7 | 7.73 | 4.64 | 7.32 | 6.43 | 6.09 | 6.08 | 4.85 | 10.89 | 7.51 |  9.74 | ⋯ | 6.77 | 5.81 | 7.07 | 11.58 | 10.53 |  8.28 | 5.35 |  7.80 | 8.26 | Adeno  |\n| 8 | 8.33 | 5.64 | 7.32 | 5.86 | 6.36 | 6.42 | 4.76 | 11.13 | 8.52 |  9.59 | ⋯ | 6.70 | 4.86 | 6.81 | 11.44 | 10.48 |  9.81 | 5.56 |  9.16 | 8.96 | Adeno  |\n| 9 | 7.47 | 5.64 | 7.09 | 6.63 | 6.47 | 5.85 | 4.96 | 11.26 | 7.53 |  9.96 | ⋯ | 6.63 | 5.01 | 7.27 | 11.26 |  8.73 |  8.22 | 5.62 | 10.17 | 9.50 | Adeno  |\n| 10 | 8.39 | 5.42 | 7.08 | 6.11 | 6.22 | 6.54 | 4.57 | 11.10 | 7.92 | 10.10 | ⋯ | 6.68 | 6.27 | 7.38 | 11.03 |  8.81 |  7.82 | 5.41 |  8.69 | 8.68 | Adeno  |\n| 17 | 8.16 | 5.84 | 7.03 | 6.02 | 6.13 | 6.07 | 4.42 | 10.48 | 7.15 | 10.03 | ⋯ | 6.44 | 5.32 | 6.73 | 10.49 | 10.02 | 10.17 | 5.38 |  8.47 | 8.57 | SCLC   |\n| 18 | 8.19 | 5.69 | 7.03 | 5.79 | 5.91 | 5.71 | 4.44 | 10.54 | 7.15 | 10.47 | ⋯ | 6.45 | 5.18 | 6.61 | 11.17 | 10.00 | 10.19 | 5.46 |  7.94 | 7.88 | SCLC   |\n| 19 | 8.23 | 5.10 | 7.07 | 5.66 | 6.28 | 5.83 | 4.33 | 10.48 | 7.11 | 10.46 | ⋯ | 6.45 | 5.51 | 6.79 | 10.97 |  9.36 |  9.27 | 5.44 |  8.38 | 8.79 | SCLC   |\n| 23 | 8.96 | 4.93 | 7.14 | 6.22 | 6.23 | 7.05 | 4.81 | 11.05 | 7.77 |  9.71 | ⋯ | 6.98 | 6.07 | 6.95 | 10.79 |  8.70 |  9.78 | 5.51 |  7.04 | 7.70 | Normal |\n| 24 | 9.32 | 4.79 | 7.29 | 6.43 | 6.27 | 7.25 | 4.90 | 11.45 | 7.86 |  9.96 | ⋯ | 6.93 | 6.89 | 6.95 | 10.48 |  8.72 |  9.45 | 5.49 |  6.89 | 7.71 | Normal |\n\n",
            "text/latex": "A data.frame: 9 × 3014\n\\begin{tabular}{r|lllllllllllllllllllll}\n  & 1007\\_s\\_at & 1053\\_at & 121\\_at & 1294\\_at & 1487\\_at & 1729\\_at & 177\\_at & 200003\\_s\\_at & 200005\\_at & 200016\\_x\\_at & ⋯ & 78047\\_s\\_at & 823\\_at & 90265\\_at & AFFX-HSAC07/X00351\\_3\\_at & AFFX-HSAC07/X00351\\_M\\_at & AFFX-HUMGAPDH/M33197\\_5\\_at & AFFX-M27830\\_3\\_at & AFFX-M27830\\_5\\_at & AFFX-M27830\\_M\\_at & class\\\\\n  & <dbl> & <dbl> & <dbl> & <dbl> & <dbl> & <dbl> & <dbl> & <dbl> & <dbl> & <dbl> & ⋯ & <dbl> & <dbl> & <dbl> & <dbl> & <dbl> & <dbl> & <dbl> & <dbl> & <dbl> & <chr>\\\\\n\\hline\n\t7 & 7.73 & 4.64 & 7.32 & 6.43 & 6.09 & 6.08 & 4.85 & 10.89 & 7.51 &  9.74 & ⋯ & 6.77 & 5.81 & 7.07 & 11.58 & 10.53 &  8.28 & 5.35 &  7.80 & 8.26 & Adeno \\\\\n\t8 & 8.33 & 5.64 & 7.32 & 5.86 & 6.36 & 6.42 & 4.76 & 11.13 & 8.52 &  9.59 & ⋯ & 6.70 & 4.86 & 6.81 & 11.44 & 10.48 &  9.81 & 5.56 &  9.16 & 8.96 & Adeno \\\\\n\t9 & 7.47 & 5.64 & 7.09 & 6.63 & 6.47 & 5.85 & 4.96 & 11.26 & 7.53 &  9.96 & ⋯ & 6.63 & 5.01 & 7.27 & 11.26 &  8.73 &  8.22 & 5.62 & 10.17 & 9.50 & Adeno \\\\\n\t10 & 8.39 & 5.42 & 7.08 & 6.11 & 6.22 & 6.54 & 4.57 & 11.10 & 7.92 & 10.10 & ⋯ & 6.68 & 6.27 & 7.38 & 11.03 &  8.81 &  7.82 & 5.41 &  8.69 & 8.68 & Adeno \\\\\n\t17 & 8.16 & 5.84 & 7.03 & 6.02 & 6.13 & 6.07 & 4.42 & 10.48 & 7.15 & 10.03 & ⋯ & 6.44 & 5.32 & 6.73 & 10.49 & 10.02 & 10.17 & 5.38 &  8.47 & 8.57 & SCLC  \\\\\n\t18 & 8.19 & 5.69 & 7.03 & 5.79 & 5.91 & 5.71 & 4.44 & 10.54 & 7.15 & 10.47 & ⋯ & 6.45 & 5.18 & 6.61 & 11.17 & 10.00 & 10.19 & 5.46 &  7.94 & 7.88 & SCLC  \\\\\n\t19 & 8.23 & 5.10 & 7.07 & 5.66 & 6.28 & 5.83 & 4.33 & 10.48 & 7.11 & 10.46 & ⋯ & 6.45 & 5.51 & 6.79 & 10.97 &  9.36 &  9.27 & 5.44 &  8.38 & 8.79 & SCLC  \\\\\n\t23 & 8.96 & 4.93 & 7.14 & 6.22 & 6.23 & 7.05 & 4.81 & 11.05 & 7.77 &  9.71 & ⋯ & 6.98 & 6.07 & 6.95 & 10.79 &  8.70 &  9.78 & 5.51 &  7.04 & 7.70 & Normal\\\\\n\t24 & 9.32 & 4.79 & 7.29 & 6.43 & 6.27 & 7.25 & 4.90 & 11.45 & 7.86 &  9.96 & ⋯ & 6.93 & 6.89 & 6.95 & 10.48 &  8.72 &  9.45 & 5.49 &  6.89 & 7.71 & Normal\\\\\n\\end{tabular}\n",
            "text/plain": [
              "   1007_s_at 1053_at 121_at 1294_at 1487_at 1729_at 177_at 200003_s_at\n",
              "7  7.73      4.64    7.32   6.43    6.09    6.08    4.85   10.89      \n",
              "8  8.33      5.64    7.32   5.86    6.36    6.42    4.76   11.13      \n",
              "9  7.47      5.64    7.09   6.63    6.47    5.85    4.96   11.26      \n",
              "10 8.39      5.42    7.08   6.11    6.22    6.54    4.57   11.10      \n",
              "17 8.16      5.84    7.03   6.02    6.13    6.07    4.42   10.48      \n",
              "18 8.19      5.69    7.03   5.79    5.91    5.71    4.44   10.54      \n",
              "19 8.23      5.10    7.07   5.66    6.28    5.83    4.33   10.48      \n",
              "23 8.96      4.93    7.14   6.22    6.23    7.05    4.81   11.05      \n",
              "24 9.32      4.79    7.29   6.43    6.27    7.25    4.90   11.45      \n",
              "   200005_at 200016_x_at ⋯ 78047_s_at 823_at 90265_at AFFX-HSAC07/X00351_3_at\n",
              "7  7.51       9.74       ⋯ 6.77       5.81   7.07     11.58                  \n",
              "8  8.52       9.59       ⋯ 6.70       4.86   6.81     11.44                  \n",
              "9  7.53       9.96       ⋯ 6.63       5.01   7.27     11.26                  \n",
              "10 7.92      10.10       ⋯ 6.68       6.27   7.38     11.03                  \n",
              "17 7.15      10.03       ⋯ 6.44       5.32   6.73     10.49                  \n",
              "18 7.15      10.47       ⋯ 6.45       5.18   6.61     11.17                  \n",
              "19 7.11      10.46       ⋯ 6.45       5.51   6.79     10.97                  \n",
              "23 7.77       9.71       ⋯ 6.98       6.07   6.95     10.79                  \n",
              "24 7.86       9.96       ⋯ 6.93       6.89   6.95     10.48                  \n",
              "   AFFX-HSAC07/X00351_M_at AFFX-HUMGAPDH/M33197_5_at AFFX-M27830_3_at\n",
              "7  10.53                    8.28                     5.35            \n",
              "8  10.48                    9.81                     5.56            \n",
              "9   8.73                    8.22                     5.62            \n",
              "10  8.81                    7.82                     5.41            \n",
              "17 10.02                   10.17                     5.38            \n",
              "18 10.00                   10.19                     5.46            \n",
              "19  9.36                    9.27                     5.44            \n",
              "23  8.70                    9.78                     5.51            \n",
              "24  8.72                    9.45                     5.49            \n",
              "   AFFX-M27830_5_at AFFX-M27830_M_at class \n",
              "7   7.80            8.26             Adeno \n",
              "8   9.16            8.96             Adeno \n",
              "9  10.17            9.50             Adeno \n",
              "10  8.69            8.68             Adeno \n",
              "17  8.47            8.57             SCLC  \n",
              "18  7.94            7.88             SCLC  \n",
              "19  8.38            8.79             SCLC  \n",
              "23  7.04            7.70             Normal\n",
              "24  6.89            7.71             Normal"
            ]
          },
          "metadata": {}
        }
      ]
    },
    {
      "cell_type": "code",
      "source": [
        "dat.pred <- predict(dat.lda, test_[, 1:2])\n",
        "dat.pred$x"
      ],
      "metadata": {
        "colab": {
          "base_uri": "https://localhost:8080/",
          "height": 349
        },
        "id": "FmuXRvJH_zKC",
        "outputId": "904cea6a-75bf-4dc7-ac12-3bcc151dc78a"
      },
      "execution_count": null,
      "outputs": [
        {
          "output_type": "display_data",
          "data": {
            "text/html": [
              "<table class=\"dataframe\">\n",
              "<caption>A matrix: 9 × 2 of type dbl</caption>\n",
              "<thead>\n",
              "\t<tr><th></th><th scope=col>LD1</th><th scope=col>LD2</th></tr>\n",
              "</thead>\n",
              "<tbody>\n",
              "\t<tr><th scope=row>7</th><td>-1.2585883</td><td> 2.00581757</td></tr>\n",
              "\t<tr><th scope=row>8</th><td> 1.2372388</td><td>-0.20422314</td></tr>\n",
              "\t<tr><th scope=row>9</th><td> 2.0944455</td><td> 1.49784417</td></tr>\n",
              "\t<tr><th scope=row>10</th><td> 0.4967805</td><td>-0.09801061</td></tr>\n",
              "\t<tr><th scope=row>17</th><td> 2.0254623</td><td>-0.07227835</td></tr>\n",
              "\t<tr><th scope=row>18</th><td> 1.5314780</td><td> 0.02172999</td></tr>\n",
              "\t<tr><th scope=row>19</th><td>-0.3337803</td><td> 0.54586968</td></tr>\n",
              "\t<tr><th scope=row>23</th><td>-1.5873685</td><td>-0.72507457</td></tr>\n",
              "\t<tr><th scope=row>24</th><td>-2.3793422</td><td>-1.29441059</td></tr>\n",
              "</tbody>\n",
              "</table>\n"
            ],
            "text/markdown": "\nA matrix: 9 × 2 of type dbl\n\n| <!--/--> | LD1 | LD2 |\n|---|---|---|\n| 7 | -1.2585883 |  2.00581757 |\n| 8 |  1.2372388 | -0.20422314 |\n| 9 |  2.0944455 |  1.49784417 |\n| 10 |  0.4967805 | -0.09801061 |\n| 17 |  2.0254623 | -0.07227835 |\n| 18 |  1.5314780 |  0.02172999 |\n| 19 | -0.3337803 |  0.54586968 |\n| 23 | -1.5873685 | -0.72507457 |\n| 24 | -2.3793422 | -1.29441059 |\n\n",
            "text/latex": "A matrix: 9 × 2 of type dbl\n\\begin{tabular}{r|ll}\n  & LD1 & LD2\\\\\n\\hline\n\t7 & -1.2585883 &  2.00581757\\\\\n\t8 &  1.2372388 & -0.20422314\\\\\n\t9 &  2.0944455 &  1.49784417\\\\\n\t10 &  0.4967805 & -0.09801061\\\\\n\t17 &  2.0254623 & -0.07227835\\\\\n\t18 &  1.5314780 &  0.02172999\\\\\n\t19 & -0.3337803 &  0.54586968\\\\\n\t23 & -1.5873685 & -0.72507457\\\\\n\t24 & -2.3793422 & -1.29441059\\\\\n\\end{tabular}\n",
            "text/plain": [
              "   LD1        LD2        \n",
              "7  -1.2585883  2.00581757\n",
              "8   1.2372388 -0.20422314\n",
              "9   2.0944455  1.49784417\n",
              "10  0.4967805 -0.09801061\n",
              "17  2.0254623 -0.07227835\n",
              "18  1.5314780  0.02172999\n",
              "19 -0.3337803  0.54586968\n",
              "23 -1.5873685 -0.72507457\n",
              "24 -2.3793422 -1.29441059"
            ]
          },
          "metadata": {}
        }
      ]
    },
    {
      "cell_type": "code",
      "source": [
        "table(test_class, dat.pred$class)"
      ],
      "metadata": {
        "colab": {
          "base_uri": "https://localhost:8080/",
          "height": 104
        },
        "id": "8O3SwlGVG8BY",
        "outputId": "30c41212-f6c9-4f57-c76c-12b92d1256e8"
      },
      "execution_count": null,
      "outputs": [
        {
          "output_type": "display_data",
          "data": {
            "text/plain": [
              "          \n",
              "test_class Adeno Normal SCLC\n",
              "    Adeno      1      0    3\n",
              "    Normal     1      1    0\n",
              "    SCLC       1      0    2"
            ]
          },
          "metadata": {}
        }
      ]
    },
    {
      "cell_type": "markdown",
      "source": [
        "#5)\tNow plot the first 2 discriminant functions versus each other in an xy plot.  These vectors are saved in the object “x” from your predict() output.  For example, if you used the following code to predict the samples:\n",
        "\n",
        "> lda.test <- predict(lda.train,test[,1:2])\n",
        "\n",
        "#You can access the 2 vectors using:\n",
        "\n",
        "> lda.test$x\n",
        "\n",
        "#Make sure to title the plot accordingly, color the points their appropriate cancer/normal type, and put a legend on the plot.\n"
      ],
      "metadata": {
        "id": "cV_BC7ABrk5G"
      }
    },
    {
      "cell_type": "code",
      "source": [
        "print(dat.pred$class)\n",
        "print(dat.pred$x)"
      ],
      "metadata": {
        "colab": {
          "base_uri": "https://localhost:8080/"
        },
        "id": "pYqVctmfrfS3",
        "outputId": "a8808b07-60e3-47e2-efdc-25cae5873a56"
      },
      "execution_count": null,
      "outputs": [
        {
          "output_type": "stream",
          "name": "stdout",
          "text": [
            "[1] Adeno  SCLC   SCLC   SCLC   SCLC   SCLC   Adeno  Adeno  Normal\n",
            "Levels: Adeno Normal SCLC\n",
            "          LD1         LD2\n",
            "7  -1.2585883  2.00581757\n",
            "8   1.2372388 -0.20422314\n",
            "9   2.0944455  1.49784417\n",
            "10  0.4967805 -0.09801061\n",
            "17  2.0254623 -0.07227835\n",
            "18  1.5314780  0.02172999\n",
            "19 -0.3337803  0.54586968\n",
            "23 -1.5873685 -0.72507457\n",
            "24 -2.3793422 -1.29441059\n"
          ]
        }
      ]
    },
    {
      "cell_type": "code",
      "source": [
        "plot(dat.pred$x, col = dat.pred$class,cex=1, main='Comparing LD Variables')\n",
        "legend(x = \"topleft\", box.col = \"black\",\n",
        "       bg =\"yellow\", box.lwd = 2 , title=\"Tumor Classes\",\n",
        "       legend=c(\"SCLC\", \"Adeno\", \"Normal\"),\n",
        "       fill = c(\"green\", \"black\", \"red\"))"
      ],
      "metadata": {
        "colab": {
          "base_uri": "https://localhost:8080/",
          "height": 437
        },
        "id": "Qc_WYEnXWj6I",
        "outputId": "aad3501c-989c-4c7d-e485-91adcb9c98ac"
      },
      "execution_count": null,
      "outputs": [
        {
          "output_type": "display_data",
          "data": {
            "text/plain": [
              "Plot with title “Comparing LD Variables”"
            ],
            "image/png": "[encoded data removed]"
          },
          "metadata": {
            "image/png": {
              "width": 420,
              "height": 420
            }
          }
        }
      ]
    },
    {
      "cell_type": "markdown",
      "source": [
        "#6) and 7) Now repeat #4 and #5 using all the genes in the matrix as opposed to the first 2."
      ],
      "metadata": {
        "id": "Qi6DPG5YrrUx"
      }
    },
    {
      "cell_type": "code",
      "source": [
        "dim(train)[2]"
      ],
      "metadata": {
        "colab": {
          "base_uri": "https://localhost:8080/",
          "height": 34
        },
        "id": "EWDEwhY472Cw",
        "outputId": "19f11d95-2d34-4b61-81bf-4b330e212981"
      },
      "execution_count": null,
      "outputs": [
        {
          "output_type": "display_data",
          "data": {
            "text/html": [
              "3014"
            ],
            "text/markdown": "3014",
            "text/latex": "3014",
            "text/plain": [
              "[1] 3014"
            ]
          },
          "metadata": {}
        }
      ]
    },
    {
      "cell_type": "code",
      "source": [
        "train[,dim(train)[2]]"
      ],
      "metadata": {
        "colab": {
          "base_uri": "https://localhost:8080/",
          "height": 34
        },
        "id": "UXGPR9PC8oNt",
        "outputId": "17bf8477-5bd3-47d3-a3fe-1f36888e2d2f"
      },
      "execution_count": null,
      "outputs": [
        {
          "output_type": "display_data",
          "data": {
            "text/html": [
              "<style>\n",
              ".list-inline {list-style: none; margin:0; padding: 0}\n",
              ".list-inline>li {display: inline-block}\n",
              ".list-inline>li:not(:last-child)::after {content: \"\\00b7\"; padding: 0 .5ex}\n",
              "</style>\n",
              "<ol class=list-inline><li>'Adeno'</li><li>'Adeno'</li><li>'Adeno'</li><li>'Adeno'</li><li>'Adeno'</li><li>'Adeno'</li><li>'SCLC'</li><li>'SCLC'</li><li>'SCLC'</li><li>'SCLC'</li><li>'SCLC'</li><li>'SCLC'</li><li>'Normal'</li><li>'Normal'</li><li>'Normal'</li></ol>\n"
            ],
            "text/markdown": "1. 'Adeno'\n2. 'Adeno'\n3. 'Adeno'\n4. 'Adeno'\n5. 'Adeno'\n6. 'Adeno'\n7. 'SCLC'\n8. 'SCLC'\n9. 'SCLC'\n10. 'SCLC'\n11. 'SCLC'\n12. 'SCLC'\n13. 'Normal'\n14. 'Normal'\n15. 'Normal'\n\n\n",
            "text/latex": "\\begin{enumerate*}\n\\item 'Adeno'\n\\item 'Adeno'\n\\item 'Adeno'\n\\item 'Adeno'\n\\item 'Adeno'\n\\item 'Adeno'\n\\item 'SCLC'\n\\item 'SCLC'\n\\item 'SCLC'\n\\item 'SCLC'\n\\item 'SCLC'\n\\item 'SCLC'\n\\item 'Normal'\n\\item 'Normal'\n\\item 'Normal'\n\\end{enumerate*}\n",
            "text/plain": [
              " [1] \"Adeno\"  \"Adeno\"  \"Adeno\"  \"Adeno\"  \"Adeno\"  \"Adeno\"  \"SCLC\"   \"SCLC\"  \n",
              " [9] \"SCLC\"   \"SCLC\"   \"SCLC\"   \"SCLC\"   \"Normal\" \"Normal\" \"Normal\""
            ]
          },
          "metadata": {}
        }
      ]
    },
    {
      "cell_type": "code",
      "source": [
        "tr = train[,1:dim(train)[2]-1]\n",
        "class(tr)"
      ],
      "metadata": {
        "colab": {
          "base_uri": "https://localhost:8080/",
          "height": 34
        },
        "id": "WkOKlbOZ7lDu",
        "outputId": "f866fab5-0bf7-4a9c-91ab-4b40d93edec2"
      },
      "execution_count": null,
      "outputs": [
        {
          "output_type": "display_data",
          "data": {
            "text/html": [
              "'data.frame'"
            ],
            "text/markdown": "'data.frame'",
            "text/latex": "'data.frame'",
            "text/plain": [
              "[1] \"data.frame\""
            ]
          },
          "metadata": {}
        }
      ]
    },
    {
      "cell_type": "code",
      "source": [
        "head(tr[])"
      ],
      "metadata": {
        "colab": {
          "base_uri": "https://localhost:8080/",
          "height": 324
        },
        "id": "GMSXBtAH9X-X",
        "outputId": "88b9a10d-ac42-4025-b8b6-a4b9d1913a2e"
      },
      "execution_count": null,
      "outputs": [
        {
          "output_type": "display_data",
          "data": {
            "text/html": [
              "<table class=\"dataframe\">\n",
              "<caption>A data.frame: 6 × 3013</caption>\n",
              "<thead>\n",
              "\t<tr><th></th><th scope=col>1007_s_at</th><th scope=col>1053_at</th><th scope=col>121_at</th><th scope=col>1294_at</th><th scope=col>1487_at</th><th scope=col>1729_at</th><th scope=col>177_at</th><th scope=col>200003_s_at</th><th scope=col>200005_at</th><th scope=col>200016_x_at</th><th scope=col>⋯</th><th scope=col>65521_at</th><th scope=col>78047_s_at</th><th scope=col>823_at</th><th scope=col>90265_at</th><th scope=col>AFFX-HSAC07/X00351_3_at</th><th scope=col>AFFX-HSAC07/X00351_M_at</th><th scope=col>AFFX-HUMGAPDH/M33197_5_at</th><th scope=col>AFFX-M27830_3_at</th><th scope=col>AFFX-M27830_5_at</th><th scope=col>AFFX-M27830_M_at</th></tr>\n",
              "\t<tr><th></th><th scope=col>&lt;dbl&gt;</th><th scope=col>&lt;dbl&gt;</th><th scope=col>&lt;dbl&gt;</th><th scope=col>&lt;dbl&gt;</th><th scope=col>&lt;dbl&gt;</th><th scope=col>&lt;dbl&gt;</th><th scope=col>&lt;dbl&gt;</th><th scope=col>&lt;dbl&gt;</th><th scope=col>&lt;dbl&gt;</th><th scope=col>&lt;dbl&gt;</th><th scope=col>⋯</th><th scope=col>&lt;dbl&gt;</th><th scope=col>&lt;dbl&gt;</th><th scope=col>&lt;dbl&gt;</th><th scope=col>&lt;dbl&gt;</th><th scope=col>&lt;dbl&gt;</th><th scope=col>&lt;dbl&gt;</th><th scope=col>&lt;dbl&gt;</th><th scope=col>&lt;dbl&gt;</th><th scope=col>&lt;dbl&gt;</th><th scope=col>&lt;dbl&gt;</th></tr>\n",
              "</thead>\n",
              "<tbody>\n",
              "\t<tr><th scope=row>1</th><td>9.26</td><td>5.15</td><td>7.35</td><td>6.14</td><td>6.45</td><td>6.10</td><td>4.63</td><td>11.71</td><td>8.16</td><td> 9.95</td><td>⋯</td><td>6.21</td><td>6.85</td><td>6.03</td><td>6.96</td><td>12.25</td><td>11.35</td><td>10.09</td><td>5.71</td><td>8.45</td><td>8.16</td></tr>\n",
              "\t<tr><th scope=row>2</th><td>8.69</td><td>4.57</td><td>7.32</td><td>6.32</td><td>6.13</td><td>6.13</td><td>4.72</td><td>10.72</td><td>7.26</td><td>10.24</td><td>⋯</td><td>6.33</td><td>7.21</td><td>5.67</td><td>7.36</td><td>11.71</td><td> 9.59</td><td> 7.75</td><td>5.64</td><td>7.13</td><td>8.17</td></tr>\n",
              "\t<tr><th scope=row>3</th><td>8.51</td><td>5.20</td><td>7.13</td><td>6.09</td><td>6.64</td><td>6.52</td><td>4.86</td><td>10.99</td><td>8.60</td><td> 9.71</td><td>⋯</td><td>6.30</td><td>6.78</td><td>5.22</td><td>7.26</td><td>11.65</td><td>10.86</td><td> 9.13</td><td>5.60</td><td>6.92</td><td>7.86</td></tr>\n",
              "\t<tr><th scope=row>4</th><td>8.38</td><td>4.92</td><td>7.50</td><td>6.08</td><td>6.54</td><td>6.83</td><td>4.42</td><td>10.67</td><td>7.05</td><td> 9.58</td><td>⋯</td><td>6.57</td><td>6.85</td><td>6.24</td><td>7.11</td><td>11.07</td><td>10.17</td><td>10.18</td><td>5.74</td><td>7.50</td><td>7.91</td></tr>\n",
              "\t<tr><th scope=row>5</th><td>7.70</td><td>4.60</td><td>7.40</td><td>5.98</td><td>5.93</td><td>6.16</td><td>4.41</td><td>10.82</td><td>7.43</td><td> 9.35</td><td>⋯</td><td>6.39</td><td>6.73</td><td>5.96</td><td>6.98</td><td>11.73</td><td> 9.83</td><td> 9.22</td><td>5.86</td><td>7.67</td><td>7.68</td></tr>\n",
              "\t<tr><th scope=row>6</th><td>8.16</td><td>5.24</td><td>7.35</td><td>6.09</td><td>6.51</td><td>6.12</td><td>4.79</td><td>10.69</td><td>7.62</td><td> 9.52</td><td>⋯</td><td>6.14</td><td>6.88</td><td>6.14</td><td>7.12</td><td>11.06</td><td> 9.85</td><td>10.30</td><td>5.67</td><td>7.59</td><td>7.82</td></tr>\n",
              "</tbody>\n",
              "</table>\n"
            ],
            "text/markdown": "\nA data.frame: 6 × 3013\n\n| <!--/--> | 1007_s_at &lt;dbl&gt; | 1053_at &lt;dbl&gt; | 121_at &lt;dbl&gt; | 1294_at &lt;dbl&gt; | 1487_at &lt;dbl&gt; | 1729_at &lt;dbl&gt; | 177_at &lt;dbl&gt; | 200003_s_at &lt;dbl&gt; | 200005_at &lt;dbl&gt; | 200016_x_at &lt;dbl&gt; | ⋯ ⋯ | 65521_at &lt;dbl&gt; | 78047_s_at &lt;dbl&gt; | 823_at &lt;dbl&gt; | 90265_at &lt;dbl&gt; | AFFX-HSAC07/X00351_3_at &lt;dbl&gt; | AFFX-HSAC07/X00351_M_at &lt;dbl&gt; | AFFX-HUMGAPDH/M33197_5_at &lt;dbl&gt; | AFFX-M27830_3_at &lt;dbl&gt; | AFFX-M27830_5_at &lt;dbl&gt; | AFFX-M27830_M_at &lt;dbl&gt; |\n|---|---|---|---|---|---|---|---|---|---|---|---|---|---|---|---|---|---|---|---|---|---|\n| 1 | 9.26 | 5.15 | 7.35 | 6.14 | 6.45 | 6.10 | 4.63 | 11.71 | 8.16 |  9.95 | ⋯ | 6.21 | 6.85 | 6.03 | 6.96 | 12.25 | 11.35 | 10.09 | 5.71 | 8.45 | 8.16 |\n| 2 | 8.69 | 4.57 | 7.32 | 6.32 | 6.13 | 6.13 | 4.72 | 10.72 | 7.26 | 10.24 | ⋯ | 6.33 | 7.21 | 5.67 | 7.36 | 11.71 |  9.59 |  7.75 | 5.64 | 7.13 | 8.17 |\n| 3 | 8.51 | 5.20 | 7.13 | 6.09 | 6.64 | 6.52 | 4.86 | 10.99 | 8.60 |  9.71 | ⋯ | 6.30 | 6.78 | 5.22 | 7.26 | 11.65 | 10.86 |  9.13 | 5.60 | 6.92 | 7.86 |\n| 4 | 8.38 | 4.92 | 7.50 | 6.08 | 6.54 | 6.83 | 4.42 | 10.67 | 7.05 |  9.58 | ⋯ | 6.57 | 6.85 | 6.24 | 7.11 | 11.07 | 10.17 | 10.18 | 5.74 | 7.50 | 7.91 |\n| 5 | 7.70 | 4.60 | 7.40 | 5.98 | 5.93 | 6.16 | 4.41 | 10.82 | 7.43 |  9.35 | ⋯ | 6.39 | 6.73 | 5.96 | 6.98 | 11.73 |  9.83 |  9.22 | 5.86 | 7.67 | 7.68 |\n| 6 | 8.16 | 5.24 | 7.35 | 6.09 | 6.51 | 6.12 | 4.79 | 10.69 | 7.62 |  9.52 | ⋯ | 6.14 | 6.88 | 6.14 | 7.12 | 11.06 |  9.85 | 10.30 | 5.67 | 7.59 | 7.82 |\n\n",
            "text/latex": "A data.frame: 6 × 3013\n\\begin{tabular}{r|lllllllllllllllllllll}\n  & 1007\\_s\\_at & 1053\\_at & 121\\_at & 1294\\_at & 1487\\_at & 1729\\_at & 177\\_at & 200003\\_s\\_at & 200005\\_at & 200016\\_x\\_at & ⋯ & 65521\\_at & 78047\\_s\\_at & 823\\_at & 90265\\_at & AFFX-HSAC07/X00351\\_3\\_at & AFFX-HSAC07/X00351\\_M\\_at & AFFX-HUMGAPDH/M33197\\_5\\_at & AFFX-M27830\\_3\\_at & AFFX-M27830\\_5\\_at & AFFX-M27830\\_M\\_at\\\\\n  & <dbl> & <dbl> & <dbl> & <dbl> & <dbl> & <dbl> & <dbl> & <dbl> & <dbl> & <dbl> & ⋯ & <dbl> & <dbl> & <dbl> & <dbl> & <dbl> & <dbl> & <dbl> & <dbl> & <dbl> & <dbl>\\\\\n\\hline\n\t1 & 9.26 & 5.15 & 7.35 & 6.14 & 6.45 & 6.10 & 4.63 & 11.71 & 8.16 &  9.95 & ⋯ & 6.21 & 6.85 & 6.03 & 6.96 & 12.25 & 11.35 & 10.09 & 5.71 & 8.45 & 8.16\\\\\n\t2 & 8.69 & 4.57 & 7.32 & 6.32 & 6.13 & 6.13 & 4.72 & 10.72 & 7.26 & 10.24 & ⋯ & 6.33 & 7.21 & 5.67 & 7.36 & 11.71 &  9.59 &  7.75 & 5.64 & 7.13 & 8.17\\\\\n\t3 & 8.51 & 5.20 & 7.13 & 6.09 & 6.64 & 6.52 & 4.86 & 10.99 & 8.60 &  9.71 & ⋯ & 6.30 & 6.78 & 5.22 & 7.26 & 11.65 & 10.86 &  9.13 & 5.60 & 6.92 & 7.86\\\\\n\t4 & 8.38 & 4.92 & 7.50 & 6.08 & 6.54 & 6.83 & 4.42 & 10.67 & 7.05 &  9.58 & ⋯ & 6.57 & 6.85 & 6.24 & 7.11 & 11.07 & 10.17 & 10.18 & 5.74 & 7.50 & 7.91\\\\\n\t5 & 7.70 & 4.60 & 7.40 & 5.98 & 5.93 & 6.16 & 4.41 & 10.82 & 7.43 &  9.35 & ⋯ & 6.39 & 6.73 & 5.96 & 6.98 & 11.73 &  9.83 &  9.22 & 5.86 & 7.67 & 7.68\\\\\n\t6 & 8.16 & 5.24 & 7.35 & 6.09 & 6.51 & 6.12 & 4.79 & 10.69 & 7.62 &  9.52 & ⋯ & 6.14 & 6.88 & 6.14 & 7.12 & 11.06 &  9.85 & 10.30 & 5.67 & 7.59 & 7.82\\\\\n\\end{tabular}\n",
            "text/plain": [
              "  1007_s_at 1053_at 121_at 1294_at 1487_at 1729_at 177_at 200003_s_at 200005_at\n",
              "1 9.26      5.15    7.35   6.14    6.45    6.10    4.63   11.71       8.16     \n",
              "2 8.69      4.57    7.32   6.32    6.13    6.13    4.72   10.72       7.26     \n",
              "3 8.51      5.20    7.13   6.09    6.64    6.52    4.86   10.99       8.60     \n",
              "4 8.38      4.92    7.50   6.08    6.54    6.83    4.42   10.67       7.05     \n",
              "5 7.70      4.60    7.40   5.98    5.93    6.16    4.41   10.82       7.43     \n",
              "6 8.16      5.24    7.35   6.09    6.51    6.12    4.79   10.69       7.62     \n",
              "  200016_x_at ⋯ 65521_at 78047_s_at 823_at 90265_at AFFX-HSAC07/X00351_3_at\n",
              "1  9.95       ⋯ 6.21     6.85       6.03   6.96     12.25                  \n",
              "2 10.24       ⋯ 6.33     7.21       5.67   7.36     11.71                  \n",
              "3  9.71       ⋯ 6.30     6.78       5.22   7.26     11.65                  \n",
              "4  9.58       ⋯ 6.57     6.85       6.24   7.11     11.07                  \n",
              "5  9.35       ⋯ 6.39     6.73       5.96   6.98     11.73                  \n",
              "6  9.52       ⋯ 6.14     6.88       6.14   7.12     11.06                  \n",
              "  AFFX-HSAC07/X00351_M_at AFFX-HUMGAPDH/M33197_5_at AFFX-M27830_3_at\n",
              "1 11.35                   10.09                     5.71            \n",
              "2  9.59                    7.75                     5.64            \n",
              "3 10.86                    9.13                     5.60            \n",
              "4 10.17                   10.18                     5.74            \n",
              "5  9.83                    9.22                     5.86            \n",
              "6  9.85                   10.30                     5.67            \n",
              "  AFFX-M27830_5_at AFFX-M27830_M_at\n",
              "1 8.45             8.16            \n",
              "2 7.13             8.17            \n",
              "3 6.92             7.86            \n",
              "4 7.50             7.91            \n",
              "5 7.67             7.68            \n",
              "6 7.59             7.82            "
            ]
          },
          "metadata": {}
        }
      ]
    },
    {
      "cell_type": "code",
      "source": [
        "clas = train[,dim(train)[2]]"
      ],
      "metadata": {
        "id": "Fgxi51vs8dtT"
      },
      "execution_count": null,
      "outputs": []
    },
    {
      "cell_type": "code",
      "source": [
        "clas_test = test$class"
      ],
      "metadata": {
        "id": "Tp4r44HzAF2r"
      },
      "execution_count": null,
      "outputs": []
    },
    {
      "cell_type": "code",
      "source": [
        "# dat.lda <- lda(clas~X1007_s_at + X1053_at,datx)\n",
        "# dat.pred <- predict(dat.lda,datx)\n",
        "dat.lda <- lda(clas ~ ., data=tr)\n",
        "dat.pred <- predict(dat.lda, data=tr)"
      ],
      "metadata": {
        "id": "_5HDp2uPrwJO",
        "colab": {
          "base_uri": "https://localhost:8080/"
        },
        "outputId": "f4f76132-f73b-4c9d-c952-9ecf6238bcce"
      },
      "execution_count": null,
      "outputs": [
        {
          "output_type": "stream",
          "name": "stderr",
          "text": [
            "Warning message in lda.default(x, grouping, ...):\n",
            "“variables are collinear”\n"
          ]
        }
      ]
    },
    {
      "cell_type": "code",
      "source": [
        "head(dat.lda$scaling)"
      ],
      "metadata": {
        "colab": {
          "base_uri": "https://localhost:8080/",
          "height": 255
        },
        "id": "Lw07rkBaBEFU",
        "outputId": "4888b123-ec54-4932-df8b-b623648ea856"
      },
      "execution_count": null,
      "outputs": [
        {
          "output_type": "display_data",
          "data": {
            "text/html": [
              "<table class=\"dataframe\">\n",
              "<caption>A matrix: 6 × 2 of type dbl</caption>\n",
              "<thead>\n",
              "\t<tr><th></th><th scope=col>LD1</th><th scope=col>LD2</th></tr>\n",
              "</thead>\n",
              "<tbody>\n",
              "\t<tr><th scope=row>`1007_s_at`</th><td>-0.0005460847</td><td> 0.0013171793</td></tr>\n",
              "\t<tr><th scope=row>`1053_at`</th><td> 0.0033180022</td><td> 0.0068378681</td></tr>\n",
              "\t<tr><th scope=row>`121_at`</th><td> 0.0101669660</td><td>-0.0119051411</td></tr>\n",
              "\t<tr><th scope=row>`1294_at`</th><td>-0.0076608868</td><td> 0.0035908213</td></tr>\n",
              "\t<tr><th scope=row>`1487_at`</th><td>-0.0109208851</td><td> 0.0039141922</td></tr>\n",
              "\t<tr><th scope=row>`1729_at`</th><td>-0.0023726156</td><td>-0.0006404324</td></tr>\n",
              "</tbody>\n",
              "</table>\n"
            ],
            "text/markdown": "\nA matrix: 6 × 2 of type dbl\n\n| <!--/--> | LD1 | LD2 |\n|---|---|---|\n| `1007_s_at` | -0.0005460847 |  0.0013171793 |\n| `1053_at` |  0.0033180022 |  0.0068378681 |\n| `121_at` |  0.0101669660 | -0.0119051411 |\n| `1294_at` | -0.0076608868 |  0.0035908213 |\n| `1487_at` | -0.0109208851 |  0.0039141922 |\n| `1729_at` | -0.0023726156 | -0.0006404324 |\n\n",
            "text/latex": "A matrix: 6 × 2 of type dbl\n\\begin{tabular}{r|ll}\n  & LD1 & LD2\\\\\n\\hline\n\t`1007\\_s\\_at` & -0.0005460847 &  0.0013171793\\\\\n\t`1053\\_at` &  0.0033180022 &  0.0068378681\\\\\n\t`121\\_at` &  0.0101669660 & -0.0119051411\\\\\n\t`1294\\_at` & -0.0076608868 &  0.0035908213\\\\\n\t`1487\\_at` & -0.0109208851 &  0.0039141922\\\\\n\t`1729\\_at` & -0.0023726156 & -0.0006404324\\\\\n\\end{tabular}\n",
            "text/plain": [
              "            LD1           LD2          \n",
              "`1007_s_at` -0.0005460847  0.0013171793\n",
              "`1053_at`    0.0033180022  0.0068378681\n",
              "`121_at`     0.0101669660 -0.0119051411\n",
              "`1294_at`   -0.0076608868  0.0035908213\n",
              "`1487_at`   -0.0109208851  0.0039141922\n",
              "`1729_at`   -0.0023726156 -0.0006404324"
            ]
          },
          "metadata": {}
        }
      ]
    },
    {
      "cell_type": "code",
      "source": [
        "dat.pred <- predict(dat.lda, test[,1:dim(test)[2]-1])"
      ],
      "metadata": {
        "id": "j7zX_ZA57izc"
      },
      "execution_count": null,
      "outputs": []
    },
    {
      "cell_type": "code",
      "source": [
        "table(clas_test, dat.pred$class)"
      ],
      "metadata": {
        "colab": {
          "base_uri": "https://localhost:8080/",
          "height": 104
        },
        "id": "C9g2T0tX7i5f",
        "outputId": "4cb171f5-6af7-4618-f97d-7a7f9e80eee6"
      },
      "execution_count": null,
      "outputs": [
        {
          "output_type": "display_data",
          "data": {
            "text/plain": [
              "         \n",
              "clas_test Adeno Normal SCLC\n",
              "   Adeno      4      0    0\n",
              "   Normal     0      2    0\n",
              "   SCLC       0      0    3"
            ]
          },
          "metadata": {}
        }
      ]
    },
    {
      "cell_type": "code",
      "source": [
        "plot(dat.pred$x, col = dat.pred$class,cex=1, main='Comparing LD Variables')\n",
        "legend(x = \"topleft\", box.col = \"black\",\n",
        "       bg =\"yellow\", box.lwd = 2 , title=\"Tumor Classes\",\n",
        "       legend=c(\"SCLC\", \"Adeno\", \"Normal\"),\n",
        "       fill = c(\"green\", \"black\", \"red\"))"
      ],
      "metadata": {
        "colab": {
          "base_uri": "https://localhost:8080/",
          "height": 437
        },
        "id": "avWqMVAGDOep",
        "outputId": "64ff1c48-21a7-4866-d0fa-cfeb00f1159e"
      },
      "execution_count": null,
      "outputs": [
        {
          "output_type": "display_data",
          "data": {
            "text/plain": [
              "Plot with title “Comparing LD Variables”"
            ],
            "image/png": "[encoded data removed]"
          },
          "metadata": {
            "image/png": {
              "width": 420,
              "height": 420
            }
          }
        }
      ]
    },
    {
      "cell_type": "code",
      "source": [],
      "metadata": {
        "id": "Q6wtJj7kDTu5"
      },
      "execution_count": null,
      "outputs": []
    }
  ]
}